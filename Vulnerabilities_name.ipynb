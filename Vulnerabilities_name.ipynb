{
 "cells": [
  {
   "cell_type": "code",
   "execution_count": 1,
   "metadata": {},
   "outputs": [
    {
     "name": "stderr",
     "output_type": "stream",
     "text": [
      "C:\\Users\\sumeruinfra\\AppData\\Local\\Temp\\ipykernel_24080\\3297946238.py:4: UserWarning: \n",
      "The dash_html_components package is deprecated. Please replace\n",
      "`import dash_html_components as html` with `from dash import html`\n",
      "  import dash_html_components as html\n",
      "C:\\Users\\sumeruinfra\\AppData\\Local\\Temp\\ipykernel_24080\\3297946238.py:5: UserWarning: \n",
      "The dash_core_components package is deprecated. Please replace\n",
      "`import dash_core_components as dcc` with `from dash import dcc`\n",
      "  import dash_core_components as dcc\n"
     ]
    }
   ],
   "source": [
    "from zlib import DEF_BUF_SIZE\n",
    "import dash\n",
    "import dash_bootstrap_components as dbc\n",
    "import dash_html_components as html\n",
    "import dash_core_components as dcc\n",
    "from matplotlib.pyplot import figure\n",
    "import plotly.express as px\n",
    "from dash.dependencies import Input, Output\n",
    "import pandas as pd\n",
    "import mysql.connector\n",
    "from mysql.connector import Error\n",
    "\n",
    "import plotly.graph_objects as go\n",
    "import warnings\n",
    "\n",
    "from sqlalchemy import false\n",
    "warnings.filterwarnings(\"ignore\")\n",
    "\n",
    "\n",
    "def etl(table_name):\n",
    "   \"\"\"\n",
    "       Boman.AI Database Connection from Azure Data base with configuration of user name and password and database name\n",
    "       Parameters:\n",
    "           table_name: We have to Pass the Table Name to fetech from DB\n",
    "   \"\"\"\n",
    "   try:\n",
    "       bomandb = mysql.connector.connect(host='boman-db.mysql.database.azure.com',\n",
    "                                database='boman_dev',\n",
    "                                user='bomanadmin@boman-db',\n",
    "                                password='W$&c614isb#kLlFyJJ9gAE8WGH*!$$$boo')\n",
    "       # SELECT * FROM boman_dev.sast_results where tool_name='Bandit';\n",
    "       sast_data = \"SELECT * FROM boman_dev.{};\".format(table_name) # I ahve to pass either sast_results or dast_results\n",
    "       data = pd.read_sql(sast_data,bomandb)\n",
    "       cursor = bomandb.cursor()\n",
    "       cursor.execute(sast_data)\n",
    "       records = cursor.fetchall()\n",
    "\n",
    "   except Error as e :\n",
    "       print (\"Error connecting MySQL\", e)\n",
    "   finally:\n",
    "       #closing database connection.\n",
    "       if(bomandb .is_connected()):\n",
    "           bomandb.close()\n",
    "           print(\"MySQL connection is closed Now\")\n",
    "   return data"
   ]
  },
  {
   "cell_type": "code",
   "execution_count": 2,
   "metadata": {},
   "outputs": [
    {
     "name": "stdout",
     "output_type": "stream",
     "text": [
      "MySQL connection is closed Now\n",
      "MySQL connection is closed Now\n",
      "MySQL connection is closed Now\n",
      "MySQL connection is closed Now\n"
     ]
    }
   ],
   "source": [
    "sast_tn = etl('sast_results')\n",
    "dast_tn = etl('dast_results')\n",
    "sca_tn = etl('sca_results')\n",
    "sc_tn = etl('secret_scan_results')"
   ]
  },
  {
   "cell_type": "code",
   "execution_count": 3,
   "metadata": {},
   "outputs": [],
   "source": [
    "sast_tn_vuln_name = dict(sast_tn.vuln_name.value_counts())\n",
    "dast_tn_vuln_name = dict(dast_tn.vuln_name.value_counts())\n",
    "sca_tn_vuln_name = dict(sca_tn.vuln_name.value_counts())\n",
    "sc_tn_vuln_name = dict(sc_tn.vuln_name.value_counts())"
   ]
  },
  {
   "cell_type": "code",
   "execution_count": 4,
   "metadata": {},
   "outputs": [],
   "source": [
    "di = {}"
   ]
  },
  {
   "cell_type": "code",
   "execution_count": 5,
   "metadata": {},
   "outputs": [],
   "source": [
    "di.update(sast_tn_vuln_name)\n",
    "di.update(dast_tn_vuln_name)\n",
    "di.update(sca_tn_vuln_name)\n",
    "di.update(sc_tn_vuln_name)"
   ]
  },
  {
   "cell_type": "code",
   "execution_count": 6,
   "metadata": {},
   "outputs": [
    {
     "data": {
      "text/plain": [
       "['hardcoded password string',\n",
       " 'Remote Code Execution',\n",
       " 'Mass Assignment',\n",
       " 'Cross-Site Scripting',\n",
       " 'SQL Injection']"
      ]
     },
     "execution_count": 6,
     "metadata": {},
     "output_type": "execute_result"
    }
   ],
   "source": [
    "vn = list(di.keys())\n",
    "vn[0:5]"
   ]
  },
  {
   "cell_type": "code",
   "execution_count": 7,
   "metadata": {},
   "outputs": [],
   "source": [
    "val = list(di.values())"
   ]
  },
  {
   "cell_type": "code",
   "execution_count": 8,
   "metadata": {},
   "outputs": [],
   "source": [
    "sast_date,dast_date,sca_date,ss_date =  sast_tn.created_at,dast_tn.created_at,sca_tn.created_at,sc_tn.created_at"
   ]
  },
  {
   "cell_type": "code",
   "execution_count": 9,
   "metadata": {},
   "outputs": [
    {
     "data": {
      "text/plain": [
       "0   2022-03-01 08:47:28\n",
       "1   2022-03-01 08:47:28\n",
       "2   2022-03-01 08:47:28\n",
       "3   2022-03-01 08:47:28\n",
       "4   2022-03-01 08:47:28\n",
       "5   2022-03-01 08:47:28\n",
       "Name: created_at, dtype: datetime64[ns]"
      ]
     },
     "execution_count": 9,
     "metadata": {},
     "output_type": "execute_result"
    }
   ],
   "source": [
    "Created_date= [sast_date,dast_date,sca_date,ss_date]\n",
    "Created_date[0][0:6]"
   ]
  },
  {
   "cell_type": "code",
   "execution_count": 10,
   "metadata": {},
   "outputs": [],
   "source": [
    "data = dict({'Vulnerabilities Names':vn,\n",
    "        \"Count\":val,\n",
    "        })"
   ]
  },
  {
   "cell_type": "code",
   "execution_count": 11,
   "metadata": {},
   "outputs": [
    {
     "data": {
      "text/html": [
       "<div>\n",
       "<style scoped>\n",
       "    .dataframe tbody tr th:only-of-type {\n",
       "        vertical-align: middle;\n",
       "    }\n",
       "\n",
       "    .dataframe tbody tr th {\n",
       "        vertical-align: top;\n",
       "    }\n",
       "\n",
       "    .dataframe thead th {\n",
       "        text-align: right;\n",
       "    }\n",
       "</style>\n",
       "<table border=\"1\" class=\"dataframe\">\n",
       "  <thead>\n",
       "    <tr style=\"text-align: right;\">\n",
       "      <th></th>\n",
       "      <th>Vulnerabilities Names</th>\n",
       "      <th>Count</th>\n",
       "    </tr>\n",
       "  </thead>\n",
       "  <tbody>\n",
       "    <tr>\n",
       "      <th>0</th>\n",
       "      <td>hardcoded password string</td>\n",
       "      <td>240</td>\n",
       "    </tr>\n",
       "    <tr>\n",
       "      <th>1</th>\n",
       "      <td>Remote Code Execution</td>\n",
       "      <td>208</td>\n",
       "    </tr>\n",
       "    <tr>\n",
       "      <th>2</th>\n",
       "      <td>Mass Assignment</td>\n",
       "      <td>104</td>\n",
       "    </tr>\n",
       "    <tr>\n",
       "      <th>3</th>\n",
       "      <td>Cross-Site Scripting</td>\n",
       "      <td>104</td>\n",
       "    </tr>\n",
       "    <tr>\n",
       "      <th>4</th>\n",
       "      <td>SQL Injection</td>\n",
       "      <td>104</td>\n",
       "    </tr>\n",
       "  </tbody>\n",
       "</table>\n",
       "</div>"
      ],
      "text/plain": [
       "       Vulnerabilities Names  Count\n",
       "0  hardcoded password string    240\n",
       "1      Remote Code Execution    208\n",
       "2            Mass Assignment    104\n",
       "3       Cross-Site Scripting    104\n",
       "4              SQL Injection    104"
      ]
     },
     "execution_count": 11,
     "metadata": {},
     "output_type": "execute_result"
    }
   ],
   "source": [
    "df = pd.DataFrame(data)\n",
    "df.head()"
   ]
  },
  {
   "cell_type": "code",
   "execution_count": 12,
   "metadata": {},
   "outputs": [
    {
     "data": {
      "text/html": [
       "<div>\n",
       "<style scoped>\n",
       "    .dataframe tbody tr th:only-of-type {\n",
       "        vertical-align: middle;\n",
       "    }\n",
       "\n",
       "    .dataframe tbody tr th {\n",
       "        vertical-align: top;\n",
       "    }\n",
       "\n",
       "    .dataframe thead th {\n",
       "        text-align: right;\n",
       "    }\n",
       "</style>\n",
       "<table border=\"1\" class=\"dataframe\">\n",
       "  <thead>\n",
       "    <tr style=\"text-align: right;\">\n",
       "      <th></th>\n",
       "      <th>Vulnerabilities Names</th>\n",
       "      <th>Count</th>\n",
       "    </tr>\n",
       "  </thead>\n",
       "  <tbody>\n",
       "    <tr>\n",
       "      <th>45</th>\n",
       "      <td>Timestamp Disclosure - Unix</td>\n",
       "      <td>596</td>\n",
       "    </tr>\n",
       "    <tr>\n",
       "      <th>46</th>\n",
       "      <td>Information Disclosure - Suspicious Comments</td>\n",
       "      <td>526</td>\n",
       "    </tr>\n",
       "    <tr>\n",
       "      <th>47</th>\n",
       "      <td>Content Security Policy (CSP) Header Not Set</td>\n",
       "      <td>490</td>\n",
       "    </tr>\n",
       "    <tr>\n",
       "      <th>48</th>\n",
       "      <td>Missing Anti-clickjacking Header</td>\n",
       "      <td>490</td>\n",
       "    </tr>\n",
       "    <tr>\n",
       "      <th>49</th>\n",
       "      <td>Absence of Anti-CSRF Tokens</td>\n",
       "      <td>488</td>\n",
       "    </tr>\n",
       "    <tr>\n",
       "      <th>50</th>\n",
       "      <td>Server Leaks Version Information via \"Server\" ...</td>\n",
       "      <td>479</td>\n",
       "    </tr>\n",
       "    <tr>\n",
       "      <th>51</th>\n",
       "      <td>X-Content-Type-Options Header Missing</td>\n",
       "      <td>473</td>\n",
       "    </tr>\n",
       "    <tr>\n",
       "      <th>52</th>\n",
       "      <td>Modern Web Application</td>\n",
       "      <td>311</td>\n",
       "    </tr>\n",
       "    <tr>\n",
       "      <th>0</th>\n",
       "      <td>hardcoded password string</td>\n",
       "      <td>240</td>\n",
       "    </tr>\n",
       "    <tr>\n",
       "      <th>1</th>\n",
       "      <td>Remote Code Execution</td>\n",
       "      <td>208</td>\n",
       "    </tr>\n",
       "  </tbody>\n",
       "</table>\n",
       "</div>"
      ],
      "text/plain": [
       "                                Vulnerabilities Names  Count\n",
       "45                        Timestamp Disclosure - Unix    596\n",
       "46       Information Disclosure - Suspicious Comments    526\n",
       "47       Content Security Policy (CSP) Header Not Set    490\n",
       "48                   Missing Anti-clickjacking Header    490\n",
       "49                        Absence of Anti-CSRF Tokens    488\n",
       "50  Server Leaks Version Information via \"Server\" ...    479\n",
       "51              X-Content-Type-Options Header Missing    473\n",
       "52                             Modern Web Application    311\n",
       "0                           hardcoded password string    240\n",
       "1                               Remote Code Execution    208"
      ]
     },
     "execution_count": 12,
     "metadata": {},
     "output_type": "execute_result"
    }
   ],
   "source": [
    "top10 = df.nlargest(n=10, columns=['Count'])\n",
    "top10"
   ]
  },
  {
   "cell_type": "code",
   "execution_count": 13,
   "metadata": {},
   "outputs": [
    {
     "data": {
      "application/vnd.plotly.v1+json": {
       "config": {
        "plotlyServerURL": "https://plot.ly"
       },
       "data": [
        {
         "domain": {
          "x": [
           0,
           1
          ],
          "y": [
           0,
           1
          ]
         },
         "hole": 0.2,
         "hovertemplate": "Vulnerabilities Names=%{label}<br>Count=%{value}<extra></extra>",
         "labels": [
          "Timestamp Disclosure - Unix",
          "Information Disclosure - Suspicious Comments",
          "Content Security Policy (CSP) Header Not Set",
          "Missing Anti-clickjacking Header",
          "Absence of Anti-CSRF Tokens",
          "Server Leaks Version Information via \"Server\" HTTP Response Header Field",
          "X-Content-Type-Options Header Missing",
          "Modern Web Application",
          "hardcoded password string",
          "Remote Code Execution"
         ],
         "legendgroup": "",
         "name": "",
         "showlegend": true,
         "type": "pie",
         "values": [
          596,
          526,
          490,
          490,
          488,
          479,
          473,
          311,
          240,
          208
         ]
        }
       ],
       "layout": {
        "legend": {
         "tracegroupgap": 0
        },
        "margin": {
         "t": 60
        },
        "template": {
         "data": {
          "bar": [
           {
            "error_x": {
             "color": "#2a3f5f"
            },
            "error_y": {
             "color": "#2a3f5f"
            },
            "marker": {
             "line": {
              "color": "#E5ECF6",
              "width": 0.5
             },
             "pattern": {
              "fillmode": "overlay",
              "size": 10,
              "solidity": 0.2
             }
            },
            "type": "bar"
           }
          ],
          "barpolar": [
           {
            "marker": {
             "line": {
              "color": "#E5ECF6",
              "width": 0.5
             },
             "pattern": {
              "fillmode": "overlay",
              "size": 10,
              "solidity": 0.2
             }
            },
            "type": "barpolar"
           }
          ],
          "carpet": [
           {
            "aaxis": {
             "endlinecolor": "#2a3f5f",
             "gridcolor": "white",
             "linecolor": "white",
             "minorgridcolor": "white",
             "startlinecolor": "#2a3f5f"
            },
            "baxis": {
             "endlinecolor": "#2a3f5f",
             "gridcolor": "white",
             "linecolor": "white",
             "minorgridcolor": "white",
             "startlinecolor": "#2a3f5f"
            },
            "type": "carpet"
           }
          ],
          "choropleth": [
           {
            "colorbar": {
             "outlinewidth": 0,
             "ticks": ""
            },
            "type": "choropleth"
           }
          ],
          "contour": [
           {
            "colorbar": {
             "outlinewidth": 0,
             "ticks": ""
            },
            "colorscale": [
             [
              0,
              "#0d0887"
             ],
             [
              0.1111111111111111,
              "#46039f"
             ],
             [
              0.2222222222222222,
              "#7201a8"
             ],
             [
              0.3333333333333333,
              "#9c179e"
             ],
             [
              0.4444444444444444,
              "#bd3786"
             ],
             [
              0.5555555555555556,
              "#d8576b"
             ],
             [
              0.6666666666666666,
              "#ed7953"
             ],
             [
              0.7777777777777778,
              "#fb9f3a"
             ],
             [
              0.8888888888888888,
              "#fdca26"
             ],
             [
              1,
              "#f0f921"
             ]
            ],
            "type": "contour"
           }
          ],
          "contourcarpet": [
           {
            "colorbar": {
             "outlinewidth": 0,
             "ticks": ""
            },
            "type": "contourcarpet"
           }
          ],
          "heatmap": [
           {
            "colorbar": {
             "outlinewidth": 0,
             "ticks": ""
            },
            "colorscale": [
             [
              0,
              "#0d0887"
             ],
             [
              0.1111111111111111,
              "#46039f"
             ],
             [
              0.2222222222222222,
              "#7201a8"
             ],
             [
              0.3333333333333333,
              "#9c179e"
             ],
             [
              0.4444444444444444,
              "#bd3786"
             ],
             [
              0.5555555555555556,
              "#d8576b"
             ],
             [
              0.6666666666666666,
              "#ed7953"
             ],
             [
              0.7777777777777778,
              "#fb9f3a"
             ],
             [
              0.8888888888888888,
              "#fdca26"
             ],
             [
              1,
              "#f0f921"
             ]
            ],
            "type": "heatmap"
           }
          ],
          "heatmapgl": [
           {
            "colorbar": {
             "outlinewidth": 0,
             "ticks": ""
            },
            "colorscale": [
             [
              0,
              "#0d0887"
             ],
             [
              0.1111111111111111,
              "#46039f"
             ],
             [
              0.2222222222222222,
              "#7201a8"
             ],
             [
              0.3333333333333333,
              "#9c179e"
             ],
             [
              0.4444444444444444,
              "#bd3786"
             ],
             [
              0.5555555555555556,
              "#d8576b"
             ],
             [
              0.6666666666666666,
              "#ed7953"
             ],
             [
              0.7777777777777778,
              "#fb9f3a"
             ],
             [
              0.8888888888888888,
              "#fdca26"
             ],
             [
              1,
              "#f0f921"
             ]
            ],
            "type": "heatmapgl"
           }
          ],
          "histogram": [
           {
            "marker": {
             "pattern": {
              "fillmode": "overlay",
              "size": 10,
              "solidity": 0.2
             }
            },
            "type": "histogram"
           }
          ],
          "histogram2d": [
           {
            "colorbar": {
             "outlinewidth": 0,
             "ticks": ""
            },
            "colorscale": [
             [
              0,
              "#0d0887"
             ],
             [
              0.1111111111111111,
              "#46039f"
             ],
             [
              0.2222222222222222,
              "#7201a8"
             ],
             [
              0.3333333333333333,
              "#9c179e"
             ],
             [
              0.4444444444444444,
              "#bd3786"
             ],
             [
              0.5555555555555556,
              "#d8576b"
             ],
             [
              0.6666666666666666,
              "#ed7953"
             ],
             [
              0.7777777777777778,
              "#fb9f3a"
             ],
             [
              0.8888888888888888,
              "#fdca26"
             ],
             [
              1,
              "#f0f921"
             ]
            ],
            "type": "histogram2d"
           }
          ],
          "histogram2dcontour": [
           {
            "colorbar": {
             "outlinewidth": 0,
             "ticks": ""
            },
            "colorscale": [
             [
              0,
              "#0d0887"
             ],
             [
              0.1111111111111111,
              "#46039f"
             ],
             [
              0.2222222222222222,
              "#7201a8"
             ],
             [
              0.3333333333333333,
              "#9c179e"
             ],
             [
              0.4444444444444444,
              "#bd3786"
             ],
             [
              0.5555555555555556,
              "#d8576b"
             ],
             [
              0.6666666666666666,
              "#ed7953"
             ],
             [
              0.7777777777777778,
              "#fb9f3a"
             ],
             [
              0.8888888888888888,
              "#fdca26"
             ],
             [
              1,
              "#f0f921"
             ]
            ],
            "type": "histogram2dcontour"
           }
          ],
          "mesh3d": [
           {
            "colorbar": {
             "outlinewidth": 0,
             "ticks": ""
            },
            "type": "mesh3d"
           }
          ],
          "parcoords": [
           {
            "line": {
             "colorbar": {
              "outlinewidth": 0,
              "ticks": ""
             }
            },
            "type": "parcoords"
           }
          ],
          "pie": [
           {
            "automargin": true,
            "type": "pie"
           }
          ],
          "scatter": [
           {
            "fillpattern": {
             "fillmode": "overlay",
             "size": 10,
             "solidity": 0.2
            },
            "type": "scatter"
           }
          ],
          "scatter3d": [
           {
            "line": {
             "colorbar": {
              "outlinewidth": 0,
              "ticks": ""
             }
            },
            "marker": {
             "colorbar": {
              "outlinewidth": 0,
              "ticks": ""
             }
            },
            "type": "scatter3d"
           }
          ],
          "scattercarpet": [
           {
            "marker": {
             "colorbar": {
              "outlinewidth": 0,
              "ticks": ""
             }
            },
            "type": "scattercarpet"
           }
          ],
          "scattergeo": [
           {
            "marker": {
             "colorbar": {
              "outlinewidth": 0,
              "ticks": ""
             }
            },
            "type": "scattergeo"
           }
          ],
          "scattergl": [
           {
            "marker": {
             "colorbar": {
              "outlinewidth": 0,
              "ticks": ""
             }
            },
            "type": "scattergl"
           }
          ],
          "scattermapbox": [
           {
            "marker": {
             "colorbar": {
              "outlinewidth": 0,
              "ticks": ""
             }
            },
            "type": "scattermapbox"
           }
          ],
          "scatterpolar": [
           {
            "marker": {
             "colorbar": {
              "outlinewidth": 0,
              "ticks": ""
             }
            },
            "type": "scatterpolar"
           }
          ],
          "scatterpolargl": [
           {
            "marker": {
             "colorbar": {
              "outlinewidth": 0,
              "ticks": ""
             }
            },
            "type": "scatterpolargl"
           }
          ],
          "scatterternary": [
           {
            "marker": {
             "colorbar": {
              "outlinewidth": 0,
              "ticks": ""
             }
            },
            "type": "scatterternary"
           }
          ],
          "surface": [
           {
            "colorbar": {
             "outlinewidth": 0,
             "ticks": ""
            },
            "colorscale": [
             [
              0,
              "#0d0887"
             ],
             [
              0.1111111111111111,
              "#46039f"
             ],
             [
              0.2222222222222222,
              "#7201a8"
             ],
             [
              0.3333333333333333,
              "#9c179e"
             ],
             [
              0.4444444444444444,
              "#bd3786"
             ],
             [
              0.5555555555555556,
              "#d8576b"
             ],
             [
              0.6666666666666666,
              "#ed7953"
             ],
             [
              0.7777777777777778,
              "#fb9f3a"
             ],
             [
              0.8888888888888888,
              "#fdca26"
             ],
             [
              1,
              "#f0f921"
             ]
            ],
            "type": "surface"
           }
          ],
          "table": [
           {
            "cells": {
             "fill": {
              "color": "#EBF0F8"
             },
             "line": {
              "color": "white"
             }
            },
            "header": {
             "fill": {
              "color": "#C8D4E3"
             },
             "line": {
              "color": "white"
             }
            },
            "type": "table"
           }
          ]
         },
         "layout": {
          "annotationdefaults": {
           "arrowcolor": "#2a3f5f",
           "arrowhead": 0,
           "arrowwidth": 1
          },
          "autotypenumbers": "strict",
          "coloraxis": {
           "colorbar": {
            "outlinewidth": 0,
            "ticks": ""
           }
          },
          "colorscale": {
           "diverging": [
            [
             0,
             "#8e0152"
            ],
            [
             0.1,
             "#c51b7d"
            ],
            [
             0.2,
             "#de77ae"
            ],
            [
             0.3,
             "#f1b6da"
            ],
            [
             0.4,
             "#fde0ef"
            ],
            [
             0.5,
             "#f7f7f7"
            ],
            [
             0.6,
             "#e6f5d0"
            ],
            [
             0.7,
             "#b8e186"
            ],
            [
             0.8,
             "#7fbc41"
            ],
            [
             0.9,
             "#4d9221"
            ],
            [
             1,
             "#276419"
            ]
           ],
           "sequential": [
            [
             0,
             "#0d0887"
            ],
            [
             0.1111111111111111,
             "#46039f"
            ],
            [
             0.2222222222222222,
             "#7201a8"
            ],
            [
             0.3333333333333333,
             "#9c179e"
            ],
            [
             0.4444444444444444,
             "#bd3786"
            ],
            [
             0.5555555555555556,
             "#d8576b"
            ],
            [
             0.6666666666666666,
             "#ed7953"
            ],
            [
             0.7777777777777778,
             "#fb9f3a"
            ],
            [
             0.8888888888888888,
             "#fdca26"
            ],
            [
             1,
             "#f0f921"
            ]
           ],
           "sequentialminus": [
            [
             0,
             "#0d0887"
            ],
            [
             0.1111111111111111,
             "#46039f"
            ],
            [
             0.2222222222222222,
             "#7201a8"
            ],
            [
             0.3333333333333333,
             "#9c179e"
            ],
            [
             0.4444444444444444,
             "#bd3786"
            ],
            [
             0.5555555555555556,
             "#d8576b"
            ],
            [
             0.6666666666666666,
             "#ed7953"
            ],
            [
             0.7777777777777778,
             "#fb9f3a"
            ],
            [
             0.8888888888888888,
             "#fdca26"
            ],
            [
             1,
             "#f0f921"
            ]
           ]
          },
          "colorway": [
           "#636efa",
           "#EF553B",
           "#00cc96",
           "#ab63fa",
           "#FFA15A",
           "#19d3f3",
           "#FF6692",
           "#B6E880",
           "#FF97FF",
           "#FECB52"
          ],
          "font": {
           "color": "#2a3f5f"
          },
          "geo": {
           "bgcolor": "white",
           "lakecolor": "white",
           "landcolor": "#E5ECF6",
           "showlakes": true,
           "showland": true,
           "subunitcolor": "white"
          },
          "hoverlabel": {
           "align": "left"
          },
          "hovermode": "closest",
          "mapbox": {
           "style": "light"
          },
          "paper_bgcolor": "white",
          "plot_bgcolor": "#E5ECF6",
          "polar": {
           "angularaxis": {
            "gridcolor": "white",
            "linecolor": "white",
            "ticks": ""
           },
           "bgcolor": "#E5ECF6",
           "radialaxis": {
            "gridcolor": "white",
            "linecolor": "white",
            "ticks": ""
           }
          },
          "scene": {
           "xaxis": {
            "backgroundcolor": "#E5ECF6",
            "gridcolor": "white",
            "gridwidth": 2,
            "linecolor": "white",
            "showbackground": true,
            "ticks": "",
            "zerolinecolor": "white"
           },
           "yaxis": {
            "backgroundcolor": "#E5ECF6",
            "gridcolor": "white",
            "gridwidth": 2,
            "linecolor": "white",
            "showbackground": true,
            "ticks": "",
            "zerolinecolor": "white"
           },
           "zaxis": {
            "backgroundcolor": "#E5ECF6",
            "gridcolor": "white",
            "gridwidth": 2,
            "linecolor": "white",
            "showbackground": true,
            "ticks": "",
            "zerolinecolor": "white"
           }
          },
          "shapedefaults": {
           "line": {
            "color": "#2a3f5f"
           }
          },
          "ternary": {
           "aaxis": {
            "gridcolor": "white",
            "linecolor": "white",
            "ticks": ""
           },
           "baxis": {
            "gridcolor": "white",
            "linecolor": "white",
            "ticks": ""
           },
           "bgcolor": "#E5ECF6",
           "caxis": {
            "gridcolor": "white",
            "linecolor": "white",
            "ticks": ""
           }
          },
          "title": {
           "x": 0.05
          },
          "xaxis": {
           "automargin": true,
           "gridcolor": "white",
           "linecolor": "white",
           "ticks": "",
           "title": {
            "standoff": 15
           },
           "zerolinecolor": "white",
           "zerolinewidth": 2
          },
          "yaxis": {
           "automargin": true,
           "gridcolor": "white",
           "linecolor": "white",
           "ticks": "",
           "title": {
            "standoff": 15
           },
           "zerolinecolor": "white",
           "zerolinewidth": 2
          }
         }
        }
       }
      }
     },
     "metadata": {},
     "output_type": "display_data"
    }
   ],
   "source": [
    "px.pie(top10, names= 'Vulnerabilities Names', values= 'Count',hole=.2)"
   ]
  },
  {
   "cell_type": "code",
   "execution_count": 14,
   "metadata": {},
   "outputs": [
    {
     "data": {
      "text/html": [
       "<div>\n",
       "<style scoped>\n",
       "    .dataframe tbody tr th:only-of-type {\n",
       "        vertical-align: middle;\n",
       "    }\n",
       "\n",
       "    .dataframe tbody tr th {\n",
       "        vertical-align: top;\n",
       "    }\n",
       "\n",
       "    .dataframe thead th {\n",
       "        text-align: right;\n",
       "    }\n",
       "</style>\n",
       "<table border=\"1\" class=\"dataframe\">\n",
       "  <thead>\n",
       "    <tr style=\"text-align: right;\">\n",
       "      <th></th>\n",
       "      <th>vuln_id</th>\n",
       "      <th>scan_details_id</th>\n",
       "      <th>scan_token</th>\n",
       "      <th>tool_name</th>\n",
       "      <th>customer_id</th>\n",
       "      <th>vuln_name</th>\n",
       "      <th>vuln_loc</th>\n",
       "      <th>affected_file</th>\n",
       "      <th>vuln_description</th>\n",
       "      <th>vuln_severity</th>\n",
       "      <th>...</th>\n",
       "      <th>tool_version</th>\n",
       "      <th>checklist</th>\n",
       "      <th>more_info</th>\n",
       "      <th>errors</th>\n",
       "      <th>tool_type</th>\n",
       "      <th>ml_status</th>\n",
       "      <th>customer_status</th>\n",
       "      <th>fixed_at</th>\n",
       "      <th>created_at</th>\n",
       "      <th>updated_at</th>\n",
       "    </tr>\n",
       "  </thead>\n",
       "  <tbody>\n",
       "    <tr>\n",
       "      <th>0</th>\n",
       "      <td>439</td>\n",
       "      <td>1</td>\n",
       "      <td>93e567c0-16e1-47b8-be38-bb2669403bb9</td>\n",
       "      <td>Brakeman</td>\n",
       "      <td>1</td>\n",
       "      <td>Remote Code Execution</td>\n",
       "      <td>6</td>\n",
       "      <td>app/controllers/password_resets_controller.rb</td>\n",
       "      <td>`Marshal.load` called with parameter value</td>\n",
       "      <td></td>\n",
       "      <td>...</td>\n",
       "      <td>5.2.1</td>\n",
       "      <td>BasicAuth,BasicAuthTimingAttack,CSRFTokenForge...</td>\n",
       "      <td>https://brakemanscanner.org/docs/warning_types...</td>\n",
       "      <td></td>\n",
       "      <td>SAST</td>\n",
       "      <td>1</td>\n",
       "      <td>0</td>\n",
       "      <td>2022-03-27 18:30:45</td>\n",
       "      <td>2022-03-01 08:47:28</td>\n",
       "      <td>2022-03-16 13:36:23</td>\n",
       "    </tr>\n",
       "    <tr>\n",
       "      <th>1</th>\n",
       "      <td>440</td>\n",
       "      <td>1</td>\n",
       "      <td>93e567c0-16e1-47b8-be38-bb2669403bb9</td>\n",
       "      <td>Brakeman</td>\n",
       "      <td>1</td>\n",
       "      <td>SQL Injection</td>\n",
       "      <td>29</td>\n",
       "      <td>app/controllers/users_controller.rb</td>\n",
       "      <td>Possible SQL injection</td>\n",
       "      <td></td>\n",
       "      <td>...</td>\n",
       "      <td>5.2.1</td>\n",
       "      <td>BasicAuth,BasicAuthTimingAttack,CSRFTokenForge...</td>\n",
       "      <td>https://brakemanscanner.org/docs/warning_types...</td>\n",
       "      <td></td>\n",
       "      <td>SAST</td>\n",
       "      <td>1</td>\n",
       "      <td>0</td>\n",
       "      <td>2022-03-27 18:30:45</td>\n",
       "      <td>2022-03-01 08:47:28</td>\n",
       "      <td>2022-03-16 13:36:25</td>\n",
       "    </tr>\n",
       "  </tbody>\n",
       "</table>\n",
       "<p>2 rows × 27 columns</p>\n",
       "</div>"
      ],
      "text/plain": [
       "   vuln_id  scan_details_id                            scan_token tool_name  \\\n",
       "0      439                1  93e567c0-16e1-47b8-be38-bb2669403bb9  Brakeman   \n",
       "1      440                1  93e567c0-16e1-47b8-be38-bb2669403bb9  Brakeman   \n",
       "\n",
       "   customer_id              vuln_name vuln_loc  \\\n",
       "0            1  Remote Code Execution        6   \n",
       "1            1          SQL Injection       29   \n",
       "\n",
       "                                   affected_file  \\\n",
       "0  app/controllers/password_resets_controller.rb   \n",
       "1            app/controllers/users_controller.rb   \n",
       "\n",
       "                             vuln_description vuln_severity  ... tool_version  \\\n",
       "0  `Marshal.load` called with parameter value                ...        5.2.1   \n",
       "1                      Possible SQL injection                ...        5.2.1   \n",
       "\n",
       "                                           checklist  \\\n",
       "0  BasicAuth,BasicAuthTimingAttack,CSRFTokenForge...   \n",
       "1  BasicAuth,BasicAuthTimingAttack,CSRFTokenForge...   \n",
       "\n",
       "                                           more_info  errors tool_type  \\\n",
       "0  https://brakemanscanner.org/docs/warning_types...              SAST   \n",
       "1  https://brakemanscanner.org/docs/warning_types...              SAST   \n",
       "\n",
       "  ml_status customer_status            fixed_at          created_at  \\\n",
       "0         1               0 2022-03-27 18:30:45 2022-03-01 08:47:28   \n",
       "1         1               0 2022-03-27 18:30:45 2022-03-01 08:47:28   \n",
       "\n",
       "           updated_at  \n",
       "0 2022-03-16 13:36:23  \n",
       "1 2022-03-16 13:36:25  \n",
       "\n",
       "[2 rows x 27 columns]"
      ]
     },
     "execution_count": 14,
     "metadata": {},
     "output_type": "execute_result"
    }
   ],
   "source": [
    "sast_tn.head(2)"
   ]
  },
  {
   "cell_type": "code",
   "execution_count": 15,
   "metadata": {},
   "outputs": [
    {
     "data": {
      "text/plain": [
       "(146,)"
      ]
     },
     "execution_count": 15,
     "metadata": {},
     "output_type": "execute_result"
    }
   ],
   "source": [
    "df.Count.shape"
   ]
  },
  {
   "cell_type": "code",
   "execution_count": 45,
   "metadata": {},
   "outputs": [],
   "source": [
    "date = pd.DataFrame()\n",
    "date['Issues_created'] = sast_tn.created_at\n",
    "date['Issues_fixed'] = sast_tn.fixed_at\n",
    "date['Solving_time'] = date.Issues_fixed-date.Issues_created \n",
    "date['Update_date'] = sast_tn.updated_at\n",
    "date['Severity'] = sast_tn.vuln_severity\n",
    "date['Issues_Name'] = sast_tn.vuln_name"
   ]
  },
  {
   "cell_type": "code",
   "execution_count": 46,
   "metadata": {},
   "outputs": [
    {
     "data": {
      "text/html": [
       "<div>\n",
       "<style scoped>\n",
       "    .dataframe tbody tr th:only-of-type {\n",
       "        vertical-align: middle;\n",
       "    }\n",
       "\n",
       "    .dataframe tbody tr th {\n",
       "        vertical-align: top;\n",
       "    }\n",
       "\n",
       "    .dataframe thead th {\n",
       "        text-align: right;\n",
       "    }\n",
       "</style>\n",
       "<table border=\"1\" class=\"dataframe\">\n",
       "  <thead>\n",
       "    <tr style=\"text-align: right;\">\n",
       "      <th></th>\n",
       "      <th>Issues_created</th>\n",
       "      <th>Issues_fixed</th>\n",
       "      <th>Solving_time</th>\n",
       "      <th>Update_date</th>\n",
       "      <th>Severity</th>\n",
       "      <th>Issues_Name</th>\n",
       "    </tr>\n",
       "  </thead>\n",
       "  <tbody>\n",
       "    <tr>\n",
       "      <th>0</th>\n",
       "      <td>2022-03-01 08:47:28</td>\n",
       "      <td>2022-03-27 18:30:45</td>\n",
       "      <td>26 days 09:43:17</td>\n",
       "      <td>2022-03-16 13:36:23</td>\n",
       "      <td></td>\n",
       "      <td>Remote Code Execution</td>\n",
       "    </tr>\n",
       "    <tr>\n",
       "      <th>1</th>\n",
       "      <td>2022-03-01 08:47:28</td>\n",
       "      <td>2022-03-27 18:30:45</td>\n",
       "      <td>26 days 09:43:17</td>\n",
       "      <td>2022-03-16 13:36:25</td>\n",
       "      <td></td>\n",
       "      <td>SQL Injection</td>\n",
       "    </tr>\n",
       "    <tr>\n",
       "      <th>2</th>\n",
       "      <td>2022-03-01 08:47:28</td>\n",
       "      <td>2022-03-27 18:30:45</td>\n",
       "      <td>26 days 09:43:17</td>\n",
       "      <td>2022-03-16 13:36:27</td>\n",
       "      <td></td>\n",
       "      <td>SQL Injection</td>\n",
       "    </tr>\n",
       "    <tr>\n",
       "      <th>3</th>\n",
       "      <td>2022-03-01 08:47:28</td>\n",
       "      <td>2022-03-27 18:30:45</td>\n",
       "      <td>26 days 09:43:17</td>\n",
       "      <td>2022-03-16 13:36:29</td>\n",
       "      <td></td>\n",
       "      <td>Remote Code Execution</td>\n",
       "    </tr>\n",
       "    <tr>\n",
       "      <th>4</th>\n",
       "      <td>2022-03-01 08:47:28</td>\n",
       "      <td>2022-03-27 18:30:45</td>\n",
       "      <td>26 days 09:43:17</td>\n",
       "      <td>2022-03-16 13:36:31</td>\n",
       "      <td></td>\n",
       "      <td>Mass Assignment</td>\n",
       "    </tr>\n",
       "  </tbody>\n",
       "</table>\n",
       "</div>"
      ],
      "text/plain": [
       "       Issues_created        Issues_fixed     Solving_time  \\\n",
       "0 2022-03-01 08:47:28 2022-03-27 18:30:45 26 days 09:43:17   \n",
       "1 2022-03-01 08:47:28 2022-03-27 18:30:45 26 days 09:43:17   \n",
       "2 2022-03-01 08:47:28 2022-03-27 18:30:45 26 days 09:43:17   \n",
       "3 2022-03-01 08:47:28 2022-03-27 18:30:45 26 days 09:43:17   \n",
       "4 2022-03-01 08:47:28 2022-03-27 18:30:45 26 days 09:43:17   \n",
       "\n",
       "          Update_date Severity            Issues_Name  \n",
       "0 2022-03-16 13:36:23           Remote Code Execution  \n",
       "1 2022-03-16 13:36:25                   SQL Injection  \n",
       "2 2022-03-16 13:36:27                   SQL Injection  \n",
       "3 2022-03-16 13:36:29           Remote Code Execution  \n",
       "4 2022-03-16 13:36:31                 Mass Assignment  "
      ]
     },
     "execution_count": 46,
     "metadata": {},
     "output_type": "execute_result"
    }
   ],
   "source": [
    "date.head()"
   ]
  },
  {
   "cell_type": "code",
   "execution_count": 49,
   "metadata": {},
   "outputs": [
    {
     "data": {
      "text/plain": [
       "array(['', 'HIGH', 'LOW', 'MEDIUM', 'INFO', '5'], dtype=object)"
      ]
     },
     "execution_count": 49,
     "metadata": {},
     "output_type": "execute_result"
    }
   ],
   "source": [
    "date.Severity.unique()"
   ]
  },
  {
   "cell_type": "code",
   "execution_count": 19,
   "metadata": {},
   "outputs": [
    {
     "data": {
      "text/html": [
       "<div>\n",
       "<style scoped>\n",
       "    .dataframe tbody tr th:only-of-type {\n",
       "        vertical-align: middle;\n",
       "    }\n",
       "\n",
       "    .dataframe tbody tr th {\n",
       "        vertical-align: top;\n",
       "    }\n",
       "\n",
       "    .dataframe thead th {\n",
       "        text-align: right;\n",
       "    }\n",
       "</style>\n",
       "<table border=\"1\" class=\"dataframe\">\n",
       "  <thead>\n",
       "    <tr style=\"text-align: right;\">\n",
       "      <th></th>\n",
       "      <th>Yearly</th>\n",
       "      <th>counts</th>\n",
       "    </tr>\n",
       "  </thead>\n",
       "  <tbody>\n",
       "    <tr>\n",
       "      <th>0</th>\n",
       "      <td>2022</td>\n",
       "      <td>1410</td>\n",
       "    </tr>\n",
       "  </tbody>\n",
       "</table>\n",
       "</div>"
      ],
      "text/plain": [
       "  Yearly  counts\n",
       "0   2022    1410"
      ]
     },
     "execution_count": 19,
     "metadata": {},
     "output_type": "execute_result"
    }
   ],
   "source": [
    "# Year Wise\n",
    "by_year = pd.to_datetime(date['Issues_created']).dt.strftime('%Y').value_counts().sort_index()\n",
    "#by_year.index = pd.PeriodIndex(by_year.index)\n",
    "by_year = by_year.rename_axis('Yearly').reset_index(name='counts')\n",
    "by_year"
   ]
  },
  {
   "cell_type": "code",
   "execution_count": null,
   "metadata": {},
   "outputs": [],
   "source": []
  },
  {
   "cell_type": "code",
   "execution_count": 20,
   "metadata": {},
   "outputs": [
    {
     "data": {
      "application/vnd.plotly.v1+json": {
       "config": {
        "plotlyServerURL": "https://plot.ly"
       },
       "data": [
        {
         "hovertemplate": "Yearly=%{x}<br>counts=%{y}<extra></extra>",
         "legendgroup": "2022",
         "line": {
          "color": "#636efa",
          "dash": "solid"
         },
         "marker": {
          "symbol": "circle"
         },
         "mode": "lines+markers",
         "name": "2022",
         "orientation": "v",
         "showlegend": true,
         "type": "scatter",
         "x": [
          "2022"
         ],
         "xaxis": "x",
         "y": [
          1410
         ],
         "yaxis": "y"
        }
       ],
       "layout": {
        "legend": {
         "title": {
          "text": "Yearly"
         },
         "tracegroupgap": 0
        },
        "template": {
         "data": {
          "bar": [
           {
            "error_x": {
             "color": "#2a3f5f"
            },
            "error_y": {
             "color": "#2a3f5f"
            },
            "marker": {
             "line": {
              "color": "#E5ECF6",
              "width": 0.5
             },
             "pattern": {
              "fillmode": "overlay",
              "size": 10,
              "solidity": 0.2
             }
            },
            "type": "bar"
           }
          ],
          "barpolar": [
           {
            "marker": {
             "line": {
              "color": "#E5ECF6",
              "width": 0.5
             },
             "pattern": {
              "fillmode": "overlay",
              "size": 10,
              "solidity": 0.2
             }
            },
            "type": "barpolar"
           }
          ],
          "carpet": [
           {
            "aaxis": {
             "endlinecolor": "#2a3f5f",
             "gridcolor": "white",
             "linecolor": "white",
             "minorgridcolor": "white",
             "startlinecolor": "#2a3f5f"
            },
            "baxis": {
             "endlinecolor": "#2a3f5f",
             "gridcolor": "white",
             "linecolor": "white",
             "minorgridcolor": "white",
             "startlinecolor": "#2a3f5f"
            },
            "type": "carpet"
           }
          ],
          "choropleth": [
           {
            "colorbar": {
             "outlinewidth": 0,
             "ticks": ""
            },
            "type": "choropleth"
           }
          ],
          "contour": [
           {
            "colorbar": {
             "outlinewidth": 0,
             "ticks": ""
            },
            "colorscale": [
             [
              0,
              "#0d0887"
             ],
             [
              0.1111111111111111,
              "#46039f"
             ],
             [
              0.2222222222222222,
              "#7201a8"
             ],
             [
              0.3333333333333333,
              "#9c179e"
             ],
             [
              0.4444444444444444,
              "#bd3786"
             ],
             [
              0.5555555555555556,
              "#d8576b"
             ],
             [
              0.6666666666666666,
              "#ed7953"
             ],
             [
              0.7777777777777778,
              "#fb9f3a"
             ],
             [
              0.8888888888888888,
              "#fdca26"
             ],
             [
              1,
              "#f0f921"
             ]
            ],
            "type": "contour"
           }
          ],
          "contourcarpet": [
           {
            "colorbar": {
             "outlinewidth": 0,
             "ticks": ""
            },
            "type": "contourcarpet"
           }
          ],
          "heatmap": [
           {
            "colorbar": {
             "outlinewidth": 0,
             "ticks": ""
            },
            "colorscale": [
             [
              0,
              "#0d0887"
             ],
             [
              0.1111111111111111,
              "#46039f"
             ],
             [
              0.2222222222222222,
              "#7201a8"
             ],
             [
              0.3333333333333333,
              "#9c179e"
             ],
             [
              0.4444444444444444,
              "#bd3786"
             ],
             [
              0.5555555555555556,
              "#d8576b"
             ],
             [
              0.6666666666666666,
              "#ed7953"
             ],
             [
              0.7777777777777778,
              "#fb9f3a"
             ],
             [
              0.8888888888888888,
              "#fdca26"
             ],
             [
              1,
              "#f0f921"
             ]
            ],
            "type": "heatmap"
           }
          ],
          "heatmapgl": [
           {
            "colorbar": {
             "outlinewidth": 0,
             "ticks": ""
            },
            "colorscale": [
             [
              0,
              "#0d0887"
             ],
             [
              0.1111111111111111,
              "#46039f"
             ],
             [
              0.2222222222222222,
              "#7201a8"
             ],
             [
              0.3333333333333333,
              "#9c179e"
             ],
             [
              0.4444444444444444,
              "#bd3786"
             ],
             [
              0.5555555555555556,
              "#d8576b"
             ],
             [
              0.6666666666666666,
              "#ed7953"
             ],
             [
              0.7777777777777778,
              "#fb9f3a"
             ],
             [
              0.8888888888888888,
              "#fdca26"
             ],
             [
              1,
              "#f0f921"
             ]
            ],
            "type": "heatmapgl"
           }
          ],
          "histogram": [
           {
            "marker": {
             "pattern": {
              "fillmode": "overlay",
              "size": 10,
              "solidity": 0.2
             }
            },
            "type": "histogram"
           }
          ],
          "histogram2d": [
           {
            "colorbar": {
             "outlinewidth": 0,
             "ticks": ""
            },
            "colorscale": [
             [
              0,
              "#0d0887"
             ],
             [
              0.1111111111111111,
              "#46039f"
             ],
             [
              0.2222222222222222,
              "#7201a8"
             ],
             [
              0.3333333333333333,
              "#9c179e"
             ],
             [
              0.4444444444444444,
              "#bd3786"
             ],
             [
              0.5555555555555556,
              "#d8576b"
             ],
             [
              0.6666666666666666,
              "#ed7953"
             ],
             [
              0.7777777777777778,
              "#fb9f3a"
             ],
             [
              0.8888888888888888,
              "#fdca26"
             ],
             [
              1,
              "#f0f921"
             ]
            ],
            "type": "histogram2d"
           }
          ],
          "histogram2dcontour": [
           {
            "colorbar": {
             "outlinewidth": 0,
             "ticks": ""
            },
            "colorscale": [
             [
              0,
              "#0d0887"
             ],
             [
              0.1111111111111111,
              "#46039f"
             ],
             [
              0.2222222222222222,
              "#7201a8"
             ],
             [
              0.3333333333333333,
              "#9c179e"
             ],
             [
              0.4444444444444444,
              "#bd3786"
             ],
             [
              0.5555555555555556,
              "#d8576b"
             ],
             [
              0.6666666666666666,
              "#ed7953"
             ],
             [
              0.7777777777777778,
              "#fb9f3a"
             ],
             [
              0.8888888888888888,
              "#fdca26"
             ],
             [
              1,
              "#f0f921"
             ]
            ],
            "type": "histogram2dcontour"
           }
          ],
          "mesh3d": [
           {
            "colorbar": {
             "outlinewidth": 0,
             "ticks": ""
            },
            "type": "mesh3d"
           }
          ],
          "parcoords": [
           {
            "line": {
             "colorbar": {
              "outlinewidth": 0,
              "ticks": ""
             }
            },
            "type": "parcoords"
           }
          ],
          "pie": [
           {
            "automargin": true,
            "type": "pie"
           }
          ],
          "scatter": [
           {
            "fillpattern": {
             "fillmode": "overlay",
             "size": 10,
             "solidity": 0.2
            },
            "type": "scatter"
           }
          ],
          "scatter3d": [
           {
            "line": {
             "colorbar": {
              "outlinewidth": 0,
              "ticks": ""
             }
            },
            "marker": {
             "colorbar": {
              "outlinewidth": 0,
              "ticks": ""
             }
            },
            "type": "scatter3d"
           }
          ],
          "scattercarpet": [
           {
            "marker": {
             "colorbar": {
              "outlinewidth": 0,
              "ticks": ""
             }
            },
            "type": "scattercarpet"
           }
          ],
          "scattergeo": [
           {
            "marker": {
             "colorbar": {
              "outlinewidth": 0,
              "ticks": ""
             }
            },
            "type": "scattergeo"
           }
          ],
          "scattergl": [
           {
            "marker": {
             "colorbar": {
              "outlinewidth": 0,
              "ticks": ""
             }
            },
            "type": "scattergl"
           }
          ],
          "scattermapbox": [
           {
            "marker": {
             "colorbar": {
              "outlinewidth": 0,
              "ticks": ""
             }
            },
            "type": "scattermapbox"
           }
          ],
          "scatterpolar": [
           {
            "marker": {
             "colorbar": {
              "outlinewidth": 0,
              "ticks": ""
             }
            },
            "type": "scatterpolar"
           }
          ],
          "scatterpolargl": [
           {
            "marker": {
             "colorbar": {
              "outlinewidth": 0,
              "ticks": ""
             }
            },
            "type": "scatterpolargl"
           }
          ],
          "scatterternary": [
           {
            "marker": {
             "colorbar": {
              "outlinewidth": 0,
              "ticks": ""
             }
            },
            "type": "scatterternary"
           }
          ],
          "surface": [
           {
            "colorbar": {
             "outlinewidth": 0,
             "ticks": ""
            },
            "colorscale": [
             [
              0,
              "#0d0887"
             ],
             [
              0.1111111111111111,
              "#46039f"
             ],
             [
              0.2222222222222222,
              "#7201a8"
             ],
             [
              0.3333333333333333,
              "#9c179e"
             ],
             [
              0.4444444444444444,
              "#bd3786"
             ],
             [
              0.5555555555555556,
              "#d8576b"
             ],
             [
              0.6666666666666666,
              "#ed7953"
             ],
             [
              0.7777777777777778,
              "#fb9f3a"
             ],
             [
              0.8888888888888888,
              "#fdca26"
             ],
             [
              1,
              "#f0f921"
             ]
            ],
            "type": "surface"
           }
          ],
          "table": [
           {
            "cells": {
             "fill": {
              "color": "#EBF0F8"
             },
             "line": {
              "color": "white"
             }
            },
            "header": {
             "fill": {
              "color": "#C8D4E3"
             },
             "line": {
              "color": "white"
             }
            },
            "type": "table"
           }
          ]
         },
         "layout": {
          "annotationdefaults": {
           "arrowcolor": "#2a3f5f",
           "arrowhead": 0,
           "arrowwidth": 1
          },
          "autotypenumbers": "strict",
          "coloraxis": {
           "colorbar": {
            "outlinewidth": 0,
            "ticks": ""
           }
          },
          "colorscale": {
           "diverging": [
            [
             0,
             "#8e0152"
            ],
            [
             0.1,
             "#c51b7d"
            ],
            [
             0.2,
             "#de77ae"
            ],
            [
             0.3,
             "#f1b6da"
            ],
            [
             0.4,
             "#fde0ef"
            ],
            [
             0.5,
             "#f7f7f7"
            ],
            [
             0.6,
             "#e6f5d0"
            ],
            [
             0.7,
             "#b8e186"
            ],
            [
             0.8,
             "#7fbc41"
            ],
            [
             0.9,
             "#4d9221"
            ],
            [
             1,
             "#276419"
            ]
           ],
           "sequential": [
            [
             0,
             "#0d0887"
            ],
            [
             0.1111111111111111,
             "#46039f"
            ],
            [
             0.2222222222222222,
             "#7201a8"
            ],
            [
             0.3333333333333333,
             "#9c179e"
            ],
            [
             0.4444444444444444,
             "#bd3786"
            ],
            [
             0.5555555555555556,
             "#d8576b"
            ],
            [
             0.6666666666666666,
             "#ed7953"
            ],
            [
             0.7777777777777778,
             "#fb9f3a"
            ],
            [
             0.8888888888888888,
             "#fdca26"
            ],
            [
             1,
             "#f0f921"
            ]
           ],
           "sequentialminus": [
            [
             0,
             "#0d0887"
            ],
            [
             0.1111111111111111,
             "#46039f"
            ],
            [
             0.2222222222222222,
             "#7201a8"
            ],
            [
             0.3333333333333333,
             "#9c179e"
            ],
            [
             0.4444444444444444,
             "#bd3786"
            ],
            [
             0.5555555555555556,
             "#d8576b"
            ],
            [
             0.6666666666666666,
             "#ed7953"
            ],
            [
             0.7777777777777778,
             "#fb9f3a"
            ],
            [
             0.8888888888888888,
             "#fdca26"
            ],
            [
             1,
             "#f0f921"
            ]
           ]
          },
          "colorway": [
           "#636efa",
           "#EF553B",
           "#00cc96",
           "#ab63fa",
           "#FFA15A",
           "#19d3f3",
           "#FF6692",
           "#B6E880",
           "#FF97FF",
           "#FECB52"
          ],
          "font": {
           "color": "#2a3f5f"
          },
          "geo": {
           "bgcolor": "white",
           "lakecolor": "white",
           "landcolor": "#E5ECF6",
           "showlakes": true,
           "showland": true,
           "subunitcolor": "white"
          },
          "hoverlabel": {
           "align": "left"
          },
          "hovermode": "closest",
          "mapbox": {
           "style": "light"
          },
          "paper_bgcolor": "white",
          "plot_bgcolor": "#E5ECF6",
          "polar": {
           "angularaxis": {
            "gridcolor": "white",
            "linecolor": "white",
            "ticks": ""
           },
           "bgcolor": "#E5ECF6",
           "radialaxis": {
            "gridcolor": "white",
            "linecolor": "white",
            "ticks": ""
           }
          },
          "scene": {
           "xaxis": {
            "backgroundcolor": "#E5ECF6",
            "gridcolor": "white",
            "gridwidth": 2,
            "linecolor": "white",
            "showbackground": true,
            "ticks": "",
            "zerolinecolor": "white"
           },
           "yaxis": {
            "backgroundcolor": "#E5ECF6",
            "gridcolor": "white",
            "gridwidth": 2,
            "linecolor": "white",
            "showbackground": true,
            "ticks": "",
            "zerolinecolor": "white"
           },
           "zaxis": {
            "backgroundcolor": "#E5ECF6",
            "gridcolor": "white",
            "gridwidth": 2,
            "linecolor": "white",
            "showbackground": true,
            "ticks": "",
            "zerolinecolor": "white"
           }
          },
          "shapedefaults": {
           "line": {
            "color": "#2a3f5f"
           }
          },
          "ternary": {
           "aaxis": {
            "gridcolor": "white",
            "linecolor": "white",
            "ticks": ""
           },
           "baxis": {
            "gridcolor": "white",
            "linecolor": "white",
            "ticks": ""
           },
           "bgcolor": "#E5ECF6",
           "caxis": {
            "gridcolor": "white",
            "linecolor": "white",
            "ticks": ""
           }
          },
          "title": {
           "x": 0.05
          },
          "xaxis": {
           "automargin": true,
           "gridcolor": "white",
           "linecolor": "white",
           "ticks": "",
           "title": {
            "standoff": 15
           },
           "zerolinecolor": "white",
           "zerolinewidth": 2
          },
          "yaxis": {
           "automargin": true,
           "gridcolor": "white",
           "linecolor": "white",
           "ticks": "",
           "title": {
            "standoff": 15
           },
           "zerolinecolor": "white",
           "zerolinewidth": 2
          }
         }
        },
        "title": {
         "text": "Yearly Issues Creations"
        },
        "xaxis": {
         "anchor": "y",
         "categoryarray": [
          "2022"
         ],
         "categoryorder": "array",
         "domain": [
          0,
          1
         ],
         "title": {
          "text": "Yearly"
         }
        },
        "yaxis": {
         "anchor": "x",
         "domain": [
          0,
          1
         ],
         "title": {
          "text": "counts"
         }
        }
       }
      }
     },
     "metadata": {},
     "output_type": "display_data"
    }
   ],
   "source": [
    "px.line(by_year,x='Yearly',y='counts',title='Yearly Issues Creations',color='Yearly',markers=True)"
   ]
  },
  {
   "cell_type": "code",
   "execution_count": 21,
   "metadata": {},
   "outputs": [
    {
     "data": {
      "text/html": [
       "<div>\n",
       "<style scoped>\n",
       "    .dataframe tbody tr th:only-of-type {\n",
       "        vertical-align: middle;\n",
       "    }\n",
       "\n",
       "    .dataframe tbody tr th {\n",
       "        vertical-align: top;\n",
       "    }\n",
       "\n",
       "    .dataframe thead th {\n",
       "        text-align: right;\n",
       "    }\n",
       "</style>\n",
       "<table border=\"1\" class=\"dataframe\">\n",
       "  <thead>\n",
       "    <tr style=\"text-align: right;\">\n",
       "      <th></th>\n",
       "      <th>quarter</th>\n",
       "      <th>counts</th>\n",
       "    </tr>\n",
       "  </thead>\n",
       "  <tbody>\n",
       "    <tr>\n",
       "      <th>0</th>\n",
       "      <td>2022Q1</td>\n",
       "      <td>339</td>\n",
       "    </tr>\n",
       "    <tr>\n",
       "      <th>1</th>\n",
       "      <td>2022Q2</td>\n",
       "      <td>1071</td>\n",
       "    </tr>\n",
       "  </tbody>\n",
       "</table>\n",
       "</div>"
      ],
      "text/plain": [
       "  quarter  counts\n",
       "0  2022Q1     339\n",
       "1  2022Q2    1071"
      ]
     },
     "execution_count": 21,
     "metadata": {},
     "output_type": "execute_result"
    }
   ],
   "source": [
    "# quarter Wise\n",
    "by_quarter = pd.to_datetime(date['Issues_created']).dt.to_period('Q').value_counts().sort_index()\n",
    "by_quarter.index = pd.PeriodIndex(by_quarter.index)\n",
    "by_quarter = by_quarter.rename_axis('quarter').reset_index(name='counts')\n",
    "by_quarter"
   ]
  },
  {
   "cell_type": "code",
   "execution_count": 22,
   "metadata": {},
   "outputs": [
    {
     "data": {
      "application/vnd.plotly.v1+json": {
       "config": {
        "plotlyServerURL": "https://plot.ly"
       },
       "data": [
        {
         "marker": {
          "color": "black"
         },
         "type": "scatter",
         "x": [
          "2022Q1",
          "2022Q2"
         ],
         "y": [
          339,
          1071
         ]
        }
       ],
       "layout": {
        "template": {
         "data": {
          "bar": [
           {
            "error_x": {
             "color": "#2a3f5f"
            },
            "error_y": {
             "color": "#2a3f5f"
            },
            "marker": {
             "line": {
              "color": "#E5ECF6",
              "width": 0.5
             },
             "pattern": {
              "fillmode": "overlay",
              "size": 10,
              "solidity": 0.2
             }
            },
            "type": "bar"
           }
          ],
          "barpolar": [
           {
            "marker": {
             "line": {
              "color": "#E5ECF6",
              "width": 0.5
             },
             "pattern": {
              "fillmode": "overlay",
              "size": 10,
              "solidity": 0.2
             }
            },
            "type": "barpolar"
           }
          ],
          "carpet": [
           {
            "aaxis": {
             "endlinecolor": "#2a3f5f",
             "gridcolor": "white",
             "linecolor": "white",
             "minorgridcolor": "white",
             "startlinecolor": "#2a3f5f"
            },
            "baxis": {
             "endlinecolor": "#2a3f5f",
             "gridcolor": "white",
             "linecolor": "white",
             "minorgridcolor": "white",
             "startlinecolor": "#2a3f5f"
            },
            "type": "carpet"
           }
          ],
          "choropleth": [
           {
            "colorbar": {
             "outlinewidth": 0,
             "ticks": ""
            },
            "type": "choropleth"
           }
          ],
          "contour": [
           {
            "colorbar": {
             "outlinewidth": 0,
             "ticks": ""
            },
            "colorscale": [
             [
              0,
              "#0d0887"
             ],
             [
              0.1111111111111111,
              "#46039f"
             ],
             [
              0.2222222222222222,
              "#7201a8"
             ],
             [
              0.3333333333333333,
              "#9c179e"
             ],
             [
              0.4444444444444444,
              "#bd3786"
             ],
             [
              0.5555555555555556,
              "#d8576b"
             ],
             [
              0.6666666666666666,
              "#ed7953"
             ],
             [
              0.7777777777777778,
              "#fb9f3a"
             ],
             [
              0.8888888888888888,
              "#fdca26"
             ],
             [
              1,
              "#f0f921"
             ]
            ],
            "type": "contour"
           }
          ],
          "contourcarpet": [
           {
            "colorbar": {
             "outlinewidth": 0,
             "ticks": ""
            },
            "type": "contourcarpet"
           }
          ],
          "heatmap": [
           {
            "colorbar": {
             "outlinewidth": 0,
             "ticks": ""
            },
            "colorscale": [
             [
              0,
              "#0d0887"
             ],
             [
              0.1111111111111111,
              "#46039f"
             ],
             [
              0.2222222222222222,
              "#7201a8"
             ],
             [
              0.3333333333333333,
              "#9c179e"
             ],
             [
              0.4444444444444444,
              "#bd3786"
             ],
             [
              0.5555555555555556,
              "#d8576b"
             ],
             [
              0.6666666666666666,
              "#ed7953"
             ],
             [
              0.7777777777777778,
              "#fb9f3a"
             ],
             [
              0.8888888888888888,
              "#fdca26"
             ],
             [
              1,
              "#f0f921"
             ]
            ],
            "type": "heatmap"
           }
          ],
          "heatmapgl": [
           {
            "colorbar": {
             "outlinewidth": 0,
             "ticks": ""
            },
            "colorscale": [
             [
              0,
              "#0d0887"
             ],
             [
              0.1111111111111111,
              "#46039f"
             ],
             [
              0.2222222222222222,
              "#7201a8"
             ],
             [
              0.3333333333333333,
              "#9c179e"
             ],
             [
              0.4444444444444444,
              "#bd3786"
             ],
             [
              0.5555555555555556,
              "#d8576b"
             ],
             [
              0.6666666666666666,
              "#ed7953"
             ],
             [
              0.7777777777777778,
              "#fb9f3a"
             ],
             [
              0.8888888888888888,
              "#fdca26"
             ],
             [
              1,
              "#f0f921"
             ]
            ],
            "type": "heatmapgl"
           }
          ],
          "histogram": [
           {
            "marker": {
             "pattern": {
              "fillmode": "overlay",
              "size": 10,
              "solidity": 0.2
             }
            },
            "type": "histogram"
           }
          ],
          "histogram2d": [
           {
            "colorbar": {
             "outlinewidth": 0,
             "ticks": ""
            },
            "colorscale": [
             [
              0,
              "#0d0887"
             ],
             [
              0.1111111111111111,
              "#46039f"
             ],
             [
              0.2222222222222222,
              "#7201a8"
             ],
             [
              0.3333333333333333,
              "#9c179e"
             ],
             [
              0.4444444444444444,
              "#bd3786"
             ],
             [
              0.5555555555555556,
              "#d8576b"
             ],
             [
              0.6666666666666666,
              "#ed7953"
             ],
             [
              0.7777777777777778,
              "#fb9f3a"
             ],
             [
              0.8888888888888888,
              "#fdca26"
             ],
             [
              1,
              "#f0f921"
             ]
            ],
            "type": "histogram2d"
           }
          ],
          "histogram2dcontour": [
           {
            "colorbar": {
             "outlinewidth": 0,
             "ticks": ""
            },
            "colorscale": [
             [
              0,
              "#0d0887"
             ],
             [
              0.1111111111111111,
              "#46039f"
             ],
             [
              0.2222222222222222,
              "#7201a8"
             ],
             [
              0.3333333333333333,
              "#9c179e"
             ],
             [
              0.4444444444444444,
              "#bd3786"
             ],
             [
              0.5555555555555556,
              "#d8576b"
             ],
             [
              0.6666666666666666,
              "#ed7953"
             ],
             [
              0.7777777777777778,
              "#fb9f3a"
             ],
             [
              0.8888888888888888,
              "#fdca26"
             ],
             [
              1,
              "#f0f921"
             ]
            ],
            "type": "histogram2dcontour"
           }
          ],
          "mesh3d": [
           {
            "colorbar": {
             "outlinewidth": 0,
             "ticks": ""
            },
            "type": "mesh3d"
           }
          ],
          "parcoords": [
           {
            "line": {
             "colorbar": {
              "outlinewidth": 0,
              "ticks": ""
             }
            },
            "type": "parcoords"
           }
          ],
          "pie": [
           {
            "automargin": true,
            "type": "pie"
           }
          ],
          "scatter": [
           {
            "fillpattern": {
             "fillmode": "overlay",
             "size": 10,
             "solidity": 0.2
            },
            "type": "scatter"
           }
          ],
          "scatter3d": [
           {
            "line": {
             "colorbar": {
              "outlinewidth": 0,
              "ticks": ""
             }
            },
            "marker": {
             "colorbar": {
              "outlinewidth": 0,
              "ticks": ""
             }
            },
            "type": "scatter3d"
           }
          ],
          "scattercarpet": [
           {
            "marker": {
             "colorbar": {
              "outlinewidth": 0,
              "ticks": ""
             }
            },
            "type": "scattercarpet"
           }
          ],
          "scattergeo": [
           {
            "marker": {
             "colorbar": {
              "outlinewidth": 0,
              "ticks": ""
             }
            },
            "type": "scattergeo"
           }
          ],
          "scattergl": [
           {
            "marker": {
             "colorbar": {
              "outlinewidth": 0,
              "ticks": ""
             }
            },
            "type": "scattergl"
           }
          ],
          "scattermapbox": [
           {
            "marker": {
             "colorbar": {
              "outlinewidth": 0,
              "ticks": ""
             }
            },
            "type": "scattermapbox"
           }
          ],
          "scatterpolar": [
           {
            "marker": {
             "colorbar": {
              "outlinewidth": 0,
              "ticks": ""
             }
            },
            "type": "scatterpolar"
           }
          ],
          "scatterpolargl": [
           {
            "marker": {
             "colorbar": {
              "outlinewidth": 0,
              "ticks": ""
             }
            },
            "type": "scatterpolargl"
           }
          ],
          "scatterternary": [
           {
            "marker": {
             "colorbar": {
              "outlinewidth": 0,
              "ticks": ""
             }
            },
            "type": "scatterternary"
           }
          ],
          "surface": [
           {
            "colorbar": {
             "outlinewidth": 0,
             "ticks": ""
            },
            "colorscale": [
             [
              0,
              "#0d0887"
             ],
             [
              0.1111111111111111,
              "#46039f"
             ],
             [
              0.2222222222222222,
              "#7201a8"
             ],
             [
              0.3333333333333333,
              "#9c179e"
             ],
             [
              0.4444444444444444,
              "#bd3786"
             ],
             [
              0.5555555555555556,
              "#d8576b"
             ],
             [
              0.6666666666666666,
              "#ed7953"
             ],
             [
              0.7777777777777778,
              "#fb9f3a"
             ],
             [
              0.8888888888888888,
              "#fdca26"
             ],
             [
              1,
              "#f0f921"
             ]
            ],
            "type": "surface"
           }
          ],
          "table": [
           {
            "cells": {
             "fill": {
              "color": "#EBF0F8"
             },
             "line": {
              "color": "white"
             }
            },
            "header": {
             "fill": {
              "color": "#C8D4E3"
             },
             "line": {
              "color": "white"
             }
            },
            "type": "table"
           }
          ]
         },
         "layout": {
          "annotationdefaults": {
           "arrowcolor": "#2a3f5f",
           "arrowhead": 0,
           "arrowwidth": 1
          },
          "autotypenumbers": "strict",
          "coloraxis": {
           "colorbar": {
            "outlinewidth": 0,
            "ticks": ""
           }
          },
          "colorscale": {
           "diverging": [
            [
             0,
             "#8e0152"
            ],
            [
             0.1,
             "#c51b7d"
            ],
            [
             0.2,
             "#de77ae"
            ],
            [
             0.3,
             "#f1b6da"
            ],
            [
             0.4,
             "#fde0ef"
            ],
            [
             0.5,
             "#f7f7f7"
            ],
            [
             0.6,
             "#e6f5d0"
            ],
            [
             0.7,
             "#b8e186"
            ],
            [
             0.8,
             "#7fbc41"
            ],
            [
             0.9,
             "#4d9221"
            ],
            [
             1,
             "#276419"
            ]
           ],
           "sequential": [
            [
             0,
             "#0d0887"
            ],
            [
             0.1111111111111111,
             "#46039f"
            ],
            [
             0.2222222222222222,
             "#7201a8"
            ],
            [
             0.3333333333333333,
             "#9c179e"
            ],
            [
             0.4444444444444444,
             "#bd3786"
            ],
            [
             0.5555555555555556,
             "#d8576b"
            ],
            [
             0.6666666666666666,
             "#ed7953"
            ],
            [
             0.7777777777777778,
             "#fb9f3a"
            ],
            [
             0.8888888888888888,
             "#fdca26"
            ],
            [
             1,
             "#f0f921"
            ]
           ],
           "sequentialminus": [
            [
             0,
             "#0d0887"
            ],
            [
             0.1111111111111111,
             "#46039f"
            ],
            [
             0.2222222222222222,
             "#7201a8"
            ],
            [
             0.3333333333333333,
             "#9c179e"
            ],
            [
             0.4444444444444444,
             "#bd3786"
            ],
            [
             0.5555555555555556,
             "#d8576b"
            ],
            [
             0.6666666666666666,
             "#ed7953"
            ],
            [
             0.7777777777777778,
             "#fb9f3a"
            ],
            [
             0.8888888888888888,
             "#fdca26"
            ],
            [
             1,
             "#f0f921"
            ]
           ]
          },
          "colorway": [
           "#636efa",
           "#EF553B",
           "#00cc96",
           "#ab63fa",
           "#FFA15A",
           "#19d3f3",
           "#FF6692",
           "#B6E880",
           "#FF97FF",
           "#FECB52"
          ],
          "font": {
           "color": "#2a3f5f"
          },
          "geo": {
           "bgcolor": "white",
           "lakecolor": "white",
           "landcolor": "#E5ECF6",
           "showlakes": true,
           "showland": true,
           "subunitcolor": "white"
          },
          "hoverlabel": {
           "align": "left"
          },
          "hovermode": "closest",
          "mapbox": {
           "style": "light"
          },
          "paper_bgcolor": "white",
          "plot_bgcolor": "#E5ECF6",
          "polar": {
           "angularaxis": {
            "gridcolor": "white",
            "linecolor": "white",
            "ticks": ""
           },
           "bgcolor": "#E5ECF6",
           "radialaxis": {
            "gridcolor": "white",
            "linecolor": "white",
            "ticks": ""
           }
          },
          "scene": {
           "xaxis": {
            "backgroundcolor": "#E5ECF6",
            "gridcolor": "white",
            "gridwidth": 2,
            "linecolor": "white",
            "showbackground": true,
            "ticks": "",
            "zerolinecolor": "white"
           },
           "yaxis": {
            "backgroundcolor": "#E5ECF6",
            "gridcolor": "white",
            "gridwidth": 2,
            "linecolor": "white",
            "showbackground": true,
            "ticks": "",
            "zerolinecolor": "white"
           },
           "zaxis": {
            "backgroundcolor": "#E5ECF6",
            "gridcolor": "white",
            "gridwidth": 2,
            "linecolor": "white",
            "showbackground": true,
            "ticks": "",
            "zerolinecolor": "white"
           }
          },
          "shapedefaults": {
           "line": {
            "color": "#2a3f5f"
           }
          },
          "ternary": {
           "aaxis": {
            "gridcolor": "white",
            "linecolor": "white",
            "ticks": ""
           },
           "baxis": {
            "gridcolor": "white",
            "linecolor": "white",
            "ticks": ""
           },
           "bgcolor": "#E5ECF6",
           "caxis": {
            "gridcolor": "white",
            "linecolor": "white",
            "ticks": ""
           }
          },
          "title": {
           "x": 0.05
          },
          "xaxis": {
           "automargin": true,
           "gridcolor": "white",
           "linecolor": "white",
           "ticks": "",
           "title": {
            "standoff": 15
           },
           "zerolinecolor": "white",
           "zerolinewidth": 2
          },
          "yaxis": {
           "automargin": true,
           "gridcolor": "white",
           "linecolor": "white",
           "ticks": "",
           "title": {
            "standoff": 15
           },
           "zerolinecolor": "white",
           "zerolinewidth": 2
          }
         }
        }
       }
      }
     },
     "metadata": {},
     "output_type": "display_data"
    }
   ],
   "source": [
    "fig = go.Figure(data=go.Scatter(x=by_quarter['quarter'].astype(dtype=str), \n",
    "                                y=by_quarter['counts'],\n",
    "                                marker_color='black'))\n",
    "fig.show()"
   ]
  },
  {
   "cell_type": "code",
   "execution_count": 23,
   "metadata": {},
   "outputs": [
    {
     "data": {
      "text/html": [
       "<div>\n",
       "<style scoped>\n",
       "    .dataframe tbody tr th:only-of-type {\n",
       "        vertical-align: middle;\n",
       "    }\n",
       "\n",
       "    .dataframe tbody tr th {\n",
       "        vertical-align: top;\n",
       "    }\n",
       "\n",
       "    .dataframe thead th {\n",
       "        text-align: right;\n",
       "    }\n",
       "</style>\n",
       "<table border=\"1\" class=\"dataframe\">\n",
       "  <thead>\n",
       "    <tr style=\"text-align: right;\">\n",
       "      <th></th>\n",
       "      <th>month</th>\n",
       "      <th>counts</th>\n",
       "    </tr>\n",
       "  </thead>\n",
       "  <tbody>\n",
       "    <tr>\n",
       "      <th>0</th>\n",
       "      <td>03</td>\n",
       "      <td>339</td>\n",
       "    </tr>\n",
       "    <tr>\n",
       "      <th>1</th>\n",
       "      <td>04</td>\n",
       "      <td>1016</td>\n",
       "    </tr>\n",
       "    <tr>\n",
       "      <th>2</th>\n",
       "      <td>05</td>\n",
       "      <td>40</td>\n",
       "    </tr>\n",
       "    <tr>\n",
       "      <th>3</th>\n",
       "      <td>06</td>\n",
       "      <td>15</td>\n",
       "    </tr>\n",
       "  </tbody>\n",
       "</table>\n",
       "</div>"
      ],
      "text/plain": [
       "  month  counts\n",
       "0    03     339\n",
       "1    04    1016\n",
       "2    05      40\n",
       "3    06      15"
      ]
     },
     "execution_count": 23,
     "metadata": {},
     "output_type": "execute_result"
    }
   ],
   "source": [
    "# Month Wise\n",
    "by_month = pd.to_datetime(date['Issues_created']).dt.strftime('%m').value_counts().sort_index()\n",
    "by_month = by_month.rename_axis('month').reset_index(name='counts')\n",
    "by_month"
   ]
  },
  {
   "cell_type": "code",
   "execution_count": 24,
   "metadata": {},
   "outputs": [
    {
     "data": {
      "application/vnd.plotly.v1+json": {
       "config": {
        "plotlyServerURL": "https://plot.ly"
       },
       "data": [
        {
         "marker": {
          "color": "blue"
         },
         "type": "scatter",
         "x": [
          "03",
          "04",
          "05",
          "06"
         ],
         "y": [
          339,
          1016,
          40,
          15
         ]
        }
       ],
       "layout": {
        "template": {
         "data": {
          "bar": [
           {
            "error_x": {
             "color": "#2a3f5f"
            },
            "error_y": {
             "color": "#2a3f5f"
            },
            "marker": {
             "line": {
              "color": "#E5ECF6",
              "width": 0.5
             },
             "pattern": {
              "fillmode": "overlay",
              "size": 10,
              "solidity": 0.2
             }
            },
            "type": "bar"
           }
          ],
          "barpolar": [
           {
            "marker": {
             "line": {
              "color": "#E5ECF6",
              "width": 0.5
             },
             "pattern": {
              "fillmode": "overlay",
              "size": 10,
              "solidity": 0.2
             }
            },
            "type": "barpolar"
           }
          ],
          "carpet": [
           {
            "aaxis": {
             "endlinecolor": "#2a3f5f",
             "gridcolor": "white",
             "linecolor": "white",
             "minorgridcolor": "white",
             "startlinecolor": "#2a3f5f"
            },
            "baxis": {
             "endlinecolor": "#2a3f5f",
             "gridcolor": "white",
             "linecolor": "white",
             "minorgridcolor": "white",
             "startlinecolor": "#2a3f5f"
            },
            "type": "carpet"
           }
          ],
          "choropleth": [
           {
            "colorbar": {
             "outlinewidth": 0,
             "ticks": ""
            },
            "type": "choropleth"
           }
          ],
          "contour": [
           {
            "colorbar": {
             "outlinewidth": 0,
             "ticks": ""
            },
            "colorscale": [
             [
              0,
              "#0d0887"
             ],
             [
              0.1111111111111111,
              "#46039f"
             ],
             [
              0.2222222222222222,
              "#7201a8"
             ],
             [
              0.3333333333333333,
              "#9c179e"
             ],
             [
              0.4444444444444444,
              "#bd3786"
             ],
             [
              0.5555555555555556,
              "#d8576b"
             ],
             [
              0.6666666666666666,
              "#ed7953"
             ],
             [
              0.7777777777777778,
              "#fb9f3a"
             ],
             [
              0.8888888888888888,
              "#fdca26"
             ],
             [
              1,
              "#f0f921"
             ]
            ],
            "type": "contour"
           }
          ],
          "contourcarpet": [
           {
            "colorbar": {
             "outlinewidth": 0,
             "ticks": ""
            },
            "type": "contourcarpet"
           }
          ],
          "heatmap": [
           {
            "colorbar": {
             "outlinewidth": 0,
             "ticks": ""
            },
            "colorscale": [
             [
              0,
              "#0d0887"
             ],
             [
              0.1111111111111111,
              "#46039f"
             ],
             [
              0.2222222222222222,
              "#7201a8"
             ],
             [
              0.3333333333333333,
              "#9c179e"
             ],
             [
              0.4444444444444444,
              "#bd3786"
             ],
             [
              0.5555555555555556,
              "#d8576b"
             ],
             [
              0.6666666666666666,
              "#ed7953"
             ],
             [
              0.7777777777777778,
              "#fb9f3a"
             ],
             [
              0.8888888888888888,
              "#fdca26"
             ],
             [
              1,
              "#f0f921"
             ]
            ],
            "type": "heatmap"
           }
          ],
          "heatmapgl": [
           {
            "colorbar": {
             "outlinewidth": 0,
             "ticks": ""
            },
            "colorscale": [
             [
              0,
              "#0d0887"
             ],
             [
              0.1111111111111111,
              "#46039f"
             ],
             [
              0.2222222222222222,
              "#7201a8"
             ],
             [
              0.3333333333333333,
              "#9c179e"
             ],
             [
              0.4444444444444444,
              "#bd3786"
             ],
             [
              0.5555555555555556,
              "#d8576b"
             ],
             [
              0.6666666666666666,
              "#ed7953"
             ],
             [
              0.7777777777777778,
              "#fb9f3a"
             ],
             [
              0.8888888888888888,
              "#fdca26"
             ],
             [
              1,
              "#f0f921"
             ]
            ],
            "type": "heatmapgl"
           }
          ],
          "histogram": [
           {
            "marker": {
             "pattern": {
              "fillmode": "overlay",
              "size": 10,
              "solidity": 0.2
             }
            },
            "type": "histogram"
           }
          ],
          "histogram2d": [
           {
            "colorbar": {
             "outlinewidth": 0,
             "ticks": ""
            },
            "colorscale": [
             [
              0,
              "#0d0887"
             ],
             [
              0.1111111111111111,
              "#46039f"
             ],
             [
              0.2222222222222222,
              "#7201a8"
             ],
             [
              0.3333333333333333,
              "#9c179e"
             ],
             [
              0.4444444444444444,
              "#bd3786"
             ],
             [
              0.5555555555555556,
              "#d8576b"
             ],
             [
              0.6666666666666666,
              "#ed7953"
             ],
             [
              0.7777777777777778,
              "#fb9f3a"
             ],
             [
              0.8888888888888888,
              "#fdca26"
             ],
             [
              1,
              "#f0f921"
             ]
            ],
            "type": "histogram2d"
           }
          ],
          "histogram2dcontour": [
           {
            "colorbar": {
             "outlinewidth": 0,
             "ticks": ""
            },
            "colorscale": [
             [
              0,
              "#0d0887"
             ],
             [
              0.1111111111111111,
              "#46039f"
             ],
             [
              0.2222222222222222,
              "#7201a8"
             ],
             [
              0.3333333333333333,
              "#9c179e"
             ],
             [
              0.4444444444444444,
              "#bd3786"
             ],
             [
              0.5555555555555556,
              "#d8576b"
             ],
             [
              0.6666666666666666,
              "#ed7953"
             ],
             [
              0.7777777777777778,
              "#fb9f3a"
             ],
             [
              0.8888888888888888,
              "#fdca26"
             ],
             [
              1,
              "#f0f921"
             ]
            ],
            "type": "histogram2dcontour"
           }
          ],
          "mesh3d": [
           {
            "colorbar": {
             "outlinewidth": 0,
             "ticks": ""
            },
            "type": "mesh3d"
           }
          ],
          "parcoords": [
           {
            "line": {
             "colorbar": {
              "outlinewidth": 0,
              "ticks": ""
             }
            },
            "type": "parcoords"
           }
          ],
          "pie": [
           {
            "automargin": true,
            "type": "pie"
           }
          ],
          "scatter": [
           {
            "fillpattern": {
             "fillmode": "overlay",
             "size": 10,
             "solidity": 0.2
            },
            "type": "scatter"
           }
          ],
          "scatter3d": [
           {
            "line": {
             "colorbar": {
              "outlinewidth": 0,
              "ticks": ""
             }
            },
            "marker": {
             "colorbar": {
              "outlinewidth": 0,
              "ticks": ""
             }
            },
            "type": "scatter3d"
           }
          ],
          "scattercarpet": [
           {
            "marker": {
             "colorbar": {
              "outlinewidth": 0,
              "ticks": ""
             }
            },
            "type": "scattercarpet"
           }
          ],
          "scattergeo": [
           {
            "marker": {
             "colorbar": {
              "outlinewidth": 0,
              "ticks": ""
             }
            },
            "type": "scattergeo"
           }
          ],
          "scattergl": [
           {
            "marker": {
             "colorbar": {
              "outlinewidth": 0,
              "ticks": ""
             }
            },
            "type": "scattergl"
           }
          ],
          "scattermapbox": [
           {
            "marker": {
             "colorbar": {
              "outlinewidth": 0,
              "ticks": ""
             }
            },
            "type": "scattermapbox"
           }
          ],
          "scatterpolar": [
           {
            "marker": {
             "colorbar": {
              "outlinewidth": 0,
              "ticks": ""
             }
            },
            "type": "scatterpolar"
           }
          ],
          "scatterpolargl": [
           {
            "marker": {
             "colorbar": {
              "outlinewidth": 0,
              "ticks": ""
             }
            },
            "type": "scatterpolargl"
           }
          ],
          "scatterternary": [
           {
            "marker": {
             "colorbar": {
              "outlinewidth": 0,
              "ticks": ""
             }
            },
            "type": "scatterternary"
           }
          ],
          "surface": [
           {
            "colorbar": {
             "outlinewidth": 0,
             "ticks": ""
            },
            "colorscale": [
             [
              0,
              "#0d0887"
             ],
             [
              0.1111111111111111,
              "#46039f"
             ],
             [
              0.2222222222222222,
              "#7201a8"
             ],
             [
              0.3333333333333333,
              "#9c179e"
             ],
             [
              0.4444444444444444,
              "#bd3786"
             ],
             [
              0.5555555555555556,
              "#d8576b"
             ],
             [
              0.6666666666666666,
              "#ed7953"
             ],
             [
              0.7777777777777778,
              "#fb9f3a"
             ],
             [
              0.8888888888888888,
              "#fdca26"
             ],
             [
              1,
              "#f0f921"
             ]
            ],
            "type": "surface"
           }
          ],
          "table": [
           {
            "cells": {
             "fill": {
              "color": "#EBF0F8"
             },
             "line": {
              "color": "white"
             }
            },
            "header": {
             "fill": {
              "color": "#C8D4E3"
             },
             "line": {
              "color": "white"
             }
            },
            "type": "table"
           }
          ]
         },
         "layout": {
          "annotationdefaults": {
           "arrowcolor": "#2a3f5f",
           "arrowhead": 0,
           "arrowwidth": 1
          },
          "autotypenumbers": "strict",
          "coloraxis": {
           "colorbar": {
            "outlinewidth": 0,
            "ticks": ""
           }
          },
          "colorscale": {
           "diverging": [
            [
             0,
             "#8e0152"
            ],
            [
             0.1,
             "#c51b7d"
            ],
            [
             0.2,
             "#de77ae"
            ],
            [
             0.3,
             "#f1b6da"
            ],
            [
             0.4,
             "#fde0ef"
            ],
            [
             0.5,
             "#f7f7f7"
            ],
            [
             0.6,
             "#e6f5d0"
            ],
            [
             0.7,
             "#b8e186"
            ],
            [
             0.8,
             "#7fbc41"
            ],
            [
             0.9,
             "#4d9221"
            ],
            [
             1,
             "#276419"
            ]
           ],
           "sequential": [
            [
             0,
             "#0d0887"
            ],
            [
             0.1111111111111111,
             "#46039f"
            ],
            [
             0.2222222222222222,
             "#7201a8"
            ],
            [
             0.3333333333333333,
             "#9c179e"
            ],
            [
             0.4444444444444444,
             "#bd3786"
            ],
            [
             0.5555555555555556,
             "#d8576b"
            ],
            [
             0.6666666666666666,
             "#ed7953"
            ],
            [
             0.7777777777777778,
             "#fb9f3a"
            ],
            [
             0.8888888888888888,
             "#fdca26"
            ],
            [
             1,
             "#f0f921"
            ]
           ],
           "sequentialminus": [
            [
             0,
             "#0d0887"
            ],
            [
             0.1111111111111111,
             "#46039f"
            ],
            [
             0.2222222222222222,
             "#7201a8"
            ],
            [
             0.3333333333333333,
             "#9c179e"
            ],
            [
             0.4444444444444444,
             "#bd3786"
            ],
            [
             0.5555555555555556,
             "#d8576b"
            ],
            [
             0.6666666666666666,
             "#ed7953"
            ],
            [
             0.7777777777777778,
             "#fb9f3a"
            ],
            [
             0.8888888888888888,
             "#fdca26"
            ],
            [
             1,
             "#f0f921"
            ]
           ]
          },
          "colorway": [
           "#636efa",
           "#EF553B",
           "#00cc96",
           "#ab63fa",
           "#FFA15A",
           "#19d3f3",
           "#FF6692",
           "#B6E880",
           "#FF97FF",
           "#FECB52"
          ],
          "font": {
           "color": "#2a3f5f"
          },
          "geo": {
           "bgcolor": "white",
           "lakecolor": "white",
           "landcolor": "#E5ECF6",
           "showlakes": true,
           "showland": true,
           "subunitcolor": "white"
          },
          "hoverlabel": {
           "align": "left"
          },
          "hovermode": "closest",
          "mapbox": {
           "style": "light"
          },
          "paper_bgcolor": "white",
          "plot_bgcolor": "#E5ECF6",
          "polar": {
           "angularaxis": {
            "gridcolor": "white",
            "linecolor": "white",
            "ticks": ""
           },
           "bgcolor": "#E5ECF6",
           "radialaxis": {
            "gridcolor": "white",
            "linecolor": "white",
            "ticks": ""
           }
          },
          "scene": {
           "xaxis": {
            "backgroundcolor": "#E5ECF6",
            "gridcolor": "white",
            "gridwidth": 2,
            "linecolor": "white",
            "showbackground": true,
            "ticks": "",
            "zerolinecolor": "white"
           },
           "yaxis": {
            "backgroundcolor": "#E5ECF6",
            "gridcolor": "white",
            "gridwidth": 2,
            "linecolor": "white",
            "showbackground": true,
            "ticks": "",
            "zerolinecolor": "white"
           },
           "zaxis": {
            "backgroundcolor": "#E5ECF6",
            "gridcolor": "white",
            "gridwidth": 2,
            "linecolor": "white",
            "showbackground": true,
            "ticks": "",
            "zerolinecolor": "white"
           }
          },
          "shapedefaults": {
           "line": {
            "color": "#2a3f5f"
           }
          },
          "ternary": {
           "aaxis": {
            "gridcolor": "white",
            "linecolor": "white",
            "ticks": ""
           },
           "baxis": {
            "gridcolor": "white",
            "linecolor": "white",
            "ticks": ""
           },
           "bgcolor": "#E5ECF6",
           "caxis": {
            "gridcolor": "white",
            "linecolor": "white",
            "ticks": ""
           }
          },
          "title": {
           "x": 0.05
          },
          "xaxis": {
           "automargin": true,
           "gridcolor": "white",
           "linecolor": "white",
           "ticks": "",
           "title": {
            "standoff": 15
           },
           "zerolinecolor": "white",
           "zerolinewidth": 2
          },
          "yaxis": {
           "automargin": true,
           "gridcolor": "white",
           "linecolor": "white",
           "ticks": "",
           "title": {
            "standoff": 15
           },
           "zerolinecolor": "white",
           "zerolinewidth": 2
          }
         }
        }
       }
      }
     },
     "metadata": {},
     "output_type": "display_data"
    }
   ],
   "source": [
    "#px.line(by_month,x='month',y='counts',title='Monthly Wise Issues Created',markers=True,color='month')\n",
    "\n",
    "#px.line(by_weak, x='weekly', y=\"counts\",title='Weekly Wise Issues Created',markers=True)\n",
    "\n",
    "fig = go.Figure(data=go.Scatter(x=by_month['month'].astype(dtype=str), \n",
    "                                y=by_month['counts'],\n",
    "                                marker_color='blue'))\n",
    "fig.show()"
   ]
  },
  {
   "cell_type": "code",
   "execution_count": 25,
   "metadata": {},
   "outputs": [
    {
     "data": {
      "text/html": [
       "<div>\n",
       "<style scoped>\n",
       "    .dataframe tbody tr th:only-of-type {\n",
       "        vertical-align: middle;\n",
       "    }\n",
       "\n",
       "    .dataframe tbody tr th {\n",
       "        vertical-align: top;\n",
       "    }\n",
       "\n",
       "    .dataframe thead th {\n",
       "        text-align: right;\n",
       "    }\n",
       "</style>\n",
       "<table border=\"1\" class=\"dataframe\">\n",
       "  <thead>\n",
       "    <tr style=\"text-align: right;\">\n",
       "      <th></th>\n",
       "      <th>weekly</th>\n",
       "      <th>counts</th>\n",
       "    </tr>\n",
       "  </thead>\n",
       "  <tbody>\n",
       "    <tr>\n",
       "      <th>0</th>\n",
       "      <td>Friday</td>\n",
       "      <td>444</td>\n",
       "    </tr>\n",
       "    <tr>\n",
       "      <th>1</th>\n",
       "      <td>Monday</td>\n",
       "      <td>275</td>\n",
       "    </tr>\n",
       "    <tr>\n",
       "      <th>2</th>\n",
       "      <td>Saturday</td>\n",
       "      <td>69</td>\n",
       "    </tr>\n",
       "    <tr>\n",
       "      <th>3</th>\n",
       "      <td>Sunday</td>\n",
       "      <td>138</td>\n",
       "    </tr>\n",
       "    <tr>\n",
       "      <th>4</th>\n",
       "      <td>Thursday</td>\n",
       "      <td>79</td>\n",
       "    </tr>\n",
       "    <tr>\n",
       "      <th>5</th>\n",
       "      <td>Tuesday</td>\n",
       "      <td>300</td>\n",
       "    </tr>\n",
       "    <tr>\n",
       "      <th>6</th>\n",
       "      <td>Wednesday</td>\n",
       "      <td>105</td>\n",
       "    </tr>\n",
       "  </tbody>\n",
       "</table>\n",
       "</div>"
      ],
      "text/plain": [
       "      weekly  counts\n",
       "0     Friday     444\n",
       "1     Monday     275\n",
       "2   Saturday      69\n",
       "3     Sunday     138\n",
       "4   Thursday      79\n",
       "5    Tuesday     300\n",
       "6  Wednesday     105"
      ]
     },
     "execution_count": 25,
     "metadata": {},
     "output_type": "execute_result"
    }
   ],
   "source": [
    "# Weekly wise\n",
    "by_weak = pd.to_datetime(date['Issues_created']).dt.strftime('%A').value_counts().sort_index()\n",
    "#by_weak.index = pd.PeriodIndex(by_weak.index)\n",
    "by_weak = by_weak.rename_axis('weekly').reset_index(name='counts')\n",
    "by_weak"
   ]
  },
  {
   "cell_type": "code",
   "execution_count": 26,
   "metadata": {},
   "outputs": [
    {
     "data": {
      "application/vnd.plotly.v1+json": {
       "config": {
        "plotlyServerURL": "https://plot.ly"
       },
       "data": [
        {
         "marker": {
          "color": "black"
         },
         "type": "scatter",
         "x": [
          "Friday",
          "Monday",
          "Saturday",
          "Sunday",
          "Thursday",
          "Tuesday",
          "Wednesday"
         ],
         "y": [
          444,
          275,
          69,
          138,
          79,
          300,
          105
         ]
        }
       ],
       "layout": {
        "template": {
         "data": {
          "bar": [
           {
            "error_x": {
             "color": "#2a3f5f"
            },
            "error_y": {
             "color": "#2a3f5f"
            },
            "marker": {
             "line": {
              "color": "#E5ECF6",
              "width": 0.5
             },
             "pattern": {
              "fillmode": "overlay",
              "size": 10,
              "solidity": 0.2
             }
            },
            "type": "bar"
           }
          ],
          "barpolar": [
           {
            "marker": {
             "line": {
              "color": "#E5ECF6",
              "width": 0.5
             },
             "pattern": {
              "fillmode": "overlay",
              "size": 10,
              "solidity": 0.2
             }
            },
            "type": "barpolar"
           }
          ],
          "carpet": [
           {
            "aaxis": {
             "endlinecolor": "#2a3f5f",
             "gridcolor": "white",
             "linecolor": "white",
             "minorgridcolor": "white",
             "startlinecolor": "#2a3f5f"
            },
            "baxis": {
             "endlinecolor": "#2a3f5f",
             "gridcolor": "white",
             "linecolor": "white",
             "minorgridcolor": "white",
             "startlinecolor": "#2a3f5f"
            },
            "type": "carpet"
           }
          ],
          "choropleth": [
           {
            "colorbar": {
             "outlinewidth": 0,
             "ticks": ""
            },
            "type": "choropleth"
           }
          ],
          "contour": [
           {
            "colorbar": {
             "outlinewidth": 0,
             "ticks": ""
            },
            "colorscale": [
             [
              0,
              "#0d0887"
             ],
             [
              0.1111111111111111,
              "#46039f"
             ],
             [
              0.2222222222222222,
              "#7201a8"
             ],
             [
              0.3333333333333333,
              "#9c179e"
             ],
             [
              0.4444444444444444,
              "#bd3786"
             ],
             [
              0.5555555555555556,
              "#d8576b"
             ],
             [
              0.6666666666666666,
              "#ed7953"
             ],
             [
              0.7777777777777778,
              "#fb9f3a"
             ],
             [
              0.8888888888888888,
              "#fdca26"
             ],
             [
              1,
              "#f0f921"
             ]
            ],
            "type": "contour"
           }
          ],
          "contourcarpet": [
           {
            "colorbar": {
             "outlinewidth": 0,
             "ticks": ""
            },
            "type": "contourcarpet"
           }
          ],
          "heatmap": [
           {
            "colorbar": {
             "outlinewidth": 0,
             "ticks": ""
            },
            "colorscale": [
             [
              0,
              "#0d0887"
             ],
             [
              0.1111111111111111,
              "#46039f"
             ],
             [
              0.2222222222222222,
              "#7201a8"
             ],
             [
              0.3333333333333333,
              "#9c179e"
             ],
             [
              0.4444444444444444,
              "#bd3786"
             ],
             [
              0.5555555555555556,
              "#d8576b"
             ],
             [
              0.6666666666666666,
              "#ed7953"
             ],
             [
              0.7777777777777778,
              "#fb9f3a"
             ],
             [
              0.8888888888888888,
              "#fdca26"
             ],
             [
              1,
              "#f0f921"
             ]
            ],
            "type": "heatmap"
           }
          ],
          "heatmapgl": [
           {
            "colorbar": {
             "outlinewidth": 0,
             "ticks": ""
            },
            "colorscale": [
             [
              0,
              "#0d0887"
             ],
             [
              0.1111111111111111,
              "#46039f"
             ],
             [
              0.2222222222222222,
              "#7201a8"
             ],
             [
              0.3333333333333333,
              "#9c179e"
             ],
             [
              0.4444444444444444,
              "#bd3786"
             ],
             [
              0.5555555555555556,
              "#d8576b"
             ],
             [
              0.6666666666666666,
              "#ed7953"
             ],
             [
              0.7777777777777778,
              "#fb9f3a"
             ],
             [
              0.8888888888888888,
              "#fdca26"
             ],
             [
              1,
              "#f0f921"
             ]
            ],
            "type": "heatmapgl"
           }
          ],
          "histogram": [
           {
            "marker": {
             "pattern": {
              "fillmode": "overlay",
              "size": 10,
              "solidity": 0.2
             }
            },
            "type": "histogram"
           }
          ],
          "histogram2d": [
           {
            "colorbar": {
             "outlinewidth": 0,
             "ticks": ""
            },
            "colorscale": [
             [
              0,
              "#0d0887"
             ],
             [
              0.1111111111111111,
              "#46039f"
             ],
             [
              0.2222222222222222,
              "#7201a8"
             ],
             [
              0.3333333333333333,
              "#9c179e"
             ],
             [
              0.4444444444444444,
              "#bd3786"
             ],
             [
              0.5555555555555556,
              "#d8576b"
             ],
             [
              0.6666666666666666,
              "#ed7953"
             ],
             [
              0.7777777777777778,
              "#fb9f3a"
             ],
             [
              0.8888888888888888,
              "#fdca26"
             ],
             [
              1,
              "#f0f921"
             ]
            ],
            "type": "histogram2d"
           }
          ],
          "histogram2dcontour": [
           {
            "colorbar": {
             "outlinewidth": 0,
             "ticks": ""
            },
            "colorscale": [
             [
              0,
              "#0d0887"
             ],
             [
              0.1111111111111111,
              "#46039f"
             ],
             [
              0.2222222222222222,
              "#7201a8"
             ],
             [
              0.3333333333333333,
              "#9c179e"
             ],
             [
              0.4444444444444444,
              "#bd3786"
             ],
             [
              0.5555555555555556,
              "#d8576b"
             ],
             [
              0.6666666666666666,
              "#ed7953"
             ],
             [
              0.7777777777777778,
              "#fb9f3a"
             ],
             [
              0.8888888888888888,
              "#fdca26"
             ],
             [
              1,
              "#f0f921"
             ]
            ],
            "type": "histogram2dcontour"
           }
          ],
          "mesh3d": [
           {
            "colorbar": {
             "outlinewidth": 0,
             "ticks": ""
            },
            "type": "mesh3d"
           }
          ],
          "parcoords": [
           {
            "line": {
             "colorbar": {
              "outlinewidth": 0,
              "ticks": ""
             }
            },
            "type": "parcoords"
           }
          ],
          "pie": [
           {
            "automargin": true,
            "type": "pie"
           }
          ],
          "scatter": [
           {
            "fillpattern": {
             "fillmode": "overlay",
             "size": 10,
             "solidity": 0.2
            },
            "type": "scatter"
           }
          ],
          "scatter3d": [
           {
            "line": {
             "colorbar": {
              "outlinewidth": 0,
              "ticks": ""
             }
            },
            "marker": {
             "colorbar": {
              "outlinewidth": 0,
              "ticks": ""
             }
            },
            "type": "scatter3d"
           }
          ],
          "scattercarpet": [
           {
            "marker": {
             "colorbar": {
              "outlinewidth": 0,
              "ticks": ""
             }
            },
            "type": "scattercarpet"
           }
          ],
          "scattergeo": [
           {
            "marker": {
             "colorbar": {
              "outlinewidth": 0,
              "ticks": ""
             }
            },
            "type": "scattergeo"
           }
          ],
          "scattergl": [
           {
            "marker": {
             "colorbar": {
              "outlinewidth": 0,
              "ticks": ""
             }
            },
            "type": "scattergl"
           }
          ],
          "scattermapbox": [
           {
            "marker": {
             "colorbar": {
              "outlinewidth": 0,
              "ticks": ""
             }
            },
            "type": "scattermapbox"
           }
          ],
          "scatterpolar": [
           {
            "marker": {
             "colorbar": {
              "outlinewidth": 0,
              "ticks": ""
             }
            },
            "type": "scatterpolar"
           }
          ],
          "scatterpolargl": [
           {
            "marker": {
             "colorbar": {
              "outlinewidth": 0,
              "ticks": ""
             }
            },
            "type": "scatterpolargl"
           }
          ],
          "scatterternary": [
           {
            "marker": {
             "colorbar": {
              "outlinewidth": 0,
              "ticks": ""
             }
            },
            "type": "scatterternary"
           }
          ],
          "surface": [
           {
            "colorbar": {
             "outlinewidth": 0,
             "ticks": ""
            },
            "colorscale": [
             [
              0,
              "#0d0887"
             ],
             [
              0.1111111111111111,
              "#46039f"
             ],
             [
              0.2222222222222222,
              "#7201a8"
             ],
             [
              0.3333333333333333,
              "#9c179e"
             ],
             [
              0.4444444444444444,
              "#bd3786"
             ],
             [
              0.5555555555555556,
              "#d8576b"
             ],
             [
              0.6666666666666666,
              "#ed7953"
             ],
             [
              0.7777777777777778,
              "#fb9f3a"
             ],
             [
              0.8888888888888888,
              "#fdca26"
             ],
             [
              1,
              "#f0f921"
             ]
            ],
            "type": "surface"
           }
          ],
          "table": [
           {
            "cells": {
             "fill": {
              "color": "#EBF0F8"
             },
             "line": {
              "color": "white"
             }
            },
            "header": {
             "fill": {
              "color": "#C8D4E3"
             },
             "line": {
              "color": "white"
             }
            },
            "type": "table"
           }
          ]
         },
         "layout": {
          "annotationdefaults": {
           "arrowcolor": "#2a3f5f",
           "arrowhead": 0,
           "arrowwidth": 1
          },
          "autotypenumbers": "strict",
          "coloraxis": {
           "colorbar": {
            "outlinewidth": 0,
            "ticks": ""
           }
          },
          "colorscale": {
           "diverging": [
            [
             0,
             "#8e0152"
            ],
            [
             0.1,
             "#c51b7d"
            ],
            [
             0.2,
             "#de77ae"
            ],
            [
             0.3,
             "#f1b6da"
            ],
            [
             0.4,
             "#fde0ef"
            ],
            [
             0.5,
             "#f7f7f7"
            ],
            [
             0.6,
             "#e6f5d0"
            ],
            [
             0.7,
             "#b8e186"
            ],
            [
             0.8,
             "#7fbc41"
            ],
            [
             0.9,
             "#4d9221"
            ],
            [
             1,
             "#276419"
            ]
           ],
           "sequential": [
            [
             0,
             "#0d0887"
            ],
            [
             0.1111111111111111,
             "#46039f"
            ],
            [
             0.2222222222222222,
             "#7201a8"
            ],
            [
             0.3333333333333333,
             "#9c179e"
            ],
            [
             0.4444444444444444,
             "#bd3786"
            ],
            [
             0.5555555555555556,
             "#d8576b"
            ],
            [
             0.6666666666666666,
             "#ed7953"
            ],
            [
             0.7777777777777778,
             "#fb9f3a"
            ],
            [
             0.8888888888888888,
             "#fdca26"
            ],
            [
             1,
             "#f0f921"
            ]
           ],
           "sequentialminus": [
            [
             0,
             "#0d0887"
            ],
            [
             0.1111111111111111,
             "#46039f"
            ],
            [
             0.2222222222222222,
             "#7201a8"
            ],
            [
             0.3333333333333333,
             "#9c179e"
            ],
            [
             0.4444444444444444,
             "#bd3786"
            ],
            [
             0.5555555555555556,
             "#d8576b"
            ],
            [
             0.6666666666666666,
             "#ed7953"
            ],
            [
             0.7777777777777778,
             "#fb9f3a"
            ],
            [
             0.8888888888888888,
             "#fdca26"
            ],
            [
             1,
             "#f0f921"
            ]
           ]
          },
          "colorway": [
           "#636efa",
           "#EF553B",
           "#00cc96",
           "#ab63fa",
           "#FFA15A",
           "#19d3f3",
           "#FF6692",
           "#B6E880",
           "#FF97FF",
           "#FECB52"
          ],
          "font": {
           "color": "#2a3f5f"
          },
          "geo": {
           "bgcolor": "white",
           "lakecolor": "white",
           "landcolor": "#E5ECF6",
           "showlakes": true,
           "showland": true,
           "subunitcolor": "white"
          },
          "hoverlabel": {
           "align": "left"
          },
          "hovermode": "closest",
          "mapbox": {
           "style": "light"
          },
          "paper_bgcolor": "white",
          "plot_bgcolor": "#E5ECF6",
          "polar": {
           "angularaxis": {
            "gridcolor": "white",
            "linecolor": "white",
            "ticks": ""
           },
           "bgcolor": "#E5ECF6",
           "radialaxis": {
            "gridcolor": "white",
            "linecolor": "white",
            "ticks": ""
           }
          },
          "scene": {
           "xaxis": {
            "backgroundcolor": "#E5ECF6",
            "gridcolor": "white",
            "gridwidth": 2,
            "linecolor": "white",
            "showbackground": true,
            "ticks": "",
            "zerolinecolor": "white"
           },
           "yaxis": {
            "backgroundcolor": "#E5ECF6",
            "gridcolor": "white",
            "gridwidth": 2,
            "linecolor": "white",
            "showbackground": true,
            "ticks": "",
            "zerolinecolor": "white"
           },
           "zaxis": {
            "backgroundcolor": "#E5ECF6",
            "gridcolor": "white",
            "gridwidth": 2,
            "linecolor": "white",
            "showbackground": true,
            "ticks": "",
            "zerolinecolor": "white"
           }
          },
          "shapedefaults": {
           "line": {
            "color": "#2a3f5f"
           }
          },
          "ternary": {
           "aaxis": {
            "gridcolor": "white",
            "linecolor": "white",
            "ticks": ""
           },
           "baxis": {
            "gridcolor": "white",
            "linecolor": "white",
            "ticks": ""
           },
           "bgcolor": "#E5ECF6",
           "caxis": {
            "gridcolor": "white",
            "linecolor": "white",
            "ticks": ""
           }
          },
          "title": {
           "x": 0.05
          },
          "xaxis": {
           "automargin": true,
           "gridcolor": "white",
           "linecolor": "white",
           "ticks": "",
           "title": {
            "standoff": 15
           },
           "zerolinecolor": "white",
           "zerolinewidth": 2
          },
          "yaxis": {
           "automargin": true,
           "gridcolor": "white",
           "linecolor": "white",
           "ticks": "",
           "title": {
            "standoff": 15
           },
           "zerolinecolor": "white",
           "zerolinewidth": 2
          }
         }
        }
       }
      }
     },
     "metadata": {},
     "output_type": "display_data"
    }
   ],
   "source": [
    "#px.line(by_weak, x='weekly', y=\"counts\",title='Weekly Wise Issues Created',markers=True)\n",
    "\n",
    "fig = go.Figure(data=go.Scatter(x=by_weak['weekly'].astype(dtype=str), \n",
    "                                y=by_weak['counts'],\n",
    "                                marker_color='black'))\n",
    "fig.show()"
   ]
  },
  {
   "cell_type": "code",
   "execution_count": 27,
   "metadata": {},
   "outputs": [
    {
     "data": {
      "text/html": [
       "<div>\n",
       "<style scoped>\n",
       "    .dataframe tbody tr th:only-of-type {\n",
       "        vertical-align: middle;\n",
       "    }\n",
       "\n",
       "    .dataframe tbody tr th {\n",
       "        vertical-align: top;\n",
       "    }\n",
       "\n",
       "    .dataframe thead th {\n",
       "        text-align: right;\n",
       "    }\n",
       "</style>\n",
       "<table border=\"1\" class=\"dataframe\">\n",
       "  <thead>\n",
       "    <tr style=\"text-align: right;\">\n",
       "      <th></th>\n",
       "      <th>Days</th>\n",
       "      <th>counts</th>\n",
       "    </tr>\n",
       "  </thead>\n",
       "  <tbody>\n",
       "    <tr>\n",
       "      <th>0</th>\n",
       "      <td>01</td>\n",
       "      <td>105</td>\n",
       "    </tr>\n",
       "    <tr>\n",
       "      <th>1</th>\n",
       "      <td>02</td>\n",
       "      <td>35</td>\n",
       "    </tr>\n",
       "    <tr>\n",
       "      <th>2</th>\n",
       "      <td>03</td>\n",
       "      <td>5</td>\n",
       "    </tr>\n",
       "    <tr>\n",
       "      <th>3</th>\n",
       "      <td>04</td>\n",
       "      <td>158</td>\n",
       "    </tr>\n",
       "    <tr>\n",
       "      <th>4</th>\n",
       "      <td>05</td>\n",
       "      <td>35</td>\n",
       "    </tr>\n",
       "  </tbody>\n",
       "</table>\n",
       "</div>"
      ],
      "text/plain": [
       "  Days  counts\n",
       "0   01     105\n",
       "1   02      35\n",
       "2   03       5\n",
       "3   04     158\n",
       "4   05      35"
      ]
     },
     "execution_count": 27,
     "metadata": {},
     "output_type": "execute_result"
    }
   ],
   "source": [
    "# Day wise\n",
    "by_day = pd.to_datetime(date['Issues_created']).dt.strftime('%d').value_counts().sort_index()\n",
    "#by_day.index = pd.PeriodIndex(by_day.index)\n",
    "by_day = by_day.rename_axis('Days').reset_index(name='counts')\n",
    "by_day.head()"
   ]
  },
  {
   "cell_type": "code",
   "execution_count": 28,
   "metadata": {},
   "outputs": [
    {
     "data": {
      "application/vnd.plotly.v1+json": {
       "config": {
        "plotlyServerURL": "https://plot.ly"
       },
       "data": [
        {
         "hovertemplate": "Days=%{x}<br>counts=%{y}<extra></extra>",
         "legendgroup": "",
         "line": {
          "color": "#636efa",
          "dash": "solid"
         },
         "marker": {
          "symbol": "circle"
         },
         "mode": "lines",
         "name": "",
         "orientation": "v",
         "showlegend": false,
         "type": "scatter",
         "x": [
          "01",
          "02",
          "03",
          "04",
          "05",
          "06",
          "07",
          "08",
          "10",
          "11",
          "12",
          "13",
          "14",
          "15",
          "16",
          "18",
          "19",
          "20",
          "21",
          "22",
          "23",
          "25",
          "26",
          "27",
          "28",
          "29",
          "30",
          "31"
         ],
         "xaxis": "x",
         "y": [
          105,
          35,
          5,
          158,
          35,
          10,
          23,
          342,
          89,
          5,
          105,
          5,
          23,
          41,
          59,
          23,
          18,
          43,
          10,
          18,
          25,
          92,
          10,
          24,
          10,
          57,
          22,
          18
         ],
         "yaxis": "y"
        }
       ],
       "layout": {
        "legend": {
         "tracegroupgap": 0
        },
        "margin": {
         "t": 60
        },
        "template": {
         "data": {
          "bar": [
           {
            "error_x": {
             "color": "#2a3f5f"
            },
            "error_y": {
             "color": "#2a3f5f"
            },
            "marker": {
             "line": {
              "color": "#E5ECF6",
              "width": 0.5
             },
             "pattern": {
              "fillmode": "overlay",
              "size": 10,
              "solidity": 0.2
             }
            },
            "type": "bar"
           }
          ],
          "barpolar": [
           {
            "marker": {
             "line": {
              "color": "#E5ECF6",
              "width": 0.5
             },
             "pattern": {
              "fillmode": "overlay",
              "size": 10,
              "solidity": 0.2
             }
            },
            "type": "barpolar"
           }
          ],
          "carpet": [
           {
            "aaxis": {
             "endlinecolor": "#2a3f5f",
             "gridcolor": "white",
             "linecolor": "white",
             "minorgridcolor": "white",
             "startlinecolor": "#2a3f5f"
            },
            "baxis": {
             "endlinecolor": "#2a3f5f",
             "gridcolor": "white",
             "linecolor": "white",
             "minorgridcolor": "white",
             "startlinecolor": "#2a3f5f"
            },
            "type": "carpet"
           }
          ],
          "choropleth": [
           {
            "colorbar": {
             "outlinewidth": 0,
             "ticks": ""
            },
            "type": "choropleth"
           }
          ],
          "contour": [
           {
            "colorbar": {
             "outlinewidth": 0,
             "ticks": ""
            },
            "colorscale": [
             [
              0,
              "#0d0887"
             ],
             [
              0.1111111111111111,
              "#46039f"
             ],
             [
              0.2222222222222222,
              "#7201a8"
             ],
             [
              0.3333333333333333,
              "#9c179e"
             ],
             [
              0.4444444444444444,
              "#bd3786"
             ],
             [
              0.5555555555555556,
              "#d8576b"
             ],
             [
              0.6666666666666666,
              "#ed7953"
             ],
             [
              0.7777777777777778,
              "#fb9f3a"
             ],
             [
              0.8888888888888888,
              "#fdca26"
             ],
             [
              1,
              "#f0f921"
             ]
            ],
            "type": "contour"
           }
          ],
          "contourcarpet": [
           {
            "colorbar": {
             "outlinewidth": 0,
             "ticks": ""
            },
            "type": "contourcarpet"
           }
          ],
          "heatmap": [
           {
            "colorbar": {
             "outlinewidth": 0,
             "ticks": ""
            },
            "colorscale": [
             [
              0,
              "#0d0887"
             ],
             [
              0.1111111111111111,
              "#46039f"
             ],
             [
              0.2222222222222222,
              "#7201a8"
             ],
             [
              0.3333333333333333,
              "#9c179e"
             ],
             [
              0.4444444444444444,
              "#bd3786"
             ],
             [
              0.5555555555555556,
              "#d8576b"
             ],
             [
              0.6666666666666666,
              "#ed7953"
             ],
             [
              0.7777777777777778,
              "#fb9f3a"
             ],
             [
              0.8888888888888888,
              "#fdca26"
             ],
             [
              1,
              "#f0f921"
             ]
            ],
            "type": "heatmap"
           }
          ],
          "heatmapgl": [
           {
            "colorbar": {
             "outlinewidth": 0,
             "ticks": ""
            },
            "colorscale": [
             [
              0,
              "#0d0887"
             ],
             [
              0.1111111111111111,
              "#46039f"
             ],
             [
              0.2222222222222222,
              "#7201a8"
             ],
             [
              0.3333333333333333,
              "#9c179e"
             ],
             [
              0.4444444444444444,
              "#bd3786"
             ],
             [
              0.5555555555555556,
              "#d8576b"
             ],
             [
              0.6666666666666666,
              "#ed7953"
             ],
             [
              0.7777777777777778,
              "#fb9f3a"
             ],
             [
              0.8888888888888888,
              "#fdca26"
             ],
             [
              1,
              "#f0f921"
             ]
            ],
            "type": "heatmapgl"
           }
          ],
          "histogram": [
           {
            "marker": {
             "pattern": {
              "fillmode": "overlay",
              "size": 10,
              "solidity": 0.2
             }
            },
            "type": "histogram"
           }
          ],
          "histogram2d": [
           {
            "colorbar": {
             "outlinewidth": 0,
             "ticks": ""
            },
            "colorscale": [
             [
              0,
              "#0d0887"
             ],
             [
              0.1111111111111111,
              "#46039f"
             ],
             [
              0.2222222222222222,
              "#7201a8"
             ],
             [
              0.3333333333333333,
              "#9c179e"
             ],
             [
              0.4444444444444444,
              "#bd3786"
             ],
             [
              0.5555555555555556,
              "#d8576b"
             ],
             [
              0.6666666666666666,
              "#ed7953"
             ],
             [
              0.7777777777777778,
              "#fb9f3a"
             ],
             [
              0.8888888888888888,
              "#fdca26"
             ],
             [
              1,
              "#f0f921"
             ]
            ],
            "type": "histogram2d"
           }
          ],
          "histogram2dcontour": [
           {
            "colorbar": {
             "outlinewidth": 0,
             "ticks": ""
            },
            "colorscale": [
             [
              0,
              "#0d0887"
             ],
             [
              0.1111111111111111,
              "#46039f"
             ],
             [
              0.2222222222222222,
              "#7201a8"
             ],
             [
              0.3333333333333333,
              "#9c179e"
             ],
             [
              0.4444444444444444,
              "#bd3786"
             ],
             [
              0.5555555555555556,
              "#d8576b"
             ],
             [
              0.6666666666666666,
              "#ed7953"
             ],
             [
              0.7777777777777778,
              "#fb9f3a"
             ],
             [
              0.8888888888888888,
              "#fdca26"
             ],
             [
              1,
              "#f0f921"
             ]
            ],
            "type": "histogram2dcontour"
           }
          ],
          "mesh3d": [
           {
            "colorbar": {
             "outlinewidth": 0,
             "ticks": ""
            },
            "type": "mesh3d"
           }
          ],
          "parcoords": [
           {
            "line": {
             "colorbar": {
              "outlinewidth": 0,
              "ticks": ""
             }
            },
            "type": "parcoords"
           }
          ],
          "pie": [
           {
            "automargin": true,
            "type": "pie"
           }
          ],
          "scatter": [
           {
            "fillpattern": {
             "fillmode": "overlay",
             "size": 10,
             "solidity": 0.2
            },
            "type": "scatter"
           }
          ],
          "scatter3d": [
           {
            "line": {
             "colorbar": {
              "outlinewidth": 0,
              "ticks": ""
             }
            },
            "marker": {
             "colorbar": {
              "outlinewidth": 0,
              "ticks": ""
             }
            },
            "type": "scatter3d"
           }
          ],
          "scattercarpet": [
           {
            "marker": {
             "colorbar": {
              "outlinewidth": 0,
              "ticks": ""
             }
            },
            "type": "scattercarpet"
           }
          ],
          "scattergeo": [
           {
            "marker": {
             "colorbar": {
              "outlinewidth": 0,
              "ticks": ""
             }
            },
            "type": "scattergeo"
           }
          ],
          "scattergl": [
           {
            "marker": {
             "colorbar": {
              "outlinewidth": 0,
              "ticks": ""
             }
            },
            "type": "scattergl"
           }
          ],
          "scattermapbox": [
           {
            "marker": {
             "colorbar": {
              "outlinewidth": 0,
              "ticks": ""
             }
            },
            "type": "scattermapbox"
           }
          ],
          "scatterpolar": [
           {
            "marker": {
             "colorbar": {
              "outlinewidth": 0,
              "ticks": ""
             }
            },
            "type": "scatterpolar"
           }
          ],
          "scatterpolargl": [
           {
            "marker": {
             "colorbar": {
              "outlinewidth": 0,
              "ticks": ""
             }
            },
            "type": "scatterpolargl"
           }
          ],
          "scatterternary": [
           {
            "marker": {
             "colorbar": {
              "outlinewidth": 0,
              "ticks": ""
             }
            },
            "type": "scatterternary"
           }
          ],
          "surface": [
           {
            "colorbar": {
             "outlinewidth": 0,
             "ticks": ""
            },
            "colorscale": [
             [
              0,
              "#0d0887"
             ],
             [
              0.1111111111111111,
              "#46039f"
             ],
             [
              0.2222222222222222,
              "#7201a8"
             ],
             [
              0.3333333333333333,
              "#9c179e"
             ],
             [
              0.4444444444444444,
              "#bd3786"
             ],
             [
              0.5555555555555556,
              "#d8576b"
             ],
             [
              0.6666666666666666,
              "#ed7953"
             ],
             [
              0.7777777777777778,
              "#fb9f3a"
             ],
             [
              0.8888888888888888,
              "#fdca26"
             ],
             [
              1,
              "#f0f921"
             ]
            ],
            "type": "surface"
           }
          ],
          "table": [
           {
            "cells": {
             "fill": {
              "color": "#EBF0F8"
             },
             "line": {
              "color": "white"
             }
            },
            "header": {
             "fill": {
              "color": "#C8D4E3"
             },
             "line": {
              "color": "white"
             }
            },
            "type": "table"
           }
          ]
         },
         "layout": {
          "annotationdefaults": {
           "arrowcolor": "#2a3f5f",
           "arrowhead": 0,
           "arrowwidth": 1
          },
          "autotypenumbers": "strict",
          "coloraxis": {
           "colorbar": {
            "outlinewidth": 0,
            "ticks": ""
           }
          },
          "colorscale": {
           "diverging": [
            [
             0,
             "#8e0152"
            ],
            [
             0.1,
             "#c51b7d"
            ],
            [
             0.2,
             "#de77ae"
            ],
            [
             0.3,
             "#f1b6da"
            ],
            [
             0.4,
             "#fde0ef"
            ],
            [
             0.5,
             "#f7f7f7"
            ],
            [
             0.6,
             "#e6f5d0"
            ],
            [
             0.7,
             "#b8e186"
            ],
            [
             0.8,
             "#7fbc41"
            ],
            [
             0.9,
             "#4d9221"
            ],
            [
             1,
             "#276419"
            ]
           ],
           "sequential": [
            [
             0,
             "#0d0887"
            ],
            [
             0.1111111111111111,
             "#46039f"
            ],
            [
             0.2222222222222222,
             "#7201a8"
            ],
            [
             0.3333333333333333,
             "#9c179e"
            ],
            [
             0.4444444444444444,
             "#bd3786"
            ],
            [
             0.5555555555555556,
             "#d8576b"
            ],
            [
             0.6666666666666666,
             "#ed7953"
            ],
            [
             0.7777777777777778,
             "#fb9f3a"
            ],
            [
             0.8888888888888888,
             "#fdca26"
            ],
            [
             1,
             "#f0f921"
            ]
           ],
           "sequentialminus": [
            [
             0,
             "#0d0887"
            ],
            [
             0.1111111111111111,
             "#46039f"
            ],
            [
             0.2222222222222222,
             "#7201a8"
            ],
            [
             0.3333333333333333,
             "#9c179e"
            ],
            [
             0.4444444444444444,
             "#bd3786"
            ],
            [
             0.5555555555555556,
             "#d8576b"
            ],
            [
             0.6666666666666666,
             "#ed7953"
            ],
            [
             0.7777777777777778,
             "#fb9f3a"
            ],
            [
             0.8888888888888888,
             "#fdca26"
            ],
            [
             1,
             "#f0f921"
            ]
           ]
          },
          "colorway": [
           "#636efa",
           "#EF553B",
           "#00cc96",
           "#ab63fa",
           "#FFA15A",
           "#19d3f3",
           "#FF6692",
           "#B6E880",
           "#FF97FF",
           "#FECB52"
          ],
          "font": {
           "color": "#2a3f5f"
          },
          "geo": {
           "bgcolor": "white",
           "lakecolor": "white",
           "landcolor": "#E5ECF6",
           "showlakes": true,
           "showland": true,
           "subunitcolor": "white"
          },
          "hoverlabel": {
           "align": "left"
          },
          "hovermode": "closest",
          "mapbox": {
           "style": "light"
          },
          "paper_bgcolor": "white",
          "plot_bgcolor": "#E5ECF6",
          "polar": {
           "angularaxis": {
            "gridcolor": "white",
            "linecolor": "white",
            "ticks": ""
           },
           "bgcolor": "#E5ECF6",
           "radialaxis": {
            "gridcolor": "white",
            "linecolor": "white",
            "ticks": ""
           }
          },
          "scene": {
           "xaxis": {
            "backgroundcolor": "#E5ECF6",
            "gridcolor": "white",
            "gridwidth": 2,
            "linecolor": "white",
            "showbackground": true,
            "ticks": "",
            "zerolinecolor": "white"
           },
           "yaxis": {
            "backgroundcolor": "#E5ECF6",
            "gridcolor": "white",
            "gridwidth": 2,
            "linecolor": "white",
            "showbackground": true,
            "ticks": "",
            "zerolinecolor": "white"
           },
           "zaxis": {
            "backgroundcolor": "#E5ECF6",
            "gridcolor": "white",
            "gridwidth": 2,
            "linecolor": "white",
            "showbackground": true,
            "ticks": "",
            "zerolinecolor": "white"
           }
          },
          "shapedefaults": {
           "line": {
            "color": "#2a3f5f"
           }
          },
          "ternary": {
           "aaxis": {
            "gridcolor": "white",
            "linecolor": "white",
            "ticks": ""
           },
           "baxis": {
            "gridcolor": "white",
            "linecolor": "white",
            "ticks": ""
           },
           "bgcolor": "#E5ECF6",
           "caxis": {
            "gridcolor": "white",
            "linecolor": "white",
            "ticks": ""
           }
          },
          "title": {
           "x": 0.05
          },
          "xaxis": {
           "automargin": true,
           "gridcolor": "white",
           "linecolor": "white",
           "ticks": "",
           "title": {
            "standoff": 15
           },
           "zerolinecolor": "white",
           "zerolinewidth": 2
          },
          "yaxis": {
           "automargin": true,
           "gridcolor": "white",
           "linecolor": "white",
           "ticks": "",
           "title": {
            "standoff": 15
           },
           "zerolinecolor": "white",
           "zerolinewidth": 2
          }
         }
        },
        "xaxis": {
         "anchor": "y",
         "domain": [
          0,
          1
         ],
         "title": {
          "text": "Days"
         }
        },
        "yaxis": {
         "anchor": "x",
         "domain": [
          0,
          1
         ],
         "title": {
          "text": "counts"
         }
        }
       }
      }
     },
     "metadata": {},
     "output_type": "display_data"
    }
   ],
   "source": [
    "px.line(by_day,x='Days',y='counts')"
   ]
  },
  {
   "cell_type": "code",
   "execution_count": 29,
   "metadata": {},
   "outputs": [
    {
     "data": {
      "text/html": [
       "<div>\n",
       "<style scoped>\n",
       "    .dataframe tbody tr th:only-of-type {\n",
       "        vertical-align: middle;\n",
       "    }\n",
       "\n",
       "    .dataframe tbody tr th {\n",
       "        vertical-align: top;\n",
       "    }\n",
       "\n",
       "    .dataframe thead th {\n",
       "        text-align: right;\n",
       "    }\n",
       "</style>\n",
       "<table border=\"1\" class=\"dataframe\">\n",
       "  <thead>\n",
       "    <tr style=\"text-align: right;\">\n",
       "      <th></th>\n",
       "      <th>Issues_created</th>\n",
       "      <th>counts</th>\n",
       "    </tr>\n",
       "  </thead>\n",
       "  <tbody>\n",
       "    <tr>\n",
       "      <th>0</th>\n",
       "      <td>2022-03-01 08:47:28</td>\n",
       "      <td>18</td>\n",
       "    </tr>\n",
       "    <tr>\n",
       "      <th>1</th>\n",
       "      <td>2022-03-01 11:36:17</td>\n",
       "      <td>5</td>\n",
       "    </tr>\n",
       "    <tr>\n",
       "      <th>2</th>\n",
       "      <td>2022-03-01 12:47:42</td>\n",
       "      <td>1</td>\n",
       "    </tr>\n",
       "    <tr>\n",
       "      <th>3</th>\n",
       "      <td>2022-03-01 12:47:43</td>\n",
       "      <td>17</td>\n",
       "    </tr>\n",
       "    <tr>\n",
       "      <th>4</th>\n",
       "      <td>2022-03-01 16:42:43</td>\n",
       "      <td>18</td>\n",
       "    </tr>\n",
       "    <tr>\n",
       "      <th>...</th>\n",
       "      <td>...</td>\n",
       "      <td>...</td>\n",
       "    </tr>\n",
       "    <tr>\n",
       "      <th>150</th>\n",
       "      <td>2022-05-02 16:44:41</td>\n",
       "      <td>4</td>\n",
       "    </tr>\n",
       "    <tr>\n",
       "      <th>151</th>\n",
       "      <td>2022-05-02 17:15:49</td>\n",
       "      <td>5</td>\n",
       "    </tr>\n",
       "    <tr>\n",
       "      <th>152</th>\n",
       "      <td>2022-05-04 09:58:21</td>\n",
       "      <td>5</td>\n",
       "    </tr>\n",
       "    <tr>\n",
       "      <th>153</th>\n",
       "      <td>2022-05-05 14:15:34</td>\n",
       "      <td>5</td>\n",
       "    </tr>\n",
       "    <tr>\n",
       "      <th>154</th>\n",
       "      <td>2022-06-08 07:17:44</td>\n",
       "      <td>15</td>\n",
       "    </tr>\n",
       "  </tbody>\n",
       "</table>\n",
       "<p>155 rows × 2 columns</p>\n",
       "</div>"
      ],
      "text/plain": [
       "         Issues_created  counts\n",
       "0   2022-03-01 08:47:28      18\n",
       "1   2022-03-01 11:36:17       5\n",
       "2   2022-03-01 12:47:42       1\n",
       "3   2022-03-01 12:47:43      17\n",
       "4   2022-03-01 16:42:43      18\n",
       "..                  ...     ...\n",
       "150 2022-05-02 16:44:41       4\n",
       "151 2022-05-02 17:15:49       5\n",
       "152 2022-05-04 09:58:21       5\n",
       "153 2022-05-05 14:15:34       5\n",
       "154 2022-06-08 07:17:44      15\n",
       "\n",
       "[155 rows x 2 columns]"
      ]
     },
     "execution_count": 29,
     "metadata": {},
     "output_type": "execute_result"
    }
   ],
   "source": [
    "by_date = pd.Series(date['Issues_created']).value_counts().sort_index()\n",
    "by_date.index = pd.DatetimeIndex(by_date.index)\n",
    "df_date = by_date.rename_axis('Issues_created').reset_index(name='counts')\n",
    "df_date"
   ]
  },
  {
   "cell_type": "code",
   "execution_count": 30,
   "metadata": {},
   "outputs": [
    {
     "data": {
      "text/html": [
       "<div>\n",
       "<style scoped>\n",
       "    .dataframe tbody tr th:only-of-type {\n",
       "        vertical-align: middle;\n",
       "    }\n",
       "\n",
       "    .dataframe tbody tr th {\n",
       "        vertical-align: top;\n",
       "    }\n",
       "\n",
       "    .dataframe thead th {\n",
       "        text-align: right;\n",
       "    }\n",
       "</style>\n",
       "<table border=\"1\" class=\"dataframe\">\n",
       "  <thead>\n",
       "    <tr style=\"text-align: right;\">\n",
       "      <th></th>\n",
       "      <th>Issues_created</th>\n",
       "      <th>counts</th>\n",
       "      <th>tgl</th>\n",
       "    </tr>\n",
       "  </thead>\n",
       "  <tbody>\n",
       "    <tr>\n",
       "      <th>35</th>\n",
       "      <td>2022-03-29 09:38:02</td>\n",
       "      <td>22</td>\n",
       "      <td>22 (29 March)</td>\n",
       "    </tr>\n",
       "    <tr>\n",
       "      <th>39</th>\n",
       "      <td>2022-03-30 04:37:32</td>\n",
       "      <td>22</td>\n",
       "      <td>22 (30 March)</td>\n",
       "    </tr>\n",
       "    <tr>\n",
       "      <th>0</th>\n",
       "      <td>2022-03-01 08:47:28</td>\n",
       "      <td>18</td>\n",
       "      <td>18 (01 March)</td>\n",
       "    </tr>\n",
       "  </tbody>\n",
       "</table>\n",
       "</div>"
      ],
      "text/plain": [
       "        Issues_created  counts            tgl\n",
       "35 2022-03-29 09:38:02      22  22 (29 March)\n",
       "39 2022-03-30 04:37:32      22  22 (30 March)\n",
       "0  2022-03-01 08:47:28      18  18 (01 March)"
      ]
     },
     "execution_count": 30,
     "metadata": {},
     "output_type": "execute_result"
    }
   ],
   "source": [
    "top_dates = df_date.sort_values(by=['counts'],ascending=False).head(3)\n",
    "vals = []\n",
    "for tgl, tot in zip(top_dates[\"Issues_created\"], top_dates[\"counts\"]):\n",
    "    tgl = tgl.strftime(\"%d %B\")\n",
    "    val = \"%d (%s)\"%(tot, tgl)\n",
    "    vals.append(val)\n",
    "top_dates['tgl'] = vals\n",
    "top_dates"
   ]
  },
  {
   "cell_type": "code",
   "execution_count": 31,
   "metadata": {},
   "outputs": [
    {
     "data": {
      "application/vnd.plotly.v1+json": {
       "config": {
        "plotlyServerURL": "https://plot.ly"
       },
       "data": [
        {
         "marker": {
          "color": "black"
         },
         "text": "counts",
         "type": "scatter",
         "x": [
          "2022-03-01 08:47:28",
          "2022-03-01 11:36:17",
          "2022-03-01 12:47:42",
          "2022-03-01 12:47:43",
          "2022-03-01 16:42:43",
          "2022-03-01 18:38:50",
          "2022-03-01 18:44:34",
          "2022-03-02 07:59:04",
          "2022-03-03 11:09:44",
          "2022-03-07 12:25:48",
          "2022-03-08 04:39:11",
          "2022-03-08 05:22:01",
          "2022-03-18 08:49:02",
          "2022-03-18 08:49:03",
          "2022-03-20 12:19:46",
          "2022-03-20 12:19:47",
          "2022-03-20 15:13:37",
          "2022-03-20 15:20:17",
          "2022-03-20 15:20:53",
          "2022-03-21 04:46:40",
          "2022-03-21 04:51:16",
          "2022-03-23 14:23:50",
          "2022-03-23 16:03:42",
          "2022-03-23 16:11:13",
          "2022-03-23 16:44:19",
          "2022-03-23 16:58:48",
          "2022-03-25 10:45:46",
          "2022-03-25 13:25:01",
          "2022-03-25 13:25:02",
          "2022-03-25 13:49:54",
          "2022-03-26 10:29:38",
          "2022-03-26 10:34:44",
          "2022-03-27 19:00:48",
          "2022-03-27 19:40:33",
          "2022-03-27 19:40:34",
          "2022-03-29 09:38:02",
          "2022-03-29 11:51:12",
          "2022-03-29 12:12:41",
          "2022-03-29 12:12:42",
          "2022-03-30 04:37:32",
          "2022-03-31 04:13:00",
          "2022-03-31 04:13:01",
          "2022-04-01 12:35:29",
          "2022-04-01 12:36:50",
          "2022-04-04 07:52:49",
          "2022-04-04 09:41:01",
          "2022-04-04 10:07:36",
          "2022-04-04 10:07:37",
          "2022-04-04 10:44:05",
          "2022-04-04 10:44:06",
          "2022-04-04 11:08:18",
          "2022-04-04 11:08:35",
          "2022-04-04 13:29:52",
          "2022-04-04 13:42:02",
          "2022-04-04 13:46:51",
          "2022-04-04 13:59:14",
          "2022-04-04 14:17:23",
          "2022-04-04 14:26:11",
          "2022-04-04 15:53:55",
          "2022-04-04 16:42:23",
          "2022-04-04 18:39:05",
          "2022-04-05 02:58:39",
          "2022-04-05 03:14:22",
          "2022-04-05 03:24:32",
          "2022-04-05 04:35:12",
          "2022-04-05 04:35:13",
          "2022-04-05 04:44:18",
          "2022-04-05 05:40:55",
          "2022-04-06 04:34:38",
          "2022-04-06 05:23:13",
          "2022-04-07 16:46:09",
          "2022-04-07 16:46:10",
          "2022-04-08 04:52:34",
          "2022-04-08 06:22:12",
          "2022-04-08 06:25:10",
          "2022-04-08 07:57:54",
          "2022-04-08 08:17:42",
          "2022-04-08 08:21:55",
          "2022-04-08 08:45:48",
          "2022-04-08 08:51:25",
          "2022-04-08 09:15:34",
          "2022-04-08 09:15:35",
          "2022-04-08 09:20:59",
          "2022-04-08 09:51:40",
          "2022-04-08 10:01:45",
          "2022-04-08 10:15:25",
          "2022-04-08 10:25:31",
          "2022-04-08 10:34:10",
          "2022-04-08 11:25:00",
          "2022-04-08 11:34:07",
          "2022-04-08 11:50:56",
          "2022-04-08 11:58:03",
          "2022-04-08 12:06:07",
          "2022-04-08 12:21:15",
          "2022-04-08 13:26:09",
          "2022-04-08 13:49:13",
          "2022-04-08 14:10:27",
          "2022-04-08 14:14:55",
          "2022-04-08 14:54:34",
          "2022-04-08 15:20:12",
          "2022-04-10 10:37:50",
          "2022-04-10 10:38:21",
          "2022-04-10 10:42:22",
          "2022-04-10 11:00:04",
          "2022-04-10 11:04:14",
          "2022-04-10 11:07:47",
          "2022-04-10 11:16:57",
          "2022-04-10 12:05:26",
          "2022-04-10 12:09:37",
          "2022-04-10 17:06:44",
          "2022-04-11 17:34:57",
          "2022-04-12 04:04:24",
          "2022-04-12 04:32:51",
          "2022-04-12 05:03:12",
          "2022-04-12 05:03:13",
          "2022-04-12 05:09:47",
          "2022-04-12 06:29:41",
          "2022-04-12 06:39:23",
          "2022-04-12 06:57:45",
          "2022-04-12 06:57:46",
          "2022-04-12 16:51:55",
          "2022-04-13 08:51:09",
          "2022-04-14 06:44:40",
          "2022-04-14 06:44:41",
          "2022-04-14 14:55:24",
          "2022-04-15 07:25:02",
          "2022-04-15 07:38:16",
          "2022-04-15 11:54:02",
          "2022-04-16 03:36:56",
          "2022-04-16 03:37:33",
          "2022-04-16 03:51:57",
          "2022-04-16 07:57:44",
          "2022-04-18 10:53:27",
          "2022-04-19 13:53:29",
          "2022-04-20 11:48:29",
          "2022-04-22 15:10:50",
          "2022-04-25 08:45:15",
          "2022-04-25 08:55:48",
          "2022-04-25 08:58:56",
          "2022-04-28 18:26:55",
          "2022-04-28 18:34:01",
          "2022-04-29 03:52:13",
          "2022-04-29 04:46:26",
          "2022-04-29 13:18:48",
          "2022-04-29 13:18:49",
          "2022-05-02 14:03:54",
          "2022-05-02 14:42:36",
          "2022-05-02 16:31:41",
          "2022-05-02 16:33:05",
          "2022-05-02 16:44:40",
          "2022-05-02 16:44:41",
          "2022-05-02 17:15:49",
          "2022-05-04 09:58:21",
          "2022-05-05 14:15:34",
          "2022-06-08 07:17:44"
         ],
         "y": [
          18,
          5,
          1,
          17,
          18,
          18,
          18,
          5,
          5,
          5,
          5,
          5,
          1,
          4,
          12,
          6,
          5,
          1,
          1,
          5,
          5,
          5,
          5,
          5,
          5,
          5,
          2,
          1,
          17,
          18,
          5,
          5,
          9,
          11,
          4,
          22,
          2,
          1,
          17,
          22,
          17,
          1,
          5,
          5,
          5,
          18,
          1,
          4,
          12,
          6,
          18,
          18,
          5,
          18,
          18,
          5,
          5,
          5,
          5,
          5,
          5,
          5,
          5,
          5,
          2,
          3,
          5,
          5,
          5,
          5,
          12,
          6,
          18,
          5,
          5,
          5,
          5,
          5,
          5,
          5,
          17,
          1,
          18,
          18,
          5,
          5,
          5,
          18,
          5,
          5,
          18,
          18,
          18,
          18,
          18,
          18,
          18,
          5,
          18,
          18,
          5,
          5,
          5,
          5,
          5,
          5,
          5,
          18,
          18,
          18,
          5,
          18,
          5,
          2,
          16,
          18,
          18,
          18,
          1,
          4,
          5,
          5,
          12,
          6,
          5,
          18,
          18,
          5,
          18,
          18,
          18,
          5,
          18,
          18,
          18,
          18,
          18,
          18,
          18,
          5,
          5,
          5,
          5,
          4,
          1,
          5,
          5,
          5,
          5,
          1,
          4,
          5,
          5,
          5,
          15
         ]
        },
        {
         "marker": {
          "color": "red",
          "size": 3
         },
         "mode": "markers+text",
         "text": [
          "22 (29 March)",
          "22 (30 March)",
          "18 (01 March)"
         ],
         "textfont": {
          "color": "#233a77"
         },
         "textposition": "top left",
         "type": "scatter",
         "x": [
          "2022-03-29T09:38:02",
          "2022-03-30T04:37:32",
          "2022-03-01T08:47:28"
         ],
         "y": [
          22,
          22,
          18
         ]
        }
       ],
       "layout": {
        "showlegend": false,
        "template": {
         "data": {
          "bar": [
           {
            "error_x": {
             "color": "#2a3f5f"
            },
            "error_y": {
             "color": "#2a3f5f"
            },
            "marker": {
             "line": {
              "color": "#E5ECF6",
              "width": 0.5
             },
             "pattern": {
              "fillmode": "overlay",
              "size": 10,
              "solidity": 0.2
             }
            },
            "type": "bar"
           }
          ],
          "barpolar": [
           {
            "marker": {
             "line": {
              "color": "#E5ECF6",
              "width": 0.5
             },
             "pattern": {
              "fillmode": "overlay",
              "size": 10,
              "solidity": 0.2
             }
            },
            "type": "barpolar"
           }
          ],
          "carpet": [
           {
            "aaxis": {
             "endlinecolor": "#2a3f5f",
             "gridcolor": "white",
             "linecolor": "white",
             "minorgridcolor": "white",
             "startlinecolor": "#2a3f5f"
            },
            "baxis": {
             "endlinecolor": "#2a3f5f",
             "gridcolor": "white",
             "linecolor": "white",
             "minorgridcolor": "white",
             "startlinecolor": "#2a3f5f"
            },
            "type": "carpet"
           }
          ],
          "choropleth": [
           {
            "colorbar": {
             "outlinewidth": 0,
             "ticks": ""
            },
            "type": "choropleth"
           }
          ],
          "contour": [
           {
            "colorbar": {
             "outlinewidth": 0,
             "ticks": ""
            },
            "colorscale": [
             [
              0,
              "#0d0887"
             ],
             [
              0.1111111111111111,
              "#46039f"
             ],
             [
              0.2222222222222222,
              "#7201a8"
             ],
             [
              0.3333333333333333,
              "#9c179e"
             ],
             [
              0.4444444444444444,
              "#bd3786"
             ],
             [
              0.5555555555555556,
              "#d8576b"
             ],
             [
              0.6666666666666666,
              "#ed7953"
             ],
             [
              0.7777777777777778,
              "#fb9f3a"
             ],
             [
              0.8888888888888888,
              "#fdca26"
             ],
             [
              1,
              "#f0f921"
             ]
            ],
            "type": "contour"
           }
          ],
          "contourcarpet": [
           {
            "colorbar": {
             "outlinewidth": 0,
             "ticks": ""
            },
            "type": "contourcarpet"
           }
          ],
          "heatmap": [
           {
            "colorbar": {
             "outlinewidth": 0,
             "ticks": ""
            },
            "colorscale": [
             [
              0,
              "#0d0887"
             ],
             [
              0.1111111111111111,
              "#46039f"
             ],
             [
              0.2222222222222222,
              "#7201a8"
             ],
             [
              0.3333333333333333,
              "#9c179e"
             ],
             [
              0.4444444444444444,
              "#bd3786"
             ],
             [
              0.5555555555555556,
              "#d8576b"
             ],
             [
              0.6666666666666666,
              "#ed7953"
             ],
             [
              0.7777777777777778,
              "#fb9f3a"
             ],
             [
              0.8888888888888888,
              "#fdca26"
             ],
             [
              1,
              "#f0f921"
             ]
            ],
            "type": "heatmap"
           }
          ],
          "heatmapgl": [
           {
            "colorbar": {
             "outlinewidth": 0,
             "ticks": ""
            },
            "colorscale": [
             [
              0,
              "#0d0887"
             ],
             [
              0.1111111111111111,
              "#46039f"
             ],
             [
              0.2222222222222222,
              "#7201a8"
             ],
             [
              0.3333333333333333,
              "#9c179e"
             ],
             [
              0.4444444444444444,
              "#bd3786"
             ],
             [
              0.5555555555555556,
              "#d8576b"
             ],
             [
              0.6666666666666666,
              "#ed7953"
             ],
             [
              0.7777777777777778,
              "#fb9f3a"
             ],
             [
              0.8888888888888888,
              "#fdca26"
             ],
             [
              1,
              "#f0f921"
             ]
            ],
            "type": "heatmapgl"
           }
          ],
          "histogram": [
           {
            "marker": {
             "pattern": {
              "fillmode": "overlay",
              "size": 10,
              "solidity": 0.2
             }
            },
            "type": "histogram"
           }
          ],
          "histogram2d": [
           {
            "colorbar": {
             "outlinewidth": 0,
             "ticks": ""
            },
            "colorscale": [
             [
              0,
              "#0d0887"
             ],
             [
              0.1111111111111111,
              "#46039f"
             ],
             [
              0.2222222222222222,
              "#7201a8"
             ],
             [
              0.3333333333333333,
              "#9c179e"
             ],
             [
              0.4444444444444444,
              "#bd3786"
             ],
             [
              0.5555555555555556,
              "#d8576b"
             ],
             [
              0.6666666666666666,
              "#ed7953"
             ],
             [
              0.7777777777777778,
              "#fb9f3a"
             ],
             [
              0.8888888888888888,
              "#fdca26"
             ],
             [
              1,
              "#f0f921"
             ]
            ],
            "type": "histogram2d"
           }
          ],
          "histogram2dcontour": [
           {
            "colorbar": {
             "outlinewidth": 0,
             "ticks": ""
            },
            "colorscale": [
             [
              0,
              "#0d0887"
             ],
             [
              0.1111111111111111,
              "#46039f"
             ],
             [
              0.2222222222222222,
              "#7201a8"
             ],
             [
              0.3333333333333333,
              "#9c179e"
             ],
             [
              0.4444444444444444,
              "#bd3786"
             ],
             [
              0.5555555555555556,
              "#d8576b"
             ],
             [
              0.6666666666666666,
              "#ed7953"
             ],
             [
              0.7777777777777778,
              "#fb9f3a"
             ],
             [
              0.8888888888888888,
              "#fdca26"
             ],
             [
              1,
              "#f0f921"
             ]
            ],
            "type": "histogram2dcontour"
           }
          ],
          "mesh3d": [
           {
            "colorbar": {
             "outlinewidth": 0,
             "ticks": ""
            },
            "type": "mesh3d"
           }
          ],
          "parcoords": [
           {
            "line": {
             "colorbar": {
              "outlinewidth": 0,
              "ticks": ""
             }
            },
            "type": "parcoords"
           }
          ],
          "pie": [
           {
            "automargin": true,
            "type": "pie"
           }
          ],
          "scatter": [
           {
            "fillpattern": {
             "fillmode": "overlay",
             "size": 10,
             "solidity": 0.2
            },
            "type": "scatter"
           }
          ],
          "scatter3d": [
           {
            "line": {
             "colorbar": {
              "outlinewidth": 0,
              "ticks": ""
             }
            },
            "marker": {
             "colorbar": {
              "outlinewidth": 0,
              "ticks": ""
             }
            },
            "type": "scatter3d"
           }
          ],
          "scattercarpet": [
           {
            "marker": {
             "colorbar": {
              "outlinewidth": 0,
              "ticks": ""
             }
            },
            "type": "scattercarpet"
           }
          ],
          "scattergeo": [
           {
            "marker": {
             "colorbar": {
              "outlinewidth": 0,
              "ticks": ""
             }
            },
            "type": "scattergeo"
           }
          ],
          "scattergl": [
           {
            "marker": {
             "colorbar": {
              "outlinewidth": 0,
              "ticks": ""
             }
            },
            "type": "scattergl"
           }
          ],
          "scattermapbox": [
           {
            "marker": {
             "colorbar": {
              "outlinewidth": 0,
              "ticks": ""
             }
            },
            "type": "scattermapbox"
           }
          ],
          "scatterpolar": [
           {
            "marker": {
             "colorbar": {
              "outlinewidth": 0,
              "ticks": ""
             }
            },
            "type": "scatterpolar"
           }
          ],
          "scatterpolargl": [
           {
            "marker": {
             "colorbar": {
              "outlinewidth": 0,
              "ticks": ""
             }
            },
            "type": "scatterpolargl"
           }
          ],
          "scatterternary": [
           {
            "marker": {
             "colorbar": {
              "outlinewidth": 0,
              "ticks": ""
             }
            },
            "type": "scatterternary"
           }
          ],
          "surface": [
           {
            "colorbar": {
             "outlinewidth": 0,
             "ticks": ""
            },
            "colorscale": [
             [
              0,
              "#0d0887"
             ],
             [
              0.1111111111111111,
              "#46039f"
             ],
             [
              0.2222222222222222,
              "#7201a8"
             ],
             [
              0.3333333333333333,
              "#9c179e"
             ],
             [
              0.4444444444444444,
              "#bd3786"
             ],
             [
              0.5555555555555556,
              "#d8576b"
             ],
             [
              0.6666666666666666,
              "#ed7953"
             ],
             [
              0.7777777777777778,
              "#fb9f3a"
             ],
             [
              0.8888888888888888,
              "#fdca26"
             ],
             [
              1,
              "#f0f921"
             ]
            ],
            "type": "surface"
           }
          ],
          "table": [
           {
            "cells": {
             "fill": {
              "color": "#EBF0F8"
             },
             "line": {
              "color": "white"
             }
            },
            "header": {
             "fill": {
              "color": "#C8D4E3"
             },
             "line": {
              "color": "white"
             }
            },
            "type": "table"
           }
          ]
         },
         "layout": {
          "annotationdefaults": {
           "arrowcolor": "#2a3f5f",
           "arrowhead": 0,
           "arrowwidth": 1
          },
          "autotypenumbers": "strict",
          "coloraxis": {
           "colorbar": {
            "outlinewidth": 0,
            "ticks": ""
           }
          },
          "colorscale": {
           "diverging": [
            [
             0,
             "#8e0152"
            ],
            [
             0.1,
             "#c51b7d"
            ],
            [
             0.2,
             "#de77ae"
            ],
            [
             0.3,
             "#f1b6da"
            ],
            [
             0.4,
             "#fde0ef"
            ],
            [
             0.5,
             "#f7f7f7"
            ],
            [
             0.6,
             "#e6f5d0"
            ],
            [
             0.7,
             "#b8e186"
            ],
            [
             0.8,
             "#7fbc41"
            ],
            [
             0.9,
             "#4d9221"
            ],
            [
             1,
             "#276419"
            ]
           ],
           "sequential": [
            [
             0,
             "#0d0887"
            ],
            [
             0.1111111111111111,
             "#46039f"
            ],
            [
             0.2222222222222222,
             "#7201a8"
            ],
            [
             0.3333333333333333,
             "#9c179e"
            ],
            [
             0.4444444444444444,
             "#bd3786"
            ],
            [
             0.5555555555555556,
             "#d8576b"
            ],
            [
             0.6666666666666666,
             "#ed7953"
            ],
            [
             0.7777777777777778,
             "#fb9f3a"
            ],
            [
             0.8888888888888888,
             "#fdca26"
            ],
            [
             1,
             "#f0f921"
            ]
           ],
           "sequentialminus": [
            [
             0,
             "#0d0887"
            ],
            [
             0.1111111111111111,
             "#46039f"
            ],
            [
             0.2222222222222222,
             "#7201a8"
            ],
            [
             0.3333333333333333,
             "#9c179e"
            ],
            [
             0.4444444444444444,
             "#bd3786"
            ],
            [
             0.5555555555555556,
             "#d8576b"
            ],
            [
             0.6666666666666666,
             "#ed7953"
            ],
            [
             0.7777777777777778,
             "#fb9f3a"
            ],
            [
             0.8888888888888888,
             "#fdca26"
            ],
            [
             1,
             "#f0f921"
            ]
           ]
          },
          "colorway": [
           "#636efa",
           "#EF553B",
           "#00cc96",
           "#ab63fa",
           "#FFA15A",
           "#19d3f3",
           "#FF6692",
           "#B6E880",
           "#FF97FF",
           "#FECB52"
          ],
          "font": {
           "color": "#2a3f5f"
          },
          "geo": {
           "bgcolor": "white",
           "lakecolor": "white",
           "landcolor": "#E5ECF6",
           "showlakes": true,
           "showland": true,
           "subunitcolor": "white"
          },
          "hoverlabel": {
           "align": "left"
          },
          "hovermode": "closest",
          "mapbox": {
           "style": "light"
          },
          "paper_bgcolor": "white",
          "plot_bgcolor": "#E5ECF6",
          "polar": {
           "angularaxis": {
            "gridcolor": "white",
            "linecolor": "white",
            "ticks": ""
           },
           "bgcolor": "#E5ECF6",
           "radialaxis": {
            "gridcolor": "white",
            "linecolor": "white",
            "ticks": ""
           }
          },
          "scene": {
           "xaxis": {
            "backgroundcolor": "#E5ECF6",
            "gridcolor": "white",
            "gridwidth": 2,
            "linecolor": "white",
            "showbackground": true,
            "ticks": "",
            "zerolinecolor": "white"
           },
           "yaxis": {
            "backgroundcolor": "#E5ECF6",
            "gridcolor": "white",
            "gridwidth": 2,
            "linecolor": "white",
            "showbackground": true,
            "ticks": "",
            "zerolinecolor": "white"
           },
           "zaxis": {
            "backgroundcolor": "#E5ECF6",
            "gridcolor": "white",
            "gridwidth": 2,
            "linecolor": "white",
            "showbackground": true,
            "ticks": "",
            "zerolinecolor": "white"
           }
          },
          "shapedefaults": {
           "line": {
            "color": "#2a3f5f"
           }
          },
          "ternary": {
           "aaxis": {
            "gridcolor": "white",
            "linecolor": "white",
            "ticks": ""
           },
           "baxis": {
            "gridcolor": "white",
            "linecolor": "white",
            "ticks": ""
           },
           "bgcolor": "#E5ECF6",
           "caxis": {
            "gridcolor": "white",
            "linecolor": "white",
            "ticks": ""
           }
          },
          "title": {
           "x": 0.05
          },
          "xaxis": {
           "automargin": true,
           "gridcolor": "white",
           "linecolor": "white",
           "ticks": "",
           "title": {
            "standoff": 15
           },
           "zerolinecolor": "white",
           "zerolinewidth": 2
          },
          "yaxis": {
           "automargin": true,
           "gridcolor": "white",
           "linecolor": "white",
           "ticks": "",
           "title": {
            "standoff": 15
           },
           "zerolinecolor": "white",
           "zerolinewidth": 2
          }
         }
        },
        "title": {
         "text": "Top three peak dates"
        },
        "xaxis": {
         "title": {
          "text": "Time"
         }
        },
        "yaxis": {
         "title": {
          "text": "Total tweets"
         }
        }
       }
      }
     },
     "metadata": {},
     "output_type": "display_data"
    }
   ],
   "source": [
    "fig = go.Figure(data=go.Scatter(x=df_date['Issues_created'].astype(dtype=str), \n",
    "                                y=df_date['counts'],\n",
    "                                marker_color='black', text=\"counts\"))\n",
    "fig.update_layout({\"title\": 'Top three peak dates',\n",
    "                   \"xaxis\": {\"title\":\"Time\"},\n",
    "                   \"yaxis\": {\"title\":\"Total tweets\"},\n",
    "                   \"showlegend\": False})\n",
    "fig.add_traces(go.Scatter(x=top_dates['Issues_created'], y=top_dates['counts'],\n",
    "                          textposition='top left',\n",
    "                          textfont=dict(color='#233a77'),\n",
    "                          mode='markers+text',\n",
    "                          marker=dict(color='red', size=3),\n",
    "                          text = top_dates[\"tgl\"]))\n",
    "fig.show()"
   ]
  },
  {
   "cell_type": "code",
   "execution_count": 32,
   "metadata": {},
   "outputs": [
    {
     "data": {
      "application/vnd.plotly.v1+json": {
       "config": {
        "plotlyServerURL": "https://plot.ly"
       },
       "data": [
        {
         "hovertemplate": "Issues=%{y}<br>Issues_created=%{x}<extra></extra>",
         "legendgroup": "",
         "line": {
          "color": "#636efa",
          "dash": "solid"
         },
         "marker": {
          "symbol": "circle"
         },
         "mode": "lines",
         "name": "",
         "showlegend": false,
         "type": "scattergl",
         "x": [
          "2022-03-01T08:47:28",
          "2022-03-01T08:47:28",
          "2022-03-01T08:47:28",
          "2022-03-01T08:47:28",
          "2022-03-01T08:47:28",
          "2022-03-01T08:47:28",
          "2022-03-01T08:47:28",
          "2022-03-01T08:47:28",
          "2022-03-01T08:47:28",
          "2022-03-01T08:47:28",
          "2022-03-01T08:47:28",
          "2022-03-01T08:47:28",
          "2022-03-01T08:47:28",
          "2022-03-01T08:47:28",
          "2022-03-01T08:47:28",
          "2022-03-01T08:47:28",
          "2022-03-01T08:47:28",
          "2022-03-01T08:47:28",
          "2022-03-01T12:47:42",
          "2022-03-01T12:47:43",
          "2022-03-01T12:47:43",
          "2022-03-01T12:47:43",
          "2022-03-01T12:47:43",
          "2022-03-01T12:47:43",
          "2022-03-01T12:47:43",
          "2022-03-01T12:47:43",
          "2022-03-01T12:47:43",
          "2022-03-01T12:47:43",
          "2022-03-01T12:47:43",
          "2022-03-01T12:47:43",
          "2022-03-01T12:47:43",
          "2022-03-01T12:47:43",
          "2022-03-01T12:47:43",
          "2022-03-01T12:47:43",
          "2022-03-01T12:47:43",
          "2022-03-01T12:47:43",
          "2022-03-01T16:42:43",
          "2022-03-01T16:42:43",
          "2022-03-01T16:42:43",
          "2022-03-01T16:42:43",
          "2022-03-01T16:42:43",
          "2022-03-01T16:42:43",
          "2022-03-01T16:42:43",
          "2022-03-01T16:42:43",
          "2022-03-01T16:42:43",
          "2022-03-01T16:42:43",
          "2022-03-01T16:42:43",
          "2022-03-01T16:42:43",
          "2022-03-01T16:42:43",
          "2022-03-01T16:42:43",
          "2022-03-01T16:42:43",
          "2022-03-01T16:42:43",
          "2022-03-01T16:42:43",
          "2022-03-01T16:42:43",
          "2022-03-01T18:38:50",
          "2022-03-01T18:38:50",
          "2022-03-01T18:38:50",
          "2022-03-01T18:38:50",
          "2022-03-01T18:38:50",
          "2022-03-01T18:38:50",
          "2022-03-01T18:38:50",
          "2022-03-01T18:38:50",
          "2022-03-01T18:38:50",
          "2022-03-01T18:38:50",
          "2022-03-01T18:38:50",
          "2022-03-01T18:38:50",
          "2022-03-01T18:38:50",
          "2022-03-01T18:38:50",
          "2022-03-01T18:38:50",
          "2022-03-01T18:38:50",
          "2022-03-01T18:38:50",
          "2022-03-01T18:38:50",
          "2022-03-01T18:44:34",
          "2022-03-01T18:44:34",
          "2022-03-01T18:44:34",
          "2022-03-01T18:44:34",
          "2022-03-01T18:44:34",
          "2022-03-01T18:44:34",
          "2022-03-01T18:44:34",
          "2022-03-01T18:44:34",
          "2022-03-01T18:44:34",
          "2022-03-01T18:44:34",
          "2022-03-01T18:44:34",
          "2022-03-01T18:44:34",
          "2022-03-01T18:44:34",
          "2022-03-01T18:44:34",
          "2022-03-01T18:44:34",
          "2022-03-01T18:44:34",
          "2022-03-01T18:44:34",
          "2022-03-01T18:44:34",
          "2022-03-20T12:19:46",
          "2022-03-20T12:19:46",
          "2022-03-20T12:19:46",
          "2022-03-20T12:19:46",
          "2022-03-20T12:19:46",
          "2022-03-20T12:19:46",
          "2022-03-20T12:19:46",
          "2022-03-20T12:19:46",
          "2022-03-20T12:19:46",
          "2022-03-20T12:19:46",
          "2022-03-20T12:19:46",
          "2022-03-20T12:19:46",
          "2022-03-20T12:19:47",
          "2022-03-20T12:19:47",
          "2022-03-20T12:19:47",
          "2022-03-20T12:19:47",
          "2022-03-20T12:19:47",
          "2022-03-20T12:19:47",
          "2022-03-25T13:25:01",
          "2022-03-25T13:25:02",
          "2022-03-25T13:25:02",
          "2022-03-25T13:25:02",
          "2022-03-25T13:25:02",
          "2022-03-25T13:25:02",
          "2022-03-25T13:25:02",
          "2022-03-25T13:25:02",
          "2022-03-25T13:25:02",
          "2022-03-25T13:25:02",
          "2022-03-25T13:25:02",
          "2022-03-25T13:25:02",
          "2022-03-25T13:25:02",
          "2022-03-25T13:25:02",
          "2022-03-25T13:25:02",
          "2022-03-25T13:25:02",
          "2022-03-25T13:25:02",
          "2022-03-25T13:25:02",
          "2022-03-25T13:49:54",
          "2022-03-25T13:49:54",
          "2022-03-25T13:49:54",
          "2022-03-25T13:49:54",
          "2022-03-25T13:49:54",
          "2022-03-25T13:49:54",
          "2022-03-25T13:49:54",
          "2022-03-25T13:49:54",
          "2022-03-25T13:49:54",
          "2022-03-25T13:49:54",
          "2022-03-25T13:49:54",
          "2022-03-25T13:49:54",
          "2022-03-25T13:49:54",
          "2022-03-25T13:49:54",
          "2022-03-25T13:49:54",
          "2022-03-25T13:49:54",
          "2022-03-25T13:49:54",
          "2022-03-25T13:49:54",
          "2022-03-29T12:12:41",
          "2022-03-29T12:12:42",
          "2022-03-29T12:12:42",
          "2022-03-29T12:12:42",
          "2022-03-29T12:12:42",
          "2022-03-29T12:12:42",
          "2022-03-29T12:12:42",
          "2022-03-29T12:12:42",
          "2022-03-29T12:12:42",
          "2022-03-29T12:12:42",
          "2022-03-29T12:12:42",
          "2022-03-29T12:12:42",
          "2022-03-29T12:12:42",
          "2022-03-29T12:12:42",
          "2022-03-29T12:12:42",
          "2022-03-29T12:12:42",
          "2022-03-29T12:12:42",
          "2022-03-29T12:12:42",
          "2022-03-31T04:13:00",
          "2022-03-31T04:13:00",
          "2022-03-31T04:13:00",
          "2022-03-31T04:13:00",
          "2022-03-31T04:13:00",
          "2022-03-31T04:13:00",
          "2022-03-31T04:13:00",
          "2022-03-31T04:13:00",
          "2022-03-31T04:13:00",
          "2022-03-31T04:13:00",
          "2022-03-31T04:13:00",
          "2022-03-31T04:13:00",
          "2022-03-31T04:13:00",
          "2022-03-31T04:13:00",
          "2022-03-31T04:13:00",
          "2022-03-31T04:13:00",
          "2022-03-31T04:13:00",
          "2022-03-31T04:13:01",
          "2022-04-04T09:41:01",
          "2022-04-04T09:41:01",
          "2022-04-04T09:41:01",
          "2022-04-04T09:41:01",
          "2022-04-04T09:41:01",
          "2022-04-04T09:41:01",
          "2022-04-04T09:41:01",
          "2022-04-04T09:41:01",
          "2022-04-04T09:41:01",
          "2022-04-04T09:41:01",
          "2022-04-04T09:41:01",
          "2022-04-04T09:41:01",
          "2022-04-04T09:41:01",
          "2022-04-04T09:41:01",
          "2022-04-04T09:41:01",
          "2022-04-04T09:41:01",
          "2022-04-04T09:41:01",
          "2022-04-04T09:41:01",
          "2022-04-04T10:44:05",
          "2022-04-04T10:44:05",
          "2022-04-04T10:44:05",
          "2022-04-04T10:44:05",
          "2022-04-04T10:44:05",
          "2022-04-04T10:44:05",
          "2022-04-04T10:44:05",
          "2022-04-04T10:44:05",
          "2022-04-04T10:44:05",
          "2022-04-04T10:44:05",
          "2022-04-04T10:44:05",
          "2022-04-04T10:44:05",
          "2022-04-04T10:44:06",
          "2022-04-04T10:44:06",
          "2022-04-04T10:44:06",
          "2022-04-04T10:44:06",
          "2022-04-04T10:44:06",
          "2022-04-04T10:44:06",
          "2022-04-04T11:08:18",
          "2022-04-04T11:08:18",
          "2022-04-04T11:08:18",
          "2022-04-04T11:08:18",
          "2022-04-04T11:08:18",
          "2022-04-04T11:08:18",
          "2022-04-04T11:08:18",
          "2022-04-04T11:08:18",
          "2022-04-04T11:08:18",
          "2022-04-04T11:08:18",
          "2022-04-04T11:08:18",
          "2022-04-04T11:08:18",
          "2022-04-04T11:08:18",
          "2022-04-04T11:08:18",
          "2022-04-04T11:08:18",
          "2022-04-04T11:08:18",
          "2022-04-04T11:08:18",
          "2022-04-04T11:08:18",
          "2022-04-04T11:08:35",
          "2022-04-04T11:08:35",
          "2022-04-04T11:08:35",
          "2022-04-04T11:08:35",
          "2022-04-04T11:08:35",
          "2022-04-04T11:08:35",
          "2022-04-04T11:08:35",
          "2022-04-04T11:08:35",
          "2022-04-04T11:08:35",
          "2022-04-04T11:08:35",
          "2022-04-04T11:08:35",
          "2022-04-04T11:08:35",
          "2022-04-04T11:08:35",
          "2022-04-04T11:08:35",
          "2022-04-04T11:08:35",
          "2022-04-04T11:08:35",
          "2022-04-04T11:08:35",
          "2022-04-04T11:08:35",
          "2022-04-04T13:42:02",
          "2022-04-04T13:42:02",
          "2022-04-04T13:42:02",
          "2022-04-04T13:42:02",
          "2022-04-04T13:42:02",
          "2022-04-04T13:42:02",
          "2022-04-04T13:42:02",
          "2022-04-04T13:42:02",
          "2022-04-04T13:42:02",
          "2022-04-04T13:42:02",
          "2022-04-04T13:42:02",
          "2022-04-04T13:42:02",
          "2022-04-04T13:42:02",
          "2022-04-04T13:42:02",
          "2022-04-04T13:42:02",
          "2022-04-04T13:42:02",
          "2022-04-04T13:42:02",
          "2022-04-04T13:42:02",
          "2022-04-04T13:46:51",
          "2022-04-04T13:46:51",
          "2022-04-04T13:46:51",
          "2022-04-04T13:46:51",
          "2022-04-04T13:46:51",
          "2022-04-04T13:46:51",
          "2022-04-04T13:46:51",
          "2022-04-04T13:46:51",
          "2022-04-04T13:46:51",
          "2022-04-04T13:46:51",
          "2022-04-04T13:46:51",
          "2022-04-04T13:46:51",
          "2022-04-04T13:46:51",
          "2022-04-04T13:46:51",
          "2022-04-04T13:46:51",
          "2022-04-04T13:46:51",
          "2022-04-04T13:46:51",
          "2022-04-04T13:46:51",
          "2022-04-07T16:46:09",
          "2022-04-07T16:46:09",
          "2022-04-07T16:46:09",
          "2022-04-07T16:46:09",
          "2022-04-07T16:46:09",
          "2022-04-07T16:46:09",
          "2022-04-07T16:46:09",
          "2022-04-07T16:46:09",
          "2022-04-07T16:46:09",
          "2022-04-07T16:46:09",
          "2022-04-07T16:46:09",
          "2022-04-07T16:46:09",
          "2022-04-07T16:46:10",
          "2022-04-07T16:46:10",
          "2022-04-07T16:46:10",
          "2022-04-07T16:46:10",
          "2022-04-07T16:46:10",
          "2022-04-07T16:46:10",
          "2022-04-08T04:52:34",
          "2022-04-08T04:52:34",
          "2022-04-08T04:52:34",
          "2022-04-08T04:52:34",
          "2022-04-08T04:52:34",
          "2022-04-08T04:52:34",
          "2022-04-08T04:52:34",
          "2022-04-08T04:52:34",
          "2022-04-08T04:52:34",
          "2022-04-08T04:52:34",
          "2022-04-08T04:52:34",
          "2022-04-08T04:52:34",
          "2022-04-08T04:52:34",
          "2022-04-08T04:52:34",
          "2022-04-08T04:52:34",
          "2022-04-08T04:52:34",
          "2022-04-08T04:52:34",
          "2022-04-08T04:52:34",
          "2022-04-08T09:15:34",
          "2022-04-08T09:15:34",
          "2022-04-08T09:15:34",
          "2022-04-08T09:15:34",
          "2022-04-08T09:15:34",
          "2022-04-08T09:15:34",
          "2022-04-08T09:15:34",
          "2022-04-08T09:15:34",
          "2022-04-08T09:15:34",
          "2022-04-08T09:15:34",
          "2022-04-08T09:15:34",
          "2022-04-08T09:15:34",
          "2022-04-08T09:15:34",
          "2022-04-08T09:15:34",
          "2022-04-08T09:15:34",
          "2022-04-08T09:15:34",
          "2022-04-08T09:15:34",
          "2022-04-08T09:15:35",
          "2022-04-08T09:20:59",
          "2022-04-08T09:20:59",
          "2022-04-08T09:20:59",
          "2022-04-08T09:20:59",
          "2022-04-08T09:20:59",
          "2022-04-08T09:20:59",
          "2022-04-08T09:20:59",
          "2022-04-08T09:20:59",
          "2022-04-08T09:20:59",
          "2022-04-08T09:20:59",
          "2022-04-08T09:20:59",
          "2022-04-08T09:20:59",
          "2022-04-08T09:20:59",
          "2022-04-08T09:20:59",
          "2022-04-08T09:20:59",
          "2022-04-08T09:20:59",
          "2022-04-08T09:20:59",
          "2022-04-08T09:20:59",
          "2022-04-08T09:51:40",
          "2022-04-08T09:51:40",
          "2022-04-08T09:51:40",
          "2022-04-08T09:51:40",
          "2022-04-08T09:51:40",
          "2022-04-08T09:51:40",
          "2022-04-08T09:51:40",
          "2022-04-08T09:51:40",
          "2022-04-08T09:51:40",
          "2022-04-08T09:51:40",
          "2022-04-08T09:51:40",
          "2022-04-08T09:51:40",
          "2022-04-08T09:51:40",
          "2022-04-08T09:51:40",
          "2022-04-08T09:51:40",
          "2022-04-08T09:51:40",
          "2022-04-08T09:51:40",
          "2022-04-08T09:51:40",
          "2022-04-08T10:34:10",
          "2022-04-08T10:34:10",
          "2022-04-08T10:34:10",
          "2022-04-08T10:34:10",
          "2022-04-08T10:34:10",
          "2022-04-08T10:34:10",
          "2022-04-08T10:34:10",
          "2022-04-08T10:34:10",
          "2022-04-08T10:34:10",
          "2022-04-08T10:34:10",
          "2022-04-08T10:34:10",
          "2022-04-08T10:34:10",
          "2022-04-08T10:34:10",
          "2022-04-08T10:34:10",
          "2022-04-08T10:34:10",
          "2022-04-08T10:34:10",
          "2022-04-08T10:34:10",
          "2022-04-08T10:34:10",
          "2022-04-08T11:50:56",
          "2022-04-08T11:50:56",
          "2022-04-08T11:50:56",
          "2022-04-08T11:50:56",
          "2022-04-08T11:50:56",
          "2022-04-08T11:50:56",
          "2022-04-08T11:50:56",
          "2022-04-08T11:50:56",
          "2022-04-08T11:50:56",
          "2022-04-08T11:50:56",
          "2022-04-08T11:50:56",
          "2022-04-08T11:50:56",
          "2022-04-08T11:50:56",
          "2022-04-08T11:50:56",
          "2022-04-08T11:50:56",
          "2022-04-08T11:50:56",
          "2022-04-08T11:50:56",
          "2022-04-08T11:50:56",
          "2022-04-08T11:58:03",
          "2022-04-08T11:58:03",
          "2022-04-08T11:58:03",
          "2022-04-08T11:58:03",
          "2022-04-08T11:58:03",
          "2022-04-08T11:58:03",
          "2022-04-08T11:58:03",
          "2022-04-08T11:58:03",
          "2022-04-08T11:58:03",
          "2022-04-08T11:58:03",
          "2022-04-08T11:58:03",
          "2022-04-08T11:58:03",
          "2022-04-08T11:58:03",
          "2022-04-08T11:58:03",
          "2022-04-08T11:58:03",
          "2022-04-08T11:58:03",
          "2022-04-08T11:58:03",
          "2022-04-08T11:58:03",
          "2022-04-08T12:06:07",
          "2022-04-08T12:06:07",
          "2022-04-08T12:06:07",
          "2022-04-08T12:06:07",
          "2022-04-08T12:06:07",
          "2022-04-08T12:06:07",
          "2022-04-08T12:06:07",
          "2022-04-08T12:06:07",
          "2022-04-08T12:06:07",
          "2022-04-08T12:06:07",
          "2022-04-08T12:06:07",
          "2022-04-08T12:06:07",
          "2022-04-08T12:06:07",
          "2022-04-08T12:06:07",
          "2022-04-08T12:06:07",
          "2022-04-08T12:06:07",
          "2022-04-08T12:06:07",
          "2022-04-08T12:06:07",
          "2022-04-08T12:21:15",
          "2022-04-08T12:21:15",
          "2022-04-08T12:21:15",
          "2022-04-08T12:21:15",
          "2022-04-08T12:21:15",
          "2022-04-08T12:21:15",
          "2022-04-08T12:21:15",
          "2022-04-08T12:21:15",
          "2022-04-08T12:21:15",
          "2022-04-08T12:21:15",
          "2022-04-08T12:21:15",
          "2022-04-08T12:21:15",
          "2022-04-08T12:21:15",
          "2022-04-08T12:21:15",
          "2022-04-08T12:21:15",
          "2022-04-08T12:21:15",
          "2022-04-08T12:21:15",
          "2022-04-08T12:21:15",
          "2022-04-08T13:26:09",
          "2022-04-08T13:26:09",
          "2022-04-08T13:26:09",
          "2022-04-08T13:26:09",
          "2022-04-08T13:26:09",
          "2022-04-08T13:26:09",
          "2022-04-08T13:26:09",
          "2022-04-08T13:26:09",
          "2022-04-08T13:26:09",
          "2022-04-08T13:26:09",
          "2022-04-08T13:26:09",
          "2022-04-08T13:26:09",
          "2022-04-08T13:26:09",
          "2022-04-08T13:26:09",
          "2022-04-08T13:26:09",
          "2022-04-08T13:26:09",
          "2022-04-08T13:26:09",
          "2022-04-08T13:26:09",
          "2022-04-08T13:49:13",
          "2022-04-08T13:49:13",
          "2022-04-08T13:49:13",
          "2022-04-08T13:49:13",
          "2022-04-08T13:49:13",
          "2022-04-08T13:49:13",
          "2022-04-08T13:49:13",
          "2022-04-08T13:49:13",
          "2022-04-08T13:49:13",
          "2022-04-08T13:49:13",
          "2022-04-08T13:49:13",
          "2022-04-08T13:49:13",
          "2022-04-08T13:49:13",
          "2022-04-08T13:49:13",
          "2022-04-08T13:49:13",
          "2022-04-08T13:49:13",
          "2022-04-08T13:49:13",
          "2022-04-08T13:49:13",
          "2022-04-08T14:10:27",
          "2022-04-08T14:10:27",
          "2022-04-08T14:10:27",
          "2022-04-08T14:10:27",
          "2022-04-08T14:10:27",
          "2022-04-08T14:10:27",
          "2022-04-08T14:10:27",
          "2022-04-08T14:10:27",
          "2022-04-08T14:10:27",
          "2022-04-08T14:10:27",
          "2022-04-08T14:10:27",
          "2022-04-08T14:10:27",
          "2022-04-08T14:10:27",
          "2022-04-08T14:10:27",
          "2022-04-08T14:10:27",
          "2022-04-08T14:10:27",
          "2022-04-08T14:10:27",
          "2022-04-08T14:10:27",
          "2022-04-08T14:54:34",
          "2022-04-08T14:54:34",
          "2022-04-08T14:54:34",
          "2022-04-08T14:54:34",
          "2022-04-08T14:54:34",
          "2022-04-08T14:54:34",
          "2022-04-08T14:54:34",
          "2022-04-08T14:54:34",
          "2022-04-08T14:54:34",
          "2022-04-08T14:54:34",
          "2022-04-08T14:54:34",
          "2022-04-08T14:54:34",
          "2022-04-08T14:54:34",
          "2022-04-08T14:54:34",
          "2022-04-08T14:54:34",
          "2022-04-08T14:54:34",
          "2022-04-08T14:54:34",
          "2022-04-08T14:54:34",
          "2022-04-08T15:20:12",
          "2022-04-08T15:20:12",
          "2022-04-08T15:20:12",
          "2022-04-08T15:20:12",
          "2022-04-08T15:20:12",
          "2022-04-08T15:20:12",
          "2022-04-08T15:20:12",
          "2022-04-08T15:20:12",
          "2022-04-08T15:20:12",
          "2022-04-08T15:20:12",
          "2022-04-08T15:20:12",
          "2022-04-08T15:20:12",
          "2022-04-08T15:20:12",
          "2022-04-08T15:20:12",
          "2022-04-08T15:20:12",
          "2022-04-08T15:20:12",
          "2022-04-08T15:20:12",
          "2022-04-08T15:20:12",
          "2022-04-10T12:05:26",
          "2022-04-10T12:05:26",
          "2022-04-10T12:05:26",
          "2022-04-10T12:05:26",
          "2022-04-10T12:05:26",
          "2022-04-10T12:05:26",
          "2022-04-10T12:05:26",
          "2022-04-10T12:05:26",
          "2022-04-10T12:05:26",
          "2022-04-10T12:05:26",
          "2022-04-10T12:05:26",
          "2022-04-10T12:05:26",
          "2022-04-10T12:05:26",
          "2022-04-10T12:05:26",
          "2022-04-10T12:05:26",
          "2022-04-10T12:05:26",
          "2022-04-10T12:05:26",
          "2022-04-10T12:05:26",
          "2022-04-10T12:09:37",
          "2022-04-10T12:09:37",
          "2022-04-10T12:09:37",
          "2022-04-10T12:09:37",
          "2022-04-10T12:09:37",
          "2022-04-10T12:09:37",
          "2022-04-10T12:09:37",
          "2022-04-10T12:09:37",
          "2022-04-10T12:09:37",
          "2022-04-10T12:09:37",
          "2022-04-10T12:09:37",
          "2022-04-10T12:09:37",
          "2022-04-10T12:09:37",
          "2022-04-10T12:09:37",
          "2022-04-10T12:09:37",
          "2022-04-10T12:09:37",
          "2022-04-10T12:09:37",
          "2022-04-10T12:09:37",
          "2022-04-10T17:06:44",
          "2022-04-10T17:06:44",
          "2022-04-10T17:06:44",
          "2022-04-10T17:06:44",
          "2022-04-10T17:06:44",
          "2022-04-10T17:06:44",
          "2022-04-10T17:06:44",
          "2022-04-10T17:06:44",
          "2022-04-10T17:06:44",
          "2022-04-10T17:06:44",
          "2022-04-10T17:06:44",
          "2022-04-10T17:06:44",
          "2022-04-10T17:06:44",
          "2022-04-10T17:06:44",
          "2022-04-10T17:06:44",
          "2022-04-10T17:06:44",
          "2022-04-10T17:06:44",
          "2022-04-10T17:06:44",
          "2022-04-12T04:04:24",
          "2022-04-12T04:04:24",
          "2022-04-12T04:04:24",
          "2022-04-12T04:04:24",
          "2022-04-12T04:04:24",
          "2022-04-12T04:04:24",
          "2022-04-12T04:04:24",
          "2022-04-12T04:04:24",
          "2022-04-12T04:04:24",
          "2022-04-12T04:04:24",
          "2022-04-12T04:04:24",
          "2022-04-12T04:04:24",
          "2022-04-12T04:04:24",
          "2022-04-12T04:04:24",
          "2022-04-12T04:04:24",
          "2022-04-12T04:04:24",
          "2022-04-12T04:04:24",
          "2022-04-12T04:04:24",
          "2022-04-12T05:03:12",
          "2022-04-12T05:03:12",
          "2022-04-12T05:03:13",
          "2022-04-12T05:03:13",
          "2022-04-12T05:03:13",
          "2022-04-12T05:03:13",
          "2022-04-12T05:03:13",
          "2022-04-12T05:03:13",
          "2022-04-12T05:03:13",
          "2022-04-12T05:03:13",
          "2022-04-12T05:03:13",
          "2022-04-12T05:03:13",
          "2022-04-12T05:03:13",
          "2022-04-12T05:03:13",
          "2022-04-12T05:03:13",
          "2022-04-12T05:03:13",
          "2022-04-12T05:03:13",
          "2022-04-12T05:03:13",
          "2022-04-12T05:09:47",
          "2022-04-12T05:09:47",
          "2022-04-12T05:09:47",
          "2022-04-12T05:09:47",
          "2022-04-12T05:09:47",
          "2022-04-12T05:09:47",
          "2022-04-12T05:09:47",
          "2022-04-12T05:09:47",
          "2022-04-12T05:09:47",
          "2022-04-12T05:09:47",
          "2022-04-12T05:09:47",
          "2022-04-12T05:09:47",
          "2022-04-12T05:09:47",
          "2022-04-12T05:09:47",
          "2022-04-12T05:09:47",
          "2022-04-12T05:09:47",
          "2022-04-12T05:09:47",
          "2022-04-12T05:09:47",
          "2022-04-12T06:29:41",
          "2022-04-12T06:29:41",
          "2022-04-12T06:29:41",
          "2022-04-12T06:29:41",
          "2022-04-12T06:29:41",
          "2022-04-12T06:29:41",
          "2022-04-12T06:29:41",
          "2022-04-12T06:29:41",
          "2022-04-12T06:29:41",
          "2022-04-12T06:29:41",
          "2022-04-12T06:29:41",
          "2022-04-12T06:29:41",
          "2022-04-12T06:29:41",
          "2022-04-12T06:29:41",
          "2022-04-12T06:29:41",
          "2022-04-12T06:29:41",
          "2022-04-12T06:29:41",
          "2022-04-12T06:29:41",
          "2022-04-12T06:39:23",
          "2022-04-12T06:39:23",
          "2022-04-12T06:39:23",
          "2022-04-12T06:39:23",
          "2022-04-12T06:39:23",
          "2022-04-12T06:39:23",
          "2022-04-12T06:39:23",
          "2022-04-12T06:39:23",
          "2022-04-12T06:39:23",
          "2022-04-12T06:39:23",
          "2022-04-12T06:39:23",
          "2022-04-12T06:39:23",
          "2022-04-12T06:39:23",
          "2022-04-12T06:39:23",
          "2022-04-12T06:39:23",
          "2022-04-12T06:39:23",
          "2022-04-12T06:39:23",
          "2022-04-12T06:39:23",
          "2022-04-14T06:44:40",
          "2022-04-14T06:44:40",
          "2022-04-14T06:44:40",
          "2022-04-14T06:44:40",
          "2022-04-14T06:44:40",
          "2022-04-14T06:44:40",
          "2022-04-14T06:44:40",
          "2022-04-14T06:44:40",
          "2022-04-14T06:44:40",
          "2022-04-14T06:44:40",
          "2022-04-14T06:44:40",
          "2022-04-14T06:44:40",
          "2022-04-14T06:44:41",
          "2022-04-14T06:44:41",
          "2022-04-14T06:44:41",
          "2022-04-14T06:44:41",
          "2022-04-14T06:44:41",
          "2022-04-14T06:44:41",
          "2022-04-15T07:25:02",
          "2022-04-15T07:25:02",
          "2022-04-15T07:25:02",
          "2022-04-15T07:25:02",
          "2022-04-15T07:25:02",
          "2022-04-15T07:25:02",
          "2022-04-15T07:25:02",
          "2022-04-15T07:25:02",
          "2022-04-15T07:25:02",
          "2022-04-15T07:25:02",
          "2022-04-15T07:25:02",
          "2022-04-15T07:25:02",
          "2022-04-15T07:25:02",
          "2022-04-15T07:25:02",
          "2022-04-15T07:25:02",
          "2022-04-15T07:25:02",
          "2022-04-15T07:25:02",
          "2022-04-15T07:25:02",
          "2022-04-15T07:38:16",
          "2022-04-15T07:38:16",
          "2022-04-15T07:38:16",
          "2022-04-15T07:38:16",
          "2022-04-15T07:38:16",
          "2022-04-15T07:38:16",
          "2022-04-15T07:38:16",
          "2022-04-15T07:38:16",
          "2022-04-15T07:38:16",
          "2022-04-15T07:38:16",
          "2022-04-15T07:38:16",
          "2022-04-15T07:38:16",
          "2022-04-15T07:38:16",
          "2022-04-15T07:38:16",
          "2022-04-15T07:38:16",
          "2022-04-15T07:38:16",
          "2022-04-15T07:38:16",
          "2022-04-15T07:38:16",
          "2022-04-16T03:36:56",
          "2022-04-16T03:36:56",
          "2022-04-16T03:36:56",
          "2022-04-16T03:36:56",
          "2022-04-16T03:36:56",
          "2022-04-16T03:36:56",
          "2022-04-16T03:36:56",
          "2022-04-16T03:36:56",
          "2022-04-16T03:36:56",
          "2022-04-16T03:36:56",
          "2022-04-16T03:36:56",
          "2022-04-16T03:36:56",
          "2022-04-16T03:36:56",
          "2022-04-16T03:36:56",
          "2022-04-16T03:36:56",
          "2022-04-16T03:36:56",
          "2022-04-16T03:36:56",
          "2022-04-16T03:36:56",
          "2022-04-16T03:37:33",
          "2022-04-16T03:37:33",
          "2022-04-16T03:37:33",
          "2022-04-16T03:37:33",
          "2022-04-16T03:37:33",
          "2022-04-16T03:37:33",
          "2022-04-16T03:37:33",
          "2022-04-16T03:37:33",
          "2022-04-16T03:37:33",
          "2022-04-16T03:37:33",
          "2022-04-16T03:37:33",
          "2022-04-16T03:37:33",
          "2022-04-16T03:37:33",
          "2022-04-16T03:37:33",
          "2022-04-16T03:37:33",
          "2022-04-16T03:37:33",
          "2022-04-16T03:37:33",
          "2022-04-16T03:37:33",
          "2022-04-16T03:51:57",
          "2022-04-16T03:51:57",
          "2022-04-16T03:51:57",
          "2022-04-16T03:51:57",
          "2022-04-16T03:51:57",
          "2022-04-16T03:51:57",
          "2022-04-16T03:51:57",
          "2022-04-16T03:51:57",
          "2022-04-16T03:51:57",
          "2022-04-16T03:51:57",
          "2022-04-16T03:51:57",
          "2022-04-16T03:51:57",
          "2022-04-16T03:51:57",
          "2022-04-16T03:51:57",
          "2022-04-16T03:51:57",
          "2022-04-16T03:51:57",
          "2022-04-16T03:51:57",
          "2022-04-16T03:51:57",
          "2022-04-18T10:53:27",
          "2022-04-18T10:53:27",
          "2022-04-18T10:53:27",
          "2022-04-18T10:53:27",
          "2022-04-18T10:53:27",
          "2022-04-18T10:53:27",
          "2022-04-18T10:53:27",
          "2022-04-18T10:53:27",
          "2022-04-18T10:53:27",
          "2022-04-18T10:53:27",
          "2022-04-18T10:53:27",
          "2022-04-18T10:53:27",
          "2022-04-18T10:53:27",
          "2022-04-18T10:53:27",
          "2022-04-18T10:53:27",
          "2022-04-18T10:53:27",
          "2022-04-18T10:53:27",
          "2022-04-18T10:53:27",
          "2022-04-19T13:53:29",
          "2022-04-19T13:53:29",
          "2022-04-19T13:53:29",
          "2022-04-19T13:53:29",
          "2022-04-19T13:53:29",
          "2022-04-19T13:53:29",
          "2022-04-19T13:53:29",
          "2022-04-19T13:53:29",
          "2022-04-19T13:53:29",
          "2022-04-19T13:53:29",
          "2022-04-19T13:53:29",
          "2022-04-19T13:53:29",
          "2022-04-19T13:53:29",
          "2022-04-19T13:53:29",
          "2022-04-19T13:53:29",
          "2022-04-19T13:53:29",
          "2022-04-19T13:53:29",
          "2022-04-19T13:53:29",
          "2022-04-20T11:48:29",
          "2022-04-20T11:48:29",
          "2022-04-20T11:48:29",
          "2022-04-20T11:48:29",
          "2022-04-20T11:48:29",
          "2022-04-20T11:48:29",
          "2022-04-20T11:48:29",
          "2022-04-20T11:48:29",
          "2022-04-20T11:48:29",
          "2022-04-20T11:48:29",
          "2022-04-20T11:48:29",
          "2022-04-20T11:48:29",
          "2022-04-20T11:48:29",
          "2022-04-20T11:48:29",
          "2022-04-20T11:48:29",
          "2022-04-20T11:48:29",
          "2022-04-20T11:48:29",
          "2022-04-20T11:48:29",
          "2022-04-22T15:10:50",
          "2022-04-22T15:10:50",
          "2022-04-22T15:10:50",
          "2022-04-22T15:10:50",
          "2022-04-22T15:10:50",
          "2022-04-22T15:10:50",
          "2022-04-22T15:10:50",
          "2022-04-22T15:10:50",
          "2022-04-22T15:10:50",
          "2022-04-22T15:10:50",
          "2022-04-22T15:10:50",
          "2022-04-22T15:10:50",
          "2022-04-22T15:10:50",
          "2022-04-22T15:10:50",
          "2022-04-22T15:10:50",
          "2022-04-22T15:10:50",
          "2022-04-22T15:10:50",
          "2022-04-22T15:10:50",
          "2022-04-25T08:45:15",
          "2022-04-25T08:45:15",
          "2022-04-25T08:45:15",
          "2022-04-25T08:45:15",
          "2022-04-25T08:45:15",
          "2022-04-25T08:45:15",
          "2022-04-25T08:45:15",
          "2022-04-25T08:45:15",
          "2022-04-25T08:45:15",
          "2022-04-25T08:45:15",
          "2022-04-25T08:45:15",
          "2022-04-25T08:45:15",
          "2022-04-25T08:45:15",
          "2022-04-25T08:45:15",
          "2022-04-25T08:45:15",
          "2022-04-25T08:45:15",
          "2022-04-25T08:45:15",
          "2022-04-25T08:45:15",
          "2022-04-25T08:55:48",
          "2022-04-25T08:55:48",
          "2022-04-25T08:55:48",
          "2022-04-25T08:55:48",
          "2022-04-25T08:55:48",
          "2022-04-25T08:55:48",
          "2022-04-25T08:55:48",
          "2022-04-25T08:55:48",
          "2022-04-25T08:55:48",
          "2022-04-25T08:55:48",
          "2022-04-25T08:55:48",
          "2022-04-25T08:55:48",
          "2022-04-25T08:55:48",
          "2022-04-25T08:55:48",
          "2022-04-25T08:55:48",
          "2022-04-25T08:55:48",
          "2022-04-25T08:55:48",
          "2022-04-25T08:55:48",
          "2022-04-25T08:58:56",
          "2022-04-25T08:58:56",
          "2022-04-25T08:58:56",
          "2022-04-25T08:58:56",
          "2022-04-25T08:58:56",
          "2022-04-25T08:58:56",
          "2022-04-25T08:58:56",
          "2022-04-25T08:58:56",
          "2022-04-25T08:58:56",
          "2022-04-25T08:58:56",
          "2022-04-25T08:58:56",
          "2022-04-25T08:58:56",
          "2022-04-25T08:58:56",
          "2022-04-25T08:58:56",
          "2022-04-25T08:58:56",
          "2022-04-25T08:58:56",
          "2022-04-25T08:58:56",
          "2022-04-25T08:58:56"
         ],
         "xaxis": "x",
         "y": [
          "",
          "",
          "",
          "",
          "",
          "",
          "",
          "",
          "",
          "",
          "",
          "",
          "",
          "",
          "",
          "",
          "",
          "",
          "",
          "",
          "",
          "",
          "",
          "",
          "",
          "",
          "",
          "",
          "",
          "",
          "",
          "",
          "",
          "",
          "",
          "",
          "",
          "",
          "",
          "",
          "",
          "",
          "",
          "",
          "",
          "",
          "",
          "",
          "",
          "",
          "",
          "",
          "",
          "",
          "",
          "",
          "",
          "",
          "",
          "",
          "",
          "",
          "",
          "",
          "",
          "",
          "",
          "",
          "",
          "",
          "",
          "",
          "",
          "",
          "",
          "",
          "",
          "",
          "",
          "",
          "",
          "",
          "",
          "",
          "",
          "",
          "",
          "",
          "",
          "",
          "",
          "",
          "",
          "",
          "",
          "",
          "",
          "",
          "",
          "",
          "",
          "",
          "",
          "",
          "",
          "",
          "",
          "",
          "",
          "",
          "",
          "",
          "",
          "",
          "",
          "",
          "",
          "",
          "",
          "",
          "",
          "",
          "",
          "",
          "",
          "",
          "",
          "",
          "",
          "",
          "",
          "",
          "",
          "",
          "",
          "",
          "",
          "",
          "",
          "",
          "",
          "",
          "",
          "",
          "",
          "",
          "",
          "",
          "",
          "",
          "",
          "",
          "",
          "",
          "",
          "",
          "",
          "",
          "",
          "",
          "",
          "",
          "",
          "",
          "",
          "",
          "",
          "",
          "",
          "",
          "",
          "",
          "",
          "",
          "",
          "",
          "",
          "",
          "",
          "",
          "",
          "",
          "",
          "",
          "",
          "",
          "",
          "",
          "",
          "",
          "",
          "",
          "",
          "",
          "",
          "",
          "",
          "",
          "",
          "",
          "",
          "",
          "",
          "",
          "",
          "",
          "",
          "",
          "",
          "",
          "",
          "",
          "",
          "",
          "",
          "",
          "",
          "",
          "",
          "",
          "",
          "",
          "",
          "",
          "",
          "",
          "",
          "",
          "",
          "",
          "",
          "",
          "",
          "",
          "",
          "",
          "",
          "",
          "",
          "",
          "",
          "",
          "",
          "",
          "",
          "",
          "",
          "",
          "",
          "",
          "",
          "",
          "",
          "",
          "",
          "",
          "",
          "",
          "",
          "",
          "",
          "",
          "",
          "",
          "",
          "",
          "",
          "",
          "",
          "",
          "",
          "",
          "",
          "",
          "",
          "",
          "",
          "",
          "",
          "",
          "",
          "",
          "",
          "",
          "",
          "",
          "",
          "",
          "",
          "",
          "",
          "",
          "",
          "",
          "",
          "",
          "",
          "",
          "",
          "",
          "",
          "",
          "",
          "",
          "",
          "",
          "",
          "",
          "",
          "",
          "",
          "",
          "",
          "",
          "",
          "",
          "",
          "",
          "",
          "",
          "",
          "",
          "",
          "",
          "",
          "",
          "",
          "",
          "",
          "",
          "",
          "",
          "",
          "",
          "",
          "",
          "",
          "",
          "",
          "",
          "",
          "",
          "",
          "",
          "",
          "",
          "",
          "",
          "",
          "",
          "",
          "",
          "",
          "",
          "",
          "",
          "",
          "",
          "",
          "",
          "",
          "",
          "",
          "",
          "",
          "",
          "",
          "",
          "",
          "",
          "",
          "",
          "",
          "",
          "",
          "",
          "",
          "",
          "",
          "",
          "",
          "",
          "",
          "",
          "",
          "",
          "",
          "",
          "",
          "",
          "",
          "",
          "",
          "",
          "",
          "",
          "",
          "",
          "",
          "",
          "",
          "",
          "",
          "",
          "",
          "",
          "",
          "",
          "",
          "",
          "",
          "",
          "",
          "",
          "",
          "",
          "",
          "",
          "",
          "",
          "",
          "",
          "",
          "",
          "",
          "",
          "",
          "",
          "",
          "",
          "",
          "",
          "",
          "",
          "",
          "",
          "",
          "",
          "",
          "",
          "",
          "",
          "",
          "",
          "",
          "",
          "",
          "",
          "",
          "",
          "",
          "",
          "",
          "",
          "",
          "",
          "",
          "",
          "",
          "",
          "",
          "",
          "",
          "",
          "",
          "",
          "",
          "",
          "",
          "",
          "",
          "",
          "",
          "",
          "",
          "",
          "",
          "",
          "",
          "",
          "",
          "",
          "",
          "",
          "",
          "",
          "",
          "",
          "",
          "",
          "",
          "",
          "",
          "",
          "",
          "",
          "",
          "",
          "",
          "",
          "",
          "",
          "",
          "",
          "",
          "",
          "",
          "",
          "",
          "",
          "",
          "",
          "",
          "",
          "",
          "",
          "",
          "",
          "",
          "",
          "",
          "",
          "",
          "",
          "",
          "",
          "",
          "",
          "",
          "",
          "",
          "",
          "",
          "",
          "",
          "",
          "",
          "",
          "",
          "",
          "",
          "",
          "",
          "",
          "",
          "",
          "",
          "",
          "",
          "",
          "",
          "",
          "",
          "",
          "",
          "",
          "",
          "",
          "",
          "",
          "",
          "",
          "",
          "",
          "",
          "",
          "",
          "",
          "",
          "",
          "",
          "",
          "",
          "",
          "",
          "",
          "",
          "",
          "",
          "",
          "",
          "",
          "",
          "",
          "",
          "",
          "",
          "",
          "",
          "",
          "",
          "",
          "",
          "",
          "",
          "",
          "",
          "",
          "",
          "",
          "",
          "",
          "",
          "",
          "",
          "",
          "",
          "",
          "",
          "",
          "",
          "",
          "",
          "",
          "",
          "",
          "",
          "",
          "",
          "",
          "",
          "",
          "",
          "",
          "",
          "",
          "",
          "",
          "",
          "",
          "",
          "",
          "",
          "",
          "",
          "",
          "",
          "",
          "",
          "",
          "",
          "",
          "",
          "",
          "",
          "",
          "",
          "",
          "",
          "",
          "",
          "",
          "",
          "",
          "",
          "",
          "",
          "",
          "",
          "",
          "",
          "",
          "",
          "",
          "",
          "",
          "",
          "",
          "",
          "",
          "",
          "",
          "",
          "",
          "",
          "",
          "",
          "",
          "",
          "",
          "",
          "",
          "",
          "",
          "",
          "",
          "",
          "",
          "",
          "",
          "",
          "",
          "",
          "",
          "",
          "",
          "",
          "",
          "",
          "",
          "",
          "",
          "",
          "",
          "",
          "",
          "",
          "",
          "",
          "",
          "",
          "",
          "",
          "",
          "",
          "",
          "",
          "",
          "",
          "",
          "",
          "",
          "",
          "",
          "",
          "",
          "",
          "",
          "",
          "",
          "",
          "",
          "",
          "",
          "",
          "",
          "",
          "",
          "",
          "",
          "",
          "",
          "",
          "",
          "",
          "",
          "",
          "",
          "",
          "",
          "",
          "",
          "",
          "",
          "",
          "",
          "",
          "",
          "",
          "",
          "",
          "",
          "",
          "",
          "",
          "",
          "",
          "",
          "",
          "",
          "",
          "",
          "",
          "",
          "",
          "",
          "",
          "",
          "",
          "",
          "",
          "",
          "",
          "",
          "",
          "",
          "",
          "",
          "",
          "",
          "",
          "",
          "",
          "",
          "",
          "",
          "",
          "",
          "",
          "",
          "",
          "",
          "",
          "",
          "",
          "",
          "",
          "",
          "",
          "",
          "",
          "",
          "",
          "",
          "",
          "",
          "",
          "",
          "",
          "",
          "",
          "",
          "",
          "",
          "",
          "",
          "",
          "",
          "",
          "",
          "",
          "",
          "",
          "",
          "",
          "",
          "",
          "",
          "",
          "",
          "",
          "",
          "",
          "",
          "",
          "",
          "",
          "",
          "",
          "",
          "",
          "",
          "",
          "",
          "",
          "",
          "",
          "",
          "",
          "",
          "",
          "",
          "",
          "",
          "",
          "",
          "",
          "",
          "",
          "",
          "",
          "",
          "",
          "",
          "",
          "",
          "",
          "",
          "",
          "",
          "",
          "",
          "",
          "",
          "",
          "",
          "",
          "",
          "",
          "",
          "",
          "",
          "",
          "",
          "",
          "",
          "",
          "",
          "",
          "",
          "",
          "",
          "",
          "",
          "",
          "",
          "",
          "",
          "",
          "",
          "",
          "",
          "",
          "",
          "",
          "",
          "",
          "",
          "",
          "",
          "",
          "",
          "",
          "",
          "",
          "",
          "",
          "",
          "",
          "",
          "",
          "",
          "",
          "",
          "",
          ""
         ],
         "yaxis": "y"
        },
        {
         "hovertemplate": "Issues=%{y}<br>Issues_created=%{x}<extra></extra>",
         "legendgroup": "HIGH",
         "line": {
          "color": "#EF553B",
          "dash": "solid"
         },
         "marker": {
          "symbol": "circle"
         },
         "mode": "lines",
         "name": "HIGH",
         "showlegend": true,
         "type": "scattergl",
         "x": [
          "2022-03-01T11:36:17",
          "2022-03-02T07:59:04",
          "2022-03-03T11:09:44",
          "2022-03-07T12:25:48",
          "2022-03-08T04:39:11",
          "2022-03-08T05:22:01",
          "2022-03-18T08:49:02",
          "2022-03-20T15:13:37",
          "2022-03-21T04:46:40",
          "2022-03-21T04:51:16",
          "2022-03-23T14:23:50",
          "2022-03-23T16:03:42",
          "2022-03-23T16:11:13",
          "2022-03-23T16:44:19",
          "2022-03-23T16:58:48",
          "2022-03-25T10:45:46",
          "2022-03-26T10:29:38",
          "2022-03-26T10:34:44",
          "2022-03-29T11:51:12",
          "2022-04-01T12:35:29",
          "2022-04-01T12:36:50",
          "2022-04-04T07:52:49",
          "2022-04-04T10:07:36",
          "2022-04-04T13:29:52",
          "2022-04-04T13:59:14",
          "2022-04-04T14:17:23",
          "2022-04-04T14:26:11",
          "2022-04-04T15:53:55",
          "2022-04-04T16:42:23",
          "2022-04-04T18:39:05",
          "2022-04-05T02:58:39",
          "2022-04-05T03:14:22",
          "2022-04-05T03:24:32",
          "2022-04-05T04:35:12",
          "2022-04-05T04:44:18",
          "2022-04-05T05:40:55",
          "2022-04-06T04:34:38",
          "2022-04-06T05:23:13",
          "2022-04-08T06:22:12",
          "2022-04-08T06:25:10",
          "2022-04-08T07:57:54",
          "2022-04-08T08:17:42",
          "2022-04-08T08:21:55",
          "2022-04-08T08:45:48",
          "2022-04-08T08:51:25",
          "2022-04-08T10:01:45",
          "2022-04-08T10:15:25",
          "2022-04-08T10:25:31",
          "2022-04-08T11:25:00",
          "2022-04-08T11:34:07",
          "2022-04-08T14:14:55",
          "2022-04-10T10:37:50",
          "2022-04-10T10:38:21",
          "2022-04-10T10:42:22",
          "2022-04-10T11:00:04",
          "2022-04-10T11:04:14",
          "2022-04-10T11:07:47",
          "2022-04-10T11:16:57",
          "2022-04-11T17:34:57",
          "2022-04-12T04:32:51",
          "2022-04-12T06:57:45",
          "2022-04-12T16:51:55",
          "2022-04-13T08:51:09",
          "2022-04-14T14:55:24",
          "2022-04-15T11:54:02",
          "2022-04-16T07:57:44",
          "2022-04-28T18:26:55",
          "2022-04-28T18:34:01",
          "2022-04-29T03:52:13",
          "2022-04-29T04:46:26",
          "2022-04-29T13:18:48",
          "2022-05-02T14:03:54",
          "2022-05-02T14:42:36",
          "2022-05-02T16:31:41",
          "2022-05-02T16:33:05",
          "2022-05-02T16:44:40",
          "2022-05-02T17:15:49",
          "2022-05-04T09:58:21",
          "2022-05-05T14:15:34"
         ],
         "xaxis": "x",
         "y": [
          "HIGH",
          "HIGH",
          "HIGH",
          "HIGH",
          "HIGH",
          "HIGH",
          "HIGH",
          "HIGH",
          "HIGH",
          "HIGH",
          "HIGH",
          "HIGH",
          "HIGH",
          "HIGH",
          "HIGH",
          "HIGH",
          "HIGH",
          "HIGH",
          "HIGH",
          "HIGH",
          "HIGH",
          "HIGH",
          "HIGH",
          "HIGH",
          "HIGH",
          "HIGH",
          "HIGH",
          "HIGH",
          "HIGH",
          "HIGH",
          "HIGH",
          "HIGH",
          "HIGH",
          "HIGH",
          "HIGH",
          "HIGH",
          "HIGH",
          "HIGH",
          "HIGH",
          "HIGH",
          "HIGH",
          "HIGH",
          "HIGH",
          "HIGH",
          "HIGH",
          "HIGH",
          "HIGH",
          "HIGH",
          "HIGH",
          "HIGH",
          "HIGH",
          "HIGH",
          "HIGH",
          "HIGH",
          "HIGH",
          "HIGH",
          "HIGH",
          "HIGH",
          "HIGH",
          "HIGH",
          "HIGH",
          "HIGH",
          "HIGH",
          "HIGH",
          "HIGH",
          "HIGH",
          "HIGH",
          "HIGH",
          "HIGH",
          "HIGH",
          "HIGH",
          "HIGH",
          "HIGH",
          "HIGH",
          "HIGH",
          "HIGH",
          "HIGH",
          "HIGH",
          "HIGH"
         ],
         "yaxis": "y"
        },
        {
         "hovertemplate": "Issues=%{y}<br>Issues_created=%{x}<extra></extra>",
         "legendgroup": "LOW",
         "line": {
          "color": "#00cc96",
          "dash": "solid"
         },
         "marker": {
          "symbol": "circle"
         },
         "mode": "lines",
         "name": "LOW",
         "showlegend": true,
         "type": "scattergl",
         "x": [
          "2022-03-01T11:36:17",
          "2022-03-01T11:36:17",
          "2022-03-01T11:36:17",
          "2022-03-02T07:59:04",
          "2022-03-02T07:59:04",
          "2022-03-02T07:59:04",
          "2022-03-03T11:09:44",
          "2022-03-03T11:09:44",
          "2022-03-03T11:09:44",
          "2022-03-07T12:25:48",
          "2022-03-07T12:25:48",
          "2022-03-07T12:25:48",
          "2022-03-08T04:39:11",
          "2022-03-08T04:39:11",
          "2022-03-08T04:39:11",
          "2022-03-08T05:22:01",
          "2022-03-08T05:22:01",
          "2022-03-08T05:22:01",
          "2022-03-18T08:49:03",
          "2022-03-18T08:49:03",
          "2022-03-18T08:49:03",
          "2022-03-20T15:13:37",
          "2022-03-20T15:13:37",
          "2022-03-20T15:13:37",
          "2022-03-21T04:46:40",
          "2022-03-21T04:46:40",
          "2022-03-21T04:46:40",
          "2022-03-21T04:51:16",
          "2022-03-21T04:51:16",
          "2022-03-21T04:51:16",
          "2022-03-23T14:23:50",
          "2022-03-23T14:23:50",
          "2022-03-23T14:23:50",
          "2022-03-23T16:03:42",
          "2022-03-23T16:03:42",
          "2022-03-23T16:03:42",
          "2022-03-23T16:11:13",
          "2022-03-23T16:11:13",
          "2022-03-23T16:11:13",
          "2022-03-23T16:44:19",
          "2022-03-23T16:44:19",
          "2022-03-23T16:44:19",
          "2022-03-23T16:58:48",
          "2022-03-23T16:58:48",
          "2022-03-23T16:58:48",
          "2022-03-26T10:29:38",
          "2022-03-26T10:29:38",
          "2022-03-26T10:29:38",
          "2022-03-26T10:34:44",
          "2022-03-26T10:34:44",
          "2022-03-26T10:34:44",
          "2022-04-01T12:35:29",
          "2022-04-01T12:35:29",
          "2022-04-01T12:35:29",
          "2022-04-01T12:36:50",
          "2022-04-01T12:36:50",
          "2022-04-01T12:36:50",
          "2022-04-04T07:52:49",
          "2022-04-04T07:52:49",
          "2022-04-04T07:52:49",
          "2022-04-04T10:07:37",
          "2022-04-04T10:07:37",
          "2022-04-04T10:07:37",
          "2022-04-04T13:29:52",
          "2022-04-04T13:29:52",
          "2022-04-04T13:29:52",
          "2022-04-04T13:59:14",
          "2022-04-04T13:59:14",
          "2022-04-04T13:59:14",
          "2022-04-04T14:17:23",
          "2022-04-04T14:17:23",
          "2022-04-04T14:17:23",
          "2022-04-04T14:26:11",
          "2022-04-04T14:26:11",
          "2022-04-04T14:26:11",
          "2022-04-04T15:53:55",
          "2022-04-04T15:53:55",
          "2022-04-04T15:53:55",
          "2022-04-04T16:42:23",
          "2022-04-04T16:42:23",
          "2022-04-04T16:42:23",
          "2022-04-04T18:39:05",
          "2022-04-04T18:39:05",
          "2022-04-04T18:39:05",
          "2022-04-05T02:58:39",
          "2022-04-05T02:58:39",
          "2022-04-05T02:58:39",
          "2022-04-05T03:14:22",
          "2022-04-05T03:14:22",
          "2022-04-05T03:14:22",
          "2022-04-05T03:24:32",
          "2022-04-05T03:24:32",
          "2022-04-05T03:24:32",
          "2022-04-05T04:35:12",
          "2022-04-05T04:35:13",
          "2022-04-05T04:35:13",
          "2022-04-05T04:44:18",
          "2022-04-05T04:44:18",
          "2022-04-05T04:44:18",
          "2022-04-05T05:40:55",
          "2022-04-05T05:40:55",
          "2022-04-05T05:40:55",
          "2022-04-06T04:34:38",
          "2022-04-06T04:34:38",
          "2022-04-06T04:34:38",
          "2022-04-06T05:23:13",
          "2022-04-06T05:23:13",
          "2022-04-06T05:23:13",
          "2022-04-08T06:22:12",
          "2022-04-08T06:22:12",
          "2022-04-08T06:22:12",
          "2022-04-08T06:25:10",
          "2022-04-08T06:25:10",
          "2022-04-08T06:25:10",
          "2022-04-08T07:57:54",
          "2022-04-08T07:57:54",
          "2022-04-08T07:57:54",
          "2022-04-08T08:17:42",
          "2022-04-08T08:17:42",
          "2022-04-08T08:17:42",
          "2022-04-08T08:21:55",
          "2022-04-08T08:21:55",
          "2022-04-08T08:21:55",
          "2022-04-08T08:45:48",
          "2022-04-08T08:45:48",
          "2022-04-08T08:45:48",
          "2022-04-08T08:51:25",
          "2022-04-08T08:51:25",
          "2022-04-08T08:51:25",
          "2022-04-08T10:01:45",
          "2022-04-08T10:01:45",
          "2022-04-08T10:01:45",
          "2022-04-08T10:15:25",
          "2022-04-08T10:15:25",
          "2022-04-08T10:15:25",
          "2022-04-08T10:25:31",
          "2022-04-08T10:25:31",
          "2022-04-08T10:25:31",
          "2022-04-08T11:25:00",
          "2022-04-08T11:25:00",
          "2022-04-08T11:25:00",
          "2022-04-08T11:34:07",
          "2022-04-08T11:34:07",
          "2022-04-08T11:34:07",
          "2022-04-08T14:14:55",
          "2022-04-08T14:14:55",
          "2022-04-08T14:14:55",
          "2022-04-10T10:37:50",
          "2022-04-10T10:37:50",
          "2022-04-10T10:37:50",
          "2022-04-10T10:38:21",
          "2022-04-10T10:38:21",
          "2022-04-10T10:38:21",
          "2022-04-10T10:42:22",
          "2022-04-10T10:42:22",
          "2022-04-10T10:42:22",
          "2022-04-10T11:00:04",
          "2022-04-10T11:00:04",
          "2022-04-10T11:00:04",
          "2022-04-10T11:04:14",
          "2022-04-10T11:04:14",
          "2022-04-10T11:04:14",
          "2022-04-10T11:07:47",
          "2022-04-10T11:07:47",
          "2022-04-10T11:07:47",
          "2022-04-10T11:16:57",
          "2022-04-10T11:16:57",
          "2022-04-10T11:16:57",
          "2022-04-11T17:34:57",
          "2022-04-11T17:34:57",
          "2022-04-11T17:34:57",
          "2022-04-12T04:32:51",
          "2022-04-12T04:32:51",
          "2022-04-12T04:32:51",
          "2022-04-12T06:57:46",
          "2022-04-12T06:57:46",
          "2022-04-12T06:57:46",
          "2022-04-12T16:51:55",
          "2022-04-12T16:51:55",
          "2022-04-12T16:51:55",
          "2022-04-13T08:51:09",
          "2022-04-13T08:51:09",
          "2022-04-13T08:51:09",
          "2022-04-14T14:55:24",
          "2022-04-14T14:55:24",
          "2022-04-14T14:55:24",
          "2022-04-15T11:54:02",
          "2022-04-15T11:54:02",
          "2022-04-15T11:54:02",
          "2022-04-16T07:57:44",
          "2022-04-16T07:57:44",
          "2022-04-16T07:57:44",
          "2022-04-28T18:26:55",
          "2022-04-28T18:26:55",
          "2022-04-28T18:26:55",
          "2022-04-28T18:34:01",
          "2022-04-28T18:34:01",
          "2022-04-28T18:34:01",
          "2022-04-29T03:52:13",
          "2022-04-29T03:52:13",
          "2022-04-29T03:52:13",
          "2022-04-29T04:46:26",
          "2022-04-29T04:46:26",
          "2022-04-29T04:46:26",
          "2022-04-29T13:18:48",
          "2022-04-29T13:18:48",
          "2022-04-29T13:18:49",
          "2022-05-02T14:03:54",
          "2022-05-02T14:03:54",
          "2022-05-02T14:03:54",
          "2022-05-02T14:42:36",
          "2022-05-02T14:42:36",
          "2022-05-02T14:42:36",
          "2022-05-02T16:31:41",
          "2022-05-02T16:31:41",
          "2022-05-02T16:31:41",
          "2022-05-02T16:33:05",
          "2022-05-02T16:33:05",
          "2022-05-02T16:33:05",
          "2022-05-02T16:44:41",
          "2022-05-02T16:44:41",
          "2022-05-02T16:44:41",
          "2022-05-02T17:15:49",
          "2022-05-02T17:15:49",
          "2022-05-02T17:15:49",
          "2022-05-04T09:58:21",
          "2022-05-04T09:58:21",
          "2022-05-04T09:58:21",
          "2022-05-05T14:15:34",
          "2022-05-05T14:15:34",
          "2022-05-05T14:15:34",
          "2022-06-08T07:17:44",
          "2022-06-08T07:17:44",
          "2022-06-08T07:17:44",
          "2022-06-08T07:17:44",
          "2022-06-08T07:17:44",
          "2022-06-08T07:17:44",
          "2022-06-08T07:17:44",
          "2022-06-08T07:17:44",
          "2022-06-08T07:17:44",
          "2022-06-08T07:17:44",
          "2022-06-08T07:17:44",
          "2022-06-08T07:17:44",
          "2022-06-08T07:17:44",
          "2022-06-08T07:17:44",
          "2022-06-08T07:17:44"
         ],
         "xaxis": "x",
         "y": [
          "LOW",
          "LOW",
          "LOW",
          "LOW",
          "LOW",
          "LOW",
          "LOW",
          "LOW",
          "LOW",
          "LOW",
          "LOW",
          "LOW",
          "LOW",
          "LOW",
          "LOW",
          "LOW",
          "LOW",
          "LOW",
          "LOW",
          "LOW",
          "LOW",
          "LOW",
          "LOW",
          "LOW",
          "LOW",
          "LOW",
          "LOW",
          "LOW",
          "LOW",
          "LOW",
          "LOW",
          "LOW",
          "LOW",
          "LOW",
          "LOW",
          "LOW",
          "LOW",
          "LOW",
          "LOW",
          "LOW",
          "LOW",
          "LOW",
          "LOW",
          "LOW",
          "LOW",
          "LOW",
          "LOW",
          "LOW",
          "LOW",
          "LOW",
          "LOW",
          "LOW",
          "LOW",
          "LOW",
          "LOW",
          "LOW",
          "LOW",
          "LOW",
          "LOW",
          "LOW",
          "LOW",
          "LOW",
          "LOW",
          "LOW",
          "LOW",
          "LOW",
          "LOW",
          "LOW",
          "LOW",
          "LOW",
          "LOW",
          "LOW",
          "LOW",
          "LOW",
          "LOW",
          "LOW",
          "LOW",
          "LOW",
          "LOW",
          "LOW",
          "LOW",
          "LOW",
          "LOW",
          "LOW",
          "LOW",
          "LOW",
          "LOW",
          "LOW",
          "LOW",
          "LOW",
          "LOW",
          "LOW",
          "LOW",
          "LOW",
          "LOW",
          "LOW",
          "LOW",
          "LOW",
          "LOW",
          "LOW",
          "LOW",
          "LOW",
          "LOW",
          "LOW",
          "LOW",
          "LOW",
          "LOW",
          "LOW",
          "LOW",
          "LOW",
          "LOW",
          "LOW",
          "LOW",
          "LOW",
          "LOW",
          "LOW",
          "LOW",
          "LOW",
          "LOW",
          "LOW",
          "LOW",
          "LOW",
          "LOW",
          "LOW",
          "LOW",
          "LOW",
          "LOW",
          "LOW",
          "LOW",
          "LOW",
          "LOW",
          "LOW",
          "LOW",
          "LOW",
          "LOW",
          "LOW",
          "LOW",
          "LOW",
          "LOW",
          "LOW",
          "LOW",
          "LOW",
          "LOW",
          "LOW",
          "LOW",
          "LOW",
          "LOW",
          "LOW",
          "LOW",
          "LOW",
          "LOW",
          "LOW",
          "LOW",
          "LOW",
          "LOW",
          "LOW",
          "LOW",
          "LOW",
          "LOW",
          "LOW",
          "LOW",
          "LOW",
          "LOW",
          "LOW",
          "LOW",
          "LOW",
          "LOW",
          "LOW",
          "LOW",
          "LOW",
          "LOW",
          "LOW",
          "LOW",
          "LOW",
          "LOW",
          "LOW",
          "LOW",
          "LOW",
          "LOW",
          "LOW",
          "LOW",
          "LOW",
          "LOW",
          "LOW",
          "LOW",
          "LOW",
          "LOW",
          "LOW",
          "LOW",
          "LOW",
          "LOW",
          "LOW",
          "LOW",
          "LOW",
          "LOW",
          "LOW",
          "LOW",
          "LOW",
          "LOW",
          "LOW",
          "LOW",
          "LOW",
          "LOW",
          "LOW",
          "LOW",
          "LOW",
          "LOW",
          "LOW",
          "LOW",
          "LOW",
          "LOW",
          "LOW",
          "LOW",
          "LOW",
          "LOW",
          "LOW",
          "LOW",
          "LOW",
          "LOW",
          "LOW",
          "LOW",
          "LOW",
          "LOW",
          "LOW",
          "LOW",
          "LOW",
          "LOW",
          "LOW",
          "LOW",
          "LOW",
          "LOW",
          "LOW",
          "LOW",
          "LOW",
          "LOW",
          "LOW",
          "LOW",
          "LOW",
          "LOW",
          "LOW",
          "LOW",
          "LOW",
          "LOW",
          "LOW",
          "LOW",
          "LOW"
         ],
         "yaxis": "y"
        },
        {
         "hovertemplate": "Issues=%{y}<br>Issues_created=%{x}<extra></extra>",
         "legendgroup": "MEDIUM",
         "line": {
          "color": "#ab63fa",
          "dash": "solid"
         },
         "marker": {
          "symbol": "circle"
         },
         "mode": "lines",
         "name": "MEDIUM",
         "showlegend": true,
         "type": "scattergl",
         "x": [
          "2022-03-01T11:36:17",
          "2022-03-02T07:59:04",
          "2022-03-03T11:09:44",
          "2022-03-07T12:25:48",
          "2022-03-08T04:39:11",
          "2022-03-08T05:22:01",
          "2022-03-18T08:49:03",
          "2022-03-20T15:13:37",
          "2022-03-21T04:46:40",
          "2022-03-21T04:51:16",
          "2022-03-23T14:23:50",
          "2022-03-23T16:03:42",
          "2022-03-23T16:11:13",
          "2022-03-23T16:44:19",
          "2022-03-23T16:58:48",
          "2022-03-25T10:45:46",
          "2022-03-26T10:29:38",
          "2022-03-26T10:34:44",
          "2022-03-29T11:51:12",
          "2022-04-01T12:35:29",
          "2022-04-01T12:36:50",
          "2022-04-04T07:52:49",
          "2022-04-04T10:07:37",
          "2022-04-04T13:29:52",
          "2022-04-04T13:59:14",
          "2022-04-04T14:17:23",
          "2022-04-04T14:26:11",
          "2022-04-04T15:53:55",
          "2022-04-04T16:42:23",
          "2022-04-04T18:39:05",
          "2022-04-05T02:58:39",
          "2022-04-05T03:14:22",
          "2022-04-05T03:24:32",
          "2022-04-05T04:35:13",
          "2022-04-05T04:44:18",
          "2022-04-05T05:40:55",
          "2022-04-06T04:34:38",
          "2022-04-06T05:23:13",
          "2022-04-08T06:22:12",
          "2022-04-08T06:25:10",
          "2022-04-08T07:57:54",
          "2022-04-08T08:17:42",
          "2022-04-08T08:21:55",
          "2022-04-08T08:45:48",
          "2022-04-08T08:51:25",
          "2022-04-08T10:01:45",
          "2022-04-08T10:15:25",
          "2022-04-08T10:25:31",
          "2022-04-08T11:25:00",
          "2022-04-08T11:34:07",
          "2022-04-08T14:14:55",
          "2022-04-10T10:37:50",
          "2022-04-10T10:38:21",
          "2022-04-10T10:42:22",
          "2022-04-10T11:00:04",
          "2022-04-10T11:04:14",
          "2022-04-10T11:07:47",
          "2022-04-10T11:16:57",
          "2022-04-11T17:34:57",
          "2022-04-12T04:32:51",
          "2022-04-12T06:57:46",
          "2022-04-12T16:51:55",
          "2022-04-13T08:51:09",
          "2022-04-14T14:55:24",
          "2022-04-15T11:54:02",
          "2022-04-16T07:57:44",
          "2022-04-28T18:26:55",
          "2022-04-28T18:34:01",
          "2022-04-29T03:52:13",
          "2022-04-29T04:46:26",
          "2022-04-29T13:18:48",
          "2022-05-02T14:03:54",
          "2022-05-02T14:42:36",
          "2022-05-02T16:31:41",
          "2022-05-02T16:33:05",
          "2022-05-02T16:44:41",
          "2022-05-02T17:15:49",
          "2022-05-04T09:58:21",
          "2022-05-05T14:15:34"
         ],
         "xaxis": "x",
         "y": [
          "MEDIUM",
          "MEDIUM",
          "MEDIUM",
          "MEDIUM",
          "MEDIUM",
          "MEDIUM",
          "MEDIUM",
          "MEDIUM",
          "MEDIUM",
          "MEDIUM",
          "MEDIUM",
          "MEDIUM",
          "MEDIUM",
          "MEDIUM",
          "MEDIUM",
          "MEDIUM",
          "MEDIUM",
          "MEDIUM",
          "MEDIUM",
          "MEDIUM",
          "MEDIUM",
          "MEDIUM",
          "MEDIUM",
          "MEDIUM",
          "MEDIUM",
          "MEDIUM",
          "MEDIUM",
          "MEDIUM",
          "MEDIUM",
          "MEDIUM",
          "MEDIUM",
          "MEDIUM",
          "MEDIUM",
          "MEDIUM",
          "MEDIUM",
          "MEDIUM",
          "MEDIUM",
          "MEDIUM",
          "MEDIUM",
          "MEDIUM",
          "MEDIUM",
          "MEDIUM",
          "MEDIUM",
          "MEDIUM",
          "MEDIUM",
          "MEDIUM",
          "MEDIUM",
          "MEDIUM",
          "MEDIUM",
          "MEDIUM",
          "MEDIUM",
          "MEDIUM",
          "MEDIUM",
          "MEDIUM",
          "MEDIUM",
          "MEDIUM",
          "MEDIUM",
          "MEDIUM",
          "MEDIUM",
          "MEDIUM",
          "MEDIUM",
          "MEDIUM",
          "MEDIUM",
          "MEDIUM",
          "MEDIUM",
          "MEDIUM",
          "MEDIUM",
          "MEDIUM",
          "MEDIUM",
          "MEDIUM",
          "MEDIUM",
          "MEDIUM",
          "MEDIUM",
          "MEDIUM",
          "MEDIUM",
          "MEDIUM",
          "MEDIUM",
          "MEDIUM",
          "MEDIUM"
         ],
         "yaxis": "y"
        },
        {
         "hovertemplate": "Issues=%{y}<br>Issues_created=%{x}<extra></extra>",
         "legendgroup": "INFO",
         "line": {
          "color": "#FFA15A",
          "dash": "solid"
         },
         "marker": {
          "symbol": "circle"
         },
         "mode": "lines",
         "name": "INFO",
         "showlegend": true,
         "type": "scattergl",
         "x": [
          "2022-03-20T15:20:17",
          "2022-03-20T15:20:53"
         ],
         "xaxis": "x",
         "y": [
          "INFO",
          "INFO"
         ],
         "yaxis": "y"
        },
        {
         "hovertemplate": "Issues=%{y}<br>Issues_created=%{x}<extra></extra>",
         "legendgroup": "5",
         "line": {
          "color": "#19d3f3",
          "dash": "solid"
         },
         "marker": {
          "symbol": "circle"
         },
         "mode": "lines",
         "name": "5",
         "showlegend": true,
         "type": "scattergl",
         "x": [
          "2022-03-27T19:00:48",
          "2022-03-27T19:00:48",
          "2022-03-27T19:00:48",
          "2022-03-27T19:00:48",
          "2022-03-27T19:00:48",
          "2022-03-27T19:00:48",
          "2022-03-27T19:00:48",
          "2022-03-27T19:00:48",
          "2022-03-27T19:00:48",
          "2022-03-27T19:40:33",
          "2022-03-27T19:40:33",
          "2022-03-27T19:40:33",
          "2022-03-27T19:40:33",
          "2022-03-27T19:40:33",
          "2022-03-27T19:40:33",
          "2022-03-27T19:40:33",
          "2022-03-27T19:40:33",
          "2022-03-27T19:40:33",
          "2022-03-27T19:40:33",
          "2022-03-27T19:40:33",
          "2022-03-27T19:40:34",
          "2022-03-27T19:40:34",
          "2022-03-27T19:40:34",
          "2022-03-27T19:40:34",
          "2022-03-29T09:38:02",
          "2022-03-29T09:38:02",
          "2022-03-29T09:38:02",
          "2022-03-29T09:38:02",
          "2022-03-29T09:38:02",
          "2022-03-29T09:38:02",
          "2022-03-29T09:38:02",
          "2022-03-29T09:38:02",
          "2022-03-29T09:38:02",
          "2022-03-29T09:38:02",
          "2022-03-29T09:38:02",
          "2022-03-29T09:38:02",
          "2022-03-29T09:38:02",
          "2022-03-29T09:38:02",
          "2022-03-29T09:38:02",
          "2022-03-29T09:38:02",
          "2022-03-29T09:38:02",
          "2022-03-29T09:38:02",
          "2022-03-29T09:38:02",
          "2022-03-29T09:38:02",
          "2022-03-29T09:38:02",
          "2022-03-29T09:38:02",
          "2022-03-30T04:37:32",
          "2022-03-30T04:37:32",
          "2022-03-30T04:37:32",
          "2022-03-30T04:37:32",
          "2022-03-30T04:37:32",
          "2022-03-30T04:37:32",
          "2022-03-30T04:37:32",
          "2022-03-30T04:37:32",
          "2022-03-30T04:37:32",
          "2022-03-30T04:37:32",
          "2022-03-30T04:37:32",
          "2022-03-30T04:37:32",
          "2022-03-30T04:37:32",
          "2022-03-30T04:37:32",
          "2022-03-30T04:37:32",
          "2022-03-30T04:37:32",
          "2022-03-30T04:37:32",
          "2022-03-30T04:37:32",
          "2022-03-30T04:37:32",
          "2022-03-30T04:37:32",
          "2022-03-30T04:37:32",
          "2022-03-30T04:37:32"
         ],
         "xaxis": "x",
         "y": [
          "5",
          "5",
          "5",
          "5",
          "5",
          "5",
          "5",
          "5",
          "5",
          "5",
          "5",
          "5",
          "5",
          "5",
          "5",
          "5",
          "5",
          "5",
          "5",
          "5",
          "5",
          "5",
          "5",
          "5",
          "5",
          "5",
          "5",
          "5",
          "5",
          "5",
          "5",
          "5",
          "5",
          "5",
          "5",
          "5",
          "5",
          "5",
          "5",
          "5",
          "5",
          "5",
          "5",
          "5",
          "5",
          "5",
          "5",
          "5",
          "5",
          "5",
          "5",
          "5",
          "5",
          "5",
          "5",
          "5",
          "5",
          "5",
          "5",
          "5",
          "5",
          "5",
          "5",
          "5",
          "5",
          "5",
          "5",
          "5"
         ],
         "yaxis": "y"
        }
       ],
       "layout": {
        "legend": {
         "title": {
          "text": "Issues"
         },
         "tracegroupgap": 0
        },
        "margin": {
         "t": 60
        },
        "template": {
         "data": {
          "bar": [
           {
            "error_x": {
             "color": "#2a3f5f"
            },
            "error_y": {
             "color": "#2a3f5f"
            },
            "marker": {
             "line": {
              "color": "#E5ECF6",
              "width": 0.5
             },
             "pattern": {
              "fillmode": "overlay",
              "size": 10,
              "solidity": 0.2
             }
            },
            "type": "bar"
           }
          ],
          "barpolar": [
           {
            "marker": {
             "line": {
              "color": "#E5ECF6",
              "width": 0.5
             },
             "pattern": {
              "fillmode": "overlay",
              "size": 10,
              "solidity": 0.2
             }
            },
            "type": "barpolar"
           }
          ],
          "carpet": [
           {
            "aaxis": {
             "endlinecolor": "#2a3f5f",
             "gridcolor": "white",
             "linecolor": "white",
             "minorgridcolor": "white",
             "startlinecolor": "#2a3f5f"
            },
            "baxis": {
             "endlinecolor": "#2a3f5f",
             "gridcolor": "white",
             "linecolor": "white",
             "minorgridcolor": "white",
             "startlinecolor": "#2a3f5f"
            },
            "type": "carpet"
           }
          ],
          "choropleth": [
           {
            "colorbar": {
             "outlinewidth": 0,
             "ticks": ""
            },
            "type": "choropleth"
           }
          ],
          "contour": [
           {
            "colorbar": {
             "outlinewidth": 0,
             "ticks": ""
            },
            "colorscale": [
             [
              0,
              "#0d0887"
             ],
             [
              0.1111111111111111,
              "#46039f"
             ],
             [
              0.2222222222222222,
              "#7201a8"
             ],
             [
              0.3333333333333333,
              "#9c179e"
             ],
             [
              0.4444444444444444,
              "#bd3786"
             ],
             [
              0.5555555555555556,
              "#d8576b"
             ],
             [
              0.6666666666666666,
              "#ed7953"
             ],
             [
              0.7777777777777778,
              "#fb9f3a"
             ],
             [
              0.8888888888888888,
              "#fdca26"
             ],
             [
              1,
              "#f0f921"
             ]
            ],
            "type": "contour"
           }
          ],
          "contourcarpet": [
           {
            "colorbar": {
             "outlinewidth": 0,
             "ticks": ""
            },
            "type": "contourcarpet"
           }
          ],
          "heatmap": [
           {
            "colorbar": {
             "outlinewidth": 0,
             "ticks": ""
            },
            "colorscale": [
             [
              0,
              "#0d0887"
             ],
             [
              0.1111111111111111,
              "#46039f"
             ],
             [
              0.2222222222222222,
              "#7201a8"
             ],
             [
              0.3333333333333333,
              "#9c179e"
             ],
             [
              0.4444444444444444,
              "#bd3786"
             ],
             [
              0.5555555555555556,
              "#d8576b"
             ],
             [
              0.6666666666666666,
              "#ed7953"
             ],
             [
              0.7777777777777778,
              "#fb9f3a"
             ],
             [
              0.8888888888888888,
              "#fdca26"
             ],
             [
              1,
              "#f0f921"
             ]
            ],
            "type": "heatmap"
           }
          ],
          "heatmapgl": [
           {
            "colorbar": {
             "outlinewidth": 0,
             "ticks": ""
            },
            "colorscale": [
             [
              0,
              "#0d0887"
             ],
             [
              0.1111111111111111,
              "#46039f"
             ],
             [
              0.2222222222222222,
              "#7201a8"
             ],
             [
              0.3333333333333333,
              "#9c179e"
             ],
             [
              0.4444444444444444,
              "#bd3786"
             ],
             [
              0.5555555555555556,
              "#d8576b"
             ],
             [
              0.6666666666666666,
              "#ed7953"
             ],
             [
              0.7777777777777778,
              "#fb9f3a"
             ],
             [
              0.8888888888888888,
              "#fdca26"
             ],
             [
              1,
              "#f0f921"
             ]
            ],
            "type": "heatmapgl"
           }
          ],
          "histogram": [
           {
            "marker": {
             "pattern": {
              "fillmode": "overlay",
              "size": 10,
              "solidity": 0.2
             }
            },
            "type": "histogram"
           }
          ],
          "histogram2d": [
           {
            "colorbar": {
             "outlinewidth": 0,
             "ticks": ""
            },
            "colorscale": [
             [
              0,
              "#0d0887"
             ],
             [
              0.1111111111111111,
              "#46039f"
             ],
             [
              0.2222222222222222,
              "#7201a8"
             ],
             [
              0.3333333333333333,
              "#9c179e"
             ],
             [
              0.4444444444444444,
              "#bd3786"
             ],
             [
              0.5555555555555556,
              "#d8576b"
             ],
             [
              0.6666666666666666,
              "#ed7953"
             ],
             [
              0.7777777777777778,
              "#fb9f3a"
             ],
             [
              0.8888888888888888,
              "#fdca26"
             ],
             [
              1,
              "#f0f921"
             ]
            ],
            "type": "histogram2d"
           }
          ],
          "histogram2dcontour": [
           {
            "colorbar": {
             "outlinewidth": 0,
             "ticks": ""
            },
            "colorscale": [
             [
              0,
              "#0d0887"
             ],
             [
              0.1111111111111111,
              "#46039f"
             ],
             [
              0.2222222222222222,
              "#7201a8"
             ],
             [
              0.3333333333333333,
              "#9c179e"
             ],
             [
              0.4444444444444444,
              "#bd3786"
             ],
             [
              0.5555555555555556,
              "#d8576b"
             ],
             [
              0.6666666666666666,
              "#ed7953"
             ],
             [
              0.7777777777777778,
              "#fb9f3a"
             ],
             [
              0.8888888888888888,
              "#fdca26"
             ],
             [
              1,
              "#f0f921"
             ]
            ],
            "type": "histogram2dcontour"
           }
          ],
          "mesh3d": [
           {
            "colorbar": {
             "outlinewidth": 0,
             "ticks": ""
            },
            "type": "mesh3d"
           }
          ],
          "parcoords": [
           {
            "line": {
             "colorbar": {
              "outlinewidth": 0,
              "ticks": ""
             }
            },
            "type": "parcoords"
           }
          ],
          "pie": [
           {
            "automargin": true,
            "type": "pie"
           }
          ],
          "scatter": [
           {
            "fillpattern": {
             "fillmode": "overlay",
             "size": 10,
             "solidity": 0.2
            },
            "type": "scatter"
           }
          ],
          "scatter3d": [
           {
            "line": {
             "colorbar": {
              "outlinewidth": 0,
              "ticks": ""
             }
            },
            "marker": {
             "colorbar": {
              "outlinewidth": 0,
              "ticks": ""
             }
            },
            "type": "scatter3d"
           }
          ],
          "scattercarpet": [
           {
            "marker": {
             "colorbar": {
              "outlinewidth": 0,
              "ticks": ""
             }
            },
            "type": "scattercarpet"
           }
          ],
          "scattergeo": [
           {
            "marker": {
             "colorbar": {
              "outlinewidth": 0,
              "ticks": ""
             }
            },
            "type": "scattergeo"
           }
          ],
          "scattergl": [
           {
            "marker": {
             "colorbar": {
              "outlinewidth": 0,
              "ticks": ""
             }
            },
            "type": "scattergl"
           }
          ],
          "scattermapbox": [
           {
            "marker": {
             "colorbar": {
              "outlinewidth": 0,
              "ticks": ""
             }
            },
            "type": "scattermapbox"
           }
          ],
          "scatterpolar": [
           {
            "marker": {
             "colorbar": {
              "outlinewidth": 0,
              "ticks": ""
             }
            },
            "type": "scatterpolar"
           }
          ],
          "scatterpolargl": [
           {
            "marker": {
             "colorbar": {
              "outlinewidth": 0,
              "ticks": ""
             }
            },
            "type": "scatterpolargl"
           }
          ],
          "scatterternary": [
           {
            "marker": {
             "colorbar": {
              "outlinewidth": 0,
              "ticks": ""
             }
            },
            "type": "scatterternary"
           }
          ],
          "surface": [
           {
            "colorbar": {
             "outlinewidth": 0,
             "ticks": ""
            },
            "colorscale": [
             [
              0,
              "#0d0887"
             ],
             [
              0.1111111111111111,
              "#46039f"
             ],
             [
              0.2222222222222222,
              "#7201a8"
             ],
             [
              0.3333333333333333,
              "#9c179e"
             ],
             [
              0.4444444444444444,
              "#bd3786"
             ],
             [
              0.5555555555555556,
              "#d8576b"
             ],
             [
              0.6666666666666666,
              "#ed7953"
             ],
             [
              0.7777777777777778,
              "#fb9f3a"
             ],
             [
              0.8888888888888888,
              "#fdca26"
             ],
             [
              1,
              "#f0f921"
             ]
            ],
            "type": "surface"
           }
          ],
          "table": [
           {
            "cells": {
             "fill": {
              "color": "#EBF0F8"
             },
             "line": {
              "color": "white"
             }
            },
            "header": {
             "fill": {
              "color": "#C8D4E3"
             },
             "line": {
              "color": "white"
             }
            },
            "type": "table"
           }
          ]
         },
         "layout": {
          "annotationdefaults": {
           "arrowcolor": "#2a3f5f",
           "arrowhead": 0,
           "arrowwidth": 1
          },
          "autotypenumbers": "strict",
          "coloraxis": {
           "colorbar": {
            "outlinewidth": 0,
            "ticks": ""
           }
          },
          "colorscale": {
           "diverging": [
            [
             0,
             "#8e0152"
            ],
            [
             0.1,
             "#c51b7d"
            ],
            [
             0.2,
             "#de77ae"
            ],
            [
             0.3,
             "#f1b6da"
            ],
            [
             0.4,
             "#fde0ef"
            ],
            [
             0.5,
             "#f7f7f7"
            ],
            [
             0.6,
             "#e6f5d0"
            ],
            [
             0.7,
             "#b8e186"
            ],
            [
             0.8,
             "#7fbc41"
            ],
            [
             0.9,
             "#4d9221"
            ],
            [
             1,
             "#276419"
            ]
           ],
           "sequential": [
            [
             0,
             "#0d0887"
            ],
            [
             0.1111111111111111,
             "#46039f"
            ],
            [
             0.2222222222222222,
             "#7201a8"
            ],
            [
             0.3333333333333333,
             "#9c179e"
            ],
            [
             0.4444444444444444,
             "#bd3786"
            ],
            [
             0.5555555555555556,
             "#d8576b"
            ],
            [
             0.6666666666666666,
             "#ed7953"
            ],
            [
             0.7777777777777778,
             "#fb9f3a"
            ],
            [
             0.8888888888888888,
             "#fdca26"
            ],
            [
             1,
             "#f0f921"
            ]
           ],
           "sequentialminus": [
            [
             0,
             "#0d0887"
            ],
            [
             0.1111111111111111,
             "#46039f"
            ],
            [
             0.2222222222222222,
             "#7201a8"
            ],
            [
             0.3333333333333333,
             "#9c179e"
            ],
            [
             0.4444444444444444,
             "#bd3786"
            ],
            [
             0.5555555555555556,
             "#d8576b"
            ],
            [
             0.6666666666666666,
             "#ed7953"
            ],
            [
             0.7777777777777778,
             "#fb9f3a"
            ],
            [
             0.8888888888888888,
             "#fdca26"
            ],
            [
             1,
             "#f0f921"
            ]
           ]
          },
          "colorway": [
           "#636efa",
           "#EF553B",
           "#00cc96",
           "#ab63fa",
           "#FFA15A",
           "#19d3f3",
           "#FF6692",
           "#B6E880",
           "#FF97FF",
           "#FECB52"
          ],
          "font": {
           "color": "#2a3f5f"
          },
          "geo": {
           "bgcolor": "white",
           "lakecolor": "white",
           "landcolor": "#E5ECF6",
           "showlakes": true,
           "showland": true,
           "subunitcolor": "white"
          },
          "hoverlabel": {
           "align": "left"
          },
          "hovermode": "closest",
          "mapbox": {
           "style": "light"
          },
          "paper_bgcolor": "white",
          "plot_bgcolor": "#E5ECF6",
          "polar": {
           "angularaxis": {
            "gridcolor": "white",
            "linecolor": "white",
            "ticks": ""
           },
           "bgcolor": "#E5ECF6",
           "radialaxis": {
            "gridcolor": "white",
            "linecolor": "white",
            "ticks": ""
           }
          },
          "scene": {
           "xaxis": {
            "backgroundcolor": "#E5ECF6",
            "gridcolor": "white",
            "gridwidth": 2,
            "linecolor": "white",
            "showbackground": true,
            "ticks": "",
            "zerolinecolor": "white"
           },
           "yaxis": {
            "backgroundcolor": "#E5ECF6",
            "gridcolor": "white",
            "gridwidth": 2,
            "linecolor": "white",
            "showbackground": true,
            "ticks": "",
            "zerolinecolor": "white"
           },
           "zaxis": {
            "backgroundcolor": "#E5ECF6",
            "gridcolor": "white",
            "gridwidth": 2,
            "linecolor": "white",
            "showbackground": true,
            "ticks": "",
            "zerolinecolor": "white"
           }
          },
          "shapedefaults": {
           "line": {
            "color": "#2a3f5f"
           }
          },
          "ternary": {
           "aaxis": {
            "gridcolor": "white",
            "linecolor": "white",
            "ticks": ""
           },
           "baxis": {
            "gridcolor": "white",
            "linecolor": "white",
            "ticks": ""
           },
           "bgcolor": "#E5ECF6",
           "caxis": {
            "gridcolor": "white",
            "linecolor": "white",
            "ticks": ""
           }
          },
          "title": {
           "x": 0.05
          },
          "xaxis": {
           "automargin": true,
           "gridcolor": "white",
           "linecolor": "white",
           "ticks": "",
           "title": {
            "standoff": 15
           },
           "zerolinecolor": "white",
           "zerolinewidth": 2
          },
          "yaxis": {
           "automargin": true,
           "gridcolor": "white",
           "linecolor": "white",
           "ticks": "",
           "title": {
            "standoff": 15
           },
           "zerolinecolor": "white",
           "zerolinewidth": 2
          }
         }
        },
        "xaxis": {
         "anchor": "y",
         "domain": [
          0,
          1
         ],
         "title": {
          "text": "Issues_created"
         }
        },
        "yaxis": {
         "anchor": "x",
         "categoryarray": [
          "5",
          "INFO",
          "MEDIUM",
          "LOW",
          "HIGH",
          ""
         ],
         "categoryorder": "array",
         "domain": [
          0,
          1
         ],
         "title": {
          "text": "Issues"
         }
        }
       }
      }
     },
     "metadata": {},
     "output_type": "display_data"
    }
   ],
   "source": [
    "px.line(date,x='Issues_created',y='Issues', color = 'Issues')"
   ]
  },
  {
   "cell_type": "markdown",
   "metadata": {},
   "source": [
    "### Repeated Vulnerabilities across applications\n",
    "Find the vulnerabilities of each application with each developer (Common across all the applications)\n",
    "\n",
    "- **ex:** 5 dev is there and 10 apps we have found top 10 Repeated vulnerabilities Names in this app "
   ]
  },
  {
   "cell_type": "code",
   "execution_count": 33,
   "metadata": {},
   "outputs": [
    {
     "name": "stdout",
     "output_type": "stream",
     "text": [
      "MySQL connection is closed Now\n"
     ]
    }
   ],
   "source": [
    "app = etl('app')"
   ]
  },
  {
   "cell_type": "code",
   "execution_count": 34,
   "metadata": {},
   "outputs": [],
   "source": [
    "count = app.app_name.value_counts()"
   ]
  },
  {
   "cell_type": "code",
   "execution_count": 35,
   "metadata": {},
   "outputs": [
    {
     "data": {
      "application/vnd.plotly.v1+json": {
       "config": {
        "plotlyServerURL": "https://plot.ly"
       },
       "data": [
        {
         "hovertemplate": "variable=app_name<br>index=%{x}<br>value=%{y}<extra></extra>",
         "legendgroup": "app_name",
         "line": {
          "color": "#636efa",
          "dash": "solid"
         },
         "marker": {
          "symbol": "circle"
         },
         "mode": "lines",
         "name": "app_name",
         "orientation": "v",
         "showlegend": true,
         "type": "scatter",
         "x": [
          "Test",
          "test",
          "Railsgoat",
          "Hey",
          "Prod API v3",
          "Sumeru API",
          "sumeru",
          "WEBAPP",
          "demo.testfire",
          "testphp",
          "The",
          "jasdq",
          "Jgd",
          "Sumeru Webapp",
          "SUMERU WEBAPP",
          "Test App",
          "Testing App",
          "Pattern App",
          "ROR",
          "Django nv",
          "Demo",
          "Test App ",
          "New Web App",
          "TestApp"
         ],
         "xaxis": "x",
         "y": [
          4,
          2,
          2,
          2,
          1,
          1,
          1,
          1,
          1,
          1,
          1,
          1,
          1,
          1,
          1,
          1,
          1,
          1,
          1,
          1,
          1,
          1,
          1,
          1
         ],
         "yaxis": "y"
        }
       ],
       "layout": {
        "legend": {
         "title": {
          "text": "variable"
         },
         "tracegroupgap": 0
        },
        "margin": {
         "t": 60
        },
        "template": {
         "data": {
          "bar": [
           {
            "error_x": {
             "color": "#2a3f5f"
            },
            "error_y": {
             "color": "#2a3f5f"
            },
            "marker": {
             "line": {
              "color": "#E5ECF6",
              "width": 0.5
             },
             "pattern": {
              "fillmode": "overlay",
              "size": 10,
              "solidity": 0.2
             }
            },
            "type": "bar"
           }
          ],
          "barpolar": [
           {
            "marker": {
             "line": {
              "color": "#E5ECF6",
              "width": 0.5
             },
             "pattern": {
              "fillmode": "overlay",
              "size": 10,
              "solidity": 0.2
             }
            },
            "type": "barpolar"
           }
          ],
          "carpet": [
           {
            "aaxis": {
             "endlinecolor": "#2a3f5f",
             "gridcolor": "white",
             "linecolor": "white",
             "minorgridcolor": "white",
             "startlinecolor": "#2a3f5f"
            },
            "baxis": {
             "endlinecolor": "#2a3f5f",
             "gridcolor": "white",
             "linecolor": "white",
             "minorgridcolor": "white",
             "startlinecolor": "#2a3f5f"
            },
            "type": "carpet"
           }
          ],
          "choropleth": [
           {
            "colorbar": {
             "outlinewidth": 0,
             "ticks": ""
            },
            "type": "choropleth"
           }
          ],
          "contour": [
           {
            "colorbar": {
             "outlinewidth": 0,
             "ticks": ""
            },
            "colorscale": [
             [
              0,
              "#0d0887"
             ],
             [
              0.1111111111111111,
              "#46039f"
             ],
             [
              0.2222222222222222,
              "#7201a8"
             ],
             [
              0.3333333333333333,
              "#9c179e"
             ],
             [
              0.4444444444444444,
              "#bd3786"
             ],
             [
              0.5555555555555556,
              "#d8576b"
             ],
             [
              0.6666666666666666,
              "#ed7953"
             ],
             [
              0.7777777777777778,
              "#fb9f3a"
             ],
             [
              0.8888888888888888,
              "#fdca26"
             ],
             [
              1,
              "#f0f921"
             ]
            ],
            "type": "contour"
           }
          ],
          "contourcarpet": [
           {
            "colorbar": {
             "outlinewidth": 0,
             "ticks": ""
            },
            "type": "contourcarpet"
           }
          ],
          "heatmap": [
           {
            "colorbar": {
             "outlinewidth": 0,
             "ticks": ""
            },
            "colorscale": [
             [
              0,
              "#0d0887"
             ],
             [
              0.1111111111111111,
              "#46039f"
             ],
             [
              0.2222222222222222,
              "#7201a8"
             ],
             [
              0.3333333333333333,
              "#9c179e"
             ],
             [
              0.4444444444444444,
              "#bd3786"
             ],
             [
              0.5555555555555556,
              "#d8576b"
             ],
             [
              0.6666666666666666,
              "#ed7953"
             ],
             [
              0.7777777777777778,
              "#fb9f3a"
             ],
             [
              0.8888888888888888,
              "#fdca26"
             ],
             [
              1,
              "#f0f921"
             ]
            ],
            "type": "heatmap"
           }
          ],
          "heatmapgl": [
           {
            "colorbar": {
             "outlinewidth": 0,
             "ticks": ""
            },
            "colorscale": [
             [
              0,
              "#0d0887"
             ],
             [
              0.1111111111111111,
              "#46039f"
             ],
             [
              0.2222222222222222,
              "#7201a8"
             ],
             [
              0.3333333333333333,
              "#9c179e"
             ],
             [
              0.4444444444444444,
              "#bd3786"
             ],
             [
              0.5555555555555556,
              "#d8576b"
             ],
             [
              0.6666666666666666,
              "#ed7953"
             ],
             [
              0.7777777777777778,
              "#fb9f3a"
             ],
             [
              0.8888888888888888,
              "#fdca26"
             ],
             [
              1,
              "#f0f921"
             ]
            ],
            "type": "heatmapgl"
           }
          ],
          "histogram": [
           {
            "marker": {
             "pattern": {
              "fillmode": "overlay",
              "size": 10,
              "solidity": 0.2
             }
            },
            "type": "histogram"
           }
          ],
          "histogram2d": [
           {
            "colorbar": {
             "outlinewidth": 0,
             "ticks": ""
            },
            "colorscale": [
             [
              0,
              "#0d0887"
             ],
             [
              0.1111111111111111,
              "#46039f"
             ],
             [
              0.2222222222222222,
              "#7201a8"
             ],
             [
              0.3333333333333333,
              "#9c179e"
             ],
             [
              0.4444444444444444,
              "#bd3786"
             ],
             [
              0.5555555555555556,
              "#d8576b"
             ],
             [
              0.6666666666666666,
              "#ed7953"
             ],
             [
              0.7777777777777778,
              "#fb9f3a"
             ],
             [
              0.8888888888888888,
              "#fdca26"
             ],
             [
              1,
              "#f0f921"
             ]
            ],
            "type": "histogram2d"
           }
          ],
          "histogram2dcontour": [
           {
            "colorbar": {
             "outlinewidth": 0,
             "ticks": ""
            },
            "colorscale": [
             [
              0,
              "#0d0887"
             ],
             [
              0.1111111111111111,
              "#46039f"
             ],
             [
              0.2222222222222222,
              "#7201a8"
             ],
             [
              0.3333333333333333,
              "#9c179e"
             ],
             [
              0.4444444444444444,
              "#bd3786"
             ],
             [
              0.5555555555555556,
              "#d8576b"
             ],
             [
              0.6666666666666666,
              "#ed7953"
             ],
             [
              0.7777777777777778,
              "#fb9f3a"
             ],
             [
              0.8888888888888888,
              "#fdca26"
             ],
             [
              1,
              "#f0f921"
             ]
            ],
            "type": "histogram2dcontour"
           }
          ],
          "mesh3d": [
           {
            "colorbar": {
             "outlinewidth": 0,
             "ticks": ""
            },
            "type": "mesh3d"
           }
          ],
          "parcoords": [
           {
            "line": {
             "colorbar": {
              "outlinewidth": 0,
              "ticks": ""
             }
            },
            "type": "parcoords"
           }
          ],
          "pie": [
           {
            "automargin": true,
            "type": "pie"
           }
          ],
          "scatter": [
           {
            "fillpattern": {
             "fillmode": "overlay",
             "size": 10,
             "solidity": 0.2
            },
            "type": "scatter"
           }
          ],
          "scatter3d": [
           {
            "line": {
             "colorbar": {
              "outlinewidth": 0,
              "ticks": ""
             }
            },
            "marker": {
             "colorbar": {
              "outlinewidth": 0,
              "ticks": ""
             }
            },
            "type": "scatter3d"
           }
          ],
          "scattercarpet": [
           {
            "marker": {
             "colorbar": {
              "outlinewidth": 0,
              "ticks": ""
             }
            },
            "type": "scattercarpet"
           }
          ],
          "scattergeo": [
           {
            "marker": {
             "colorbar": {
              "outlinewidth": 0,
              "ticks": ""
             }
            },
            "type": "scattergeo"
           }
          ],
          "scattergl": [
           {
            "marker": {
             "colorbar": {
              "outlinewidth": 0,
              "ticks": ""
             }
            },
            "type": "scattergl"
           }
          ],
          "scattermapbox": [
           {
            "marker": {
             "colorbar": {
              "outlinewidth": 0,
              "ticks": ""
             }
            },
            "type": "scattermapbox"
           }
          ],
          "scatterpolar": [
           {
            "marker": {
             "colorbar": {
              "outlinewidth": 0,
              "ticks": ""
             }
            },
            "type": "scatterpolar"
           }
          ],
          "scatterpolargl": [
           {
            "marker": {
             "colorbar": {
              "outlinewidth": 0,
              "ticks": ""
             }
            },
            "type": "scatterpolargl"
           }
          ],
          "scatterternary": [
           {
            "marker": {
             "colorbar": {
              "outlinewidth": 0,
              "ticks": ""
             }
            },
            "type": "scatterternary"
           }
          ],
          "surface": [
           {
            "colorbar": {
             "outlinewidth": 0,
             "ticks": ""
            },
            "colorscale": [
             [
              0,
              "#0d0887"
             ],
             [
              0.1111111111111111,
              "#46039f"
             ],
             [
              0.2222222222222222,
              "#7201a8"
             ],
             [
              0.3333333333333333,
              "#9c179e"
             ],
             [
              0.4444444444444444,
              "#bd3786"
             ],
             [
              0.5555555555555556,
              "#d8576b"
             ],
             [
              0.6666666666666666,
              "#ed7953"
             ],
             [
              0.7777777777777778,
              "#fb9f3a"
             ],
             [
              0.8888888888888888,
              "#fdca26"
             ],
             [
              1,
              "#f0f921"
             ]
            ],
            "type": "surface"
           }
          ],
          "table": [
           {
            "cells": {
             "fill": {
              "color": "#EBF0F8"
             },
             "line": {
              "color": "white"
             }
            },
            "header": {
             "fill": {
              "color": "#C8D4E3"
             },
             "line": {
              "color": "white"
             }
            },
            "type": "table"
           }
          ]
         },
         "layout": {
          "annotationdefaults": {
           "arrowcolor": "#2a3f5f",
           "arrowhead": 0,
           "arrowwidth": 1
          },
          "autotypenumbers": "strict",
          "coloraxis": {
           "colorbar": {
            "outlinewidth": 0,
            "ticks": ""
           }
          },
          "colorscale": {
           "diverging": [
            [
             0,
             "#8e0152"
            ],
            [
             0.1,
             "#c51b7d"
            ],
            [
             0.2,
             "#de77ae"
            ],
            [
             0.3,
             "#f1b6da"
            ],
            [
             0.4,
             "#fde0ef"
            ],
            [
             0.5,
             "#f7f7f7"
            ],
            [
             0.6,
             "#e6f5d0"
            ],
            [
             0.7,
             "#b8e186"
            ],
            [
             0.8,
             "#7fbc41"
            ],
            [
             0.9,
             "#4d9221"
            ],
            [
             1,
             "#276419"
            ]
           ],
           "sequential": [
            [
             0,
             "#0d0887"
            ],
            [
             0.1111111111111111,
             "#46039f"
            ],
            [
             0.2222222222222222,
             "#7201a8"
            ],
            [
             0.3333333333333333,
             "#9c179e"
            ],
            [
             0.4444444444444444,
             "#bd3786"
            ],
            [
             0.5555555555555556,
             "#d8576b"
            ],
            [
             0.6666666666666666,
             "#ed7953"
            ],
            [
             0.7777777777777778,
             "#fb9f3a"
            ],
            [
             0.8888888888888888,
             "#fdca26"
            ],
            [
             1,
             "#f0f921"
            ]
           ],
           "sequentialminus": [
            [
             0,
             "#0d0887"
            ],
            [
             0.1111111111111111,
             "#46039f"
            ],
            [
             0.2222222222222222,
             "#7201a8"
            ],
            [
             0.3333333333333333,
             "#9c179e"
            ],
            [
             0.4444444444444444,
             "#bd3786"
            ],
            [
             0.5555555555555556,
             "#d8576b"
            ],
            [
             0.6666666666666666,
             "#ed7953"
            ],
            [
             0.7777777777777778,
             "#fb9f3a"
            ],
            [
             0.8888888888888888,
             "#fdca26"
            ],
            [
             1,
             "#f0f921"
            ]
           ]
          },
          "colorway": [
           "#636efa",
           "#EF553B",
           "#00cc96",
           "#ab63fa",
           "#FFA15A",
           "#19d3f3",
           "#FF6692",
           "#B6E880",
           "#FF97FF",
           "#FECB52"
          ],
          "font": {
           "color": "#2a3f5f"
          },
          "geo": {
           "bgcolor": "white",
           "lakecolor": "white",
           "landcolor": "#E5ECF6",
           "showlakes": true,
           "showland": true,
           "subunitcolor": "white"
          },
          "hoverlabel": {
           "align": "left"
          },
          "hovermode": "closest",
          "mapbox": {
           "style": "light"
          },
          "paper_bgcolor": "white",
          "plot_bgcolor": "#E5ECF6",
          "polar": {
           "angularaxis": {
            "gridcolor": "white",
            "linecolor": "white",
            "ticks": ""
           },
           "bgcolor": "#E5ECF6",
           "radialaxis": {
            "gridcolor": "white",
            "linecolor": "white",
            "ticks": ""
           }
          },
          "scene": {
           "xaxis": {
            "backgroundcolor": "#E5ECF6",
            "gridcolor": "white",
            "gridwidth": 2,
            "linecolor": "white",
            "showbackground": true,
            "ticks": "",
            "zerolinecolor": "white"
           },
           "yaxis": {
            "backgroundcolor": "#E5ECF6",
            "gridcolor": "white",
            "gridwidth": 2,
            "linecolor": "white",
            "showbackground": true,
            "ticks": "",
            "zerolinecolor": "white"
           },
           "zaxis": {
            "backgroundcolor": "#E5ECF6",
            "gridcolor": "white",
            "gridwidth": 2,
            "linecolor": "white",
            "showbackground": true,
            "ticks": "",
            "zerolinecolor": "white"
           }
          },
          "shapedefaults": {
           "line": {
            "color": "#2a3f5f"
           }
          },
          "ternary": {
           "aaxis": {
            "gridcolor": "white",
            "linecolor": "white",
            "ticks": ""
           },
           "baxis": {
            "gridcolor": "white",
            "linecolor": "white",
            "ticks": ""
           },
           "bgcolor": "#E5ECF6",
           "caxis": {
            "gridcolor": "white",
            "linecolor": "white",
            "ticks": ""
           }
          },
          "title": {
           "x": 0.05
          },
          "xaxis": {
           "automargin": true,
           "gridcolor": "white",
           "linecolor": "white",
           "ticks": "",
           "title": {
            "standoff": 15
           },
           "zerolinecolor": "white",
           "zerolinewidth": 2
          },
          "yaxis": {
           "automargin": true,
           "gridcolor": "white",
           "linecolor": "white",
           "ticks": "",
           "title": {
            "standoff": 15
           },
           "zerolinecolor": "white",
           "zerolinewidth": 2
          }
         }
        },
        "xaxis": {
         "anchor": "y",
         "domain": [
          0,
          1
         ],
         "title": {
          "text": "index"
         }
        },
        "yaxis": {
         "anchor": "x",
         "domain": [
          0,
          1
         ],
         "title": {
          "text": "value"
         }
        }
       }
      }
     },
     "metadata": {},
     "output_type": "display_data"
    }
   ],
   "source": [
    "px.line(count)"
   ]
  },
  {
   "cell_type": "markdown",
   "metadata": {},
   "source": [
    "#### Vulnerabilities Name and There Severity "
   ]
  },
  {
   "cell_type": "code",
   "execution_count": 36,
   "metadata": {},
   "outputs": [],
   "source": [
    "def issue_name_mean_min_max(df,vs='vuln_severity'):\n",
    "    df['created_at'] = pd.to_datetime(df['created_at'])\n",
    "    df['fixed_at'] = pd.to_datetime(df['fixed_at'],errors='coerce')\n",
    "\n",
    "    filter_results = df.loc[~df['fixed_at'].isnull(),['vuln_name','fixed_at','created_at',vs]]\n",
    "    filter_results['MTTR'] = filter_results['fixed_at']-filter_results['created_at']\n",
    "\n",
    "    final_result = filter_results.groupby(['vuln_name','created_at']).agg({'vuln_name':'count','MTTR':['mean','max','min']})\n",
    "    final_result.reset_index(inplace=True)\n",
    "    final_result.columns = ['Vulnerabilities Names','Issue Created','Vulnerabilities count','MTTR','MAXTTR','MINTTR']\n",
    "    final_result = final_result.sort_values(by='Vulnerabilities count',ascending=False)\n",
    "    return final_result"
   ]
  },
  {
   "cell_type": "code",
   "execution_count": 37,
   "metadata": {},
   "outputs": [
    {
     "data": {
      "text/html": [
       "<div>\n",
       "<style scoped>\n",
       "    .dataframe tbody tr th:only-of-type {\n",
       "        vertical-align: middle;\n",
       "    }\n",
       "\n",
       "    .dataframe tbody tr th {\n",
       "        vertical-align: top;\n",
       "    }\n",
       "\n",
       "    .dataframe thead th {\n",
       "        text-align: right;\n",
       "    }\n",
       "</style>\n",
       "<table border=\"1\" class=\"dataframe\">\n",
       "  <thead>\n",
       "    <tr style=\"text-align: right;\">\n",
       "      <th></th>\n",
       "      <th>Vulnerabilities Names</th>\n",
       "      <th>Issue Created</th>\n",
       "      <th>Vulnerabilities count</th>\n",
       "      <th>MTTR</th>\n",
       "      <th>MAXTTR</th>\n",
       "      <th>MINTTR</th>\n",
       "    </tr>\n",
       "  </thead>\n",
       "  <tbody>\n",
       "    <tr>\n",
       "      <th>102</th>\n",
       "      <td>PEAR.Functions.FunctionCallSignature.CloseBrac...</td>\n",
       "      <td>2022-03-27 19:40:33</td>\n",
       "      <td>4</td>\n",
       "      <td>0 days 00:00:00</td>\n",
       "      <td>0 days 00:00:00</td>\n",
       "      <td>0 days 00:00:00</td>\n",
       "    </tr>\n",
       "    <tr>\n",
       "      <th>117</th>\n",
       "      <td>Remote Code Execution</td>\n",
       "      <td>2022-03-01 18:44:34</td>\n",
       "      <td>4</td>\n",
       "      <td>25 days 23:46:11</td>\n",
       "      <td>25 days 23:46:11</td>\n",
       "      <td>25 days 23:46:11</td>\n",
       "    </tr>\n",
       "    <tr>\n",
       "      <th>112</th>\n",
       "      <td>Remote Code Execution</td>\n",
       "      <td>2022-03-01 08:47:28</td>\n",
       "      <td>4</td>\n",
       "      <td>26 days 09:43:17</td>\n",
       "      <td>26 days 09:43:17</td>\n",
       "      <td>26 days 09:43:17</td>\n",
       "    </tr>\n",
       "    <tr>\n",
       "      <th>122</th>\n",
       "      <td>Remote Code Execution</td>\n",
       "      <td>2022-03-25 13:49:54</td>\n",
       "      <td>4</td>\n",
       "      <td>2 days 04:40:51</td>\n",
       "      <td>2 days 04:40:51</td>\n",
       "      <td>2 days 04:40:51</td>\n",
       "    </tr>\n",
       "    <tr>\n",
       "      <th>115</th>\n",
       "      <td>Remote Code Execution</td>\n",
       "      <td>2022-03-01 16:42:43</td>\n",
       "      <td>4</td>\n",
       "      <td>26 days 01:48:02</td>\n",
       "      <td>26 days 01:48:02</td>\n",
       "      <td>26 days 01:48:02</td>\n",
       "    </tr>\n",
       "  </tbody>\n",
       "</table>\n",
       "</div>"
      ],
      "text/plain": [
       "                                 Vulnerabilities Names       Issue Created  \\\n",
       "102  PEAR.Functions.FunctionCallSignature.CloseBrac... 2022-03-27 19:40:33   \n",
       "117                              Remote Code Execution 2022-03-01 18:44:34   \n",
       "112                              Remote Code Execution 2022-03-01 08:47:28   \n",
       "122                              Remote Code Execution 2022-03-25 13:49:54   \n",
       "115                              Remote Code Execution 2022-03-01 16:42:43   \n",
       "\n",
       "     Vulnerabilities count             MTTR           MAXTTR           MINTTR  \n",
       "102                      4  0 days 00:00:00  0 days 00:00:00  0 days 00:00:00  \n",
       "117                      4 25 days 23:46:11 25 days 23:46:11 25 days 23:46:11  \n",
       "112                      4 26 days 09:43:17 26 days 09:43:17 26 days 09:43:17  \n",
       "122                      4  2 days 04:40:51  2 days 04:40:51  2 days 04:40:51  \n",
       "115                      4 26 days 01:48:02 26 days 01:48:02 26 days 01:48:02  "
      ]
     },
     "execution_count": 37,
     "metadata": {},
     "output_type": "execute_result"
    }
   ],
   "source": [
    "sast = issue_name_mean_min_max(sast_tn)\n",
    "sast.head()"
   ]
  },
  {
   "cell_type": "code",
   "execution_count": 38,
   "metadata": {},
   "outputs": [
    {
     "data": {
      "application/vnd.plotly.v1+json": {
       "config": {
        "plotlyServerURL": "https://plot.ly"
       },
       "data": [
        {
         "alignmentgroup": "True",
         "hovertemplate": "Vulnerabilities Names=PEAR.Functions.FunctionCallSignature.CloseBracketLine<br>Issue Created=%{x}<br>Vulnerabilities count=%{y}<extra></extra>",
         "legendgroup": "PEAR.Functions.FunctionCallSignature.CloseBracketLine",
         "marker": {
          "color": "#636efa",
          "pattern": {
           "shape": ""
          }
         },
         "name": "PEAR.Functions.FunctionCallSignature.CloseBracketLine",
         "offsetgroup": "PEAR.Functions.FunctionCallSignature.CloseBracketLine",
         "orientation": "v",
         "showlegend": true,
         "textposition": "auto",
         "type": "bar",
         "x": [
          "2022-03-27T19:40:33",
          "2022-03-27T19:40:34"
         ],
         "xaxis": "x",
         "y": [
          4,
          1
         ],
         "yaxis": "y"
        },
        {
         "alignmentgroup": "True",
         "hovertemplate": "Vulnerabilities Names=Remote Code Execution<br>Issue Created=%{x}<br>Vulnerabilities count=%{y}<extra></extra>",
         "legendgroup": "Remote Code Execution",
         "marker": {
          "color": "#EF553B",
          "pattern": {
           "shape": ""
          }
         },
         "name": "Remote Code Execution",
         "offsetgroup": "Remote Code Execution",
         "orientation": "v",
         "showlegend": true,
         "textposition": "auto",
         "type": "bar",
         "x": [
          "2022-03-01T18:44:34",
          "2022-03-01T08:47:28",
          "2022-03-25T13:49:54",
          "2022-03-01T16:42:43",
          "2022-03-01T18:38:50",
          "2022-03-29T12:12:42",
          "2022-03-01T12:47:43",
          "2022-03-25T13:25:02",
          "2022-03-20T12:19:46",
          "2022-03-20T12:19:47",
          "2022-03-29T12:12:41",
          "2022-03-25T13:25:01",
          "2022-03-01T12:47:42"
         ],
         "xaxis": "x",
         "y": [
          4,
          4,
          4,
          4,
          4,
          3,
          3,
          3,
          2,
          2,
          1,
          1,
          1
         ],
         "yaxis": "y"
        },
        {
         "alignmentgroup": "True",
         "hovertemplate": "Vulnerabilities Names=PEAR.Functions.FunctionCallSignature.ContentAfterOpenBracket<br>Issue Created=%{x}<br>Vulnerabilities count=%{y}<extra></extra>",
         "legendgroup": "PEAR.Functions.FunctionCallSignature.ContentAfterOpenBracket",
         "marker": {
          "color": "#00cc96",
          "pattern": {
           "shape": ""
          }
         },
         "name": "PEAR.Functions.FunctionCallSignature.ContentAfterOpenBracket",
         "offsetgroup": "PEAR.Functions.FunctionCallSignature.ContentAfterOpenBracket",
         "orientation": "v",
         "showlegend": true,
         "textposition": "auto",
         "type": "bar",
         "x": [
          "2022-03-27T19:40:33",
          "2022-03-27T19:40:34"
         ],
         "xaxis": "x",
         "y": [
          4,
          1
         ],
         "yaxis": "y"
        },
        {
         "alignmentgroup": "True",
         "hovertemplate": "Vulnerabilities Names=hardcoded password string<br>Issue Created=%{x}<br>Vulnerabilities count=%{y}<extra></extra>",
         "legendgroup": "hardcoded password string",
         "marker": {
          "color": "#ab63fa",
          "pattern": {
           "shape": ""
          }
         },
         "name": "hardcoded password string",
         "offsetgroup": "hardcoded password string",
         "orientation": "v",
         "showlegend": true,
         "textposition": "auto",
         "type": "bar",
         "x": [
          "2022-03-23T14:23:50",
          "2022-03-01T11:36:17",
          "2022-03-02T07:59:04",
          "2022-03-03T11:09:44",
          "2022-03-07T12:25:48",
          "2022-03-08T04:39:11",
          "2022-03-08T05:22:01",
          "2022-03-21T04:46:40",
          "2022-03-20T15:13:37",
          "2022-03-26T10:34:44",
          "2022-03-26T10:29:38",
          "2022-03-23T16:58:48",
          "2022-03-23T16:44:19",
          "2022-03-23T16:11:13",
          "2022-03-21T04:51:16",
          "2022-03-18T08:49:03",
          "2022-03-23T16:03:42",
          "2022-04-04T13:29:52",
          "2022-04-05T02:58:39",
          "2022-04-05T05:40:55",
          "2022-05-05T14:15:34"
         ],
         "xaxis": "x",
         "y": [
          3,
          3,
          3,
          3,
          3,
          3,
          3,
          3,
          3,
          3,
          3,
          3,
          3,
          3,
          3,
          3,
          3,
          1,
          1,
          1,
          1
         ],
         "yaxis": "y"
        },
        {
         "alignmentgroup": "True",
         "hovertemplate": "Vulnerabilities Names=PEAR.Commenting.FileComment.Missing<br>Issue Created=%{x}<br>Vulnerabilities count=%{y}<extra></extra>",
         "legendgroup": "PEAR.Commenting.FileComment.Missing",
         "marker": {
          "color": "#FFA15A",
          "pattern": {
           "shape": ""
          }
         },
         "name": "PEAR.Commenting.FileComment.Missing",
         "offsetgroup": "PEAR.Commenting.FileComment.Missing",
         "orientation": "v",
         "showlegend": true,
         "textposition": "auto",
         "type": "bar",
         "x": [
          "2022-03-27T19:00:48",
          "2022-03-29T09:38:02",
          "2022-03-30T04:37:32"
         ],
         "xaxis": "x",
         "y": [
          3,
          1,
          1
         ],
         "yaxis": "y"
        },
        {
         "alignmentgroup": "True",
         "hovertemplate": "Vulnerabilities Names=Generic.WhiteSpace.DisallowTabIndent.TabsUsed<br>Issue Created=%{x}<br>Vulnerabilities count=%{y}<extra></extra>",
         "legendgroup": "Generic.WhiteSpace.DisallowTabIndent.TabsUsed",
         "marker": {
          "color": "#19d3f3",
          "pattern": {
           "shape": ""
          }
         },
         "name": "Generic.WhiteSpace.DisallowTabIndent.TabsUsed",
         "offsetgroup": "Generic.WhiteSpace.DisallowTabIndent.TabsUsed",
         "orientation": "v",
         "showlegend": true,
         "textposition": "auto",
         "type": "bar",
         "x": [
          "2022-03-30T04:37:32",
          "2022-03-29T09:38:02"
         ],
         "xaxis": "x",
         "y": [
          3,
          3
         ],
         "yaxis": "y"
        },
        {
         "alignmentgroup": "True",
         "hovertemplate": "Vulnerabilities Names=Mass Assignment<br>Issue Created=%{x}<br>Vulnerabilities count=%{y}<extra></extra>",
         "legendgroup": "Mass Assignment",
         "marker": {
          "color": "#FF6692",
          "pattern": {
           "shape": ""
          }
         },
         "name": "Mass Assignment",
         "offsetgroup": "Mass Assignment",
         "orientation": "v",
         "showlegend": true,
         "textposition": "auto",
         "type": "bar",
         "x": [
          "2022-03-20T12:19:46",
          "2022-03-01T18:38:50",
          "2022-03-01T16:42:43",
          "2022-03-01T12:47:43",
          "2022-03-01T08:47:28",
          "2022-03-01T18:44:34",
          "2022-03-25T13:25:02",
          "2022-03-25T13:49:54",
          "2022-03-29T12:12:42"
         ],
         "xaxis": "x",
         "y": [
          2,
          2,
          2,
          2,
          2,
          2,
          2,
          2,
          2
         ],
         "yaxis": "y"
        },
        {
         "alignmentgroup": "True",
         "hovertemplate": "Vulnerabilities Names=SQL Injection<br>Issue Created=%{x}<br>Vulnerabilities count=%{y}<extra></extra>",
         "legendgroup": "SQL Injection",
         "marker": {
          "color": "#B6E880",
          "pattern": {
           "shape": ""
          }
         },
         "name": "SQL Injection",
         "offsetgroup": "SQL Injection",
         "orientation": "v",
         "showlegend": true,
         "textposition": "auto",
         "type": "bar",
         "x": [
          "2022-03-25T13:49:54",
          "2022-03-01T08:47:28",
          "2022-03-01T12:47:43",
          "2022-03-01T16:42:43",
          "2022-03-01T18:38:50",
          "2022-03-25T13:25:02",
          "2022-03-01T18:44:34",
          "2022-03-29T12:12:42",
          "2022-03-20T12:19:46"
         ],
         "xaxis": "x",
         "y": [
          2,
          2,
          2,
          2,
          2,
          2,
          2,
          2,
          2
         ],
         "yaxis": "y"
        },
        {
         "alignmentgroup": "True",
         "hovertemplate": "Vulnerabilities Names=Session Setting<br>Issue Created=%{x}<br>Vulnerabilities count=%{y}<extra></extra>",
         "legendgroup": "Session Setting",
         "marker": {
          "color": "#FF97FF",
          "pattern": {
           "shape": ""
          }
         },
         "name": "Session Setting",
         "offsetgroup": "Session Setting",
         "orientation": "v",
         "showlegend": true,
         "textposition": "auto",
         "type": "bar",
         "x": [
          "2022-03-20T12:19:46",
          "2022-03-25T13:25:02",
          "2022-03-01T18:44:34",
          "2022-03-25T13:49:54",
          "2022-03-01T18:38:50",
          "2022-03-01T16:42:43",
          "2022-03-01T12:47:43",
          "2022-03-01T08:47:28",
          "2022-03-29T12:12:42"
         ],
         "xaxis": "x",
         "y": [
          2,
          2,
          2,
          2,
          2,
          2,
          2,
          2,
          2
         ],
         "yaxis": "y"
        },
        {
         "alignmentgroup": "True",
         "hovertemplate": "Vulnerabilities Names=Generic.PHP.LowerCaseConstant.Found<br>Issue Created=%{x}<br>Vulnerabilities count=%{y}<extra></extra>",
         "legendgroup": "Generic.PHP.LowerCaseConstant.Found",
         "marker": {
          "color": "#FECB52",
          "pattern": {
           "shape": ""
          }
         },
         "name": "Generic.PHP.LowerCaseConstant.Found",
         "offsetgroup": "Generic.PHP.LowerCaseConstant.Found",
         "orientation": "v",
         "showlegend": true,
         "textposition": "auto",
         "type": "bar",
         "x": [
          "2022-03-27T19:00:48"
         ],
         "xaxis": "x",
         "y": [
          2
         ],
         "yaxis": "y"
        },
        {
         "alignmentgroup": "True",
         "hovertemplate": "Vulnerabilities Names=PEAR.WhiteSpace.ScopeIndent.Incorrect<br>Issue Created=%{x}<br>Vulnerabilities count=%{y}<extra></extra>",
         "legendgroup": "PEAR.WhiteSpace.ScopeIndent.Incorrect",
         "marker": {
          "color": "#636efa",
          "pattern": {
           "shape": ""
          }
         },
         "name": "PEAR.WhiteSpace.ScopeIndent.Incorrect",
         "offsetgroup": "PEAR.WhiteSpace.ScopeIndent.Incorrect",
         "orientation": "v",
         "showlegend": true,
         "textposition": "auto",
         "type": "bar",
         "x": [
          "2022-03-29T09:38:02",
          "2022-03-30T04:37:32"
         ],
         "xaxis": "x",
         "y": [
          2,
          2
         ],
         "yaxis": "y"
        },
        {
         "alignmentgroup": "True",
         "hovertemplate": "Vulnerabilities Names=PEAR.Files.IncludingFile.BracketsNotRequired<br>Issue Created=%{x}<br>Vulnerabilities count=%{y}<extra></extra>",
         "legendgroup": "PEAR.Files.IncludingFile.BracketsNotRequired",
         "marker": {
          "color": "#EF553B",
          "pattern": {
           "shape": ""
          }
         },
         "name": "PEAR.Files.IncludingFile.BracketsNotRequired",
         "offsetgroup": "PEAR.Files.IncludingFile.BracketsNotRequired",
         "orientation": "v",
         "showlegend": true,
         "textposition": "auto",
         "type": "bar",
         "x": [
          "2022-03-30T04:37:32",
          "2022-03-29T09:38:02"
         ],
         "xaxis": "x",
         "y": [
          2,
          2
         ],
         "yaxis": "y"
        },
        {
         "alignmentgroup": "True",
         "hovertemplate": "Vulnerabilities Names=Generic.Files.LineLength.TooLong<br>Issue Created=%{x}<br>Vulnerabilities count=%{y}<extra></extra>",
         "legendgroup": "Generic.Files.LineLength.TooLong",
         "marker": {
          "color": "#00cc96",
          "pattern": {
           "shape": ""
          }
         },
         "name": "Generic.Files.LineLength.TooLong",
         "offsetgroup": "Generic.Files.LineLength.TooLong",
         "orientation": "v",
         "showlegend": true,
         "textposition": "auto",
         "type": "bar",
         "x": [
          "2022-03-30T04:37:32",
          "2022-03-29T09:38:02",
          "2022-03-27T19:00:48"
         ],
         "xaxis": "x",
         "y": [
          2,
          2,
          1
         ],
         "yaxis": "y"
        },
        {
         "alignmentgroup": "True",
         "hovertemplate": "Vulnerabilities Names=Cross-Site Scripting<br>Issue Created=%{x}<br>Vulnerabilities count=%{y}<extra></extra>",
         "legendgroup": "Cross-Site Scripting",
         "marker": {
          "color": "#ab63fa",
          "pattern": {
           "shape": ""
          }
         },
         "name": "Cross-Site Scripting",
         "offsetgroup": "Cross-Site Scripting",
         "orientation": "v",
         "showlegend": true,
         "textposition": "auto",
         "type": "bar",
         "x": [
          "2022-03-01T08:47:28",
          "2022-03-29T12:12:42",
          "2022-03-25T13:49:54",
          "2022-03-25T13:25:02",
          "2022-03-01T18:44:34",
          "2022-03-01T18:38:50",
          "2022-03-01T16:42:43",
          "2022-03-01T12:47:43",
          "2022-03-20T12:19:47",
          "2022-03-20T12:19:46"
         ],
         "xaxis": "x",
         "y": [
          2,
          2,
          2,
          2,
          2,
          2,
          2,
          2,
          1,
          1
         ],
         "yaxis": "y"
        },
        {
         "alignmentgroup": "True",
         "hovertemplate": "Vulnerabilities Names=Generic.ControlStructures.InlineControlStructure.Discouraged<br>Issue Created=%{x}<br>Vulnerabilities count=%{y}<extra></extra>",
         "legendgroup": "Generic.ControlStructures.InlineControlStructure.Discouraged",
         "marker": {
          "color": "#FFA15A",
          "pattern": {
           "shape": ""
          }
         },
         "name": "Generic.ControlStructures.InlineControlStructure.Discouraged",
         "offsetgroup": "Generic.ControlStructures.InlineControlStructure.Discouraged",
         "orientation": "v",
         "showlegend": true,
         "textposition": "auto",
         "type": "bar",
         "x": [
          "2022-03-27T19:00:48",
          "2022-03-27T19:40:33",
          "2022-03-29T09:38:02",
          "2022-03-30T04:37:32"
         ],
         "xaxis": "x",
         "y": [
          2,
          1,
          1,
          1
         ],
         "yaxis": "y"
        },
        {
         "alignmentgroup": "True",
         "hovertemplate": "Vulnerabilities Names=start process with a shell<br>Issue Created=%{x}<br>Vulnerabilities count=%{y}<extra></extra>",
         "legendgroup": "start process with a shell",
         "marker": {
          "color": "#19d3f3",
          "pattern": {
           "shape": ""
          }
         },
         "name": "start process with a shell",
         "offsetgroup": "start process with a shell",
         "orientation": "v",
         "showlegend": true,
         "textposition": "auto",
         "type": "bar",
         "x": [
          "2022-03-21T04:51:16",
          "2022-03-21T04:46:40",
          "2022-03-26T10:34:44",
          "2022-03-26T10:29:38",
          "2022-03-01T11:36:17",
          "2022-03-23T16:58:48",
          "2022-03-23T16:44:19",
          "2022-03-23T16:11:13",
          "2022-03-23T16:03:42",
          "2022-03-23T14:23:50",
          "2022-03-02T07:59:04",
          "2022-03-07T12:25:48",
          "2022-03-08T04:39:11",
          "2022-03-08T05:22:01",
          "2022-03-18T08:49:02",
          "2022-03-20T15:13:37",
          "2022-03-03T11:09:44",
          "2022-04-04T15:53:55"
         ],
         "xaxis": "x",
         "y": [
          1,
          1,
          1,
          1,
          1,
          1,
          1,
          1,
          1,
          1,
          1,
          1,
          1,
          1,
          1,
          1,
          1,
          1
         ],
         "yaxis": "y"
        },
        {
         "alignmentgroup": "True",
         "hovertemplate": "Vulnerabilities Names=hardcoded sql expressions<br>Issue Created=%{x}<br>Vulnerabilities count=%{y}<extra></extra>",
         "legendgroup": "hardcoded sql expressions",
         "marker": {
          "color": "#FF6692",
          "pattern": {
           "shape": ""
          }
         },
         "name": "hardcoded sql expressions",
         "offsetgroup": "hardcoded sql expressions",
         "orientation": "v",
         "showlegend": true,
         "textposition": "auto",
         "type": "bar",
         "x": [
          "2022-03-29T11:51:12",
          "2022-04-05T02:58:39",
          "2022-04-29T04:46:26",
          "2022-03-26T10:34:44",
          "2022-03-26T10:29:38",
          "2022-03-01T11:36:17",
          "2022-03-02T07:59:04",
          "2022-03-03T11:09:44",
          "2022-03-07T12:25:48",
          "2022-03-08T04:39:11",
          "2022-03-08T05:22:01",
          "2022-03-18T08:49:03",
          "2022-03-20T15:13:37",
          "2022-03-21T04:46:40",
          "2022-03-21T04:51:16",
          "2022-03-23T14:23:50",
          "2022-03-23T16:03:42",
          "2022-03-23T16:11:13",
          "2022-03-23T16:44:19",
          "2022-03-23T16:58:48",
          "2022-03-25T10:45:46"
         ],
         "xaxis": "x",
         "y": [
          1,
          1,
          1,
          1,
          1,
          1,
          1,
          1,
          1,
          1,
          1,
          1,
          1,
          1,
          1,
          1,
          1,
          1,
          1,
          1,
          1
         ],
         "yaxis": "y"
        },
        {
         "alignmentgroup": "True",
         "hovertemplate": "Vulnerabilities Names=hashlib<br>Issue Created=%{x}<br>Vulnerabilities count=%{y}<extra></extra>",
         "legendgroup": "hashlib",
         "marker": {
          "color": "#B6E880",
          "pattern": {
           "shape": ""
          }
         },
         "name": "hashlib",
         "offsetgroup": "hashlib",
         "orientation": "v",
         "showlegend": true,
         "textposition": "auto",
         "type": "bar",
         "x": [
          "2022-03-25T10:45:46",
          "2022-03-29T11:51:12"
         ],
         "xaxis": "x",
         "y": [
          1,
          1
         ],
         "yaxis": "y"
        },
        {
         "alignmentgroup": "True",
         "hovertemplate": "Vulnerabilities Names=Unmaintained Dependency<br>Issue Created=%{x}<br>Vulnerabilities count=%{y}<extra></extra>",
         "legendgroup": "Unmaintained Dependency",
         "marker": {
          "color": "#FF97FF",
          "pattern": {
           "shape": ""
          }
         },
         "name": "Unmaintained Dependency",
         "offsetgroup": "Unmaintained Dependency",
         "orientation": "v",
         "showlegend": true,
         "textposition": "auto",
         "type": "bar",
         "x": [
          "2022-03-01T08:47:28",
          "2022-03-01T12:47:43",
          "2022-03-29T12:12:42",
          "2022-03-25T13:49:54",
          "2022-03-25T13:25:02",
          "2022-03-20T12:19:46",
          "2022-03-01T18:44:34",
          "2022-03-01T18:38:50",
          "2022-03-01T16:42:43"
         ],
         "xaxis": "x",
         "y": [
          1,
          1,
          1,
          1,
          1,
          1,
          1,
          1,
          1
         ],
         "yaxis": "y"
        },
        {
         "alignmentgroup": "True",
         "hovertemplate": "Vulnerabilities Names=cookie_session_no_samesite<br>Issue Created=%{x}<br>Vulnerabilities count=%{y}<extra></extra>",
         "legendgroup": "cookie_session_no_samesite",
         "marker": {
          "color": "#FECB52",
          "pattern": {
           "shape": ""
          }
         },
         "name": "cookie_session_no_samesite",
         "offsetgroup": "cookie_session_no_samesite",
         "orientation": "v",
         "showlegend": true,
         "textposition": "auto",
         "type": "bar",
         "x": [
          "2022-03-20T15:20:53"
         ],
         "xaxis": "x",
         "y": [
          1
         ],
         "yaxis": "y"
        },
        {
         "alignmentgroup": "True",
         "hovertemplate": "Vulnerabilities Names=cookie_session_default<br>Issue Created=%{x}<br>Vulnerabilities count=%{y}<extra></extra>",
         "legendgroup": "cookie_session_default",
         "marker": {
          "color": "#636efa",
          "pattern": {
           "shape": ""
          }
         },
         "name": "cookie_session_default",
         "offsetgroup": "cookie_session_default",
         "orientation": "v",
         "showlegend": true,
         "textposition": "auto",
         "type": "bar",
         "x": [
          "2022-03-20T15:20:17"
         ],
         "xaxis": "x",
         "y": [
          1
         ],
         "yaxis": "y"
        },
        {
         "alignmentgroup": "True",
         "hovertemplate": "Vulnerabilities Names=Command Injection<br>Issue Created=%{x}<br>Vulnerabilities count=%{y}<extra></extra>",
         "legendgroup": "Command Injection",
         "marker": {
          "color": "#EF553B",
          "pattern": {
           "shape": ""
          }
         },
         "name": "Command Injection",
         "offsetgroup": "Command Injection",
         "orientation": "v",
         "showlegend": true,
         "textposition": "auto",
         "type": "bar",
         "x": [
          "2022-03-01T08:47:28",
          "2022-03-01T16:42:43",
          "2022-03-01T18:38:50",
          "2022-03-01T18:44:34",
          "2022-03-20T12:19:47",
          "2022-03-25T13:25:02",
          "2022-03-25T13:49:54",
          "2022-03-29T12:12:42",
          "2022-03-01T12:47:43"
         ],
         "xaxis": "x",
         "y": [
          1,
          1,
          1,
          1,
          1,
          1,
          1,
          1,
          1
         ],
         "yaxis": "y"
        },
        {
         "alignmentgroup": "True",
         "hovertemplate": "Vulnerabilities Names=PEAR.Functions.FunctionDeclaration.BraceOnSameLine<br>Issue Created=%{x}<br>Vulnerabilities count=%{y}<extra></extra>",
         "legendgroup": "PEAR.Functions.FunctionDeclaration.BraceOnSameLine",
         "marker": {
          "color": "#00cc96",
          "pattern": {
           "shape": ""
          }
         },
         "name": "PEAR.Functions.FunctionDeclaration.BraceOnSameLine",
         "offsetgroup": "PEAR.Functions.FunctionDeclaration.BraceOnSameLine",
         "orientation": "v",
         "showlegend": true,
         "textposition": "auto",
         "type": "bar",
         "x": [
          "2022-03-27T19:40:33"
         ],
         "xaxis": "x",
         "y": [
          1
         ],
         "yaxis": "y"
        },
        {
         "alignmentgroup": "True",
         "hovertemplate": "Vulnerabilities Names=File Access<br>Issue Created=%{x}<br>Vulnerabilities count=%{y}<extra></extra>",
         "legendgroup": "File Access",
         "marker": {
          "color": "#ab63fa",
          "pattern": {
           "shape": ""
          }
         },
         "name": "File Access",
         "offsetgroup": "File Access",
         "orientation": "v",
         "showlegend": true,
         "textposition": "auto",
         "type": "bar",
         "x": [
          "2022-03-01T16:42:43",
          "2022-03-01T08:47:28",
          "2022-03-01T12:47:43",
          "2022-03-01T18:38:50",
          "2022-03-01T18:44:34",
          "2022-03-20T12:19:47",
          "2022-03-25T13:25:02",
          "2022-03-25T13:49:54",
          "2022-03-29T12:12:42"
         ],
         "xaxis": "x",
         "y": [
          1,
          1,
          1,
          1,
          1,
          1,
          1,
          1,
          1
         ],
         "yaxis": "y"
        },
        {
         "alignmentgroup": "True",
         "hovertemplate": "Vulnerabilities Names=Dangerous Send<br>Issue Created=%{x}<br>Vulnerabilities count=%{y}<extra></extra>",
         "legendgroup": "Dangerous Send",
         "marker": {
          "color": "#FFA15A",
          "pattern": {
           "shape": ""
          }
         },
         "name": "Dangerous Send",
         "offsetgroup": "Dangerous Send",
         "orientation": "v",
         "showlegend": true,
         "textposition": "auto",
         "type": "bar",
         "x": [
          "2022-03-01T18:38:50",
          "2022-03-01T18:44:34",
          "2022-03-20T12:19:46",
          "2022-03-25T13:25:02",
          "2022-03-25T13:49:54",
          "2022-03-29T12:12:42",
          "2022-03-01T16:42:43",
          "2022-03-01T12:47:43",
          "2022-03-01T08:47:28"
         ],
         "xaxis": "x",
         "y": [
          1,
          1,
          1,
          1,
          1,
          1,
          1,
          1,
          1
         ],
         "yaxis": "y"
        },
        {
         "alignmentgroup": "True",
         "hovertemplate": "Vulnerabilities Names=Format Validation<br>Issue Created=%{x}<br>Vulnerabilities count=%{y}<extra></extra>",
         "legendgroup": "Format Validation",
         "marker": {
          "color": "#19d3f3",
          "pattern": {
           "shape": ""
          }
         },
         "name": "Format Validation",
         "offsetgroup": "Format Validation",
         "orientation": "v",
         "showlegend": true,
         "textposition": "auto",
         "type": "bar",
         "x": [
          "2022-03-01T08:47:28",
          "2022-03-01T12:47:43",
          "2022-03-01T16:42:43",
          "2022-03-01T18:38:50",
          "2022-03-01T18:44:34",
          "2022-03-20T12:19:46",
          "2022-03-25T13:25:02",
          "2022-03-25T13:49:54",
          "2022-03-29T12:12:42"
         ],
         "xaxis": "x",
         "y": [
          1,
          1,
          1,
          1,
          1,
          1,
          1,
          1,
          1
         ],
         "yaxis": "y"
        },
        {
         "alignmentgroup": "True",
         "hovertemplate": "Vulnerabilities Names=Cross-Site Request Forgery<br>Issue Created=%{x}<br>Vulnerabilities count=%{y}<extra></extra>",
         "legendgroup": "Cross-Site Request Forgery",
         "marker": {
          "color": "#FF6692",
          "pattern": {
           "shape": ""
          }
         },
         "name": "Cross-Site Request Forgery",
         "offsetgroup": "Cross-Site Request Forgery",
         "orientation": "v",
         "showlegend": true,
         "textposition": "auto",
         "type": "bar",
         "x": [
          "2022-03-01T08:47:28",
          "2022-03-01T12:47:43",
          "2022-03-01T16:42:43",
          "2022-03-01T18:38:50",
          "2022-03-01T18:44:34",
          "2022-03-20T12:19:47",
          "2022-03-25T13:25:02",
          "2022-03-25T13:49:54",
          "2022-03-29T12:12:42"
         ],
         "xaxis": "x",
         "y": [
          1,
          1,
          1,
          1,
          1,
          1,
          1,
          1,
          1
         ],
         "yaxis": "y"
        },
        {
         "alignmentgroup": "True",
         "hovertemplate": "Vulnerabilities Names=PEAR.Commenting.FileComment.MissingLinkTag<br>Issue Created=%{x}<br>Vulnerabilities count=%{y}<extra></extra>",
         "legendgroup": "PEAR.Commenting.FileComment.MissingLinkTag",
         "marker": {
          "color": "#B6E880",
          "pattern": {
           "shape": ""
          }
         },
         "name": "PEAR.Commenting.FileComment.MissingLinkTag",
         "offsetgroup": "PEAR.Commenting.FileComment.MissingLinkTag",
         "orientation": "v",
         "showlegend": true,
         "textposition": "auto",
         "type": "bar",
         "x": [
          "2022-03-30T04:37:32",
          "2022-03-29T09:38:02"
         ],
         "xaxis": "x",
         "y": [
          1,
          1
         ],
         "yaxis": "y"
        },
        {
         "alignmentgroup": "True",
         "hovertemplate": "Vulnerabilities Names=PEAR.Commenting.FileComment.MissingPackageTag<br>Issue Created=%{x}<br>Vulnerabilities count=%{y}<extra></extra>",
         "legendgroup": "PEAR.Commenting.FileComment.MissingPackageTag",
         "marker": {
          "color": "#FF97FF",
          "pattern": {
           "shape": ""
          }
         },
         "name": "PEAR.Commenting.FileComment.MissingPackageTag",
         "offsetgroup": "PEAR.Commenting.FileComment.MissingPackageTag",
         "orientation": "v",
         "showlegend": true,
         "textposition": "auto",
         "type": "bar",
         "x": [
          "2022-03-30T04:37:32",
          "2022-03-29T09:38:02"
         ],
         "xaxis": "x",
         "y": [
          1,
          1
         ],
         "yaxis": "y"
        },
        {
         "alignmentgroup": "True",
         "hovertemplate": "Vulnerabilities Names=PEAR.Commenting.FileComment.MissingVersion<br>Issue Created=%{x}<br>Vulnerabilities count=%{y}<extra></extra>",
         "legendgroup": "PEAR.Commenting.FileComment.MissingVersion",
         "marker": {
          "color": "#FECB52",
          "pattern": {
           "shape": ""
          }
         },
         "name": "PEAR.Commenting.FileComment.MissingVersion",
         "offsetgroup": "PEAR.Commenting.FileComment.MissingVersion",
         "orientation": "v",
         "showlegend": true,
         "textposition": "auto",
         "type": "bar",
         "x": [
          "2022-03-29T09:38:02",
          "2022-03-30T04:37:32"
         ],
         "xaxis": "x",
         "y": [
          1,
          1
         ],
         "yaxis": "y"
        },
        {
         "alignmentgroup": "True",
         "hovertemplate": "Vulnerabilities Names=PEAR.Commenting.FileComment.WrongStyle<br>Issue Created=%{x}<br>Vulnerabilities count=%{y}<extra></extra>",
         "legendgroup": "PEAR.Commenting.FileComment.WrongStyle",
         "marker": {
          "color": "#636efa",
          "pattern": {
           "shape": ""
          }
         },
         "name": "PEAR.Commenting.FileComment.WrongStyle",
         "offsetgroup": "PEAR.Commenting.FileComment.WrongStyle",
         "orientation": "v",
         "showlegend": true,
         "textposition": "auto",
         "type": "bar",
         "x": [
          "2022-03-27T19:00:48"
         ],
         "xaxis": "x",
         "y": [
          1
         ],
         "yaxis": "y"
        },
        {
         "alignmentgroup": "True",
         "hovertemplate": "Vulnerabilities Names=PEAR.ControlStructures.ControlSignature.Found<br>Issue Created=%{x}<br>Vulnerabilities count=%{y}<extra></extra>",
         "legendgroup": "PEAR.ControlStructures.ControlSignature.Found",
         "marker": {
          "color": "#EF553B",
          "pattern": {
           "shape": ""
          }
         },
         "name": "PEAR.ControlStructures.ControlSignature.Found",
         "offsetgroup": "PEAR.ControlStructures.ControlSignature.Found",
         "orientation": "v",
         "showlegend": true,
         "textposition": "auto",
         "type": "bar",
         "x": [
          "2022-03-29T09:38:02",
          "2022-03-30T04:37:32"
         ],
         "xaxis": "x",
         "y": [
          1,
          1
         ],
         "yaxis": "y"
        },
        {
         "alignmentgroup": "True",
         "hovertemplate": "Vulnerabilities Names=PEAR.ControlStructures.MultiLineCondition.NewlineBeforeOpenBrace<br>Issue Created=%{x}<br>Vulnerabilities count=%{y}<extra></extra>",
         "legendgroup": "PEAR.ControlStructures.MultiLineCondition.NewlineBeforeOpenBrace",
         "marker": {
          "color": "#00cc96",
          "pattern": {
           "shape": ""
          }
         },
         "name": "PEAR.ControlStructures.MultiLineCondition.NewlineBeforeOpenBrace",
         "offsetgroup": "PEAR.ControlStructures.MultiLineCondition.NewlineBeforeOpenBrace",
         "orientation": "v",
         "showlegend": true,
         "textposition": "auto",
         "type": "bar",
         "x": [
          "2022-03-29T09:38:02",
          "2022-03-30T04:37:32"
         ],
         "xaxis": "x",
         "y": [
          1,
          1
         ],
         "yaxis": "y"
        },
        {
         "alignmentgroup": "True",
         "hovertemplate": "Vulnerabilities Names=PEAR.Files.IncludingFile.UseIncludeOnce<br>Issue Created=%{x}<br>Vulnerabilities count=%{y}<extra></extra>",
         "legendgroup": "PEAR.Files.IncludingFile.UseIncludeOnce",
         "marker": {
          "color": "#ab63fa",
          "pattern": {
           "shape": ""
          }
         },
         "name": "PEAR.Files.IncludingFile.UseIncludeOnce",
         "offsetgroup": "PEAR.Files.IncludingFile.UseIncludeOnce",
         "orientation": "v",
         "showlegend": true,
         "textposition": "auto",
         "type": "bar",
         "x": [
          "2022-03-29T09:38:02",
          "2022-03-30T04:37:32"
         ],
         "xaxis": "x",
         "y": [
          1,
          1
         ],
         "yaxis": "y"
        },
        {
         "alignmentgroup": "True",
         "hovertemplate": "Vulnerabilities Names=PEAR.Functions.FunctionCallSignature.EmptyLine<br>Issue Created=%{x}<br>Vulnerabilities count=%{y}<extra></extra>",
         "legendgroup": "PEAR.Functions.FunctionCallSignature.EmptyLine",
         "marker": {
          "color": "#FFA15A",
          "pattern": {
           "shape": ""
          }
         },
         "name": "PEAR.Functions.FunctionCallSignature.EmptyLine",
         "offsetgroup": "PEAR.Functions.FunctionCallSignature.EmptyLine",
         "orientation": "v",
         "showlegend": true,
         "textposition": "auto",
         "type": "bar",
         "x": [
          "2022-03-27T19:40:33"
         ],
         "xaxis": "x",
         "y": [
          1
         ],
         "yaxis": "y"
        },
        {
         "alignmentgroup": "True",
         "hovertemplate": "Vulnerabilities Names=PEAR.Functions.FunctionCallSignature.Indent<br>Issue Created=%{x}<br>Vulnerabilities count=%{y}<extra></extra>",
         "legendgroup": "PEAR.Functions.FunctionCallSignature.Indent",
         "marker": {
          "color": "#19d3f3",
          "pattern": {
           "shape": ""
          }
         },
         "name": "PEAR.Functions.FunctionCallSignature.Indent",
         "offsetgroup": "PEAR.Functions.FunctionCallSignature.Indent",
         "orientation": "v",
         "showlegend": true,
         "textposition": "auto",
         "type": "bar",
         "x": [
          "2022-03-27T19:40:34"
         ],
         "xaxis": "x",
         "y": [
          1
         ],
         "yaxis": "y"
        },
        {
         "alignmentgroup": "True",
         "hovertemplate": "Vulnerabilities Names=PEAR.WhiteSpace.ScopeIndent.IncorrectExact<br>Issue Created=%{x}<br>Vulnerabilities count=%{y}<extra></extra>",
         "legendgroup": "PEAR.WhiteSpace.ScopeIndent.IncorrectExact",
         "marker": {
          "color": "#FF6692",
          "pattern": {
           "shape": ""
          }
         },
         "name": "PEAR.WhiteSpace.ScopeIndent.IncorrectExact",
         "offsetgroup": "PEAR.WhiteSpace.ScopeIndent.IncorrectExact",
         "orientation": "v",
         "showlegend": true,
         "textposition": "auto",
         "type": "bar",
         "x": [
          "2022-03-27T19:40:34"
         ],
         "xaxis": "x",
         "y": [
          1
         ],
         "yaxis": "y"
        },
        {
         "alignmentgroup": "True",
         "hovertemplate": "Vulnerabilities Names=PEAR.Commenting.FileComment.MissingLicenseTag<br>Issue Created=%{x}<br>Vulnerabilities count=%{y}<extra></extra>",
         "legendgroup": "PEAR.Commenting.FileComment.MissingLicenseTag",
         "marker": {
          "color": "#B6E880",
          "pattern": {
           "shape": ""
          }
         },
         "name": "PEAR.Commenting.FileComment.MissingLicenseTag",
         "offsetgroup": "PEAR.Commenting.FileComment.MissingLicenseTag",
         "orientation": "v",
         "showlegend": true,
         "textposition": "auto",
         "type": "bar",
         "x": [
          "2022-03-30T04:37:32",
          "2022-03-29T09:38:02"
         ],
         "xaxis": "x",
         "y": [
          1,
          1
         ],
         "yaxis": "y"
        },
        {
         "alignmentgroup": "True",
         "hovertemplate": "Vulnerabilities Names=Generic.Functions.FunctionCallArgumentSpacing.NoSpaceAfterComma<br>Issue Created=%{x}<br>Vulnerabilities count=%{y}<extra></extra>",
         "legendgroup": "Generic.Functions.FunctionCallArgumentSpacing.NoSpaceAfterComma",
         "marker": {
          "color": "#FF97FF",
          "pattern": {
           "shape": ""
          }
         },
         "name": "Generic.Functions.FunctionCallArgumentSpacing.NoSpaceAfterComma",
         "offsetgroup": "Generic.Functions.FunctionCallArgumentSpacing.NoSpaceAfterComma",
         "orientation": "v",
         "showlegend": true,
         "textposition": "auto",
         "type": "bar",
         "x": [
          "2022-03-29T09:38:02",
          "2022-03-30T04:37:32"
         ],
         "xaxis": "x",
         "y": [
          1,
          1
         ],
         "yaxis": "y"
        },
        {
         "alignmentgroup": "True",
         "hovertemplate": "Vulnerabilities Names=Generic.NamingConventions.UpperCaseConstantName.ConstantNotUpperCase<br>Issue Created=%{x}<br>Vulnerabilities count=%{y}<extra></extra>",
         "legendgroup": "Generic.NamingConventions.UpperCaseConstantName.ConstantNotUpperCase",
         "marker": {
          "color": "#FECB52",
          "pattern": {
           "shape": ""
          }
         },
         "name": "Generic.NamingConventions.UpperCaseConstantName.ConstantNotUpperCase",
         "offsetgroup": "Generic.NamingConventions.UpperCaseConstantName.ConstantNotUpperCase",
         "orientation": "v",
         "showlegend": true,
         "textposition": "auto",
         "type": "bar",
         "x": [
          "2022-03-29T09:38:02",
          "2022-03-30T04:37:32"
         ],
         "xaxis": "x",
         "y": [
          1,
          1
         ],
         "yaxis": "y"
        },
        {
         "alignmentgroup": "True",
         "hovertemplate": "Vulnerabilities Names=PEAR.Commenting.FileComment.MissingAuthorTag<br>Issue Created=%{x}<br>Vulnerabilities count=%{y}<extra></extra>",
         "legendgroup": "PEAR.Commenting.FileComment.MissingAuthorTag",
         "marker": {
          "color": "#636efa",
          "pattern": {
           "shape": ""
          }
         },
         "name": "PEAR.Commenting.FileComment.MissingAuthorTag",
         "offsetgroup": "PEAR.Commenting.FileComment.MissingAuthorTag",
         "orientation": "v",
         "showlegend": true,
         "textposition": "auto",
         "type": "bar",
         "x": [
          "2022-03-29T09:38:02",
          "2022-03-30T04:37:32"
         ],
         "xaxis": "x",
         "y": [
          1,
          1
         ],
         "yaxis": "y"
        },
        {
         "alignmentgroup": "True",
         "hovertemplate": "Vulnerabilities Names=PEAR.Commenting.FileComment.MissingCategoryTag<br>Issue Created=%{x}<br>Vulnerabilities count=%{y}<extra></extra>",
         "legendgroup": "PEAR.Commenting.FileComment.MissingCategoryTag",
         "marker": {
          "color": "#EF553B",
          "pattern": {
           "shape": ""
          }
         },
         "name": "PEAR.Commenting.FileComment.MissingCategoryTag",
         "offsetgroup": "PEAR.Commenting.FileComment.MissingCategoryTag",
         "orientation": "v",
         "showlegend": true,
         "textposition": "auto",
         "type": "bar",
         "x": [
          "2022-03-29T09:38:02",
          "2022-03-30T04:37:32"
         ],
         "xaxis": "x",
         "y": [
          1,
          1
         ],
         "yaxis": "y"
        }
       ],
       "layout": {
        "barmode": "relative",
        "legend": {
         "title": {
          "text": "Vulnerabilities Names"
         },
         "tracegroupgap": 0
        },
        "margin": {
         "t": 60
        },
        "template": {
         "data": {
          "bar": [
           {
            "error_x": {
             "color": "#2a3f5f"
            },
            "error_y": {
             "color": "#2a3f5f"
            },
            "marker": {
             "line": {
              "color": "#E5ECF6",
              "width": 0.5
             },
             "pattern": {
              "fillmode": "overlay",
              "size": 10,
              "solidity": 0.2
             }
            },
            "type": "bar"
           }
          ],
          "barpolar": [
           {
            "marker": {
             "line": {
              "color": "#E5ECF6",
              "width": 0.5
             },
             "pattern": {
              "fillmode": "overlay",
              "size": 10,
              "solidity": 0.2
             }
            },
            "type": "barpolar"
           }
          ],
          "carpet": [
           {
            "aaxis": {
             "endlinecolor": "#2a3f5f",
             "gridcolor": "white",
             "linecolor": "white",
             "minorgridcolor": "white",
             "startlinecolor": "#2a3f5f"
            },
            "baxis": {
             "endlinecolor": "#2a3f5f",
             "gridcolor": "white",
             "linecolor": "white",
             "minorgridcolor": "white",
             "startlinecolor": "#2a3f5f"
            },
            "type": "carpet"
           }
          ],
          "choropleth": [
           {
            "colorbar": {
             "outlinewidth": 0,
             "ticks": ""
            },
            "type": "choropleth"
           }
          ],
          "contour": [
           {
            "colorbar": {
             "outlinewidth": 0,
             "ticks": ""
            },
            "colorscale": [
             [
              0,
              "#0d0887"
             ],
             [
              0.1111111111111111,
              "#46039f"
             ],
             [
              0.2222222222222222,
              "#7201a8"
             ],
             [
              0.3333333333333333,
              "#9c179e"
             ],
             [
              0.4444444444444444,
              "#bd3786"
             ],
             [
              0.5555555555555556,
              "#d8576b"
             ],
             [
              0.6666666666666666,
              "#ed7953"
             ],
             [
              0.7777777777777778,
              "#fb9f3a"
             ],
             [
              0.8888888888888888,
              "#fdca26"
             ],
             [
              1,
              "#f0f921"
             ]
            ],
            "type": "contour"
           }
          ],
          "contourcarpet": [
           {
            "colorbar": {
             "outlinewidth": 0,
             "ticks": ""
            },
            "type": "contourcarpet"
           }
          ],
          "heatmap": [
           {
            "colorbar": {
             "outlinewidth": 0,
             "ticks": ""
            },
            "colorscale": [
             [
              0,
              "#0d0887"
             ],
             [
              0.1111111111111111,
              "#46039f"
             ],
             [
              0.2222222222222222,
              "#7201a8"
             ],
             [
              0.3333333333333333,
              "#9c179e"
             ],
             [
              0.4444444444444444,
              "#bd3786"
             ],
             [
              0.5555555555555556,
              "#d8576b"
             ],
             [
              0.6666666666666666,
              "#ed7953"
             ],
             [
              0.7777777777777778,
              "#fb9f3a"
             ],
             [
              0.8888888888888888,
              "#fdca26"
             ],
             [
              1,
              "#f0f921"
             ]
            ],
            "type": "heatmap"
           }
          ],
          "heatmapgl": [
           {
            "colorbar": {
             "outlinewidth": 0,
             "ticks": ""
            },
            "colorscale": [
             [
              0,
              "#0d0887"
             ],
             [
              0.1111111111111111,
              "#46039f"
             ],
             [
              0.2222222222222222,
              "#7201a8"
             ],
             [
              0.3333333333333333,
              "#9c179e"
             ],
             [
              0.4444444444444444,
              "#bd3786"
             ],
             [
              0.5555555555555556,
              "#d8576b"
             ],
             [
              0.6666666666666666,
              "#ed7953"
             ],
             [
              0.7777777777777778,
              "#fb9f3a"
             ],
             [
              0.8888888888888888,
              "#fdca26"
             ],
             [
              1,
              "#f0f921"
             ]
            ],
            "type": "heatmapgl"
           }
          ],
          "histogram": [
           {
            "marker": {
             "pattern": {
              "fillmode": "overlay",
              "size": 10,
              "solidity": 0.2
             }
            },
            "type": "histogram"
           }
          ],
          "histogram2d": [
           {
            "colorbar": {
             "outlinewidth": 0,
             "ticks": ""
            },
            "colorscale": [
             [
              0,
              "#0d0887"
             ],
             [
              0.1111111111111111,
              "#46039f"
             ],
             [
              0.2222222222222222,
              "#7201a8"
             ],
             [
              0.3333333333333333,
              "#9c179e"
             ],
             [
              0.4444444444444444,
              "#bd3786"
             ],
             [
              0.5555555555555556,
              "#d8576b"
             ],
             [
              0.6666666666666666,
              "#ed7953"
             ],
             [
              0.7777777777777778,
              "#fb9f3a"
             ],
             [
              0.8888888888888888,
              "#fdca26"
             ],
             [
              1,
              "#f0f921"
             ]
            ],
            "type": "histogram2d"
           }
          ],
          "histogram2dcontour": [
           {
            "colorbar": {
             "outlinewidth": 0,
             "ticks": ""
            },
            "colorscale": [
             [
              0,
              "#0d0887"
             ],
             [
              0.1111111111111111,
              "#46039f"
             ],
             [
              0.2222222222222222,
              "#7201a8"
             ],
             [
              0.3333333333333333,
              "#9c179e"
             ],
             [
              0.4444444444444444,
              "#bd3786"
             ],
             [
              0.5555555555555556,
              "#d8576b"
             ],
             [
              0.6666666666666666,
              "#ed7953"
             ],
             [
              0.7777777777777778,
              "#fb9f3a"
             ],
             [
              0.8888888888888888,
              "#fdca26"
             ],
             [
              1,
              "#f0f921"
             ]
            ],
            "type": "histogram2dcontour"
           }
          ],
          "mesh3d": [
           {
            "colorbar": {
             "outlinewidth": 0,
             "ticks": ""
            },
            "type": "mesh3d"
           }
          ],
          "parcoords": [
           {
            "line": {
             "colorbar": {
              "outlinewidth": 0,
              "ticks": ""
             }
            },
            "type": "parcoords"
           }
          ],
          "pie": [
           {
            "automargin": true,
            "type": "pie"
           }
          ],
          "scatter": [
           {
            "fillpattern": {
             "fillmode": "overlay",
             "size": 10,
             "solidity": 0.2
            },
            "type": "scatter"
           }
          ],
          "scatter3d": [
           {
            "line": {
             "colorbar": {
              "outlinewidth": 0,
              "ticks": ""
             }
            },
            "marker": {
             "colorbar": {
              "outlinewidth": 0,
              "ticks": ""
             }
            },
            "type": "scatter3d"
           }
          ],
          "scattercarpet": [
           {
            "marker": {
             "colorbar": {
              "outlinewidth": 0,
              "ticks": ""
             }
            },
            "type": "scattercarpet"
           }
          ],
          "scattergeo": [
           {
            "marker": {
             "colorbar": {
              "outlinewidth": 0,
              "ticks": ""
             }
            },
            "type": "scattergeo"
           }
          ],
          "scattergl": [
           {
            "marker": {
             "colorbar": {
              "outlinewidth": 0,
              "ticks": ""
             }
            },
            "type": "scattergl"
           }
          ],
          "scattermapbox": [
           {
            "marker": {
             "colorbar": {
              "outlinewidth": 0,
              "ticks": ""
             }
            },
            "type": "scattermapbox"
           }
          ],
          "scatterpolar": [
           {
            "marker": {
             "colorbar": {
              "outlinewidth": 0,
              "ticks": ""
             }
            },
            "type": "scatterpolar"
           }
          ],
          "scatterpolargl": [
           {
            "marker": {
             "colorbar": {
              "outlinewidth": 0,
              "ticks": ""
             }
            },
            "type": "scatterpolargl"
           }
          ],
          "scatterternary": [
           {
            "marker": {
             "colorbar": {
              "outlinewidth": 0,
              "ticks": ""
             }
            },
            "type": "scatterternary"
           }
          ],
          "surface": [
           {
            "colorbar": {
             "outlinewidth": 0,
             "ticks": ""
            },
            "colorscale": [
             [
              0,
              "#0d0887"
             ],
             [
              0.1111111111111111,
              "#46039f"
             ],
             [
              0.2222222222222222,
              "#7201a8"
             ],
             [
              0.3333333333333333,
              "#9c179e"
             ],
             [
              0.4444444444444444,
              "#bd3786"
             ],
             [
              0.5555555555555556,
              "#d8576b"
             ],
             [
              0.6666666666666666,
              "#ed7953"
             ],
             [
              0.7777777777777778,
              "#fb9f3a"
             ],
             [
              0.8888888888888888,
              "#fdca26"
             ],
             [
              1,
              "#f0f921"
             ]
            ],
            "type": "surface"
           }
          ],
          "table": [
           {
            "cells": {
             "fill": {
              "color": "#EBF0F8"
             },
             "line": {
              "color": "white"
             }
            },
            "header": {
             "fill": {
              "color": "#C8D4E3"
             },
             "line": {
              "color": "white"
             }
            },
            "type": "table"
           }
          ]
         },
         "layout": {
          "annotationdefaults": {
           "arrowcolor": "#2a3f5f",
           "arrowhead": 0,
           "arrowwidth": 1
          },
          "autotypenumbers": "strict",
          "coloraxis": {
           "colorbar": {
            "outlinewidth": 0,
            "ticks": ""
           }
          },
          "colorscale": {
           "diverging": [
            [
             0,
             "#8e0152"
            ],
            [
             0.1,
             "#c51b7d"
            ],
            [
             0.2,
             "#de77ae"
            ],
            [
             0.3,
             "#f1b6da"
            ],
            [
             0.4,
             "#fde0ef"
            ],
            [
             0.5,
             "#f7f7f7"
            ],
            [
             0.6,
             "#e6f5d0"
            ],
            [
             0.7,
             "#b8e186"
            ],
            [
             0.8,
             "#7fbc41"
            ],
            [
             0.9,
             "#4d9221"
            ],
            [
             1,
             "#276419"
            ]
           ],
           "sequential": [
            [
             0,
             "#0d0887"
            ],
            [
             0.1111111111111111,
             "#46039f"
            ],
            [
             0.2222222222222222,
             "#7201a8"
            ],
            [
             0.3333333333333333,
             "#9c179e"
            ],
            [
             0.4444444444444444,
             "#bd3786"
            ],
            [
             0.5555555555555556,
             "#d8576b"
            ],
            [
             0.6666666666666666,
             "#ed7953"
            ],
            [
             0.7777777777777778,
             "#fb9f3a"
            ],
            [
             0.8888888888888888,
             "#fdca26"
            ],
            [
             1,
             "#f0f921"
            ]
           ],
           "sequentialminus": [
            [
             0,
             "#0d0887"
            ],
            [
             0.1111111111111111,
             "#46039f"
            ],
            [
             0.2222222222222222,
             "#7201a8"
            ],
            [
             0.3333333333333333,
             "#9c179e"
            ],
            [
             0.4444444444444444,
             "#bd3786"
            ],
            [
             0.5555555555555556,
             "#d8576b"
            ],
            [
             0.6666666666666666,
             "#ed7953"
            ],
            [
             0.7777777777777778,
             "#fb9f3a"
            ],
            [
             0.8888888888888888,
             "#fdca26"
            ],
            [
             1,
             "#f0f921"
            ]
           ]
          },
          "colorway": [
           "#636efa",
           "#EF553B",
           "#00cc96",
           "#ab63fa",
           "#FFA15A",
           "#19d3f3",
           "#FF6692",
           "#B6E880",
           "#FF97FF",
           "#FECB52"
          ],
          "font": {
           "color": "#2a3f5f"
          },
          "geo": {
           "bgcolor": "white",
           "lakecolor": "white",
           "landcolor": "#E5ECF6",
           "showlakes": true,
           "showland": true,
           "subunitcolor": "white"
          },
          "hoverlabel": {
           "align": "left"
          },
          "hovermode": "closest",
          "mapbox": {
           "style": "light"
          },
          "paper_bgcolor": "white",
          "plot_bgcolor": "#E5ECF6",
          "polar": {
           "angularaxis": {
            "gridcolor": "white",
            "linecolor": "white",
            "ticks": ""
           },
           "bgcolor": "#E5ECF6",
           "radialaxis": {
            "gridcolor": "white",
            "linecolor": "white",
            "ticks": ""
           }
          },
          "scene": {
           "xaxis": {
            "backgroundcolor": "#E5ECF6",
            "gridcolor": "white",
            "gridwidth": 2,
            "linecolor": "white",
            "showbackground": true,
            "ticks": "",
            "zerolinecolor": "white"
           },
           "yaxis": {
            "backgroundcolor": "#E5ECF6",
            "gridcolor": "white",
            "gridwidth": 2,
            "linecolor": "white",
            "showbackground": true,
            "ticks": "",
            "zerolinecolor": "white"
           },
           "zaxis": {
            "backgroundcolor": "#E5ECF6",
            "gridcolor": "white",
            "gridwidth": 2,
            "linecolor": "white",
            "showbackground": true,
            "ticks": "",
            "zerolinecolor": "white"
           }
          },
          "shapedefaults": {
           "line": {
            "color": "#2a3f5f"
           }
          },
          "ternary": {
           "aaxis": {
            "gridcolor": "white",
            "linecolor": "white",
            "ticks": ""
           },
           "baxis": {
            "gridcolor": "white",
            "linecolor": "white",
            "ticks": ""
           },
           "bgcolor": "#E5ECF6",
           "caxis": {
            "gridcolor": "white",
            "linecolor": "white",
            "ticks": ""
           }
          },
          "title": {
           "x": 0.05
          },
          "xaxis": {
           "automargin": true,
           "gridcolor": "white",
           "linecolor": "white",
           "ticks": "",
           "title": {
            "standoff": 15
           },
           "zerolinecolor": "white",
           "zerolinewidth": 2
          },
          "yaxis": {
           "automargin": true,
           "gridcolor": "white",
           "linecolor": "white",
           "ticks": "",
           "title": {
            "standoff": 15
           },
           "zerolinecolor": "white",
           "zerolinewidth": 2
          }
         }
        },
        "xaxis": {
         "anchor": "y",
         "domain": [
          0,
          1
         ],
         "title": {
          "text": "Issue Created"
         }
        },
        "yaxis": {
         "anchor": "x",
         "domain": [
          0,
          1
         ],
         "title": {
          "text": "Vulnerabilities count"
         }
        }
       }
      }
     },
     "metadata": {},
     "output_type": "display_data"
    }
   ],
   "source": [
    "px.bar(sast,x='Issue Created',y='Vulnerabilities count',color='Vulnerabilities Names')"
   ]
  },
  {
   "cell_type": "code",
   "execution_count": 39,
   "metadata": {},
   "outputs": [
    {
     "data": {
      "text/html": [
       "<div>\n",
       "<style scoped>\n",
       "    .dataframe tbody tr th:only-of-type {\n",
       "        vertical-align: middle;\n",
       "    }\n",
       "\n",
       "    .dataframe tbody tr th {\n",
       "        vertical-align: top;\n",
       "    }\n",
       "\n",
       "    .dataframe thead th {\n",
       "        text-align: right;\n",
       "    }\n",
       "</style>\n",
       "<table border=\"1\" class=\"dataframe\">\n",
       "  <thead>\n",
       "    <tr style=\"text-align: right;\">\n",
       "      <th></th>\n",
       "      <th>Vulnerabilities Names</th>\n",
       "      <th>Issue Created</th>\n",
       "      <th>Vulnerabilities count</th>\n",
       "      <th>MTTR</th>\n",
       "      <th>MAXTTR</th>\n",
       "      <th>MINTTR</th>\n",
       "    </tr>\n",
       "  </thead>\n",
       "  <tbody>\n",
       "    <tr>\n",
       "      <th>50</th>\n",
       "      <td>Information Disclosure - Suspicious Comments</td>\n",
       "      <td>2022-03-21 04:53:19</td>\n",
       "      <td>12</td>\n",
       "      <td>6 days 13:37:40</td>\n",
       "      <td>6 days 13:37:40</td>\n",
       "      <td>6 days 13:37:40</td>\n",
       "    </tr>\n",
       "    <tr>\n",
       "      <th>49</th>\n",
       "      <td>Information Disclosure - Suspicious Comments</td>\n",
       "      <td>2022-03-01 18:47:09</td>\n",
       "      <td>12</td>\n",
       "      <td>25 days 23:43:50</td>\n",
       "      <td>25 days 23:43:50</td>\n",
       "      <td>25 days 23:43:50</td>\n",
       "    </tr>\n",
       "    <tr>\n",
       "      <th>51</th>\n",
       "      <td>Information Disclosure - Suspicious Comments</td>\n",
       "      <td>2022-03-23 14:25:46</td>\n",
       "      <td>12</td>\n",
       "      <td>4 days 04:05:13</td>\n",
       "      <td>4 days 04:05:13</td>\n",
       "      <td>4 days 04:05:13</td>\n",
       "    </tr>\n",
       "    <tr>\n",
       "      <th>77</th>\n",
       "      <td>Timestamp Disclosure - Unix</td>\n",
       "      <td>2022-03-01 18:47:09</td>\n",
       "      <td>12</td>\n",
       "      <td>25 days 23:43:50</td>\n",
       "      <td>25 days 23:43:50</td>\n",
       "      <td>25 days 23:43:50</td>\n",
       "    </tr>\n",
       "    <tr>\n",
       "      <th>78</th>\n",
       "      <td>Timestamp Disclosure - Unix</td>\n",
       "      <td>2022-03-21 04:53:19</td>\n",
       "      <td>12</td>\n",
       "      <td>6 days 13:37:40</td>\n",
       "      <td>6 days 13:37:40</td>\n",
       "      <td>6 days 13:37:40</td>\n",
       "    </tr>\n",
       "  </tbody>\n",
       "</table>\n",
       "</div>"
      ],
      "text/plain": [
       "                           Vulnerabilities Names       Issue Created  \\\n",
       "50  Information Disclosure - Suspicious Comments 2022-03-21 04:53:19   \n",
       "49  Information Disclosure - Suspicious Comments 2022-03-01 18:47:09   \n",
       "51  Information Disclosure - Suspicious Comments 2022-03-23 14:25:46   \n",
       "77                   Timestamp Disclosure - Unix 2022-03-01 18:47:09   \n",
       "78                   Timestamp Disclosure - Unix 2022-03-21 04:53:19   \n",
       "\n",
       "    Vulnerabilities count             MTTR           MAXTTR           MINTTR  \n",
       "50                     12  6 days 13:37:40  6 days 13:37:40  6 days 13:37:40  \n",
       "49                     12 25 days 23:43:50 25 days 23:43:50 25 days 23:43:50  \n",
       "51                     12  4 days 04:05:13  4 days 04:05:13  4 days 04:05:13  \n",
       "77                     12 25 days 23:43:50 25 days 23:43:50 25 days 23:43:50  \n",
       "78                     12  6 days 13:37:40  6 days 13:37:40  6 days 13:37:40  "
      ]
     },
     "execution_count": 39,
     "metadata": {},
     "output_type": "execute_result"
    }
   ],
   "source": [
    "dast = issue_name_mean_min_max(dast_tn,vs='risk_desc')\n",
    "dast.head()"
   ]
  },
  {
   "cell_type": "code",
   "execution_count": 40,
   "metadata": {},
   "outputs": [
    {
     "data": {
      "text/html": [
       "<div>\n",
       "<style scoped>\n",
       "    .dataframe tbody tr th:only-of-type {\n",
       "        vertical-align: middle;\n",
       "    }\n",
       "\n",
       "    .dataframe tbody tr th {\n",
       "        vertical-align: top;\n",
       "    }\n",
       "\n",
       "    .dataframe thead th {\n",
       "        text-align: right;\n",
       "    }\n",
       "</style>\n",
       "<table border=\"1\" class=\"dataframe\">\n",
       "  <thead>\n",
       "    <tr style=\"text-align: right;\">\n",
       "      <th></th>\n",
       "      <th>Vulnerabilities Names</th>\n",
       "      <th>Issue Created</th>\n",
       "      <th>Vulnerabilities count</th>\n",
       "      <th>MTTR</th>\n",
       "      <th>MAXTTR</th>\n",
       "      <th>MINTTR</th>\n",
       "    </tr>\n",
       "  </thead>\n",
       "  <tbody>\n",
       "    <tr>\n",
       "      <th>398</th>\n",
       "      <td>CVE-2020-11022</td>\n",
       "      <td>2022-04-05 04:41:38</td>\n",
       "      <td>2</td>\n",
       "      <td>0 days</td>\n",
       "      <td>0 days</td>\n",
       "      <td>0 days</td>\n",
       "    </tr>\n",
       "    <tr>\n",
       "      <th>108</th>\n",
       "      <td>CVE-2015-9251</td>\n",
       "      <td>2022-04-04 13:36:02</td>\n",
       "      <td>2</td>\n",
       "      <td>0 days</td>\n",
       "      <td>0 days</td>\n",
       "      <td>0 days</td>\n",
       "    </tr>\n",
       "    <tr>\n",
       "      <th>301</th>\n",
       "      <td>CVE-2019-11358</td>\n",
       "      <td>2022-04-04 16:01:29</td>\n",
       "      <td>2</td>\n",
       "      <td>0 days</td>\n",
       "      <td>0 days</td>\n",
       "      <td>0 days</td>\n",
       "    </tr>\n",
       "    <tr>\n",
       "      <th>302</th>\n",
       "      <td>CVE-2019-11358</td>\n",
       "      <td>2022-04-04 16:46:34</td>\n",
       "      <td>2</td>\n",
       "      <td>0 days</td>\n",
       "      <td>0 days</td>\n",
       "      <td>0 days</td>\n",
       "    </tr>\n",
       "    <tr>\n",
       "      <th>303</th>\n",
       "      <td>CVE-2019-11358</td>\n",
       "      <td>2022-04-04 18:46:07</td>\n",
       "      <td>2</td>\n",
       "      <td>0 days</td>\n",
       "      <td>0 days</td>\n",
       "      <td>0 days</td>\n",
       "    </tr>\n",
       "  </tbody>\n",
       "</table>\n",
       "</div>"
      ],
      "text/plain": [
       "    Vulnerabilities Names       Issue Created  Vulnerabilities count   MTTR  \\\n",
       "398        CVE-2020-11022 2022-04-05 04:41:38                      2 0 days   \n",
       "108         CVE-2015-9251 2022-04-04 13:36:02                      2 0 days   \n",
       "301        CVE-2019-11358 2022-04-04 16:01:29                      2 0 days   \n",
       "302        CVE-2019-11358 2022-04-04 16:46:34                      2 0 days   \n",
       "303        CVE-2019-11358 2022-04-04 18:46:07                      2 0 days   \n",
       "\n",
       "    MAXTTR MINTTR  \n",
       "398 0 days 0 days  \n",
       "108 0 days 0 days  \n",
       "301 0 days 0 days  \n",
       "302 0 days 0 days  \n",
       "303 0 days 0 days  "
      ]
     },
     "execution_count": 40,
     "metadata": {},
     "output_type": "execute_result"
    }
   ],
   "source": [
    "sca = issue_name_mean_min_max(sca_tn)\n",
    "sca.head()"
   ]
  },
  {
   "cell_type": "code",
   "execution_count": 41,
   "metadata": {},
   "outputs": [],
   "source": [
    "def issue_name_vuln_names_with_mean_min_max_(df,vs='boman_severity'):\n",
    "    df['created_at'] = pd.to_datetime(df['created_at'])\n",
    "    df['fixed_at'] = pd.to_datetime(df['fixed_at'],errors='coerce')\n",
    "\n",
    "    filter_results = df.loc[~df['fixed_at'].isnull(),['vuln_name','fixed_at','created_at','boman_severity']]\n",
    "    filter_results['MTTR'] = filter_results['fixed_at']-filter_results['created_at']\n",
    "\n",
    "    final_result = filter_results.groupby(['created_at','vuln_name','boman_severity']).agg({'vuln_name':'count','MTTR':['mean','max','min']})\n",
    "    final_result.reset_index(inplace=True)\n",
    "    final_result.columns = ['Issues Created Date','Vulnerabilities Names','Vulnerabilities severity','Count','MTTR','MAXTTR','MINTTR']\n",
    "    final_result = final_result.sort_values(by='Count',ascending=False)\n",
    "    return final_result"
   ]
  },
  {
   "cell_type": "code",
   "execution_count": 105,
   "metadata": {},
   "outputs": [
    {
     "data": {
      "text/html": [
       "<div>\n",
       "<style scoped>\n",
       "    .dataframe tbody tr th:only-of-type {\n",
       "        vertical-align: middle;\n",
       "    }\n",
       "\n",
       "    .dataframe tbody tr th {\n",
       "        vertical-align: top;\n",
       "    }\n",
       "\n",
       "    .dataframe thead th {\n",
       "        text-align: right;\n",
       "    }\n",
       "</style>\n",
       "<table border=\"1\" class=\"dataframe\">\n",
       "  <thead>\n",
       "    <tr style=\"text-align: right;\">\n",
       "      <th></th>\n",
       "      <th>Issues Created Date</th>\n",
       "      <th>Vulnerabilities Names</th>\n",
       "      <th>Vulnerabilities severity</th>\n",
       "      <th>Count</th>\n",
       "      <th>MTTR</th>\n",
       "      <th>MAXTTR</th>\n",
       "      <th>MINTTR</th>\n",
       "    </tr>\n",
       "  </thead>\n",
       "  <tbody>\n",
       "    <tr>\n",
       "      <th>0</th>\n",
       "      <td>2022-04-04 13:29:52</td>\n",
       "      <td>hardcoded password string</td>\n",
       "      <td>LOW</td>\n",
       "      <td>1</td>\n",
       "      <td>0 days 00:03:41</td>\n",
       "      <td>0 days 00:03:41</td>\n",
       "      <td>0 days 00:03:41</td>\n",
       "    </tr>\n",
       "    <tr>\n",
       "      <th>1</th>\n",
       "      <td>2022-04-04 15:53:55</td>\n",
       "      <td>start process with a shell</td>\n",
       "      <td>HIGH</td>\n",
       "      <td>1</td>\n",
       "      <td>0 days 00:03:56</td>\n",
       "      <td>0 days 00:03:56</td>\n",
       "      <td>0 days 00:03:56</td>\n",
       "    </tr>\n",
       "  </tbody>\n",
       "</table>\n",
       "</div>"
      ],
      "text/plain": [
       "  Issues Created Date       Vulnerabilities Names Vulnerabilities severity  \\\n",
       "0 2022-04-04 13:29:52   hardcoded password string                      LOW   \n",
       "1 2022-04-04 15:53:55  start process with a shell                     HIGH   \n",
       "\n",
       "   Count            MTTR          MAXTTR          MINTTR  \n",
       "0      1 0 days 00:03:41 0 days 00:03:41 0 days 00:03:41  \n",
       "1      1 0 days 00:03:56 0 days 00:03:56 0 days 00:03:56  "
      ]
     },
     "execution_count": 105,
     "metadata": {},
     "output_type": "execute_result"
    }
   ],
   "source": [
    "sast_tool = issue_name_vuln_names_with_mean_min_max_(sast_tn)\n",
    "sast_tool.head(2)"
   ]
  },
  {
   "cell_type": "code",
   "execution_count": null,
   "metadata": {},
   "outputs": [],
   "source": [
    "px.bar(sast_tool,x='Issues Created Date',y='Count',color='Vulnerabilities severity')"
   ]
  },
  {
   "cell_type": "markdown",
   "metadata": {},
   "source": [
    "### "
   ]
  },
  {
   "cell_type": "code",
   "execution_count": null,
   "metadata": {},
   "outputs": [],
   "source": []
  }
 ],
 "metadata": {
  "kernelspec": {
   "display_name": "Python 3.10.0 64-bit",
   "language": "python",
   "name": "python3"
  },
  "language_info": {
   "codemirror_mode": {
    "name": "ipython",
    "version": 3
   },
   "file_extension": ".py",
   "mimetype": "text/x-python",
   "name": "python",
   "nbconvert_exporter": "python",
   "pygments_lexer": "ipython3",
   "version": "3.10.0"
  },
  "orig_nbformat": 4,
  "vscode": {
   "interpreter": {
    "hash": "1b64d956546a9c916073bbeb4764df1d3f11e14c9b56e1231140a019629bea42"
   }
  }
 },
 "nbformat": 4,
 "nbformat_minor": 2
}
