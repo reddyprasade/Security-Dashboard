{
 "cells": [
  {
   "cell_type": "code",
   "execution_count": 2,
   "metadata": {},
   "outputs": [
    {
     "name": "stderr",
     "output_type": "stream",
     "text": [
      "C:\\Users\\sumeruinfra\\AppData\\Local\\Temp\\ipykernel_1732\\273548041.py:6: UserWarning: \n",
      "The dash_core_components package is deprecated. Please replace\n",
      "`import dash_core_components as dcc` with `from dash import dcc`\n",
      "  import dash_core_components as dcc\n",
      "C:\\Users\\sumeruinfra\\AppData\\Local\\Temp\\ipykernel_1732\\273548041.py:7: UserWarning: \n",
      "The dash_html_components package is deprecated. Please replace\n",
      "`import dash_html_components as html` with `from dash import html`\n",
      "  import dash_html_components as html\n"
     ]
    }
   ],
   "source": [
    "import numpy as np\n",
    "import pandas as pd \n",
    "import matplotlib.pyplot as plt\n",
    "import seaborn as sns\n",
    "import dash\n",
    "import dash_core_components as dcc\n",
    "import dash_html_components as html\n",
    "from dash.dependencies import Input, Output\n",
    "import plotly.graph_objs as go\n",
    "\n",
    "import mysql.connector\n",
    "from mysql.connector import Error\n",
    "from plotly import express as px \n"
   ]
  },
  {
   "cell_type": "code",
   "execution_count": 3,
   "metadata": {},
   "outputs": [],
   "source": [
    "def etl(table_name):\n",
    "   \"\"\"\n",
    "       Boman.AI Database Connection from Azure Data base with configuration of user name and password and database name\n",
    "       Parameters:\n",
    "           table_name: We have to Pass the Table Name to fetech from DB\n",
    "   \"\"\"\n",
    "   try:\n",
    "       bomandb = mysql.connector.connect(host='boman-db.mysql.database.azure.com',\n",
    "                                database='boman_dev',\n",
    "                                user='bomanadmin@boman-db',\n",
    "                                password='W$&c614isb#kLlFyJJ9gAE8WGH*!$$$boo')\n",
    "       # SELECT * FROM boman_dev.sast_results where tool_name='Bandit';\n",
    "       sast_data = \"SELECT * FROM boman_dev.{};\".format(table_name) # I ahve to pass either sast_results or dast_results\n",
    "       data = pd.read_sql(sast_data,bomandb)\n",
    "       cursor = bomandb.cursor()\n",
    "       cursor.execute(sast_data)\n",
    "       records = cursor.fetchall()\n",
    "\n",
    "   except Error as e :\n",
    "       print (\"Error connecting MySQL\", e)\n",
    "   finally:\n",
    "       #closing database connection.\n",
    "       if(bomandb .is_connected()):\n",
    "           bomandb.close()\n",
    "           print(\"MySQL connection is closed Now\")\n",
    "   return data\n",
    "def data_featching_from_db(table_name,tn):\n",
    "   \"\"\"\n",
    "       Boman.AI Database Connection from Azure Data base with configuration of user name and password and database name\n",
    "       Parameters:\n",
    "           table_name: We have to Pass the Table Name to fetech from DB\n",
    "   \"\"\"\n",
    "   try:\n",
    "       bomandb = mysql.connector.connect(host='boman-db.mysql.database.azure.com',\n",
    "                                database='boman_dev',\n",
    "                                user='bomanadmin@boman-db',\n",
    "                                password='W$&c614isb#kLlFyJJ9gAE8WGH*!$$$boo')\n",
    "       # SELECT * FROM boman_dev.sast_results where tool_name='Bandit';\n",
    "       sast_data = \"SELECT * FROM boman_dev.{} WHERE tool_name='{}';\".format(table_name,tn) # I ahve to pass either sast_results or dast_results\n",
    "       data = pd.read_sql(sast_data,bomandb)\n",
    "       cursor = bomandb.cursor()\n",
    "       cursor.execute(sast_data)\n",
    "       records = cursor.fetchall()\n",
    "\n",
    "   except Error as e :\n",
    "       print (\"Error connecting MySQL\", e)\n",
    "   finally:\n",
    "       #closing database connection.\n",
    "       if(bomandb .is_connected()):\n",
    "           bomandb.close()\n",
    "           print(\"MySQL connection is closed Now\")\n",
    "   return data\n"
   ]
  },
  {
   "cell_type": "code",
   "execution_count": 32,
   "metadata": {},
   "outputs": [
    {
     "name": "stderr",
     "output_type": "stream",
     "text": [
      "c:\\Users\\sumeruinfra\\AppData\\Local\\Programs\\Python\\Python310\\lib\\site-packages\\pandas\\io\\sql.py:758: UserWarning:\n",
      "\n",
      "pandas only support SQLAlchemy connectable(engine/connection) ordatabase string URI or sqlite3 DBAPI2 connectionother DBAPI2 objects are not tested, please consider using SQLAlchemy\n",
      "\n"
     ]
    },
    {
     "name": "stdout",
     "output_type": "stream",
     "text": [
      "MySQL connection is closed Now\n"
     ]
    }
   ],
   "source": [
    "tool_master = etl('tool_master')"
   ]
  },
  {
   "cell_type": "code",
   "execution_count": 33,
   "metadata": {},
   "outputs": [
    {
     "data": {
      "text/html": [
       "<div>\n",
       "<style scoped>\n",
       "    .dataframe tbody tr th:only-of-type {\n",
       "        vertical-align: middle;\n",
       "    }\n",
       "\n",
       "    .dataframe tbody tr th {\n",
       "        vertical-align: top;\n",
       "    }\n",
       "\n",
       "    .dataframe thead th {\n",
       "        text-align: right;\n",
       "    }\n",
       "</style>\n",
       "<table border=\"1\" class=\"dataframe\">\n",
       "  <thead>\n",
       "    <tr style=\"text-align: right;\">\n",
       "      <th></th>\n",
       "      <th>tool_id</th>\n",
       "      <th>tool_name</th>\n",
       "      <th>tool_type_id</th>\n",
       "      <th>tool_type</th>\n",
       "      <th>language</th>\n",
       "      <th>lang_extension</th>\n",
       "      <th>image_name</th>\n",
       "      <th>command</th>\n",
       "      <th>output_file</th>\n",
       "      <th>will_generate_output</th>\n",
       "      <th>conversion_required</th>\n",
       "      <th>bind_folder</th>\n",
       "      <th>dynamic_commet</th>\n",
       "      <th>detach</th>\n",
       "      <th>other_details</th>\n",
       "      <th>status</th>\n",
       "      <th>created_at</th>\n",
       "      <th>updated_at</th>\n",
       "    </tr>\n",
       "  </thead>\n",
       "  <tbody>\n",
       "    <tr>\n",
       "      <th>0</th>\n",
       "      <td>1</td>\n",
       "      <td>Bandit</td>\n",
       "      <td>1</td>\n",
       "      <td>SAST</td>\n",
       "      <td>python</td>\n",
       "      <td>.py</td>\n",
       "      <td>bomanai/bandit:latest</td>\n",
       "      <td>bandit -r /src -f json -o /src/boman_bandit.json</td>\n",
       "      <td>boman_bandit.json</td>\n",
       "      <td>1</td>\n",
       "      <td>0</td>\n",
       "      <td>/src</td>\n",
       "      <td>0</td>\n",
       "      <td>0</td>\n",
       "      <td>bandit- python-sast</td>\n",
       "      <td>1</td>\n",
       "      <td>2021-12-23 10:07:56</td>\n",
       "      <td>2022-02-28 08:35:20</td>\n",
       "    </tr>\n",
       "    <tr>\n",
       "      <th>1</th>\n",
       "      <td>2</td>\n",
       "      <td>Njsscan</td>\n",
       "      <td>1</td>\n",
       "      <td>SAST</td>\n",
       "      <td>nodejs</td>\n",
       "      <td>.js</td>\n",
       "      <td>bomanai/njsscan:latest</td>\n",
       "      <td>/src/ --json</td>\n",
       "      <td>boman_njsscan.json</td>\n",
       "      <td>0</td>\n",
       "      <td>0</td>\n",
       "      <td>/src</td>\n",
       "      <td>0</td>\n",
       "      <td>0</td>\n",
       "      <td>njsscan -</td>\n",
       "      <td>1</td>\n",
       "      <td>2021-12-24 08:25:04</td>\n",
       "      <td>2022-05-06 13:43:44</td>\n",
       "    </tr>\n",
       "    <tr>\n",
       "      <th>2</th>\n",
       "      <td>3</td>\n",
       "      <td>OWASP Zap</td>\n",
       "      <td>2</td>\n",
       "      <td>DAST</td>\n",
       "      <td>API</td>\n",
       "      <td></td>\n",
       "      <td>owasp/zap2docker-stable:latest</td>\n",
       "      <td>zap-api-scan.py -t {target_url} -f openapi -J ...</td>\n",
       "      <td>boman_zap_api.json</td>\n",
       "      <td>1</td>\n",
       "      <td>0</td>\n",
       "      <td>/zap/wrk</td>\n",
       "      <td>1</td>\n",
       "      <td>0</td>\n",
       "      <td>tool_versoin</td>\n",
       "      <td>1</td>\n",
       "      <td>2021-12-24 08:25:19</td>\n",
       "      <td>2022-03-01 18:43:04</td>\n",
       "    </tr>\n",
       "    <tr>\n",
       "      <th>3</th>\n",
       "      <td>4</td>\n",
       "      <td>OWASP Dependency Check</td>\n",
       "      <td>3</td>\n",
       "      <td>SCA</td>\n",
       "      <td>ALL</td>\n",
       "      <td></td>\n",
       "      <td>bomanai/dependency-check:latest</td>\n",
       "      <td>--scan /src  --format JSON</td>\n",
       "      <td>dependency-check-report.json</td>\n",
       "      <td>1</td>\n",
       "      <td>0</td>\n",
       "      <td>/src</td>\n",
       "      <td>0</td>\n",
       "      <td>0</td>\n",
       "      <td>owasp/dependency-check</td>\n",
       "      <td>1</td>\n",
       "      <td>2022-01-31 12:32:25</td>\n",
       "      <td>2022-05-05 14:33:59</td>\n",
       "    </tr>\n",
       "    <tr>\n",
       "      <th>4</th>\n",
       "      <td>5</td>\n",
       "      <td>Trufflehog</td>\n",
       "      <td>4</td>\n",
       "      <td>SECRET</td>\n",
       "      <td>NA</td>\n",
       "      <td></td>\n",
       "      <td>bomanai/trufflehog:latest</td>\n",
       "      <td>file:///src --json</td>\n",
       "      <td>boman_secret_scan.json</td>\n",
       "      <td>0</td>\n",
       "      <td>0</td>\n",
       "      <td>/src</td>\n",
       "      <td>0</td>\n",
       "      <td>0</td>\n",
       "      <td></td>\n",
       "      <td>1</td>\n",
       "      <td>2022-02-20 18:12:23</td>\n",
       "      <td>2022-03-30 04:57:25</td>\n",
       "    </tr>\n",
       "  </tbody>\n",
       "</table>\n",
       "</div>"
      ],
      "text/plain": [
       "   tool_id               tool_name  tool_type_id tool_type language  \\\n",
       "0        1                  Bandit             1      SAST   python   \n",
       "1        2                 Njsscan             1      SAST   nodejs   \n",
       "2        3               OWASP Zap             2      DAST      API   \n",
       "3        4  OWASP Dependency Check             3       SCA      ALL   \n",
       "4        5              Trufflehog             4    SECRET       NA   \n",
       "\n",
       "  lang_extension                       image_name  \\\n",
       "0            .py            bomanai/bandit:latest   \n",
       "1            .js           bomanai/njsscan:latest   \n",
       "2                  owasp/zap2docker-stable:latest   \n",
       "3                 bomanai/dependency-check:latest   \n",
       "4                       bomanai/trufflehog:latest   \n",
       "\n",
       "                                             command  \\\n",
       "0   bandit -r /src -f json -o /src/boman_bandit.json   \n",
       "1                                       /src/ --json   \n",
       "2  zap-api-scan.py -t {target_url} -f openapi -J ...   \n",
       "3                         --scan /src  --format JSON   \n",
       "4                                 file:///src --json   \n",
       "\n",
       "                    output_file  will_generate_output  conversion_required  \\\n",
       "0             boman_bandit.json                     1                    0   \n",
       "1            boman_njsscan.json                     0                    0   \n",
       "2            boman_zap_api.json                     1                    0   \n",
       "3  dependency-check-report.json                     1                    0   \n",
       "4        boman_secret_scan.json                     0                    0   \n",
       "\n",
       "  bind_folder  dynamic_commet  detach           other_details  status  \\\n",
       "0        /src               0       0     bandit- python-sast       1   \n",
       "1        /src               0       0              njsscan -        1   \n",
       "2    /zap/wrk               1       0            tool_versoin       1   \n",
       "3        /src               0       0  owasp/dependency-check       1   \n",
       "4        /src               0       0                               1   \n",
       "\n",
       "           created_at          updated_at  \n",
       "0 2021-12-23 10:07:56 2022-02-28 08:35:20  \n",
       "1 2021-12-24 08:25:04 2022-05-06 13:43:44  \n",
       "2 2021-12-24 08:25:19 2022-03-01 18:43:04  \n",
       "3 2022-01-31 12:32:25 2022-05-05 14:33:59  \n",
       "4 2022-02-20 18:12:23 2022-03-30 04:57:25  "
      ]
     },
     "execution_count": 33,
     "metadata": {},
     "output_type": "execute_result"
    }
   ],
   "source": [
    "tool_master.head()"
   ]
  },
  {
   "cell_type": "code",
   "execution_count": 34,
   "metadata": {},
   "outputs": [
    {
     "ename": "NameError",
     "evalue": "name 'da' is not defined",
     "output_type": "error",
     "traceback": [
      "\u001b[1;31m---------------------------------------------------------------------------\u001b[0m",
      "\u001b[1;31mNameError\u001b[0m                                 Traceback (most recent call last)",
      "\u001b[1;32md:\\Boman_ml_model\\V1\\Dashboard\\Dev_Dashboard\\data_dashboard.ipynb Cell 5'\u001b[0m in \u001b[0;36m<module>\u001b[1;34m\u001b[0m\n\u001b[1;32m----> <a href='vscode-notebook-cell:/d%3A/Boman_ml_model/V1/Dashboard/Dev_Dashboard/data_dashboard.ipynb#ch0000004?line=0'>1</a>\u001b[0m app_data \u001b[39m=\u001b[39m da\u001b[39m.\u001b[39metl(\u001b[39m'\u001b[39m\u001b[39mapp\u001b[39m\u001b[39m'\u001b[39m)\n",
      "\u001b[1;31mNameError\u001b[0m: name 'da' is not defined"
     ]
    }
   ],
   "source": [
    "app_data = da.etl('app')"
   ]
  },
  {
   "cell_type": "code",
   "execution_count": null,
   "metadata": {},
   "outputs": [
    {
     "data": {
      "text/html": [
       "<div>\n",
       "<style scoped>\n",
       "    .dataframe tbody tr th:only-of-type {\n",
       "        vertical-align: middle;\n",
       "    }\n",
       "\n",
       "    .dataframe tbody tr th {\n",
       "        vertical-align: top;\n",
       "    }\n",
       "\n",
       "    .dataframe thead th {\n",
       "        text-align: right;\n",
       "    }\n",
       "</style>\n",
       "<table border=\"1\" class=\"dataframe\">\n",
       "  <thead>\n",
       "    <tr style=\"text-align: right;\">\n",
       "      <th></th>\n",
       "      <th>app_id</th>\n",
       "      <th>customer_id</th>\n",
       "      <th>app_token</th>\n",
       "      <th>app_name</th>\n",
       "      <th>type</th>\n",
       "      <th>language</th>\n",
       "      <th>app_type</th>\n",
       "      <th>has_login</th>\n",
       "      <th>database_present</th>\n",
       "      <th>user_interaction</th>\n",
       "      <th>running_env</th>\n",
       "      <th>created_at</th>\n",
       "      <th>updated_at</th>\n",
       "    </tr>\n",
       "  </thead>\n",
       "  <tbody>\n",
       "    <tr>\n",
       "      <th>0</th>\n",
       "      <td>1</td>\n",
       "      <td>1</td>\n",
       "      <td>e96a1876-b84f-45aa-aaba-8822254e4b70</td>\n",
       "      <td>WEBAPP</td>\n",
       "      <td>Web</td>\n",
       "      <td>python</td>\n",
       "      <td>1</td>\n",
       "      <td>1</td>\n",
       "      <td>1</td>\n",
       "      <td>0</td>\n",
       "      <td></td>\n",
       "      <td>2022-05-13 08:57:48</td>\n",
       "      <td>2022-05-13 08:57:48</td>\n",
       "    </tr>\n",
       "    <tr>\n",
       "      <th>1</th>\n",
       "      <td>2</td>\n",
       "      <td>2</td>\n",
       "      <td>d44fb21f-1a9b-4291-bf83-9647cb26f58d</td>\n",
       "      <td>Test</td>\n",
       "      <td>Web</td>\n",
       "      <td>ruby</td>\n",
       "      <td>1</td>\n",
       "      <td>1</td>\n",
       "      <td>1</td>\n",
       "      <td>1</td>\n",
       "      <td></td>\n",
       "      <td>2022-05-13 09:29:13</td>\n",
       "      <td>2022-05-13 09:29:13</td>\n",
       "    </tr>\n",
       "    <tr>\n",
       "      <th>2</th>\n",
       "      <td>3</td>\n",
       "      <td>4</td>\n",
       "      <td>207a60f5-7960-44ba-95f6-69c2b7dd3143</td>\n",
       "      <td>Boman</td>\n",
       "      <td>Web</td>\n",
       "      <td>python</td>\n",
       "      <td>1</td>\n",
       "      <td>1</td>\n",
       "      <td>1</td>\n",
       "      <td>1</td>\n",
       "      <td></td>\n",
       "      <td>2022-05-13 10:44:47</td>\n",
       "      <td>2022-05-13 10:44:47</td>\n",
       "    </tr>\n",
       "    <tr>\n",
       "      <th>3</th>\n",
       "      <td>4</td>\n",
       "      <td>5</td>\n",
       "      <td>b00d6fae-982a-46c7-b455-f85efc5908c9</td>\n",
       "      <td>test</td>\n",
       "      <td>Web</td>\n",
       "      <td>python</td>\n",
       "      <td>1</td>\n",
       "      <td>1</td>\n",
       "      <td>1</td>\n",
       "      <td>1</td>\n",
       "      <td></td>\n",
       "      <td>2022-05-13 14:29:15</td>\n",
       "      <td>2022-05-13 14:29:15</td>\n",
       "    </tr>\n",
       "  </tbody>\n",
       "</table>\n",
       "</div>"
      ],
      "text/plain": [
       "   app_id  customer_id                             app_token app_name type  \\\n",
       "0       1            1  e96a1876-b84f-45aa-aaba-8822254e4b70   WEBAPP  Web   \n",
       "1       2            2  d44fb21f-1a9b-4291-bf83-9647cb26f58d     Test  Web   \n",
       "2       3            4  207a60f5-7960-44ba-95f6-69c2b7dd3143    Boman  Web   \n",
       "3       4            5  b00d6fae-982a-46c7-b455-f85efc5908c9     test  Web   \n",
       "\n",
       "  language  app_type  has_login  database_present  user_interaction  \\\n",
       "0   python         1          1                 1                 0   \n",
       "1     ruby         1          1                 1                 1   \n",
       "2   python         1          1                 1                 1   \n",
       "3   python         1          1                 1                 1   \n",
       "\n",
       "  running_env          created_at          updated_at  \n",
       "0             2022-05-13 08:57:48 2022-05-13 08:57:48  \n",
       "1             2022-05-13 09:29:13 2022-05-13 09:29:13  \n",
       "2             2022-05-13 10:44:47 2022-05-13 10:44:47  \n",
       "3             2022-05-13 14:29:15 2022-05-13 14:29:15  "
      ]
     },
     "execution_count": 36,
     "metadata": {},
     "output_type": "execute_result"
    }
   ],
   "source": [
    "app_data.head()"
   ]
  },
  {
   "cell_type": "code",
   "execution_count": null,
   "metadata": {},
   "outputs": [
    {
     "data": {
      "application/vnd.plotly.v1+json": {
       "config": {
        "plotlyServerURL": "https://plot.ly"
       },
       "data": [
        {
         "alignmentgroup": "True",
         "hovertemplate": "app_id=%{x}<br>customer_id=%{y}<extra></extra>",
         "legendgroup": "",
         "marker": {
          "color": "#636efa",
          "pattern": {
           "shape": ""
          }
         },
         "name": "",
         "offsetgroup": "",
         "orientation": "v",
         "showlegend": false,
         "textposition": "auto",
         "type": "bar",
         "x": [
          1,
          2,
          3,
          4
         ],
         "xaxis": "x",
         "y": [
          1,
          2,
          4,
          5
         ],
         "yaxis": "y"
        }
       ],
       "layout": {
        "barmode": "relative",
        "legend": {
         "tracegroupgap": 0
        },
        "margin": {
         "t": 60
        },
        "template": {
         "data": {
          "bar": [
           {
            "error_x": {
             "color": "#2a3f5f"
            },
            "error_y": {
             "color": "#2a3f5f"
            },
            "marker": {
             "line": {
              "color": "#E5ECF6",
              "width": 0.5
             },
             "pattern": {
              "fillmode": "overlay",
              "size": 10,
              "solidity": 0.2
             }
            },
            "type": "bar"
           }
          ],
          "barpolar": [
           {
            "marker": {
             "line": {
              "color": "#E5ECF6",
              "width": 0.5
             },
             "pattern": {
              "fillmode": "overlay",
              "size": 10,
              "solidity": 0.2
             }
            },
            "type": "barpolar"
           }
          ],
          "carpet": [
           {
            "aaxis": {
             "endlinecolor": "#2a3f5f",
             "gridcolor": "white",
             "linecolor": "white",
             "minorgridcolor": "white",
             "startlinecolor": "#2a3f5f"
            },
            "baxis": {
             "endlinecolor": "#2a3f5f",
             "gridcolor": "white",
             "linecolor": "white",
             "minorgridcolor": "white",
             "startlinecolor": "#2a3f5f"
            },
            "type": "carpet"
           }
          ],
          "choropleth": [
           {
            "colorbar": {
             "outlinewidth": 0,
             "ticks": ""
            },
            "type": "choropleth"
           }
          ],
          "contour": [
           {
            "colorbar": {
             "outlinewidth": 0,
             "ticks": ""
            },
            "colorscale": [
             [
              0,
              "#0d0887"
             ],
             [
              0.1111111111111111,
              "#46039f"
             ],
             [
              0.2222222222222222,
              "#7201a8"
             ],
             [
              0.3333333333333333,
              "#9c179e"
             ],
             [
              0.4444444444444444,
              "#bd3786"
             ],
             [
              0.5555555555555556,
              "#d8576b"
             ],
             [
              0.6666666666666666,
              "#ed7953"
             ],
             [
              0.7777777777777778,
              "#fb9f3a"
             ],
             [
              0.8888888888888888,
              "#fdca26"
             ],
             [
              1,
              "#f0f921"
             ]
            ],
            "type": "contour"
           }
          ],
          "contourcarpet": [
           {
            "colorbar": {
             "outlinewidth": 0,
             "ticks": ""
            },
            "type": "contourcarpet"
           }
          ],
          "heatmap": [
           {
            "colorbar": {
             "outlinewidth": 0,
             "ticks": ""
            },
            "colorscale": [
             [
              0,
              "#0d0887"
             ],
             [
              0.1111111111111111,
              "#46039f"
             ],
             [
              0.2222222222222222,
              "#7201a8"
             ],
             [
              0.3333333333333333,
              "#9c179e"
             ],
             [
              0.4444444444444444,
              "#bd3786"
             ],
             [
              0.5555555555555556,
              "#d8576b"
             ],
             [
              0.6666666666666666,
              "#ed7953"
             ],
             [
              0.7777777777777778,
              "#fb9f3a"
             ],
             [
              0.8888888888888888,
              "#fdca26"
             ],
             [
              1,
              "#f0f921"
             ]
            ],
            "type": "heatmap"
           }
          ],
          "heatmapgl": [
           {
            "colorbar": {
             "outlinewidth": 0,
             "ticks": ""
            },
            "colorscale": [
             [
              0,
              "#0d0887"
             ],
             [
              0.1111111111111111,
              "#46039f"
             ],
             [
              0.2222222222222222,
              "#7201a8"
             ],
             [
              0.3333333333333333,
              "#9c179e"
             ],
             [
              0.4444444444444444,
              "#bd3786"
             ],
             [
              0.5555555555555556,
              "#d8576b"
             ],
             [
              0.6666666666666666,
              "#ed7953"
             ],
             [
              0.7777777777777778,
              "#fb9f3a"
             ],
             [
              0.8888888888888888,
              "#fdca26"
             ],
             [
              1,
              "#f0f921"
             ]
            ],
            "type": "heatmapgl"
           }
          ],
          "histogram": [
           {
            "marker": {
             "pattern": {
              "fillmode": "overlay",
              "size": 10,
              "solidity": 0.2
             }
            },
            "type": "histogram"
           }
          ],
          "histogram2d": [
           {
            "colorbar": {
             "outlinewidth": 0,
             "ticks": ""
            },
            "colorscale": [
             [
              0,
              "#0d0887"
             ],
             [
              0.1111111111111111,
              "#46039f"
             ],
             [
              0.2222222222222222,
              "#7201a8"
             ],
             [
              0.3333333333333333,
              "#9c179e"
             ],
             [
              0.4444444444444444,
              "#bd3786"
             ],
             [
              0.5555555555555556,
              "#d8576b"
             ],
             [
              0.6666666666666666,
              "#ed7953"
             ],
             [
              0.7777777777777778,
              "#fb9f3a"
             ],
             [
              0.8888888888888888,
              "#fdca26"
             ],
             [
              1,
              "#f0f921"
             ]
            ],
            "type": "histogram2d"
           }
          ],
          "histogram2dcontour": [
           {
            "colorbar": {
             "outlinewidth": 0,
             "ticks": ""
            },
            "colorscale": [
             [
              0,
              "#0d0887"
             ],
             [
              0.1111111111111111,
              "#46039f"
             ],
             [
              0.2222222222222222,
              "#7201a8"
             ],
             [
              0.3333333333333333,
              "#9c179e"
             ],
             [
              0.4444444444444444,
              "#bd3786"
             ],
             [
              0.5555555555555556,
              "#d8576b"
             ],
             [
              0.6666666666666666,
              "#ed7953"
             ],
             [
              0.7777777777777778,
              "#fb9f3a"
             ],
             [
              0.8888888888888888,
              "#fdca26"
             ],
             [
              1,
              "#f0f921"
             ]
            ],
            "type": "histogram2dcontour"
           }
          ],
          "mesh3d": [
           {
            "colorbar": {
             "outlinewidth": 0,
             "ticks": ""
            },
            "type": "mesh3d"
           }
          ],
          "parcoords": [
           {
            "line": {
             "colorbar": {
              "outlinewidth": 0,
              "ticks": ""
             }
            },
            "type": "parcoords"
           }
          ],
          "pie": [
           {
            "automargin": true,
            "type": "pie"
           }
          ],
          "scatter": [
           {
            "fillpattern": {
             "fillmode": "overlay",
             "size": 10,
             "solidity": 0.2
            },
            "type": "scatter"
           }
          ],
          "scatter3d": [
           {
            "line": {
             "colorbar": {
              "outlinewidth": 0,
              "ticks": ""
             }
            },
            "marker": {
             "colorbar": {
              "outlinewidth": 0,
              "ticks": ""
             }
            },
            "type": "scatter3d"
           }
          ],
          "scattercarpet": [
           {
            "marker": {
             "colorbar": {
              "outlinewidth": 0,
              "ticks": ""
             }
            },
            "type": "scattercarpet"
           }
          ],
          "scattergeo": [
           {
            "marker": {
             "colorbar": {
              "outlinewidth": 0,
              "ticks": ""
             }
            },
            "type": "scattergeo"
           }
          ],
          "scattergl": [
           {
            "marker": {
             "colorbar": {
              "outlinewidth": 0,
              "ticks": ""
             }
            },
            "type": "scattergl"
           }
          ],
          "scattermapbox": [
           {
            "marker": {
             "colorbar": {
              "outlinewidth": 0,
              "ticks": ""
             }
            },
            "type": "scattermapbox"
           }
          ],
          "scatterpolar": [
           {
            "marker": {
             "colorbar": {
              "outlinewidth": 0,
              "ticks": ""
             }
            },
            "type": "scatterpolar"
           }
          ],
          "scatterpolargl": [
           {
            "marker": {
             "colorbar": {
              "outlinewidth": 0,
              "ticks": ""
             }
            },
            "type": "scatterpolargl"
           }
          ],
          "scatterternary": [
           {
            "marker": {
             "colorbar": {
              "outlinewidth": 0,
              "ticks": ""
             }
            },
            "type": "scatterternary"
           }
          ],
          "surface": [
           {
            "colorbar": {
             "outlinewidth": 0,
             "ticks": ""
            },
            "colorscale": [
             [
              0,
              "#0d0887"
             ],
             [
              0.1111111111111111,
              "#46039f"
             ],
             [
              0.2222222222222222,
              "#7201a8"
             ],
             [
              0.3333333333333333,
              "#9c179e"
             ],
             [
              0.4444444444444444,
              "#bd3786"
             ],
             [
              0.5555555555555556,
              "#d8576b"
             ],
             [
              0.6666666666666666,
              "#ed7953"
             ],
             [
              0.7777777777777778,
              "#fb9f3a"
             ],
             [
              0.8888888888888888,
              "#fdca26"
             ],
             [
              1,
              "#f0f921"
             ]
            ],
            "type": "surface"
           }
          ],
          "table": [
           {
            "cells": {
             "fill": {
              "color": "#EBF0F8"
             },
             "line": {
              "color": "white"
             }
            },
            "header": {
             "fill": {
              "color": "#C8D4E3"
             },
             "line": {
              "color": "white"
             }
            },
            "type": "table"
           }
          ]
         },
         "layout": {
          "annotationdefaults": {
           "arrowcolor": "#2a3f5f",
           "arrowhead": 0,
           "arrowwidth": 1
          },
          "autotypenumbers": "strict",
          "coloraxis": {
           "colorbar": {
            "outlinewidth": 0,
            "ticks": ""
           }
          },
          "colorscale": {
           "diverging": [
            [
             0,
             "#8e0152"
            ],
            [
             0.1,
             "#c51b7d"
            ],
            [
             0.2,
             "#de77ae"
            ],
            [
             0.3,
             "#f1b6da"
            ],
            [
             0.4,
             "#fde0ef"
            ],
            [
             0.5,
             "#f7f7f7"
            ],
            [
             0.6,
             "#e6f5d0"
            ],
            [
             0.7,
             "#b8e186"
            ],
            [
             0.8,
             "#7fbc41"
            ],
            [
             0.9,
             "#4d9221"
            ],
            [
             1,
             "#276419"
            ]
           ],
           "sequential": [
            [
             0,
             "#0d0887"
            ],
            [
             0.1111111111111111,
             "#46039f"
            ],
            [
             0.2222222222222222,
             "#7201a8"
            ],
            [
             0.3333333333333333,
             "#9c179e"
            ],
            [
             0.4444444444444444,
             "#bd3786"
            ],
            [
             0.5555555555555556,
             "#d8576b"
            ],
            [
             0.6666666666666666,
             "#ed7953"
            ],
            [
             0.7777777777777778,
             "#fb9f3a"
            ],
            [
             0.8888888888888888,
             "#fdca26"
            ],
            [
             1,
             "#f0f921"
            ]
           ],
           "sequentialminus": [
            [
             0,
             "#0d0887"
            ],
            [
             0.1111111111111111,
             "#46039f"
            ],
            [
             0.2222222222222222,
             "#7201a8"
            ],
            [
             0.3333333333333333,
             "#9c179e"
            ],
            [
             0.4444444444444444,
             "#bd3786"
            ],
            [
             0.5555555555555556,
             "#d8576b"
            ],
            [
             0.6666666666666666,
             "#ed7953"
            ],
            [
             0.7777777777777778,
             "#fb9f3a"
            ],
            [
             0.8888888888888888,
             "#fdca26"
            ],
            [
             1,
             "#f0f921"
            ]
           ]
          },
          "colorway": [
           "#636efa",
           "#EF553B",
           "#00cc96",
           "#ab63fa",
           "#FFA15A",
           "#19d3f3",
           "#FF6692",
           "#B6E880",
           "#FF97FF",
           "#FECB52"
          ],
          "font": {
           "color": "#2a3f5f"
          },
          "geo": {
           "bgcolor": "white",
           "lakecolor": "white",
           "landcolor": "#E5ECF6",
           "showlakes": true,
           "showland": true,
           "subunitcolor": "white"
          },
          "hoverlabel": {
           "align": "left"
          },
          "hovermode": "closest",
          "mapbox": {
           "style": "light"
          },
          "paper_bgcolor": "white",
          "plot_bgcolor": "#E5ECF6",
          "polar": {
           "angularaxis": {
            "gridcolor": "white",
            "linecolor": "white",
            "ticks": ""
           },
           "bgcolor": "#E5ECF6",
           "radialaxis": {
            "gridcolor": "white",
            "linecolor": "white",
            "ticks": ""
           }
          },
          "scene": {
           "xaxis": {
            "backgroundcolor": "#E5ECF6",
            "gridcolor": "white",
            "gridwidth": 2,
            "linecolor": "white",
            "showbackground": true,
            "ticks": "",
            "zerolinecolor": "white"
           },
           "yaxis": {
            "backgroundcolor": "#E5ECF6",
            "gridcolor": "white",
            "gridwidth": 2,
            "linecolor": "white",
            "showbackground": true,
            "ticks": "",
            "zerolinecolor": "white"
           },
           "zaxis": {
            "backgroundcolor": "#E5ECF6",
            "gridcolor": "white",
            "gridwidth": 2,
            "linecolor": "white",
            "showbackground": true,
            "ticks": "",
            "zerolinecolor": "white"
           }
          },
          "shapedefaults": {
           "line": {
            "color": "#2a3f5f"
           }
          },
          "ternary": {
           "aaxis": {
            "gridcolor": "white",
            "linecolor": "white",
            "ticks": ""
           },
           "baxis": {
            "gridcolor": "white",
            "linecolor": "white",
            "ticks": ""
           },
           "bgcolor": "#E5ECF6",
           "caxis": {
            "gridcolor": "white",
            "linecolor": "white",
            "ticks": ""
           }
          },
          "title": {
           "x": 0.05
          },
          "xaxis": {
           "automargin": true,
           "gridcolor": "white",
           "linecolor": "white",
           "ticks": "",
           "title": {
            "standoff": 15
           },
           "zerolinecolor": "white",
           "zerolinewidth": 2
          },
          "yaxis": {
           "automargin": true,
           "gridcolor": "white",
           "linecolor": "white",
           "ticks": "",
           "title": {
            "standoff": 15
           },
           "zerolinecolor": "white",
           "zerolinewidth": 2
          }
         }
        },
        "xaxis": {
         "anchor": "y",
         "domain": [
          0,
          1
         ],
         "title": {
          "text": "app_id"
         }
        },
        "yaxis": {
         "anchor": "x",
         "domain": [
          0,
          1
         ],
         "title": {
          "text": "customer_id"
         }
        }
       }
      }
     },
     "metadata": {},
     "output_type": "display_data"
    }
   ],
   "source": [
    "import plotly.express as px\n",
    "# This dataframe has 244 lines, but 4 distinct values for `day`\n",
    "df = app_data.copy()\n",
    "\n",
    "fig = px.bar(df, x='app_id', y='customer_id')\n",
    "fig.show()"
   ]
  },
  {
   "cell_type": "code",
   "execution_count": null,
   "metadata": {},
   "outputs": [
    {
     "data": {
      "application/vnd.plotly.v1+json": {
       "config": {
        "plotlyServerURL": "https://plot.ly"
       },
       "data": [
        {
         "domain": {
          "x": [
           0,
           1
          ],
          "y": [
           0,
           1
          ]
         },
         "hole": 0.3,
         "hovertemplate": "value=%{value}<extra></extra>",
         "legendgroup": "",
         "name": "",
         "showlegend": false,
         "type": "pie",
         "values": [
          3,
          1
         ]
        }
       ],
       "layout": {
        "legend": {
         "tracegroupgap": 0
        },
        "margin": {
         "t": 60
        },
        "template": {
         "data": {
          "bar": [
           {
            "error_x": {
             "color": "#2a3f5f"
            },
            "error_y": {
             "color": "#2a3f5f"
            },
            "marker": {
             "line": {
              "color": "#E5ECF6",
              "width": 0.5
             },
             "pattern": {
              "fillmode": "overlay",
              "size": 10,
              "solidity": 0.2
             }
            },
            "type": "bar"
           }
          ],
          "barpolar": [
           {
            "marker": {
             "line": {
              "color": "#E5ECF6",
              "width": 0.5
             },
             "pattern": {
              "fillmode": "overlay",
              "size": 10,
              "solidity": 0.2
             }
            },
            "type": "barpolar"
           }
          ],
          "carpet": [
           {
            "aaxis": {
             "endlinecolor": "#2a3f5f",
             "gridcolor": "white",
             "linecolor": "white",
             "minorgridcolor": "white",
             "startlinecolor": "#2a3f5f"
            },
            "baxis": {
             "endlinecolor": "#2a3f5f",
             "gridcolor": "white",
             "linecolor": "white",
             "minorgridcolor": "white",
             "startlinecolor": "#2a3f5f"
            },
            "type": "carpet"
           }
          ],
          "choropleth": [
           {
            "colorbar": {
             "outlinewidth": 0,
             "ticks": ""
            },
            "type": "choropleth"
           }
          ],
          "contour": [
           {
            "colorbar": {
             "outlinewidth": 0,
             "ticks": ""
            },
            "colorscale": [
             [
              0,
              "#0d0887"
             ],
             [
              0.1111111111111111,
              "#46039f"
             ],
             [
              0.2222222222222222,
              "#7201a8"
             ],
             [
              0.3333333333333333,
              "#9c179e"
             ],
             [
              0.4444444444444444,
              "#bd3786"
             ],
             [
              0.5555555555555556,
              "#d8576b"
             ],
             [
              0.6666666666666666,
              "#ed7953"
             ],
             [
              0.7777777777777778,
              "#fb9f3a"
             ],
             [
              0.8888888888888888,
              "#fdca26"
             ],
             [
              1,
              "#f0f921"
             ]
            ],
            "type": "contour"
           }
          ],
          "contourcarpet": [
           {
            "colorbar": {
             "outlinewidth": 0,
             "ticks": ""
            },
            "type": "contourcarpet"
           }
          ],
          "heatmap": [
           {
            "colorbar": {
             "outlinewidth": 0,
             "ticks": ""
            },
            "colorscale": [
             [
              0,
              "#0d0887"
             ],
             [
              0.1111111111111111,
              "#46039f"
             ],
             [
              0.2222222222222222,
              "#7201a8"
             ],
             [
              0.3333333333333333,
              "#9c179e"
             ],
             [
              0.4444444444444444,
              "#bd3786"
             ],
             [
              0.5555555555555556,
              "#d8576b"
             ],
             [
              0.6666666666666666,
              "#ed7953"
             ],
             [
              0.7777777777777778,
              "#fb9f3a"
             ],
             [
              0.8888888888888888,
              "#fdca26"
             ],
             [
              1,
              "#f0f921"
             ]
            ],
            "type": "heatmap"
           }
          ],
          "heatmapgl": [
           {
            "colorbar": {
             "outlinewidth": 0,
             "ticks": ""
            },
            "colorscale": [
             [
              0,
              "#0d0887"
             ],
             [
              0.1111111111111111,
              "#46039f"
             ],
             [
              0.2222222222222222,
              "#7201a8"
             ],
             [
              0.3333333333333333,
              "#9c179e"
             ],
             [
              0.4444444444444444,
              "#bd3786"
             ],
             [
              0.5555555555555556,
              "#d8576b"
             ],
             [
              0.6666666666666666,
              "#ed7953"
             ],
             [
              0.7777777777777778,
              "#fb9f3a"
             ],
             [
              0.8888888888888888,
              "#fdca26"
             ],
             [
              1,
              "#f0f921"
             ]
            ],
            "type": "heatmapgl"
           }
          ],
          "histogram": [
           {
            "marker": {
             "pattern": {
              "fillmode": "overlay",
              "size": 10,
              "solidity": 0.2
             }
            },
            "type": "histogram"
           }
          ],
          "histogram2d": [
           {
            "colorbar": {
             "outlinewidth": 0,
             "ticks": ""
            },
            "colorscale": [
             [
              0,
              "#0d0887"
             ],
             [
              0.1111111111111111,
              "#46039f"
             ],
             [
              0.2222222222222222,
              "#7201a8"
             ],
             [
              0.3333333333333333,
              "#9c179e"
             ],
             [
              0.4444444444444444,
              "#bd3786"
             ],
             [
              0.5555555555555556,
              "#d8576b"
             ],
             [
              0.6666666666666666,
              "#ed7953"
             ],
             [
              0.7777777777777778,
              "#fb9f3a"
             ],
             [
              0.8888888888888888,
              "#fdca26"
             ],
             [
              1,
              "#f0f921"
             ]
            ],
            "type": "histogram2d"
           }
          ],
          "histogram2dcontour": [
           {
            "colorbar": {
             "outlinewidth": 0,
             "ticks": ""
            },
            "colorscale": [
             [
              0,
              "#0d0887"
             ],
             [
              0.1111111111111111,
              "#46039f"
             ],
             [
              0.2222222222222222,
              "#7201a8"
             ],
             [
              0.3333333333333333,
              "#9c179e"
             ],
             [
              0.4444444444444444,
              "#bd3786"
             ],
             [
              0.5555555555555556,
              "#d8576b"
             ],
             [
              0.6666666666666666,
              "#ed7953"
             ],
             [
              0.7777777777777778,
              "#fb9f3a"
             ],
             [
              0.8888888888888888,
              "#fdca26"
             ],
             [
              1,
              "#f0f921"
             ]
            ],
            "type": "histogram2dcontour"
           }
          ],
          "mesh3d": [
           {
            "colorbar": {
             "outlinewidth": 0,
             "ticks": ""
            },
            "type": "mesh3d"
           }
          ],
          "parcoords": [
           {
            "line": {
             "colorbar": {
              "outlinewidth": 0,
              "ticks": ""
             }
            },
            "type": "parcoords"
           }
          ],
          "pie": [
           {
            "automargin": true,
            "type": "pie"
           }
          ],
          "scatter": [
           {
            "fillpattern": {
             "fillmode": "overlay",
             "size": 10,
             "solidity": 0.2
            },
            "type": "scatter"
           }
          ],
          "scatter3d": [
           {
            "line": {
             "colorbar": {
              "outlinewidth": 0,
              "ticks": ""
             }
            },
            "marker": {
             "colorbar": {
              "outlinewidth": 0,
              "ticks": ""
             }
            },
            "type": "scatter3d"
           }
          ],
          "scattercarpet": [
           {
            "marker": {
             "colorbar": {
              "outlinewidth": 0,
              "ticks": ""
             }
            },
            "type": "scattercarpet"
           }
          ],
          "scattergeo": [
           {
            "marker": {
             "colorbar": {
              "outlinewidth": 0,
              "ticks": ""
             }
            },
            "type": "scattergeo"
           }
          ],
          "scattergl": [
           {
            "marker": {
             "colorbar": {
              "outlinewidth": 0,
              "ticks": ""
             }
            },
            "type": "scattergl"
           }
          ],
          "scattermapbox": [
           {
            "marker": {
             "colorbar": {
              "outlinewidth": 0,
              "ticks": ""
             }
            },
            "type": "scattermapbox"
           }
          ],
          "scatterpolar": [
           {
            "marker": {
             "colorbar": {
              "outlinewidth": 0,
              "ticks": ""
             }
            },
            "type": "scatterpolar"
           }
          ],
          "scatterpolargl": [
           {
            "marker": {
             "colorbar": {
              "outlinewidth": 0,
              "ticks": ""
             }
            },
            "type": "scatterpolargl"
           }
          ],
          "scatterternary": [
           {
            "marker": {
             "colorbar": {
              "outlinewidth": 0,
              "ticks": ""
             }
            },
            "type": "scatterternary"
           }
          ],
          "surface": [
           {
            "colorbar": {
             "outlinewidth": 0,
             "ticks": ""
            },
            "colorscale": [
             [
              0,
              "#0d0887"
             ],
             [
              0.1111111111111111,
              "#46039f"
             ],
             [
              0.2222222222222222,
              "#7201a8"
             ],
             [
              0.3333333333333333,
              "#9c179e"
             ],
             [
              0.4444444444444444,
              "#bd3786"
             ],
             [
              0.5555555555555556,
              "#d8576b"
             ],
             [
              0.6666666666666666,
              "#ed7953"
             ],
             [
              0.7777777777777778,
              "#fb9f3a"
             ],
             [
              0.8888888888888888,
              "#fdca26"
             ],
             [
              1,
              "#f0f921"
             ]
            ],
            "type": "surface"
           }
          ],
          "table": [
           {
            "cells": {
             "fill": {
              "color": "#EBF0F8"
             },
             "line": {
              "color": "white"
             }
            },
            "header": {
             "fill": {
              "color": "#C8D4E3"
             },
             "line": {
              "color": "white"
             }
            },
            "type": "table"
           }
          ]
         },
         "layout": {
          "annotationdefaults": {
           "arrowcolor": "#2a3f5f",
           "arrowhead": 0,
           "arrowwidth": 1
          },
          "autotypenumbers": "strict",
          "coloraxis": {
           "colorbar": {
            "outlinewidth": 0,
            "ticks": ""
           }
          },
          "colorscale": {
           "diverging": [
            [
             0,
             "#8e0152"
            ],
            [
             0.1,
             "#c51b7d"
            ],
            [
             0.2,
             "#de77ae"
            ],
            [
             0.3,
             "#f1b6da"
            ],
            [
             0.4,
             "#fde0ef"
            ],
            [
             0.5,
             "#f7f7f7"
            ],
            [
             0.6,
             "#e6f5d0"
            ],
            [
             0.7,
             "#b8e186"
            ],
            [
             0.8,
             "#7fbc41"
            ],
            [
             0.9,
             "#4d9221"
            ],
            [
             1,
             "#276419"
            ]
           ],
           "sequential": [
            [
             0,
             "#0d0887"
            ],
            [
             0.1111111111111111,
             "#46039f"
            ],
            [
             0.2222222222222222,
             "#7201a8"
            ],
            [
             0.3333333333333333,
             "#9c179e"
            ],
            [
             0.4444444444444444,
             "#bd3786"
            ],
            [
             0.5555555555555556,
             "#d8576b"
            ],
            [
             0.6666666666666666,
             "#ed7953"
            ],
            [
             0.7777777777777778,
             "#fb9f3a"
            ],
            [
             0.8888888888888888,
             "#fdca26"
            ],
            [
             1,
             "#f0f921"
            ]
           ],
           "sequentialminus": [
            [
             0,
             "#0d0887"
            ],
            [
             0.1111111111111111,
             "#46039f"
            ],
            [
             0.2222222222222222,
             "#7201a8"
            ],
            [
             0.3333333333333333,
             "#9c179e"
            ],
            [
             0.4444444444444444,
             "#bd3786"
            ],
            [
             0.5555555555555556,
             "#d8576b"
            ],
            [
             0.6666666666666666,
             "#ed7953"
            ],
            [
             0.7777777777777778,
             "#fb9f3a"
            ],
            [
             0.8888888888888888,
             "#fdca26"
            ],
            [
             1,
             "#f0f921"
            ]
           ]
          },
          "colorway": [
           "#636efa",
           "#EF553B",
           "#00cc96",
           "#ab63fa",
           "#FFA15A",
           "#19d3f3",
           "#FF6692",
           "#B6E880",
           "#FF97FF",
           "#FECB52"
          ],
          "font": {
           "color": "#2a3f5f"
          },
          "geo": {
           "bgcolor": "white",
           "lakecolor": "white",
           "landcolor": "#E5ECF6",
           "showlakes": true,
           "showland": true,
           "subunitcolor": "white"
          },
          "hoverlabel": {
           "align": "left"
          },
          "hovermode": "closest",
          "mapbox": {
           "style": "light"
          },
          "paper_bgcolor": "white",
          "plot_bgcolor": "#E5ECF6",
          "polar": {
           "angularaxis": {
            "gridcolor": "white",
            "linecolor": "white",
            "ticks": ""
           },
           "bgcolor": "#E5ECF6",
           "radialaxis": {
            "gridcolor": "white",
            "linecolor": "white",
            "ticks": ""
           }
          },
          "scene": {
           "xaxis": {
            "backgroundcolor": "#E5ECF6",
            "gridcolor": "white",
            "gridwidth": 2,
            "linecolor": "white",
            "showbackground": true,
            "ticks": "",
            "zerolinecolor": "white"
           },
           "yaxis": {
            "backgroundcolor": "#E5ECF6",
            "gridcolor": "white",
            "gridwidth": 2,
            "linecolor": "white",
            "showbackground": true,
            "ticks": "",
            "zerolinecolor": "white"
           },
           "zaxis": {
            "backgroundcolor": "#E5ECF6",
            "gridcolor": "white",
            "gridwidth": 2,
            "linecolor": "white",
            "showbackground": true,
            "ticks": "",
            "zerolinecolor": "white"
           }
          },
          "shapedefaults": {
           "line": {
            "color": "#2a3f5f"
           }
          },
          "ternary": {
           "aaxis": {
            "gridcolor": "white",
            "linecolor": "white",
            "ticks": ""
           },
           "baxis": {
            "gridcolor": "white",
            "linecolor": "white",
            "ticks": ""
           },
           "bgcolor": "#E5ECF6",
           "caxis": {
            "gridcolor": "white",
            "linecolor": "white",
            "ticks": ""
           }
          },
          "title": {
           "x": 0.05
          },
          "xaxis": {
           "automargin": true,
           "gridcolor": "white",
           "linecolor": "white",
           "ticks": "",
           "title": {
            "standoff": 15
           },
           "zerolinecolor": "white",
           "zerolinewidth": 2
          },
          "yaxis": {
           "automargin": true,
           "gridcolor": "white",
           "linecolor": "white",
           "ticks": "",
           "title": {
            "standoff": 15
           },
           "zerolinecolor": "white",
           "zerolinewidth": 2
          }
         }
        }
       }
      }
     },
     "metadata": {},
     "output_type": "display_data"
    }
   ],
   "source": [
    "\n",
    "app_Names = df.app_name\n",
    "app_lang = df.language\n",
    "lang_count = df.language.value_counts()\n",
    "\n",
    "fig = px.pie(labels=app_lang,values=lang_count,hole=0.3)\n",
    "fig.show()"
   ]
  },
  {
   "cell_type": "code",
   "execution_count": null,
   "metadata": {},
   "outputs": [
    {
     "data": {
      "text/plain": [
       "0    python\n",
       "1      ruby\n",
       "2    python\n",
       "3    python\n",
       "Name: language, dtype: object"
      ]
     },
     "execution_count": 39,
     "metadata": {},
     "output_type": "execute_result"
    }
   ],
   "source": [
    "app_lang"
   ]
  },
  {
   "cell_type": "code",
   "execution_count": null,
   "metadata": {},
   "outputs": [
    {
     "data": {
      "text/plain": [
       "python    3\n",
       "ruby      1\n",
       "Name: language, dtype: int64"
      ]
     },
     "execution_count": 40,
     "metadata": {},
     "output_type": "execute_result"
    }
   ],
   "source": [
    "lang_count"
   ]
  },
  {
   "cell_type": "code",
   "execution_count": null,
   "metadata": {},
   "outputs": [
    {
     "data": {
      "text/plain": [
       "0    WEBAPP\n",
       "1      Test\n",
       "2     Boman\n",
       "3      test\n",
       "Name: app_name, dtype: object"
      ]
     },
     "execution_count": 41,
     "metadata": {},
     "output_type": "execute_result"
    }
   ],
   "source": [
    "app_Names"
   ]
  },
  {
   "cell_type": "code",
   "execution_count": null,
   "metadata": {},
   "outputs": [
    {
     "data": {
      "text/html": [
       "<div>\n",
       "<style scoped>\n",
       "    .dataframe tbody tr th:only-of-type {\n",
       "        vertical-align: middle;\n",
       "    }\n",
       "\n",
       "    .dataframe tbody tr th {\n",
       "        vertical-align: top;\n",
       "    }\n",
       "\n",
       "    .dataframe thead th {\n",
       "        text-align: right;\n",
       "    }\n",
       "</style>\n",
       "<table border=\"1\" class=\"dataframe\">\n",
       "  <thead>\n",
       "    <tr style=\"text-align: right;\">\n",
       "      <th></th>\n",
       "      <th>tool_id</th>\n",
       "      <th>tool_name</th>\n",
       "      <th>tool_type_id</th>\n",
       "      <th>tool_type</th>\n",
       "      <th>language</th>\n",
       "      <th>lang_extension</th>\n",
       "      <th>image_name</th>\n",
       "      <th>command</th>\n",
       "      <th>output_file</th>\n",
       "      <th>will_generate_output</th>\n",
       "      <th>conversion_required</th>\n",
       "      <th>bind_folder</th>\n",
       "      <th>dynamic_commet</th>\n",
       "      <th>detach</th>\n",
       "      <th>other_details</th>\n",
       "      <th>status</th>\n",
       "      <th>created_at</th>\n",
       "      <th>updated_at</th>\n",
       "    </tr>\n",
       "  </thead>\n",
       "  <tbody>\n",
       "    <tr>\n",
       "      <th>0</th>\n",
       "      <td>1</td>\n",
       "      <td>Bandit</td>\n",
       "      <td>1</td>\n",
       "      <td>SAST</td>\n",
       "      <td>python</td>\n",
       "      <td>.py</td>\n",
       "      <td>bomanai/bandit:latest</td>\n",
       "      <td>bandit -r /src -f json -o /src/boman_bandit.json</td>\n",
       "      <td>boman_bandit.json</td>\n",
       "      <td>1</td>\n",
       "      <td>0</td>\n",
       "      <td>/src</td>\n",
       "      <td>0</td>\n",
       "      <td>0</td>\n",
       "      <td>bandit- python-sast</td>\n",
       "      <td>1</td>\n",
       "      <td>2021-12-23 10:07:56</td>\n",
       "      <td>2022-02-28 08:35:20</td>\n",
       "    </tr>\n",
       "    <tr>\n",
       "      <th>1</th>\n",
       "      <td>2</td>\n",
       "      <td>Njsscan</td>\n",
       "      <td>1</td>\n",
       "      <td>SAST</td>\n",
       "      <td>nodejs</td>\n",
       "      <td>.js</td>\n",
       "      <td>bomanai/njsscan:latest</td>\n",
       "      <td>/src/ --json</td>\n",
       "      <td>boman_njsscan.json</td>\n",
       "      <td>0</td>\n",
       "      <td>0</td>\n",
       "      <td>/src</td>\n",
       "      <td>0</td>\n",
       "      <td>0</td>\n",
       "      <td>njsscan -</td>\n",
       "      <td>1</td>\n",
       "      <td>2021-12-24 08:25:04</td>\n",
       "      <td>2022-05-06 13:43:44</td>\n",
       "    </tr>\n",
       "    <tr>\n",
       "      <th>2</th>\n",
       "      <td>3</td>\n",
       "      <td>OWASP Zap</td>\n",
       "      <td>2</td>\n",
       "      <td>DAST</td>\n",
       "      <td>API</td>\n",
       "      <td></td>\n",
       "      <td>owasp/zap2docker-stable:latest</td>\n",
       "      <td>zap-api-scan.py -t {target_url} -f openapi -J ...</td>\n",
       "      <td>boman_zap_api.json</td>\n",
       "      <td>1</td>\n",
       "      <td>0</td>\n",
       "      <td>/zap/wrk</td>\n",
       "      <td>1</td>\n",
       "      <td>0</td>\n",
       "      <td>tool_versoin</td>\n",
       "      <td>1</td>\n",
       "      <td>2021-12-24 08:25:19</td>\n",
       "      <td>2022-03-01 18:43:04</td>\n",
       "    </tr>\n",
       "    <tr>\n",
       "      <th>3</th>\n",
       "      <td>4</td>\n",
       "      <td>OWASP Dependency Check</td>\n",
       "      <td>3</td>\n",
       "      <td>SCA</td>\n",
       "      <td>ALL</td>\n",
       "      <td></td>\n",
       "      <td>bomanai/dependency-check:latest</td>\n",
       "      <td>--scan /src  --format JSON</td>\n",
       "      <td>dependency-check-report.json</td>\n",
       "      <td>1</td>\n",
       "      <td>0</td>\n",
       "      <td>/src</td>\n",
       "      <td>0</td>\n",
       "      <td>0</td>\n",
       "      <td>owasp/dependency-check</td>\n",
       "      <td>1</td>\n",
       "      <td>2022-01-31 12:32:25</td>\n",
       "      <td>2022-05-05 14:33:59</td>\n",
       "    </tr>\n",
       "    <tr>\n",
       "      <th>4</th>\n",
       "      <td>5</td>\n",
       "      <td>Trufflehog</td>\n",
       "      <td>4</td>\n",
       "      <td>SECRET</td>\n",
       "      <td>NA</td>\n",
       "      <td></td>\n",
       "      <td>bomanai/trufflehog:latest</td>\n",
       "      <td>file:///src --json</td>\n",
       "      <td>boman_secret_scan.json</td>\n",
       "      <td>0</td>\n",
       "      <td>0</td>\n",
       "      <td>/src</td>\n",
       "      <td>0</td>\n",
       "      <td>0</td>\n",
       "      <td></td>\n",
       "      <td>1</td>\n",
       "      <td>2022-02-20 18:12:23</td>\n",
       "      <td>2022-03-30 04:57:25</td>\n",
       "    </tr>\n",
       "  </tbody>\n",
       "</table>\n",
       "</div>"
      ],
      "text/plain": [
       "   tool_id               tool_name  tool_type_id tool_type language  \\\n",
       "0        1                  Bandit             1      SAST   python   \n",
       "1        2                 Njsscan             1      SAST   nodejs   \n",
       "2        3               OWASP Zap             2      DAST      API   \n",
       "3        4  OWASP Dependency Check             3       SCA      ALL   \n",
       "4        5              Trufflehog             4    SECRET       NA   \n",
       "\n",
       "  lang_extension                       image_name  \\\n",
       "0            .py            bomanai/bandit:latest   \n",
       "1            .js           bomanai/njsscan:latest   \n",
       "2                  owasp/zap2docker-stable:latest   \n",
       "3                 bomanai/dependency-check:latest   \n",
       "4                       bomanai/trufflehog:latest   \n",
       "\n",
       "                                             command  \\\n",
       "0   bandit -r /src -f json -o /src/boman_bandit.json   \n",
       "1                                       /src/ --json   \n",
       "2  zap-api-scan.py -t {target_url} -f openapi -J ...   \n",
       "3                         --scan /src  --format JSON   \n",
       "4                                 file:///src --json   \n",
       "\n",
       "                    output_file  will_generate_output  conversion_required  \\\n",
       "0             boman_bandit.json                     1                    0   \n",
       "1            boman_njsscan.json                     0                    0   \n",
       "2            boman_zap_api.json                     1                    0   \n",
       "3  dependency-check-report.json                     1                    0   \n",
       "4        boman_secret_scan.json                     0                    0   \n",
       "\n",
       "  bind_folder  dynamic_commet  detach           other_details  status  \\\n",
       "0        /src               0       0     bandit- python-sast       1   \n",
       "1        /src               0       0              njsscan -        1   \n",
       "2    /zap/wrk               1       0            tool_versoin       1   \n",
       "3        /src               0       0  owasp/dependency-check       1   \n",
       "4        /src               0       0                               1   \n",
       "\n",
       "           created_at          updated_at  \n",
       "0 2021-12-23 10:07:56 2022-02-28 08:35:20  \n",
       "1 2021-12-24 08:25:04 2022-05-06 13:43:44  \n",
       "2 2021-12-24 08:25:19 2022-03-01 18:43:04  \n",
       "3 2022-01-31 12:32:25 2022-05-05 14:33:59  \n",
       "4 2022-02-20 18:12:23 2022-03-30 04:57:25  "
      ]
     },
     "execution_count": 42,
     "metadata": {},
     "output_type": "execute_result"
    }
   ],
   "source": [
    "tool_master.head()"
   ]
  },
  {
   "cell_type": "code",
   "execution_count": null,
   "metadata": {},
   "outputs": [],
   "source": [
    "names=tool_master.tool_name,\n",
    "parents=tool_master.language,\n",
    "values=tool_master.tool_type_id"
   ]
  },
  {
   "cell_type": "code",
   "execution_count": null,
   "metadata": {},
   "outputs": [
    {
     "data": {
      "application/vnd.plotly.v1+json": {
       "config": {
        "plotlyServerURL": "https://plot.ly"
       },
       "data": [
        {
         "hovertemplate": "tool_name=%{x}<br>language=%{y}<br>tool_type_id=%{z}<extra></extra>",
         "legendgroup": "Bandit",
         "marker": {
          "color": "#636efa",
          "symbol": "circle"
         },
         "mode": "markers",
         "name": "Bandit",
         "scene": "scene",
         "showlegend": true,
         "type": "scatter3d",
         "x": [
          "Bandit"
         ],
         "y": [
          "python"
         ],
         "z": [
          1
         ]
        },
        {
         "hovertemplate": "tool_name=%{x}<br>language=%{y}<br>tool_type_id=%{z}<extra></extra>",
         "legendgroup": "Njsscan",
         "marker": {
          "color": "#EF553B",
          "symbol": "circle"
         },
         "mode": "markers",
         "name": "Njsscan",
         "scene": "scene",
         "showlegend": true,
         "type": "scatter3d",
         "x": [
          "Njsscan"
         ],
         "y": [
          "nodejs"
         ],
         "z": [
          1
         ]
        },
        {
         "hovertemplate": "tool_name=%{x}<br>language=%{y}<br>tool_type_id=%{z}<extra></extra>",
         "legendgroup": "OWASP Zap",
         "marker": {
          "color": "#00cc96",
          "symbol": "circle"
         },
         "mode": "markers",
         "name": "OWASP Zap",
         "scene": "scene",
         "showlegend": true,
         "type": "scatter3d",
         "x": [
          "OWASP Zap"
         ],
         "y": [
          "API"
         ],
         "z": [
          2
         ]
        },
        {
         "hovertemplate": "tool_name=%{x}<br>language=%{y}<br>tool_type_id=%{z}<extra></extra>",
         "legendgroup": "OWASP Dependency Check",
         "marker": {
          "color": "#ab63fa",
          "symbol": "circle"
         },
         "mode": "markers",
         "name": "OWASP Dependency Check",
         "scene": "scene",
         "showlegend": true,
         "type": "scatter3d",
         "x": [
          "OWASP Dependency Check"
         ],
         "y": [
          "ALL"
         ],
         "z": [
          3
         ]
        },
        {
         "hovertemplate": "tool_name=%{x}<br>language=%{y}<br>tool_type_id=%{z}<extra></extra>",
         "legendgroup": "Trufflehog",
         "marker": {
          "color": "#FFA15A",
          "symbol": "circle"
         },
         "mode": "markers",
         "name": "Trufflehog",
         "scene": "scene",
         "showlegend": true,
         "type": "scatter3d",
         "x": [
          "Trufflehog"
         ],
         "y": [
          "NA"
         ],
         "z": [
          4
         ]
        },
        {
         "hovertemplate": "tool_name=%{x}<br>language=%{y}<br>tool_type_id=%{z}<extra></extra>",
         "legendgroup": "Findsecbugs",
         "marker": {
          "color": "#19d3f3",
          "symbol": "circle"
         },
         "mode": "markers",
         "name": "Findsecbugs",
         "scene": "scene",
         "showlegend": true,
         "type": "scatter3d",
         "x": [
          "Findsecbugs"
         ],
         "y": [
          "java"
         ],
         "z": [
          1
         ]
        },
        {
         "hovertemplate": "tool_name=%{x}<br>language=%{y}<br>tool_type_id=%{z}<extra></extra>",
         "legendgroup": "Nikto",
         "marker": {
          "color": "#FF6692",
          "symbol": "circle"
         },
         "mode": "markers",
         "name": "Nikto",
         "scene": "scene",
         "showlegend": true,
         "type": "scatter3d",
         "x": [
          "Nikto"
         ],
         "y": [
          "NA"
         ],
         "z": [
          2
         ]
        },
        {
         "hovertemplate": "tool_name=%{x}<br>language=%{y}<br>tool_type_id=%{z}<extra></extra>",
         "legendgroup": "Brakeman",
         "marker": {
          "color": "#B6E880",
          "symbol": "circle"
         },
         "mode": "markers",
         "name": "Brakeman",
         "scene": "scene",
         "showlegend": true,
         "type": "scatter3d",
         "x": [
          "Brakeman"
         ],
         "y": [
          "ruby"
         ],
         "z": [
          1
         ]
        },
        {
         "hovertemplate": "tool_name=%{x}<br>language=%{y}<br>tool_type_id=%{z}<extra></extra>",
         "legendgroup": "PHP Code Sniffer",
         "marker": {
          "color": "#FF97FF",
          "symbol": "circle"
         },
         "mode": "markers",
         "name": "PHP Code Sniffer",
         "scene": "scene",
         "showlegend": true,
         "type": "scatter3d",
         "x": [
          "PHP Code Sniffer"
         ],
         "y": [
          "php"
         ],
         "z": [
          1
         ]
        },
        {
         "hovertemplate": "tool_name=%{x}<br>language=%{y}<br>tool_type_id=%{z}<extra></extra>",
         "legendgroup": "OWASP Zap Baseline ",
         "marker": {
          "color": "#FECB52",
          "symbol": "circle"
         },
         "mode": "markers",
         "name": "OWASP Zap Baseline ",
         "scene": "scene",
         "showlegend": true,
         "type": "scatter3d",
         "x": [
          "OWASP Zap Baseline "
         ],
         "y": [
          "BASE"
         ],
         "z": [
          2
         ]
        },
        {
         "hovertemplate": "tool_name=%{x}<br>language=%{y}<br>tool_type_id=%{z}<extra></extra>",
         "legendgroup": "OWASP Zap Full",
         "marker": {
          "color": "#636efa",
          "symbol": "circle"
         },
         "mode": "markers",
         "name": "OWASP Zap Full",
         "scene": "scene",
         "showlegend": true,
         "type": "scatter3d",
         "x": [
          "OWASP Zap Full"
         ],
         "y": [
          "FULL"
         ],
         "z": [
          2
         ]
        }
       ],
       "layout": {
        "legend": {
         "title": {
          "text": "tool_name"
         },
         "tracegroupgap": 0
        },
        "margin": {
         "t": 60
        },
        "scene": {
         "domain": {
          "x": [
           0,
           1
          ],
          "y": [
           0,
           1
          ]
         },
         "xaxis": {
          "categoryarray": [
           "Bandit",
           "Njsscan",
           "OWASP Zap",
           "OWASP Dependency Check",
           "Trufflehog",
           "Findsecbugs",
           "Nikto",
           "Brakeman",
           "PHP Code Sniffer",
           "OWASP Zap Baseline ",
           "OWASP Zap Full"
          ],
          "categoryorder": "array",
          "title": {
           "text": "tool_name"
          }
         },
         "yaxis": {
          "title": {
           "text": "language"
          }
         },
         "zaxis": {
          "title": {
           "text": "tool_type_id"
          }
         }
        },
        "template": {
         "data": {
          "bar": [
           {
            "error_x": {
             "color": "#2a3f5f"
            },
            "error_y": {
             "color": "#2a3f5f"
            },
            "marker": {
             "line": {
              "color": "#E5ECF6",
              "width": 0.5
             },
             "pattern": {
              "fillmode": "overlay",
              "size": 10,
              "solidity": 0.2
             }
            },
            "type": "bar"
           }
          ],
          "barpolar": [
           {
            "marker": {
             "line": {
              "color": "#E5ECF6",
              "width": 0.5
             },
             "pattern": {
              "fillmode": "overlay",
              "size": 10,
              "solidity": 0.2
             }
            },
            "type": "barpolar"
           }
          ],
          "carpet": [
           {
            "aaxis": {
             "endlinecolor": "#2a3f5f",
             "gridcolor": "white",
             "linecolor": "white",
             "minorgridcolor": "white",
             "startlinecolor": "#2a3f5f"
            },
            "baxis": {
             "endlinecolor": "#2a3f5f",
             "gridcolor": "white",
             "linecolor": "white",
             "minorgridcolor": "white",
             "startlinecolor": "#2a3f5f"
            },
            "type": "carpet"
           }
          ],
          "choropleth": [
           {
            "colorbar": {
             "outlinewidth": 0,
             "ticks": ""
            },
            "type": "choropleth"
           }
          ],
          "contour": [
           {
            "colorbar": {
             "outlinewidth": 0,
             "ticks": ""
            },
            "colorscale": [
             [
              0,
              "#0d0887"
             ],
             [
              0.1111111111111111,
              "#46039f"
             ],
             [
              0.2222222222222222,
              "#7201a8"
             ],
             [
              0.3333333333333333,
              "#9c179e"
             ],
             [
              0.4444444444444444,
              "#bd3786"
             ],
             [
              0.5555555555555556,
              "#d8576b"
             ],
             [
              0.6666666666666666,
              "#ed7953"
             ],
             [
              0.7777777777777778,
              "#fb9f3a"
             ],
             [
              0.8888888888888888,
              "#fdca26"
             ],
             [
              1,
              "#f0f921"
             ]
            ],
            "type": "contour"
           }
          ],
          "contourcarpet": [
           {
            "colorbar": {
             "outlinewidth": 0,
             "ticks": ""
            },
            "type": "contourcarpet"
           }
          ],
          "heatmap": [
           {
            "colorbar": {
             "outlinewidth": 0,
             "ticks": ""
            },
            "colorscale": [
             [
              0,
              "#0d0887"
             ],
             [
              0.1111111111111111,
              "#46039f"
             ],
             [
              0.2222222222222222,
              "#7201a8"
             ],
             [
              0.3333333333333333,
              "#9c179e"
             ],
             [
              0.4444444444444444,
              "#bd3786"
             ],
             [
              0.5555555555555556,
              "#d8576b"
             ],
             [
              0.6666666666666666,
              "#ed7953"
             ],
             [
              0.7777777777777778,
              "#fb9f3a"
             ],
             [
              0.8888888888888888,
              "#fdca26"
             ],
             [
              1,
              "#f0f921"
             ]
            ],
            "type": "heatmap"
           }
          ],
          "heatmapgl": [
           {
            "colorbar": {
             "outlinewidth": 0,
             "ticks": ""
            },
            "colorscale": [
             [
              0,
              "#0d0887"
             ],
             [
              0.1111111111111111,
              "#46039f"
             ],
             [
              0.2222222222222222,
              "#7201a8"
             ],
             [
              0.3333333333333333,
              "#9c179e"
             ],
             [
              0.4444444444444444,
              "#bd3786"
             ],
             [
              0.5555555555555556,
              "#d8576b"
             ],
             [
              0.6666666666666666,
              "#ed7953"
             ],
             [
              0.7777777777777778,
              "#fb9f3a"
             ],
             [
              0.8888888888888888,
              "#fdca26"
             ],
             [
              1,
              "#f0f921"
             ]
            ],
            "type": "heatmapgl"
           }
          ],
          "histogram": [
           {
            "marker": {
             "pattern": {
              "fillmode": "overlay",
              "size": 10,
              "solidity": 0.2
             }
            },
            "type": "histogram"
           }
          ],
          "histogram2d": [
           {
            "colorbar": {
             "outlinewidth": 0,
             "ticks": ""
            },
            "colorscale": [
             [
              0,
              "#0d0887"
             ],
             [
              0.1111111111111111,
              "#46039f"
             ],
             [
              0.2222222222222222,
              "#7201a8"
             ],
             [
              0.3333333333333333,
              "#9c179e"
             ],
             [
              0.4444444444444444,
              "#bd3786"
             ],
             [
              0.5555555555555556,
              "#d8576b"
             ],
             [
              0.6666666666666666,
              "#ed7953"
             ],
             [
              0.7777777777777778,
              "#fb9f3a"
             ],
             [
              0.8888888888888888,
              "#fdca26"
             ],
             [
              1,
              "#f0f921"
             ]
            ],
            "type": "histogram2d"
           }
          ],
          "histogram2dcontour": [
           {
            "colorbar": {
             "outlinewidth": 0,
             "ticks": ""
            },
            "colorscale": [
             [
              0,
              "#0d0887"
             ],
             [
              0.1111111111111111,
              "#46039f"
             ],
             [
              0.2222222222222222,
              "#7201a8"
             ],
             [
              0.3333333333333333,
              "#9c179e"
             ],
             [
              0.4444444444444444,
              "#bd3786"
             ],
             [
              0.5555555555555556,
              "#d8576b"
             ],
             [
              0.6666666666666666,
              "#ed7953"
             ],
             [
              0.7777777777777778,
              "#fb9f3a"
             ],
             [
              0.8888888888888888,
              "#fdca26"
             ],
             [
              1,
              "#f0f921"
             ]
            ],
            "type": "histogram2dcontour"
           }
          ],
          "mesh3d": [
           {
            "colorbar": {
             "outlinewidth": 0,
             "ticks": ""
            },
            "type": "mesh3d"
           }
          ],
          "parcoords": [
           {
            "line": {
             "colorbar": {
              "outlinewidth": 0,
              "ticks": ""
             }
            },
            "type": "parcoords"
           }
          ],
          "pie": [
           {
            "automargin": true,
            "type": "pie"
           }
          ],
          "scatter": [
           {
            "fillpattern": {
             "fillmode": "overlay",
             "size": 10,
             "solidity": 0.2
            },
            "type": "scatter"
           }
          ],
          "scatter3d": [
           {
            "line": {
             "colorbar": {
              "outlinewidth": 0,
              "ticks": ""
             }
            },
            "marker": {
             "colorbar": {
              "outlinewidth": 0,
              "ticks": ""
             }
            },
            "type": "scatter3d"
           }
          ],
          "scattercarpet": [
           {
            "marker": {
             "colorbar": {
              "outlinewidth": 0,
              "ticks": ""
             }
            },
            "type": "scattercarpet"
           }
          ],
          "scattergeo": [
           {
            "marker": {
             "colorbar": {
              "outlinewidth": 0,
              "ticks": ""
             }
            },
            "type": "scattergeo"
           }
          ],
          "scattergl": [
           {
            "marker": {
             "colorbar": {
              "outlinewidth": 0,
              "ticks": ""
             }
            },
            "type": "scattergl"
           }
          ],
          "scattermapbox": [
           {
            "marker": {
             "colorbar": {
              "outlinewidth": 0,
              "ticks": ""
             }
            },
            "type": "scattermapbox"
           }
          ],
          "scatterpolar": [
           {
            "marker": {
             "colorbar": {
              "outlinewidth": 0,
              "ticks": ""
             }
            },
            "type": "scatterpolar"
           }
          ],
          "scatterpolargl": [
           {
            "marker": {
             "colorbar": {
              "outlinewidth": 0,
              "ticks": ""
             }
            },
            "type": "scatterpolargl"
           }
          ],
          "scatterternary": [
           {
            "marker": {
             "colorbar": {
              "outlinewidth": 0,
              "ticks": ""
             }
            },
            "type": "scatterternary"
           }
          ],
          "surface": [
           {
            "colorbar": {
             "outlinewidth": 0,
             "ticks": ""
            },
            "colorscale": [
             [
              0,
              "#0d0887"
             ],
             [
              0.1111111111111111,
              "#46039f"
             ],
             [
              0.2222222222222222,
              "#7201a8"
             ],
             [
              0.3333333333333333,
              "#9c179e"
             ],
             [
              0.4444444444444444,
              "#bd3786"
             ],
             [
              0.5555555555555556,
              "#d8576b"
             ],
             [
              0.6666666666666666,
              "#ed7953"
             ],
             [
              0.7777777777777778,
              "#fb9f3a"
             ],
             [
              0.8888888888888888,
              "#fdca26"
             ],
             [
              1,
              "#f0f921"
             ]
            ],
            "type": "surface"
           }
          ],
          "table": [
           {
            "cells": {
             "fill": {
              "color": "#EBF0F8"
             },
             "line": {
              "color": "white"
             }
            },
            "header": {
             "fill": {
              "color": "#C8D4E3"
             },
             "line": {
              "color": "white"
             }
            },
            "type": "table"
           }
          ]
         },
         "layout": {
          "annotationdefaults": {
           "arrowcolor": "#2a3f5f",
           "arrowhead": 0,
           "arrowwidth": 1
          },
          "autotypenumbers": "strict",
          "coloraxis": {
           "colorbar": {
            "outlinewidth": 0,
            "ticks": ""
           }
          },
          "colorscale": {
           "diverging": [
            [
             0,
             "#8e0152"
            ],
            [
             0.1,
             "#c51b7d"
            ],
            [
             0.2,
             "#de77ae"
            ],
            [
             0.3,
             "#f1b6da"
            ],
            [
             0.4,
             "#fde0ef"
            ],
            [
             0.5,
             "#f7f7f7"
            ],
            [
             0.6,
             "#e6f5d0"
            ],
            [
             0.7,
             "#b8e186"
            ],
            [
             0.8,
             "#7fbc41"
            ],
            [
             0.9,
             "#4d9221"
            ],
            [
             1,
             "#276419"
            ]
           ],
           "sequential": [
            [
             0,
             "#0d0887"
            ],
            [
             0.1111111111111111,
             "#46039f"
            ],
            [
             0.2222222222222222,
             "#7201a8"
            ],
            [
             0.3333333333333333,
             "#9c179e"
            ],
            [
             0.4444444444444444,
             "#bd3786"
            ],
            [
             0.5555555555555556,
             "#d8576b"
            ],
            [
             0.6666666666666666,
             "#ed7953"
            ],
            [
             0.7777777777777778,
             "#fb9f3a"
            ],
            [
             0.8888888888888888,
             "#fdca26"
            ],
            [
             1,
             "#f0f921"
            ]
           ],
           "sequentialminus": [
            [
             0,
             "#0d0887"
            ],
            [
             0.1111111111111111,
             "#46039f"
            ],
            [
             0.2222222222222222,
             "#7201a8"
            ],
            [
             0.3333333333333333,
             "#9c179e"
            ],
            [
             0.4444444444444444,
             "#bd3786"
            ],
            [
             0.5555555555555556,
             "#d8576b"
            ],
            [
             0.6666666666666666,
             "#ed7953"
            ],
            [
             0.7777777777777778,
             "#fb9f3a"
            ],
            [
             0.8888888888888888,
             "#fdca26"
            ],
            [
             1,
             "#f0f921"
            ]
           ]
          },
          "colorway": [
           "#636efa",
           "#EF553B",
           "#00cc96",
           "#ab63fa",
           "#FFA15A",
           "#19d3f3",
           "#FF6692",
           "#B6E880",
           "#FF97FF",
           "#FECB52"
          ],
          "font": {
           "color": "#2a3f5f"
          },
          "geo": {
           "bgcolor": "white",
           "lakecolor": "white",
           "landcolor": "#E5ECF6",
           "showlakes": true,
           "showland": true,
           "subunitcolor": "white"
          },
          "hoverlabel": {
           "align": "left"
          },
          "hovermode": "closest",
          "mapbox": {
           "style": "light"
          },
          "paper_bgcolor": "white",
          "plot_bgcolor": "#E5ECF6",
          "polar": {
           "angularaxis": {
            "gridcolor": "white",
            "linecolor": "white",
            "ticks": ""
           },
           "bgcolor": "#E5ECF6",
           "radialaxis": {
            "gridcolor": "white",
            "linecolor": "white",
            "ticks": ""
           }
          },
          "scene": {
           "xaxis": {
            "backgroundcolor": "#E5ECF6",
            "gridcolor": "white",
            "gridwidth": 2,
            "linecolor": "white",
            "showbackground": true,
            "ticks": "",
            "zerolinecolor": "white"
           },
           "yaxis": {
            "backgroundcolor": "#E5ECF6",
            "gridcolor": "white",
            "gridwidth": 2,
            "linecolor": "white",
            "showbackground": true,
            "ticks": "",
            "zerolinecolor": "white"
           },
           "zaxis": {
            "backgroundcolor": "#E5ECF6",
            "gridcolor": "white",
            "gridwidth": 2,
            "linecolor": "white",
            "showbackground": true,
            "ticks": "",
            "zerolinecolor": "white"
           }
          },
          "shapedefaults": {
           "line": {
            "color": "#2a3f5f"
           }
          },
          "ternary": {
           "aaxis": {
            "gridcolor": "white",
            "linecolor": "white",
            "ticks": ""
           },
           "baxis": {
            "gridcolor": "white",
            "linecolor": "white",
            "ticks": ""
           },
           "bgcolor": "#E5ECF6",
           "caxis": {
            "gridcolor": "white",
            "linecolor": "white",
            "ticks": ""
           }
          },
          "title": {
           "x": 0.05
          },
          "xaxis": {
           "automargin": true,
           "gridcolor": "white",
           "linecolor": "white",
           "ticks": "",
           "title": {
            "standoff": 15
           },
           "zerolinecolor": "white",
           "zerolinewidth": 2
          },
          "yaxis": {
           "automargin": true,
           "gridcolor": "white",
           "linecolor": "white",
           "ticks": "",
           "title": {
            "standoff": 15
           },
           "zerolinecolor": "white",
           "zerolinewidth": 2
          }
         }
        }
       }
      }
     },
     "metadata": {},
     "output_type": "display_data"
    }
   ],
   "source": [
    "figs = px.scatter_3d(\n",
    "    tool_master,\n",
    "    x='tool_name',\n",
    "    y='language',\n",
    "    z='tool_type_id',color='tool_name'\n",
    ")\n",
    "figs.show()"
   ]
  },
  {
   "cell_type": "code",
   "execution_count": null,
   "metadata": {},
   "outputs": [
    {
     "data": {
      "text/plain": [
       "0    1\n",
       "1    2\n",
       "2    3\n",
       "3    4\n",
       "Name: app_id, dtype: int64"
      ]
     },
     "execution_count": 49,
     "metadata": {},
     "output_type": "execute_result"
    }
   ],
   "source": [
    "app_data.app_id\n"
   ]
  },
  {
   "cell_type": "code",
   "execution_count": 35,
   "metadata": {},
   "outputs": [
    {
     "name": "stderr",
     "output_type": "stream",
     "text": [
      "c:\\Users\\sumeruinfra\\AppData\\Local\\Programs\\Python\\Python310\\lib\\site-packages\\pandas\\io\\sql.py:758: UserWarning:\n",
      "\n",
      "pandas only support SQLAlchemy connectable(engine/connection) ordatabase string URI or sqlite3 DBAPI2 connectionother DBAPI2 objects are not tested, please consider using SQLAlchemy\n",
      "\n"
     ]
    },
    {
     "name": "stdout",
     "output_type": "stream",
     "text": [
      "MySQL connection is closed Now\n"
     ]
    },
    {
     "data": {
      "text/html": [
       "<div>\n",
       "<style scoped>\n",
       "    .dataframe tbody tr th:only-of-type {\n",
       "        vertical-align: middle;\n",
       "    }\n",
       "\n",
       "    .dataframe tbody tr th {\n",
       "        vertical-align: top;\n",
       "    }\n",
       "\n",
       "    .dataframe thead th {\n",
       "        text-align: right;\n",
       "    }\n",
       "</style>\n",
       "<table border=\"1\" class=\"dataframe\">\n",
       "  <thead>\n",
       "    <tr style=\"text-align: right;\">\n",
       "      <th></th>\n",
       "      <th>vuln_id</th>\n",
       "      <th>scan_details_id</th>\n",
       "      <th>scan_token</th>\n",
       "      <th>tool_name</th>\n",
       "      <th>customer_id</th>\n",
       "      <th>vuln_name</th>\n",
       "      <th>vuln_loc</th>\n",
       "      <th>affected_file</th>\n",
       "      <th>vuln_description</th>\n",
       "      <th>vuln_severity</th>\n",
       "      <th>...</th>\n",
       "      <th>tool_version</th>\n",
       "      <th>checklist</th>\n",
       "      <th>more_info</th>\n",
       "      <th>errors</th>\n",
       "      <th>tool_type</th>\n",
       "      <th>ml_status</th>\n",
       "      <th>customer_status</th>\n",
       "      <th>fixed_at</th>\n",
       "      <th>created_at</th>\n",
       "      <th>updated_at</th>\n",
       "    </tr>\n",
       "  </thead>\n",
       "  <tbody>\n",
       "    <tr>\n",
       "      <th>0</th>\n",
       "      <td>457</td>\n",
       "      <td>1</td>\n",
       "      <td>25ebc645-e011-4da3-b9d2-79de98824bb7</td>\n",
       "      <td>Bandit</td>\n",
       "      <td>1</td>\n",
       "      <td>start process with a shell</td>\n",
       "      <td>33,34,35,36,37,38,39</td>\n",
       "      <td>/src/taskManager/misc.py</td>\n",
       "      <td>Starting a process with a shell, possible inje...</td>\n",
       "      <td>HIGH</td>\n",
       "      <td>...</td>\n",
       "      <td></td>\n",
       "      <td></td>\n",
       "      <td></td>\n",
       "      <td></td>\n",
       "      <td>SAST</td>\n",
       "      <td>1</td>\n",
       "      <td>0</td>\n",
       "      <td>2022-03-27 18:30:45</td>\n",
       "      <td>2022-03-01 11:36:17</td>\n",
       "      <td>2022-03-16 06:47:36</td>\n",
       "    </tr>\n",
       "    <tr>\n",
       "      <th>1</th>\n",
       "      <td>458</td>\n",
       "      <td>1</td>\n",
       "      <td>25ebc645-e011-4da3-b9d2-79de98824bb7</td>\n",
       "      <td>Bandit</td>\n",
       "      <td>1</td>\n",
       "      <td>hardcoded password string</td>\n",
       "      <td>24,25,26,27</td>\n",
       "      <td>/src/taskManager/settings.py</td>\n",
       "      <td>Possible hardcoded password: '0yxzudryd8)-%)(f...</td>\n",
       "      <td>LOW</td>\n",
       "      <td>...</td>\n",
       "      <td></td>\n",
       "      <td></td>\n",
       "      <td></td>\n",
       "      <td></td>\n",
       "      <td>SAST</td>\n",
       "      <td>1</td>\n",
       "      <td>0</td>\n",
       "      <td>2022-03-27 18:30:45</td>\n",
       "      <td>2022-03-01 11:36:17</td>\n",
       "      <td>2022-03-16 06:47:39</td>\n",
       "    </tr>\n",
       "  </tbody>\n",
       "</table>\n",
       "<p>2 rows × 27 columns</p>\n",
       "</div>"
      ],
      "text/plain": [
       "   vuln_id  scan_details_id                            scan_token tool_name  \\\n",
       "0      457                1  25ebc645-e011-4da3-b9d2-79de98824bb7    Bandit   \n",
       "1      458                1  25ebc645-e011-4da3-b9d2-79de98824bb7    Bandit   \n",
       "\n",
       "   customer_id                   vuln_name              vuln_loc  \\\n",
       "0            1  start process with a shell  33,34,35,36,37,38,39   \n",
       "1            1   hardcoded password string           24,25,26,27   \n",
       "\n",
       "                  affected_file  \\\n",
       "0      /src/taskManager/misc.py   \n",
       "1  /src/taskManager/settings.py   \n",
       "\n",
       "                                    vuln_description vuln_severity  ...  \\\n",
       "0  Starting a process with a shell, possible inje...          HIGH  ...   \n",
       "1  Possible hardcoded password: '0yxzudryd8)-%)(f...           LOW  ...   \n",
       "\n",
       "  tool_version checklist more_info  errors tool_type ml_status  \\\n",
       "0                                               SAST         1   \n",
       "1                                               SAST         1   \n",
       "\n",
       "  customer_status            fixed_at          created_at          updated_at  \n",
       "0               0 2022-03-27 18:30:45 2022-03-01 11:36:17 2022-03-16 06:47:36  \n",
       "1               0 2022-03-27 18:30:45 2022-03-01 11:36:17 2022-03-16 06:47:39  \n",
       "\n",
       "[2 rows x 27 columns]"
      ]
     },
     "execution_count": 35,
     "metadata": {},
     "output_type": "execute_result"
    }
   ],
   "source": [
    "bandit = data_featching_from_db('sast_results','Bandit')\n",
    "bandit.head(2)"
   ]
  },
  {
   "cell_type": "code",
   "execution_count": 36,
   "metadata": {},
   "outputs": [],
   "source": [
    "df_bandit = bandit.copy()"
   ]
  },
  {
   "cell_type": "code",
   "execution_count": 37,
   "metadata": {},
   "outputs": [
    {
     "data": {
      "text/plain": [
       "(389, numpy.int64)"
      ]
     },
     "execution_count": 37,
     "metadata": {},
     "output_type": "execute_result"
    }
   ],
   "source": [
    "bandit_no_of_scan = df_bandit.scan_token.count()\n",
    "bandit_no_of_scan,type(bandit_no_of_scan)"
   ]
  },
  {
   "cell_type": "code",
   "execution_count": 38,
   "metadata": {},
   "outputs": [],
   "source": [
    "# Vulnerabilities Name\n",
    "bandit_vuln_names = df_bandit.vuln_name.value_counts()\n",
    "bandit_vuln_name_count = {'Vulnerabilities Name':bandit_vuln_names.keys(),'Tool Count':bandit_vuln_names.values}"
   ]
  },
  {
   "cell_type": "code",
   "execution_count": 39,
   "metadata": {},
   "outputs": [
    {
     "data": {
      "text/plain": [
       "{'Vulnerabilities Name': Index(['hardcoded password string', 'hardcoded sql expressions',\n",
       "        'start process with a shell', 'hashlib'],\n",
       "       dtype='object'),\n",
       " 'Tool Count': array([231,  79,  77,   2], dtype=int64)}"
      ]
     },
     "execution_count": 39,
     "metadata": {},
     "output_type": "execute_result"
    }
   ],
   "source": [
    "bandit_vuln_name_count"
   ]
  },
  {
   "cell_type": "code",
   "execution_count": 40,
   "metadata": {},
   "outputs": [
    {
     "data": {
      "application/vnd.plotly.v1+json": {
       "config": {
        "plotlyServerURL": "https://plot.ly"
       },
       "data": [
        {
         "domain": {
          "x": [
           0,
           1
          ],
          "y": [
           0,
           1
          ]
         },
         "hovertemplate": "Vulnerabilities Name=%{label}<br>Tool Count=%{value}<extra></extra>",
         "labels": [
          "hardcoded password string",
          "hardcoded sql expressions",
          "start process with a shell",
          "hashlib"
         ],
         "legendgroup": "",
         "name": "",
         "showlegend": true,
         "type": "pie",
         "values": [
          231,
          79,
          77,
          2
         ]
        }
       ],
       "layout": {
        "legend": {
         "tracegroupgap": 0
        },
        "piecolorway": [
         "#0d0887",
         "#46039f",
         "#7201a8",
         "#9c179e",
         "#bd3786",
         "#d8576b",
         "#ed7953",
         "#fb9f3a",
         "#fdca26",
         "#f0f921"
        ],
        "template": {
         "data": {
          "bar": [
           {
            "error_x": {
             "color": "#2a3f5f"
            },
            "error_y": {
             "color": "#2a3f5f"
            },
            "marker": {
             "line": {
              "color": "#E5ECF6",
              "width": 0.5
             },
             "pattern": {
              "fillmode": "overlay",
              "size": 10,
              "solidity": 0.2
             }
            },
            "type": "bar"
           }
          ],
          "barpolar": [
           {
            "marker": {
             "line": {
              "color": "#E5ECF6",
              "width": 0.5
             },
             "pattern": {
              "fillmode": "overlay",
              "size": 10,
              "solidity": 0.2
             }
            },
            "type": "barpolar"
           }
          ],
          "carpet": [
           {
            "aaxis": {
             "endlinecolor": "#2a3f5f",
             "gridcolor": "white",
             "linecolor": "white",
             "minorgridcolor": "white",
             "startlinecolor": "#2a3f5f"
            },
            "baxis": {
             "endlinecolor": "#2a3f5f",
             "gridcolor": "white",
             "linecolor": "white",
             "minorgridcolor": "white",
             "startlinecolor": "#2a3f5f"
            },
            "type": "carpet"
           }
          ],
          "choropleth": [
           {
            "colorbar": {
             "outlinewidth": 0,
             "ticks": ""
            },
            "type": "choropleth"
           }
          ],
          "contour": [
           {
            "colorbar": {
             "outlinewidth": 0,
             "ticks": ""
            },
            "colorscale": [
             [
              0,
              "#0d0887"
             ],
             [
              0.1111111111111111,
              "#46039f"
             ],
             [
              0.2222222222222222,
              "#7201a8"
             ],
             [
              0.3333333333333333,
              "#9c179e"
             ],
             [
              0.4444444444444444,
              "#bd3786"
             ],
             [
              0.5555555555555556,
              "#d8576b"
             ],
             [
              0.6666666666666666,
              "#ed7953"
             ],
             [
              0.7777777777777778,
              "#fb9f3a"
             ],
             [
              0.8888888888888888,
              "#fdca26"
             ],
             [
              1,
              "#f0f921"
             ]
            ],
            "type": "contour"
           }
          ],
          "contourcarpet": [
           {
            "colorbar": {
             "outlinewidth": 0,
             "ticks": ""
            },
            "type": "contourcarpet"
           }
          ],
          "heatmap": [
           {
            "colorbar": {
             "outlinewidth": 0,
             "ticks": ""
            },
            "colorscale": [
             [
              0,
              "#0d0887"
             ],
             [
              0.1111111111111111,
              "#46039f"
             ],
             [
              0.2222222222222222,
              "#7201a8"
             ],
             [
              0.3333333333333333,
              "#9c179e"
             ],
             [
              0.4444444444444444,
              "#bd3786"
             ],
             [
              0.5555555555555556,
              "#d8576b"
             ],
             [
              0.6666666666666666,
              "#ed7953"
             ],
             [
              0.7777777777777778,
              "#fb9f3a"
             ],
             [
              0.8888888888888888,
              "#fdca26"
             ],
             [
              1,
              "#f0f921"
             ]
            ],
            "type": "heatmap"
           }
          ],
          "heatmapgl": [
           {
            "colorbar": {
             "outlinewidth": 0,
             "ticks": ""
            },
            "colorscale": [
             [
              0,
              "#0d0887"
             ],
             [
              0.1111111111111111,
              "#46039f"
             ],
             [
              0.2222222222222222,
              "#7201a8"
             ],
             [
              0.3333333333333333,
              "#9c179e"
             ],
             [
              0.4444444444444444,
              "#bd3786"
             ],
             [
              0.5555555555555556,
              "#d8576b"
             ],
             [
              0.6666666666666666,
              "#ed7953"
             ],
             [
              0.7777777777777778,
              "#fb9f3a"
             ],
             [
              0.8888888888888888,
              "#fdca26"
             ],
             [
              1,
              "#f0f921"
             ]
            ],
            "type": "heatmapgl"
           }
          ],
          "histogram": [
           {
            "marker": {
             "pattern": {
              "fillmode": "overlay",
              "size": 10,
              "solidity": 0.2
             }
            },
            "type": "histogram"
           }
          ],
          "histogram2d": [
           {
            "colorbar": {
             "outlinewidth": 0,
             "ticks": ""
            },
            "colorscale": [
             [
              0,
              "#0d0887"
             ],
             [
              0.1111111111111111,
              "#46039f"
             ],
             [
              0.2222222222222222,
              "#7201a8"
             ],
             [
              0.3333333333333333,
              "#9c179e"
             ],
             [
              0.4444444444444444,
              "#bd3786"
             ],
             [
              0.5555555555555556,
              "#d8576b"
             ],
             [
              0.6666666666666666,
              "#ed7953"
             ],
             [
              0.7777777777777778,
              "#fb9f3a"
             ],
             [
              0.8888888888888888,
              "#fdca26"
             ],
             [
              1,
              "#f0f921"
             ]
            ],
            "type": "histogram2d"
           }
          ],
          "histogram2dcontour": [
           {
            "colorbar": {
             "outlinewidth": 0,
             "ticks": ""
            },
            "colorscale": [
             [
              0,
              "#0d0887"
             ],
             [
              0.1111111111111111,
              "#46039f"
             ],
             [
              0.2222222222222222,
              "#7201a8"
             ],
             [
              0.3333333333333333,
              "#9c179e"
             ],
             [
              0.4444444444444444,
              "#bd3786"
             ],
             [
              0.5555555555555556,
              "#d8576b"
             ],
             [
              0.6666666666666666,
              "#ed7953"
             ],
             [
              0.7777777777777778,
              "#fb9f3a"
             ],
             [
              0.8888888888888888,
              "#fdca26"
             ],
             [
              1,
              "#f0f921"
             ]
            ],
            "type": "histogram2dcontour"
           }
          ],
          "mesh3d": [
           {
            "colorbar": {
             "outlinewidth": 0,
             "ticks": ""
            },
            "type": "mesh3d"
           }
          ],
          "parcoords": [
           {
            "line": {
             "colorbar": {
              "outlinewidth": 0,
              "ticks": ""
             }
            },
            "type": "parcoords"
           }
          ],
          "pie": [
           {
            "automargin": true,
            "type": "pie"
           }
          ],
          "scatter": [
           {
            "fillpattern": {
             "fillmode": "overlay",
             "size": 10,
             "solidity": 0.2
            },
            "type": "scatter"
           }
          ],
          "scatter3d": [
           {
            "line": {
             "colorbar": {
              "outlinewidth": 0,
              "ticks": ""
             }
            },
            "marker": {
             "colorbar": {
              "outlinewidth": 0,
              "ticks": ""
             }
            },
            "type": "scatter3d"
           }
          ],
          "scattercarpet": [
           {
            "marker": {
             "colorbar": {
              "outlinewidth": 0,
              "ticks": ""
             }
            },
            "type": "scattercarpet"
           }
          ],
          "scattergeo": [
           {
            "marker": {
             "colorbar": {
              "outlinewidth": 0,
              "ticks": ""
             }
            },
            "type": "scattergeo"
           }
          ],
          "scattergl": [
           {
            "marker": {
             "colorbar": {
              "outlinewidth": 0,
              "ticks": ""
             }
            },
            "type": "scattergl"
           }
          ],
          "scattermapbox": [
           {
            "marker": {
             "colorbar": {
              "outlinewidth": 0,
              "ticks": ""
             }
            },
            "type": "scattermapbox"
           }
          ],
          "scatterpolar": [
           {
            "marker": {
             "colorbar": {
              "outlinewidth": 0,
              "ticks": ""
             }
            },
            "type": "scatterpolar"
           }
          ],
          "scatterpolargl": [
           {
            "marker": {
             "colorbar": {
              "outlinewidth": 0,
              "ticks": ""
             }
            },
            "type": "scatterpolargl"
           }
          ],
          "scatterternary": [
           {
            "marker": {
             "colorbar": {
              "outlinewidth": 0,
              "ticks": ""
             }
            },
            "type": "scatterternary"
           }
          ],
          "surface": [
           {
            "colorbar": {
             "outlinewidth": 0,
             "ticks": ""
            },
            "colorscale": [
             [
              0,
              "#0d0887"
             ],
             [
              0.1111111111111111,
              "#46039f"
             ],
             [
              0.2222222222222222,
              "#7201a8"
             ],
             [
              0.3333333333333333,
              "#9c179e"
             ],
             [
              0.4444444444444444,
              "#bd3786"
             ],
             [
              0.5555555555555556,
              "#d8576b"
             ],
             [
              0.6666666666666666,
              "#ed7953"
             ],
             [
              0.7777777777777778,
              "#fb9f3a"
             ],
             [
              0.8888888888888888,
              "#fdca26"
             ],
             [
              1,
              "#f0f921"
             ]
            ],
            "type": "surface"
           }
          ],
          "table": [
           {
            "cells": {
             "fill": {
              "color": "#EBF0F8"
             },
             "line": {
              "color": "white"
             }
            },
            "header": {
             "fill": {
              "color": "#C8D4E3"
             },
             "line": {
              "color": "white"
             }
            },
            "type": "table"
           }
          ]
         },
         "layout": {
          "annotationdefaults": {
           "arrowcolor": "#2a3f5f",
           "arrowhead": 0,
           "arrowwidth": 1
          },
          "autotypenumbers": "strict",
          "coloraxis": {
           "colorbar": {
            "outlinewidth": 0,
            "ticks": ""
           }
          },
          "colorscale": {
           "diverging": [
            [
             0,
             "#8e0152"
            ],
            [
             0.1,
             "#c51b7d"
            ],
            [
             0.2,
             "#de77ae"
            ],
            [
             0.3,
             "#f1b6da"
            ],
            [
             0.4,
             "#fde0ef"
            ],
            [
             0.5,
             "#f7f7f7"
            ],
            [
             0.6,
             "#e6f5d0"
            ],
            [
             0.7,
             "#b8e186"
            ],
            [
             0.8,
             "#7fbc41"
            ],
            [
             0.9,
             "#4d9221"
            ],
            [
             1,
             "#276419"
            ]
           ],
           "sequential": [
            [
             0,
             "#0d0887"
            ],
            [
             0.1111111111111111,
             "#46039f"
            ],
            [
             0.2222222222222222,
             "#7201a8"
            ],
            [
             0.3333333333333333,
             "#9c179e"
            ],
            [
             0.4444444444444444,
             "#bd3786"
            ],
            [
             0.5555555555555556,
             "#d8576b"
            ],
            [
             0.6666666666666666,
             "#ed7953"
            ],
            [
             0.7777777777777778,
             "#fb9f3a"
            ],
            [
             0.8888888888888888,
             "#fdca26"
            ],
            [
             1,
             "#f0f921"
            ]
           ],
           "sequentialminus": [
            [
             0,
             "#0d0887"
            ],
            [
             0.1111111111111111,
             "#46039f"
            ],
            [
             0.2222222222222222,
             "#7201a8"
            ],
            [
             0.3333333333333333,
             "#9c179e"
            ],
            [
             0.4444444444444444,
             "#bd3786"
            ],
            [
             0.5555555555555556,
             "#d8576b"
            ],
            [
             0.6666666666666666,
             "#ed7953"
            ],
            [
             0.7777777777777778,
             "#fb9f3a"
            ],
            [
             0.8888888888888888,
             "#fdca26"
            ],
            [
             1,
             "#f0f921"
            ]
           ]
          },
          "colorway": [
           "#636efa",
           "#EF553B",
           "#00cc96",
           "#ab63fa",
           "#FFA15A",
           "#19d3f3",
           "#FF6692",
           "#B6E880",
           "#FF97FF",
           "#FECB52"
          ],
          "font": {
           "color": "#2a3f5f"
          },
          "geo": {
           "bgcolor": "white",
           "lakecolor": "white",
           "landcolor": "#E5ECF6",
           "showlakes": true,
           "showland": true,
           "subunitcolor": "white"
          },
          "hoverlabel": {
           "align": "left"
          },
          "hovermode": "closest",
          "mapbox": {
           "style": "light"
          },
          "paper_bgcolor": "white",
          "plot_bgcolor": "#E5ECF6",
          "polar": {
           "angularaxis": {
            "gridcolor": "white",
            "linecolor": "white",
            "ticks": ""
           },
           "bgcolor": "#E5ECF6",
           "radialaxis": {
            "gridcolor": "white",
            "linecolor": "white",
            "ticks": ""
           }
          },
          "scene": {
           "xaxis": {
            "backgroundcolor": "#E5ECF6",
            "gridcolor": "white",
            "gridwidth": 2,
            "linecolor": "white",
            "showbackground": true,
            "ticks": "",
            "zerolinecolor": "white"
           },
           "yaxis": {
            "backgroundcolor": "#E5ECF6",
            "gridcolor": "white",
            "gridwidth": 2,
            "linecolor": "white",
            "showbackground": true,
            "ticks": "",
            "zerolinecolor": "white"
           },
           "zaxis": {
            "backgroundcolor": "#E5ECF6",
            "gridcolor": "white",
            "gridwidth": 2,
            "linecolor": "white",
            "showbackground": true,
            "ticks": "",
            "zerolinecolor": "white"
           }
          },
          "shapedefaults": {
           "line": {
            "color": "#2a3f5f"
           }
          },
          "ternary": {
           "aaxis": {
            "gridcolor": "white",
            "linecolor": "white",
            "ticks": ""
           },
           "baxis": {
            "gridcolor": "white",
            "linecolor": "white",
            "ticks": ""
           },
           "bgcolor": "#E5ECF6",
           "caxis": {
            "gridcolor": "white",
            "linecolor": "white",
            "ticks": ""
           }
          },
          "title": {
           "x": 0.05
          },
          "xaxis": {
           "automargin": true,
           "gridcolor": "white",
           "linecolor": "white",
           "ticks": "",
           "title": {
            "standoff": 15
           },
           "zerolinecolor": "white",
           "zerolinewidth": 2
          },
          "yaxis": {
           "automargin": true,
           "gridcolor": "white",
           "linecolor": "white",
           "ticks": "",
           "title": {
            "standoff": 15
           },
           "zerolinecolor": "white",
           "zerolinewidth": 2
          }
         }
        },
        "title": {
         "text": "Top Vulnerabilities Name in Bandit Tool"
        }
       }
      }
     },
     "metadata": {},
     "output_type": "display_data"
    }
   ],
   "source": [
    "px.pie(bandit_vuln_name_count,\n",
    "                names = 'Vulnerabilities Name',\n",
    "                values = 'Tool Count',\n",
    "                title='Top Vulnerabilities Name in Bandit Tool',\n",
    "                color_discrete_sequence= px.colors.sequential.Plasma,\n",
    "                labels={'x':\"Vulnerabilities Name\",'y':'Bandit Vulnerabilities Count'})"
   ]
  },
  {
   "cell_type": "code",
   "execution_count": 41,
   "metadata": {},
   "outputs": [],
   "source": [
    "high_count = df_bandit.vuln_confidence.str.lower().value_counts()\n",
    "        \n",
    "bandit_vuln_names = df_bandit.vuln_name.value_counts()\n",
    "bandit_vuln_name_count = {'Vulnerabilities Name':bandit_vuln_names.keys(),\n",
    "                        'Tool Count':bandit_vuln_names.values}"
   ]
  },
  {
   "cell_type": "code",
   "execution_count": 42,
   "metadata": {},
   "outputs": [
    {
     "data": {
      "text/plain": [
       "{'Vulnerabilities Name': Index(['hardcoded password string', 'hardcoded sql expressions',\n",
       "        'start process with a shell', 'hashlib'],\n",
       "       dtype='object'),\n",
       " 'Tool Count': array([231,  79,  77,   2], dtype=int64)}"
      ]
     },
     "execution_count": 42,
     "metadata": {},
     "output_type": "execute_result"
    }
   ],
   "source": [
    "bandit_vuln_name_count"
   ]
  },
  {
   "cell_type": "code",
   "execution_count": 43,
   "metadata": {},
   "outputs": [
    {
     "data": {
      "text/plain": [
       "Li('Total start process with a shell Vulnerabilities Severity Count:- 77')"
      ]
     },
     "execution_count": 43,
     "metadata": {},
     "output_type": "execute_result"
    }
   ],
   "source": [
    "html.Li(\"Total {} Vulnerabilities Severity Count:- {}\".format(bandit_vuln_name_count['Vulnerabilities Name'][0],bandit_vuln_name_count['Tool Count'][0])),\n",
    "html.Li(\"Total {} Vulnerabilities Severity Count:- {}\".format(bandit_vuln_name_count['Vulnerabilities Name'][1],bandit_vuln_name_count['Tool Count'][1])),\n",
    "html.Li(\"Total {} Vulnerabilities Severity Count:- {}\".format(bandit_vuln_name_count['Vulnerabilities Name'][2],bandit_vuln_name_count['Tool Count'][2]))"
   ]
  },
  {
   "cell_type": "code",
   "execution_count": 44,
   "metadata": {},
   "outputs": [],
   "source": [
    "# Vulnerabilities Severity_count\n",
    "vuln_severity = df_bandit.vuln_severity.value_counts()\n",
    "vuln_severity_count = {'Vulnerabilities Severity':vuln_severity.keys(),\n",
    "                        'Vulnerabilities Severity Count': vuln_severity.values\n",
    "                        }"
   ]
  },
  {
   "cell_type": "code",
   "execution_count": 45,
   "metadata": {},
   "outputs": [
    {
     "data": {
      "text/plain": [
       "{'Vulnerabilities Severity': Index(['LOW', 'HIGH', 'MEDIUM'], dtype='object'),\n",
       " 'Vulnerabilities Severity Count': array([231,  79,  79], dtype=int64)}"
      ]
     },
     "execution_count": 45,
     "metadata": {},
     "output_type": "execute_result"
    }
   ],
   "source": [
    "vuln_severity_count"
   ]
  },
  {
   "cell_type": "code",
   "execution_count": 46,
   "metadata": {},
   "outputs": [
    {
     "data": {
      "text/plain": [
       "Li('Total MEDIUM Vulnerabilities Severity Count:- 79')"
      ]
     },
     "execution_count": 46,
     "metadata": {},
     "output_type": "execute_result"
    }
   ],
   "source": [
    "html.Li(\"Total {} Vulnerabilities Severity Count:- {}\".format(vuln_severity_count['Vulnerabilities Severity'][0],vuln_severity_count['Vulnerabilities Severity Count'][0])),\n",
    "html.Li(\"Total {} Vulnerabilities Severity Count:- {}\".format(vuln_severity_count['Vulnerabilities Severity'][1],vuln_severity_count['Vulnerabilities Severity Count'][1])),\n",
    "html.Li(\"Total {} Vulnerabilities Severity Count:- {}\".format(vuln_severity_count['Vulnerabilities Severity'][2],vuln_severity_count['Vulnerabilities Severity Count'][2]))"
   ]
  },
  {
   "cell_type": "code",
   "execution_count": 47,
   "metadata": {},
   "outputs": [
    {
     "data": {
      "text/plain": [
       "{'Vulnerabilities Confidence': Index(['LOW', 'HIGH', 'MEDIUM'], dtype='object'),\n",
       " 'Vulnerabilities Confidence Count': array([231,  79,  79], dtype=int64)}"
      ]
     },
     "execution_count": 47,
     "metadata": {},
     "output_type": "execute_result"
    }
   ],
   "source": [
    "# Vulnerabilities Confidence Count\n",
    "vuln_confidence = df_bandit.vuln_confidence.value_counts()\n",
    "vuln_confidence_count = {'Vulnerabilities Confidence':vuln_severity.keys(),\n",
    "                        'Vulnerabilities Confidence Count': vuln_severity.values\n",
    "                        }\n",
    "vuln_confidence_count"
   ]
  },
  {
   "cell_type": "code",
   "execution_count": 48,
   "metadata": {},
   "outputs": [
    {
     "data": {
      "text/plain": [
       "Li('Total MEDIUM Vulnerabilities Severity Count:- 79')"
      ]
     },
     "execution_count": 48,
     "metadata": {},
     "output_type": "execute_result"
    }
   ],
   "source": [
    "html.Li(\"Total {} Vulnerabilities Severity Count:- {}\".format(vuln_confidence_count['Vulnerabilities Confidence'][0],vuln_confidence_count['Vulnerabilities Confidence Count'][0])),\n",
    "html.Li(\"Total {} Vulnerabilities Severity Count:- {}\".format(vuln_confidence_count['Vulnerabilities Confidence'][1],vuln_confidence_count['Vulnerabilities Confidence Count'][1])),\n",
    "html.Li(\"Total {} Vulnerabilities Severity Count:- {}\".format(vuln_confidence_count['Vulnerabilities Confidence'][2],vuln_confidence_count['Vulnerabilities Confidence Count'][2]))"
   ]
  },
  {
   "cell_type": "code",
   "execution_count": 68,
   "metadata": {},
   "outputs": [],
   "source": [
    "vuln = pd.DataFrame()"
   ]
  },
  {
   "cell_type": "code",
   "execution_count": 137,
   "metadata": {},
   "outputs": [],
   "source": [
    "vuln['Vulnerabilities_Names'] = sast_tn.vuln_name\n",
    "vuln['Issues_Created'] = sast_tn.created_at\n",
    "vuln['Issues_Sloved'] = sast_tn.fixed_at\n",
    "vuln['Mean_Time_to_Remediate'] = np.array(sast_tn.fixed_at - sast_tn.created_at)\n",
    "vuln['vulnerabilities_Severity'] = sast_tn.vuln_severity"
   ]
  },
  {
   "cell_type": "code",
   "execution_count": 138,
   "metadata": {},
   "outputs": [
    {
     "data": {
      "text/html": [
       "<div>\n",
       "<style scoped>\n",
       "    .dataframe tbody tr th:only-of-type {\n",
       "        vertical-align: middle;\n",
       "    }\n",
       "\n",
       "    .dataframe tbody tr th {\n",
       "        vertical-align: top;\n",
       "    }\n",
       "\n",
       "    .dataframe thead th {\n",
       "        text-align: right;\n",
       "    }\n",
       "</style>\n",
       "<table border=\"1\" class=\"dataframe\">\n",
       "  <thead>\n",
       "    <tr style=\"text-align: right;\">\n",
       "      <th></th>\n",
       "      <th>Vulnerabilities_Names</th>\n",
       "      <th>Issues_Created</th>\n",
       "      <th>Issues_Sloved</th>\n",
       "      <th>Mean_Time_to_Remediate</th>\n",
       "      <th>MTTR_Days</th>\n",
       "      <th>vulnerabilities_Severity</th>\n",
       "    </tr>\n",
       "  </thead>\n",
       "  <tbody>\n",
       "    <tr>\n",
       "      <th>0</th>\n",
       "      <td>Remote Code Execution</td>\n",
       "      <td>2022-03-01 08:47:28</td>\n",
       "      <td>2022-03-27 18:30:45</td>\n",
       "      <td>26 days 09:43:17</td>\n",
       "      <td>26 days 09:43:17</td>\n",
       "      <td></td>\n",
       "    </tr>\n",
       "    <tr>\n",
       "      <th>1</th>\n",
       "      <td>SQL Injection</td>\n",
       "      <td>2022-03-01 08:47:28</td>\n",
       "      <td>2022-03-27 18:30:45</td>\n",
       "      <td>26 days 09:43:17</td>\n",
       "      <td>26 days 09:43:17</td>\n",
       "      <td></td>\n",
       "    </tr>\n",
       "    <tr>\n",
       "      <th>2</th>\n",
       "      <td>SQL Injection</td>\n",
       "      <td>2022-03-01 08:47:28</td>\n",
       "      <td>2022-03-27 18:30:45</td>\n",
       "      <td>26 days 09:43:17</td>\n",
       "      <td>26 days 09:43:17</td>\n",
       "      <td></td>\n",
       "    </tr>\n",
       "    <tr>\n",
       "      <th>3</th>\n",
       "      <td>Remote Code Execution</td>\n",
       "      <td>2022-03-01 08:47:28</td>\n",
       "      <td>2022-03-27 18:30:45</td>\n",
       "      <td>26 days 09:43:17</td>\n",
       "      <td>26 days 09:43:17</td>\n",
       "      <td></td>\n",
       "    </tr>\n",
       "    <tr>\n",
       "      <th>4</th>\n",
       "      <td>Mass Assignment</td>\n",
       "      <td>2022-03-01 08:47:28</td>\n",
       "      <td>2022-03-27 18:30:45</td>\n",
       "      <td>26 days 09:43:17</td>\n",
       "      <td>26 days 09:43:17</td>\n",
       "      <td></td>\n",
       "    </tr>\n",
       "  </tbody>\n",
       "</table>\n",
       "</div>"
      ],
      "text/plain": [
       "   Vulnerabilities_Names      Issues_Created       Issues_Sloved  \\\n",
       "0  Remote Code Execution 2022-03-01 08:47:28 2022-03-27 18:30:45   \n",
       "1          SQL Injection 2022-03-01 08:47:28 2022-03-27 18:30:45   \n",
       "2          SQL Injection 2022-03-01 08:47:28 2022-03-27 18:30:45   \n",
       "3  Remote Code Execution 2022-03-01 08:47:28 2022-03-27 18:30:45   \n",
       "4        Mass Assignment 2022-03-01 08:47:28 2022-03-27 18:30:45   \n",
       "\n",
       "  Mean_Time_to_Remediate        MTTR_Days vulnerabilities_Severity  \n",
       "0       26 days 09:43:17 26 days 09:43:17                           \n",
       "1       26 days 09:43:17 26 days 09:43:17                           \n",
       "2       26 days 09:43:17 26 days 09:43:17                           \n",
       "3       26 days 09:43:17 26 days 09:43:17                           \n",
       "4       26 days 09:43:17 26 days 09:43:17                           "
      ]
     },
     "execution_count": 138,
     "metadata": {},
     "output_type": "execute_result"
    }
   ],
   "source": [
    "vuln.head()"
   ]
  },
  {
   "cell_type": "code",
   "execution_count": 133,
   "metadata": {},
   "outputs": [],
   "source": [
    "vuln['MTTR_Days'] = vuln['Mean_Time_to_Remediate']"
   ]
  },
  {
   "cell_type": "code",
   "execution_count": 134,
   "metadata": {},
   "outputs": [
    {
     "data": {
      "text/html": [
       "<div>\n",
       "<style scoped>\n",
       "    .dataframe tbody tr th:only-of-type {\n",
       "        vertical-align: middle;\n",
       "    }\n",
       "\n",
       "    .dataframe tbody tr th {\n",
       "        vertical-align: top;\n",
       "    }\n",
       "\n",
       "    .dataframe thead th {\n",
       "        text-align: right;\n",
       "    }\n",
       "</style>\n",
       "<table border=\"1\" class=\"dataframe\">\n",
       "  <thead>\n",
       "    <tr style=\"text-align: right;\">\n",
       "      <th></th>\n",
       "      <th>Vulnerabilities_Names</th>\n",
       "      <th>Issues_Created</th>\n",
       "      <th>Issues_Sloved</th>\n",
       "      <th>Mean_Time_to_Remediate</th>\n",
       "      <th>MTTR_Days</th>\n",
       "    </tr>\n",
       "  </thead>\n",
       "  <tbody>\n",
       "    <tr>\n",
       "      <th>0</th>\n",
       "      <td>Remote Code Execution</td>\n",
       "      <td>2022-03-01 08:47:28</td>\n",
       "      <td>2022-03-27 18:30:45</td>\n",
       "      <td>26 days 09:43:17</td>\n",
       "      <td>26 days 09:43:17</td>\n",
       "    </tr>\n",
       "    <tr>\n",
       "      <th>1</th>\n",
       "      <td>SQL Injection</td>\n",
       "      <td>2022-03-01 08:47:28</td>\n",
       "      <td>2022-03-27 18:30:45</td>\n",
       "      <td>26 days 09:43:17</td>\n",
       "      <td>26 days 09:43:17</td>\n",
       "    </tr>\n",
       "    <tr>\n",
       "      <th>2</th>\n",
       "      <td>SQL Injection</td>\n",
       "      <td>2022-03-01 08:47:28</td>\n",
       "      <td>2022-03-27 18:30:45</td>\n",
       "      <td>26 days 09:43:17</td>\n",
       "      <td>26 days 09:43:17</td>\n",
       "    </tr>\n",
       "    <tr>\n",
       "      <th>3</th>\n",
       "      <td>Remote Code Execution</td>\n",
       "      <td>2022-03-01 08:47:28</td>\n",
       "      <td>2022-03-27 18:30:45</td>\n",
       "      <td>26 days 09:43:17</td>\n",
       "      <td>26 days 09:43:17</td>\n",
       "    </tr>\n",
       "    <tr>\n",
       "      <th>4</th>\n",
       "      <td>Mass Assignment</td>\n",
       "      <td>2022-03-01 08:47:28</td>\n",
       "      <td>2022-03-27 18:30:45</td>\n",
       "      <td>26 days 09:43:17</td>\n",
       "      <td>26 days 09:43:17</td>\n",
       "    </tr>\n",
       "    <tr>\n",
       "      <th>...</th>\n",
       "      <td>...</td>\n",
       "      <td>...</td>\n",
       "      <td>...</td>\n",
       "      <td>...</td>\n",
       "      <td>...</td>\n",
       "    </tr>\n",
       "    <tr>\n",
       "      <th>1390</th>\n",
       "      <td>start process with a shell</td>\n",
       "      <td>2022-05-05 14:15:34</td>\n",
       "      <td>NaT</td>\n",
       "      <td>NaT</td>\n",
       "      <td>NaT</td>\n",
       "    </tr>\n",
       "    <tr>\n",
       "      <th>1391</th>\n",
       "      <td>hardcoded password string</td>\n",
       "      <td>2022-05-05 14:15:34</td>\n",
       "      <td>2022-05-12 18:25:55</td>\n",
       "      <td>7 days 04:10:21</td>\n",
       "      <td>7 days 04:10:21</td>\n",
       "    </tr>\n",
       "    <tr>\n",
       "      <th>1392</th>\n",
       "      <td>hardcoded sql expressions</td>\n",
       "      <td>2022-05-05 14:15:34</td>\n",
       "      <td>NaT</td>\n",
       "      <td>NaT</td>\n",
       "      <td>NaT</td>\n",
       "    </tr>\n",
       "    <tr>\n",
       "      <th>1393</th>\n",
       "      <td>hardcoded password string</td>\n",
       "      <td>2022-05-05 14:15:34</td>\n",
       "      <td>NaT</td>\n",
       "      <td>NaT</td>\n",
       "      <td>NaT</td>\n",
       "    </tr>\n",
       "    <tr>\n",
       "      <th>1394</th>\n",
       "      <td>hardcoded password string</td>\n",
       "      <td>2022-05-05 14:15:34</td>\n",
       "      <td>NaT</td>\n",
       "      <td>NaT</td>\n",
       "      <td>NaT</td>\n",
       "    </tr>\n",
       "  </tbody>\n",
       "</table>\n",
       "<p>1395 rows × 5 columns</p>\n",
       "</div>"
      ],
      "text/plain": [
       "           Vulnerabilities_Names      Issues_Created       Issues_Sloved  \\\n",
       "0          Remote Code Execution 2022-03-01 08:47:28 2022-03-27 18:30:45   \n",
       "1                  SQL Injection 2022-03-01 08:47:28 2022-03-27 18:30:45   \n",
       "2                  SQL Injection 2022-03-01 08:47:28 2022-03-27 18:30:45   \n",
       "3          Remote Code Execution 2022-03-01 08:47:28 2022-03-27 18:30:45   \n",
       "4                Mass Assignment 2022-03-01 08:47:28 2022-03-27 18:30:45   \n",
       "...                          ...                 ...                 ...   \n",
       "1390  start process with a shell 2022-05-05 14:15:34                 NaT   \n",
       "1391   hardcoded password string 2022-05-05 14:15:34 2022-05-12 18:25:55   \n",
       "1392   hardcoded sql expressions 2022-05-05 14:15:34                 NaT   \n",
       "1393   hardcoded password string 2022-05-05 14:15:34                 NaT   \n",
       "1394   hardcoded password string 2022-05-05 14:15:34                 NaT   \n",
       "\n",
       "     Mean_Time_to_Remediate        MTTR_Days  \n",
       "0          26 days 09:43:17 26 days 09:43:17  \n",
       "1          26 days 09:43:17 26 days 09:43:17  \n",
       "2          26 days 09:43:17 26 days 09:43:17  \n",
       "3          26 days 09:43:17 26 days 09:43:17  \n",
       "4          26 days 09:43:17 26 days 09:43:17  \n",
       "...                     ...              ...  \n",
       "1390                    NaT              NaT  \n",
       "1391        7 days 04:10:21  7 days 04:10:21  \n",
       "1392                    NaT              NaT  \n",
       "1393                    NaT              NaT  \n",
       "1394                    NaT              NaT  \n",
       "\n",
       "[1395 rows x 5 columns]"
      ]
     },
     "execution_count": 134,
     "metadata": {},
     "output_type": "execute_result"
    }
   ],
   "source": [
    "vuln"
   ]
  },
  {
   "cell_type": "code",
   "execution_count": 114,
   "metadata": {},
   "outputs": [],
   "source": [
    "vuln.to_csv('Mean_Time_to_Remediate.csv')"
   ]
  },
  {
   "cell_type": "code",
   "execution_count": 87,
   "metadata": {},
   "outputs": [],
   "source": [
    "Unique_Vulnerabilities_Names= vuln.Vulnerabilities_Names.value_counts()"
   ]
  },
  {
   "cell_type": "code",
   "execution_count": 105,
   "metadata": {},
   "outputs": [],
   "source": [
    "di =pd.DataFrame( {'Vulnerabilities_Names':vuln.Vulnerabilities_Names,\n",
    "    'Mean_Time_to_Remediate':vuln.Mean_Time_to_Remediate,}\n",
    "    )"
   ]
  },
  {
   "cell_type": "code",
   "execution_count": 111,
   "metadata": {},
   "outputs": [
    {
     "data": {
      "text/html": [
       "<div>\n",
       "<style scoped>\n",
       "    .dataframe tbody tr th:only-of-type {\n",
       "        vertical-align: middle;\n",
       "    }\n",
       "\n",
       "    .dataframe tbody tr th {\n",
       "        vertical-align: top;\n",
       "    }\n",
       "\n",
       "    .dataframe thead th {\n",
       "        text-align: right;\n",
       "    }\n",
       "</style>\n",
       "<table border=\"1\" class=\"dataframe\">\n",
       "  <thead>\n",
       "    <tr style=\"text-align: right;\">\n",
       "      <th></th>\n",
       "      <th>Vulnerabilities_Names</th>\n",
       "      <th>Mean_Time_to_Remediate</th>\n",
       "    </tr>\n",
       "  </thead>\n",
       "  <tbody>\n",
       "    <tr>\n",
       "      <th>0</th>\n",
       "      <td>Remote Code Execution</td>\n",
       "      <td>26 days 09:43:17</td>\n",
       "    </tr>\n",
       "    <tr>\n",
       "      <th>1</th>\n",
       "      <td>SQL Injection</td>\n",
       "      <td>26 days 09:43:17</td>\n",
       "    </tr>\n",
       "    <tr>\n",
       "      <th>2</th>\n",
       "      <td>SQL Injection</td>\n",
       "      <td>26 days 09:43:17</td>\n",
       "    </tr>\n",
       "    <tr>\n",
       "      <th>3</th>\n",
       "      <td>Remote Code Execution</td>\n",
       "      <td>26 days 09:43:17</td>\n",
       "    </tr>\n",
       "    <tr>\n",
       "      <th>4</th>\n",
       "      <td>Mass Assignment</td>\n",
       "      <td>26 days 09:43:17</td>\n",
       "    </tr>\n",
       "  </tbody>\n",
       "</table>\n",
       "</div>"
      ],
      "text/plain": [
       "   Vulnerabilities_Names Mean_Time_to_Remediate\n",
       "0  Remote Code Execution       26 days 09:43:17\n",
       "1          SQL Injection       26 days 09:43:17\n",
       "2          SQL Injection       26 days 09:43:17\n",
       "3  Remote Code Execution       26 days 09:43:17\n",
       "4        Mass Assignment       26 days 09:43:17"
      ]
     },
     "execution_count": 111,
     "metadata": {},
     "output_type": "execute_result"
    }
   ],
   "source": [
    "di.head() "
   ]
  },
  {
   "cell_type": "code",
   "execution_count": 112,
   "metadata": {},
   "outputs": [
    {
     "data": {
      "text/html": [
       "<div>\n",
       "<style scoped>\n",
       "    .dataframe tbody tr th:only-of-type {\n",
       "        vertical-align: middle;\n",
       "    }\n",
       "\n",
       "    .dataframe tbody tr th {\n",
       "        vertical-align: top;\n",
       "    }\n",
       "\n",
       "    .dataframe thead th {\n",
       "        text-align: right;\n",
       "    }\n",
       "</style>\n",
       "<table border=\"1\" class=\"dataframe\">\n",
       "  <thead>\n",
       "    <tr style=\"text-align: right;\">\n",
       "      <th></th>\n",
       "      <th>Vulnerabilities_Names</th>\n",
       "      <th>Mean_Time_to_Remediate</th>\n",
       "    </tr>\n",
       "  </thead>\n",
       "  <tbody>\n",
       "    <tr>\n",
       "      <th>1390</th>\n",
       "      <td>start process with a shell</td>\n",
       "      <td>NaT</td>\n",
       "    </tr>\n",
       "    <tr>\n",
       "      <th>1391</th>\n",
       "      <td>hardcoded password string</td>\n",
       "      <td>7 days 04:10:21</td>\n",
       "    </tr>\n",
       "    <tr>\n",
       "      <th>1392</th>\n",
       "      <td>hardcoded sql expressions</td>\n",
       "      <td>NaT</td>\n",
       "    </tr>\n",
       "    <tr>\n",
       "      <th>1393</th>\n",
       "      <td>hardcoded password string</td>\n",
       "      <td>NaT</td>\n",
       "    </tr>\n",
       "    <tr>\n",
       "      <th>1394</th>\n",
       "      <td>hardcoded password string</td>\n",
       "      <td>NaT</td>\n",
       "    </tr>\n",
       "  </tbody>\n",
       "</table>\n",
       "</div>"
      ],
      "text/plain": [
       "           Vulnerabilities_Names Mean_Time_to_Remediate\n",
       "1390  start process with a shell                    NaT\n",
       "1391   hardcoded password string        7 days 04:10:21\n",
       "1392   hardcoded sql expressions                    NaT\n",
       "1393   hardcoded password string                    NaT\n",
       "1394   hardcoded password string                    NaT"
      ]
     },
     "execution_count": 112,
     "metadata": {},
     "output_type": "execute_result"
    }
   ],
   "source": [
    "di.tail()"
   ]
  },
  {
   "cell_type": "code",
   "execution_count": 108,
   "metadata": {},
   "outputs": [
    {
     "data": {
      "text/plain": [
       "(1395, 2)"
      ]
     },
     "execution_count": 108,
     "metadata": {},
     "output_type": "execute_result"
    }
   ],
   "source": [
    "di.shape"
   ]
  },
  {
   "cell_type": "code",
   "execution_count": 107,
   "metadata": {},
   "outputs": [
    {
     "data": {
      "text/plain": [
       "Vulnerabilities_Names        0\n",
       "Mean_Time_to_Remediate    1067\n",
       "dtype: int64"
      ]
     },
     "execution_count": 107,
     "metadata": {},
     "output_type": "execute_result"
    }
   ],
   "source": [
    "di.isna().sum()"
   ]
  },
  {
   "cell_type": "code",
   "execution_count": null,
   "metadata": {},
   "outputs": [],
   "source": []
  },
  {
   "cell_type": "code",
   "execution_count": null,
   "metadata": {},
   "outputs": [],
   "source": []
  },
  {
   "cell_type": "code",
   "execution_count": null,
   "metadata": {},
   "outputs": [],
   "source": []
  },
  {
   "cell_type": "code",
   "execution_count": null,
   "metadata": {},
   "outputs": [],
   "source": []
  },
  {
   "cell_type": "code",
   "execution_count": null,
   "metadata": {},
   "outputs": [],
   "source": []
  },
  {
   "cell_type": "code",
   "execution_count": null,
   "metadata": {},
   "outputs": [
    {
     "name": "stderr",
     "output_type": "stream",
     "text": [
      "c:\\Users\\sumeruinfra\\AppData\\Local\\Programs\\Python\\Python310\\lib\\site-packages\\pandas\\io\\sql.py:758: UserWarning:\n",
      "\n",
      "pandas only support SQLAlchemy connectable(engine/connection) ordatabase string URI or sqlite3 DBAPI2 connectionother DBAPI2 objects are not tested, please consider using SQLAlchemy\n",
      "\n"
     ]
    },
    {
     "name": "stdout",
     "output_type": "stream",
     "text": [
      "MySQL connection is closed Now\n"
     ]
    },
    {
     "name": "stderr",
     "output_type": "stream",
     "text": [
      "c:\\Users\\sumeruinfra\\AppData\\Local\\Programs\\Python\\Python310\\lib\\site-packages\\pandas\\io\\sql.py:758: UserWarning:\n",
      "\n",
      "pandas only support SQLAlchemy connectable(engine/connection) ordatabase string URI or sqlite3 DBAPI2 connectionother DBAPI2 objects are not tested, please consider using SQLAlchemy\n",
      "\n"
     ]
    },
    {
     "name": "stdout",
     "output_type": "stream",
     "text": [
      "MySQL connection is closed Now\n"
     ]
    }
   ],
   "source": [
    "sast_tn = etl('sast_results')\n",
    "dast_tn = etl('dast_results')"
   ]
  },
  {
   "cell_type": "code",
   "execution_count": null,
   "metadata": {},
   "outputs": [
    {
     "data": {
      "text/plain": [
       "4104"
      ]
     },
     "execution_count": 8,
     "metadata": {},
     "output_type": "execute_result"
    }
   ],
   "source": [
    "# Machine Learning Model Preicated False Positive\n",
    "sast_tool_fp = sast_tn.false_positive.value_counts()\n",
    "dast_tool_fp = dast_tn.false_positive.value_counts()\n",
    "sast_fp_0=sast_tool_fp[0.0]\n",
    "dast_fp_0 = dast_tool_fp[0.0]\n",
    "dast_fp_0"
   ]
  },
  {
   "cell_type": "code",
   "execution_count": null,
   "metadata": {},
   "outputs": [
    {
     "data": {
      "text/plain": [
       "670"
      ]
     },
     "execution_count": 9,
     "metadata": {},
     "output_type": "execute_result"
    }
   ],
   "source": [
    "sast_fp_0"
   ]
  },
  {
   "cell_type": "code",
   "execution_count": null,
   "metadata": {},
   "outputs": [],
   "source": [
    "total_false_postive = {'Total No of False Postive deteted by AI/ML':[\"False Postive\",'True Postive'],\n",
    "                \"Count False Postive\":[sast_tool_fp[1.0], dast_fp_0+sast_fp_0]\n",
    "                }"
   ]
  },
  {
   "cell_type": "code",
   "execution_count": null,
   "metadata": {},
   "outputs": [
    {
     "data": {
      "text/plain": [
       "{'Total No of False Postive deteted by AI/ML': ['False Postive',\n",
       "  'True Postive'],\n",
       " 'Count False Postive': [639, 4774]}"
      ]
     },
     "execution_count": 11,
     "metadata": {},
     "output_type": "execute_result"
    }
   ],
   "source": [
    "total_false_postive"
   ]
  },
  {
   "cell_type": "markdown",
   "metadata": {},
   "source": [
    "- 4774 True Postive\n",
    "- 639  False Postive"
   ]
  },
  {
   "cell_type": "code",
   "execution_count": null,
   "metadata": {},
   "outputs": [
    {
     "name": "stdout",
     "output_type": "stream",
     "text": [
      "Total No Of Results Processed by AI/ML API is:- 5413\n",
      "Total No of False Postive Deteeced by AI/ML API:- 639\n",
      "Total No of True Postive Deteeced by AI/ML API:- 4774\n"
     ]
    },
    {
     "data": {
      "application/vnd.plotly.v1+json": {
       "config": {
        "plotlyServerURL": "https://plot.ly"
       },
       "data": [
        {
         "domain": {
          "x": [
           0,
           1
          ],
          "y": [
           0,
           1
          ]
         },
         "hole": 0.7,
         "hovertemplate": "Total No of False Postive deteted by AI/ML=%{label}<br>Count False Postive=%{value}<extra></extra>",
         "labels": [
          "False Postive",
          "True Postive"
         ],
         "legendgroup": "",
         "name": "",
         "showlegend": true,
         "type": "pie",
         "values": [
          639,
          4774
         ]
        }
       ],
       "layout": {
        "legend": {
         "tracegroupgap": 0
        },
        "piecolorway": [
         "rgb(252, 222, 156)",
         "rgb(250, 164, 118)",
         "rgb(240, 116, 110)",
         "rgb(227, 79, 111)",
         "rgb(220, 57, 119)",
         "rgb(185, 37, 122)",
         "rgb(124, 29, 111)"
        ],
        "template": {
         "data": {
          "bar": [
           {
            "error_x": {
             "color": "#2a3f5f"
            },
            "error_y": {
             "color": "#2a3f5f"
            },
            "marker": {
             "line": {
              "color": "#E5ECF6",
              "width": 0.5
             },
             "pattern": {
              "fillmode": "overlay",
              "size": 10,
              "solidity": 0.2
             }
            },
            "type": "bar"
           }
          ],
          "barpolar": [
           {
            "marker": {
             "line": {
              "color": "#E5ECF6",
              "width": 0.5
             },
             "pattern": {
              "fillmode": "overlay",
              "size": 10,
              "solidity": 0.2
             }
            },
            "type": "barpolar"
           }
          ],
          "carpet": [
           {
            "aaxis": {
             "endlinecolor": "#2a3f5f",
             "gridcolor": "white",
             "linecolor": "white",
             "minorgridcolor": "white",
             "startlinecolor": "#2a3f5f"
            },
            "baxis": {
             "endlinecolor": "#2a3f5f",
             "gridcolor": "white",
             "linecolor": "white",
             "minorgridcolor": "white",
             "startlinecolor": "#2a3f5f"
            },
            "type": "carpet"
           }
          ],
          "choropleth": [
           {
            "colorbar": {
             "outlinewidth": 0,
             "ticks": ""
            },
            "type": "choropleth"
           }
          ],
          "contour": [
           {
            "colorbar": {
             "outlinewidth": 0,
             "ticks": ""
            },
            "colorscale": [
             [
              0,
              "#0d0887"
             ],
             [
              0.1111111111111111,
              "#46039f"
             ],
             [
              0.2222222222222222,
              "#7201a8"
             ],
             [
              0.3333333333333333,
              "#9c179e"
             ],
             [
              0.4444444444444444,
              "#bd3786"
             ],
             [
              0.5555555555555556,
              "#d8576b"
             ],
             [
              0.6666666666666666,
              "#ed7953"
             ],
             [
              0.7777777777777778,
              "#fb9f3a"
             ],
             [
              0.8888888888888888,
              "#fdca26"
             ],
             [
              1,
              "#f0f921"
             ]
            ],
            "type": "contour"
           }
          ],
          "contourcarpet": [
           {
            "colorbar": {
             "outlinewidth": 0,
             "ticks": ""
            },
            "type": "contourcarpet"
           }
          ],
          "heatmap": [
           {
            "colorbar": {
             "outlinewidth": 0,
             "ticks": ""
            },
            "colorscale": [
             [
              0,
              "#0d0887"
             ],
             [
              0.1111111111111111,
              "#46039f"
             ],
             [
              0.2222222222222222,
              "#7201a8"
             ],
             [
              0.3333333333333333,
              "#9c179e"
             ],
             [
              0.4444444444444444,
              "#bd3786"
             ],
             [
              0.5555555555555556,
              "#d8576b"
             ],
             [
              0.6666666666666666,
              "#ed7953"
             ],
             [
              0.7777777777777778,
              "#fb9f3a"
             ],
             [
              0.8888888888888888,
              "#fdca26"
             ],
             [
              1,
              "#f0f921"
             ]
            ],
            "type": "heatmap"
           }
          ],
          "heatmapgl": [
           {
            "colorbar": {
             "outlinewidth": 0,
             "ticks": ""
            },
            "colorscale": [
             [
              0,
              "#0d0887"
             ],
             [
              0.1111111111111111,
              "#46039f"
             ],
             [
              0.2222222222222222,
              "#7201a8"
             ],
             [
              0.3333333333333333,
              "#9c179e"
             ],
             [
              0.4444444444444444,
              "#bd3786"
             ],
             [
              0.5555555555555556,
              "#d8576b"
             ],
             [
              0.6666666666666666,
              "#ed7953"
             ],
             [
              0.7777777777777778,
              "#fb9f3a"
             ],
             [
              0.8888888888888888,
              "#fdca26"
             ],
             [
              1,
              "#f0f921"
             ]
            ],
            "type": "heatmapgl"
           }
          ],
          "histogram": [
           {
            "marker": {
             "pattern": {
              "fillmode": "overlay",
              "size": 10,
              "solidity": 0.2
             }
            },
            "type": "histogram"
           }
          ],
          "histogram2d": [
           {
            "colorbar": {
             "outlinewidth": 0,
             "ticks": ""
            },
            "colorscale": [
             [
              0,
              "#0d0887"
             ],
             [
              0.1111111111111111,
              "#46039f"
             ],
             [
              0.2222222222222222,
              "#7201a8"
             ],
             [
              0.3333333333333333,
              "#9c179e"
             ],
             [
              0.4444444444444444,
              "#bd3786"
             ],
             [
              0.5555555555555556,
              "#d8576b"
             ],
             [
              0.6666666666666666,
              "#ed7953"
             ],
             [
              0.7777777777777778,
              "#fb9f3a"
             ],
             [
              0.8888888888888888,
              "#fdca26"
             ],
             [
              1,
              "#f0f921"
             ]
            ],
            "type": "histogram2d"
           }
          ],
          "histogram2dcontour": [
           {
            "colorbar": {
             "outlinewidth": 0,
             "ticks": ""
            },
            "colorscale": [
             [
              0,
              "#0d0887"
             ],
             [
              0.1111111111111111,
              "#46039f"
             ],
             [
              0.2222222222222222,
              "#7201a8"
             ],
             [
              0.3333333333333333,
              "#9c179e"
             ],
             [
              0.4444444444444444,
              "#bd3786"
             ],
             [
              0.5555555555555556,
              "#d8576b"
             ],
             [
              0.6666666666666666,
              "#ed7953"
             ],
             [
              0.7777777777777778,
              "#fb9f3a"
             ],
             [
              0.8888888888888888,
              "#fdca26"
             ],
             [
              1,
              "#f0f921"
             ]
            ],
            "type": "histogram2dcontour"
           }
          ],
          "mesh3d": [
           {
            "colorbar": {
             "outlinewidth": 0,
             "ticks": ""
            },
            "type": "mesh3d"
           }
          ],
          "parcoords": [
           {
            "line": {
             "colorbar": {
              "outlinewidth": 0,
              "ticks": ""
             }
            },
            "type": "parcoords"
           }
          ],
          "pie": [
           {
            "automargin": true,
            "type": "pie"
           }
          ],
          "scatter": [
           {
            "fillpattern": {
             "fillmode": "overlay",
             "size": 10,
             "solidity": 0.2
            },
            "type": "scatter"
           }
          ],
          "scatter3d": [
           {
            "line": {
             "colorbar": {
              "outlinewidth": 0,
              "ticks": ""
             }
            },
            "marker": {
             "colorbar": {
              "outlinewidth": 0,
              "ticks": ""
             }
            },
            "type": "scatter3d"
           }
          ],
          "scattercarpet": [
           {
            "marker": {
             "colorbar": {
              "outlinewidth": 0,
              "ticks": ""
             }
            },
            "type": "scattercarpet"
           }
          ],
          "scattergeo": [
           {
            "marker": {
             "colorbar": {
              "outlinewidth": 0,
              "ticks": ""
             }
            },
            "type": "scattergeo"
           }
          ],
          "scattergl": [
           {
            "marker": {
             "colorbar": {
              "outlinewidth": 0,
              "ticks": ""
             }
            },
            "type": "scattergl"
           }
          ],
          "scattermapbox": [
           {
            "marker": {
             "colorbar": {
              "outlinewidth": 0,
              "ticks": ""
             }
            },
            "type": "scattermapbox"
           }
          ],
          "scatterpolar": [
           {
            "marker": {
             "colorbar": {
              "outlinewidth": 0,
              "ticks": ""
             }
            },
            "type": "scatterpolar"
           }
          ],
          "scatterpolargl": [
           {
            "marker": {
             "colorbar": {
              "outlinewidth": 0,
              "ticks": ""
             }
            },
            "type": "scatterpolargl"
           }
          ],
          "scatterternary": [
           {
            "marker": {
             "colorbar": {
              "outlinewidth": 0,
              "ticks": ""
             }
            },
            "type": "scatterternary"
           }
          ],
          "surface": [
           {
            "colorbar": {
             "outlinewidth": 0,
             "ticks": ""
            },
            "colorscale": [
             [
              0,
              "#0d0887"
             ],
             [
              0.1111111111111111,
              "#46039f"
             ],
             [
              0.2222222222222222,
              "#7201a8"
             ],
             [
              0.3333333333333333,
              "#9c179e"
             ],
             [
              0.4444444444444444,
              "#bd3786"
             ],
             [
              0.5555555555555556,
              "#d8576b"
             ],
             [
              0.6666666666666666,
              "#ed7953"
             ],
             [
              0.7777777777777778,
              "#fb9f3a"
             ],
             [
              0.8888888888888888,
              "#fdca26"
             ],
             [
              1,
              "#f0f921"
             ]
            ],
            "type": "surface"
           }
          ],
          "table": [
           {
            "cells": {
             "fill": {
              "color": "#EBF0F8"
             },
             "line": {
              "color": "white"
             }
            },
            "header": {
             "fill": {
              "color": "#C8D4E3"
             },
             "line": {
              "color": "white"
             }
            },
            "type": "table"
           }
          ]
         },
         "layout": {
          "annotationdefaults": {
           "arrowcolor": "#2a3f5f",
           "arrowhead": 0,
           "arrowwidth": 1
          },
          "autotypenumbers": "strict",
          "coloraxis": {
           "colorbar": {
            "outlinewidth": 0,
            "ticks": ""
           }
          },
          "colorscale": {
           "diverging": [
            [
             0,
             "#8e0152"
            ],
            [
             0.1,
             "#c51b7d"
            ],
            [
             0.2,
             "#de77ae"
            ],
            [
             0.3,
             "#f1b6da"
            ],
            [
             0.4,
             "#fde0ef"
            ],
            [
             0.5,
             "#f7f7f7"
            ],
            [
             0.6,
             "#e6f5d0"
            ],
            [
             0.7,
             "#b8e186"
            ],
            [
             0.8,
             "#7fbc41"
            ],
            [
             0.9,
             "#4d9221"
            ],
            [
             1,
             "#276419"
            ]
           ],
           "sequential": [
            [
             0,
             "#0d0887"
            ],
            [
             0.1111111111111111,
             "#46039f"
            ],
            [
             0.2222222222222222,
             "#7201a8"
            ],
            [
             0.3333333333333333,
             "#9c179e"
            ],
            [
             0.4444444444444444,
             "#bd3786"
            ],
            [
             0.5555555555555556,
             "#d8576b"
            ],
            [
             0.6666666666666666,
             "#ed7953"
            ],
            [
             0.7777777777777778,
             "#fb9f3a"
            ],
            [
             0.8888888888888888,
             "#fdca26"
            ],
            [
             1,
             "#f0f921"
            ]
           ],
           "sequentialminus": [
            [
             0,
             "#0d0887"
            ],
            [
             0.1111111111111111,
             "#46039f"
            ],
            [
             0.2222222222222222,
             "#7201a8"
            ],
            [
             0.3333333333333333,
             "#9c179e"
            ],
            [
             0.4444444444444444,
             "#bd3786"
            ],
            [
             0.5555555555555556,
             "#d8576b"
            ],
            [
             0.6666666666666666,
             "#ed7953"
            ],
            [
             0.7777777777777778,
             "#fb9f3a"
            ],
            [
             0.8888888888888888,
             "#fdca26"
            ],
            [
             1,
             "#f0f921"
            ]
           ]
          },
          "colorway": [
           "#636efa",
           "#EF553B",
           "#00cc96",
           "#ab63fa",
           "#FFA15A",
           "#19d3f3",
           "#FF6692",
           "#B6E880",
           "#FF97FF",
           "#FECB52"
          ],
          "font": {
           "color": "#2a3f5f"
          },
          "geo": {
           "bgcolor": "white",
           "lakecolor": "white",
           "landcolor": "#E5ECF6",
           "showlakes": true,
           "showland": true,
           "subunitcolor": "white"
          },
          "hoverlabel": {
           "align": "left"
          },
          "hovermode": "closest",
          "mapbox": {
           "style": "light"
          },
          "paper_bgcolor": "white",
          "plot_bgcolor": "#E5ECF6",
          "polar": {
           "angularaxis": {
            "gridcolor": "white",
            "linecolor": "white",
            "ticks": ""
           },
           "bgcolor": "#E5ECF6",
           "radialaxis": {
            "gridcolor": "white",
            "linecolor": "white",
            "ticks": ""
           }
          },
          "scene": {
           "xaxis": {
            "backgroundcolor": "#E5ECF6",
            "gridcolor": "white",
            "gridwidth": 2,
            "linecolor": "white",
            "showbackground": true,
            "ticks": "",
            "zerolinecolor": "white"
           },
           "yaxis": {
            "backgroundcolor": "#E5ECF6",
            "gridcolor": "white",
            "gridwidth": 2,
            "linecolor": "white",
            "showbackground": true,
            "ticks": "",
            "zerolinecolor": "white"
           },
           "zaxis": {
            "backgroundcolor": "#E5ECF6",
            "gridcolor": "white",
            "gridwidth": 2,
            "linecolor": "white",
            "showbackground": true,
            "ticks": "",
            "zerolinecolor": "white"
           }
          },
          "shapedefaults": {
           "line": {
            "color": "#2a3f5f"
           }
          },
          "ternary": {
           "aaxis": {
            "gridcolor": "white",
            "linecolor": "white",
            "ticks": ""
           },
           "baxis": {
            "gridcolor": "white",
            "linecolor": "white",
            "ticks": ""
           },
           "bgcolor": "#E5ECF6",
           "caxis": {
            "gridcolor": "white",
            "linecolor": "white",
            "ticks": ""
           }
          },
          "title": {
           "x": 0.05
          },
          "xaxis": {
           "automargin": true,
           "gridcolor": "white",
           "linecolor": "white",
           "ticks": "",
           "title": {
            "standoff": 15
           },
           "zerolinecolor": "white",
           "zerolinewidth": 2
          },
          "yaxis": {
           "automargin": true,
           "gridcolor": "white",
           "linecolor": "white",
           "ticks": "",
           "title": {
            "standoff": 15
           },
           "zerolinecolor": "white",
           "zerolinewidth": 2
          }
         }
        },
        "title": {
         "text": "Total Vulnerabilities in SAST DAST Predicate by Machine Learning Model"
        }
       }
      }
     },
     "metadata": {},
     "output_type": "display_data"
    }
   ],
   "source": [
    "print('Total No Of Results Processed by AI/ML API is:- {}'.format(sum(total_false_postive['Count False Postive'])))\n",
    "print(\"Total No of False Postive Deteeced by AI/ML API:- {}\".format(total_false_postive['Count False Postive'][0]))\n",
    "print(\"Total No of True Postive Deteeced by AI/ML API:- {}\".format(total_false_postive['Count False Postive'][1]))\n",
    "px.pie(total_false_postive, \n",
    "        names='Total No of False Postive deteted by AI/ML',\n",
    "        hole=.7,    \n",
    "        color_discrete_sequence=px.colors.sequential.Sunsetdark,\n",
    "        values = 'Count False Postive', \n",
    "        title='Total Vulnerabilities in SAST DAST Predicate by Machine Learning Model')\n",
    "                                "
   ]
  },
  {
   "cell_type": "code",
   "execution_count": null,
   "metadata": {},
   "outputs": [],
   "source": [
    "bandit_false_postive = sast_tn.false_positive.value_counts()\n",
    "bandit_false_postive_count = {'False Positive':bandit_false_postive.keys(),\n",
    "                        'False Positive Count': bandit_false_postive.values\n",
    "                        }"
   ]
  },
  {
   "cell_type": "code",
   "execution_count": null,
   "metadata": {},
   "outputs": [
    {
     "data": {
      "text/plain": [
       "0.0    670\n",
       "1.0    639\n",
       "Name: false_positive, dtype: int64"
      ]
     },
     "execution_count": 17,
     "metadata": {},
     "output_type": "execute_result"
    }
   ],
   "source": [
    "bandit_false_postive"
   ]
  },
  {
   "cell_type": "code",
   "execution_count": null,
   "metadata": {},
   "outputs": [
    {
     "ename": "NameError",
     "evalue": "name 'df_bandit' is not defined",
     "output_type": "error",
     "traceback": [
      "\u001b[1;31m---------------------------------------------------------------------------\u001b[0m",
      "\u001b[1;31mNameError\u001b[0m                                 Traceback (most recent call last)",
      "\u001b[1;32md:\\Boman_ml_model\\V1\\Dashboard\\Dev_Dashboard\\data_dashboard.ipynb Cell 41'\u001b[0m in \u001b[0;36m<module>\u001b[1;34m\u001b[0m\n\u001b[1;32m----> <a href='vscode-notebook-cell:/d%3A/Boman_ml_model/V1/Dashboard/Dev_Dashboard/data_dashboard.ipynb#ch0000041?line=0'>1</a>\u001b[0m df_bandit\u001b[39m.\u001b[39mvuln_name\u001b[39m.\u001b[39mvalue_counts()\n",
      "\u001b[1;31mNameError\u001b[0m: name 'df_bandit' is not defined"
     ]
    }
   ],
   "source": [
    "sast_tn.vuln_name.value_counts()"
   ]
  },
  {
   "cell_type": "markdown",
   "metadata": {},
   "source": [
    "# Breakman"
   ]
  },
  {
   "cell_type": "code",
   "execution_count": 6,
   "metadata": {},
   "outputs": [
    {
     "name": "stdout",
     "output_type": "stream",
     "text": [
      "****************************** SAST Brakeman TOOLS ******************************\n"
     ]
    },
    {
     "name": "stderr",
     "output_type": "stream",
     "text": [
      "c:\\Users\\sumeruinfra\\AppData\\Local\\Programs\\Python\\Python310\\lib\\site-packages\\pandas\\io\\sql.py:758: UserWarning: pandas only support SQLAlchemy connectable(engine/connection) ordatabase string URI or sqlite3 DBAPI2 connectionother DBAPI2 objects are not tested, please consider using SQLAlchemy\n",
      "  warnings.warn(\n"
     ]
    },
    {
     "name": "stdout",
     "output_type": "stream",
     "text": [
      "MySQL connection is closed Now\n"
     ]
    },
    {
     "data": {
      "text/html": [
       "<div>\n",
       "<style scoped>\n",
       "    .dataframe tbody tr th:only-of-type {\n",
       "        vertical-align: middle;\n",
       "    }\n",
       "\n",
       "    .dataframe tbody tr th {\n",
       "        vertical-align: top;\n",
       "    }\n",
       "\n",
       "    .dataframe thead th {\n",
       "        text-align: right;\n",
       "    }\n",
       "</style>\n",
       "<table border=\"1\" class=\"dataframe\">\n",
       "  <thead>\n",
       "    <tr style=\"text-align: right;\">\n",
       "      <th></th>\n",
       "      <th>vuln_id</th>\n",
       "      <th>scan_details_id</th>\n",
       "      <th>scan_token</th>\n",
       "      <th>tool_name</th>\n",
       "      <th>customer_id</th>\n",
       "      <th>vuln_name</th>\n",
       "      <th>vuln_loc</th>\n",
       "      <th>affected_file</th>\n",
       "      <th>vuln_description</th>\n",
       "      <th>vuln_severity</th>\n",
       "      <th>...</th>\n",
       "      <th>tool_version</th>\n",
       "      <th>checklist</th>\n",
       "      <th>more_info</th>\n",
       "      <th>errors</th>\n",
       "      <th>tool_type</th>\n",
       "      <th>ml_status</th>\n",
       "      <th>customer_status</th>\n",
       "      <th>fixed_at</th>\n",
       "      <th>created_at</th>\n",
       "      <th>updated_at</th>\n",
       "    </tr>\n",
       "  </thead>\n",
       "  <tbody>\n",
       "    <tr>\n",
       "      <th>0</th>\n",
       "      <td>439</td>\n",
       "      <td>1</td>\n",
       "      <td>93e567c0-16e1-47b8-be38-bb2669403bb9</td>\n",
       "      <td>Brakeman</td>\n",
       "      <td>1</td>\n",
       "      <td>Remote Code Execution</td>\n",
       "      <td>6</td>\n",
       "      <td>app/controllers/password_resets_controller.rb</td>\n",
       "      <td>`Marshal.load` called with parameter value</td>\n",
       "      <td></td>\n",
       "      <td>...</td>\n",
       "      <td>5.2.1</td>\n",
       "      <td>BasicAuth,BasicAuthTimingAttack,CSRFTokenForge...</td>\n",
       "      <td>https://brakemanscanner.org/docs/warning_types...</td>\n",
       "      <td></td>\n",
       "      <td>SAST</td>\n",
       "      <td>1</td>\n",
       "      <td>0</td>\n",
       "      <td>2022-03-27 18:30:45</td>\n",
       "      <td>2022-03-01 08:47:28</td>\n",
       "      <td>2022-03-16 13:36:23</td>\n",
       "    </tr>\n",
       "    <tr>\n",
       "      <th>1</th>\n",
       "      <td>440</td>\n",
       "      <td>1</td>\n",
       "      <td>93e567c0-16e1-47b8-be38-bb2669403bb9</td>\n",
       "      <td>Brakeman</td>\n",
       "      <td>1</td>\n",
       "      <td>SQL Injection</td>\n",
       "      <td>29</td>\n",
       "      <td>app/controllers/users_controller.rb</td>\n",
       "      <td>Possible SQL injection</td>\n",
       "      <td></td>\n",
       "      <td>...</td>\n",
       "      <td>5.2.1</td>\n",
       "      <td>BasicAuth,BasicAuthTimingAttack,CSRFTokenForge...</td>\n",
       "      <td>https://brakemanscanner.org/docs/warning_types...</td>\n",
       "      <td></td>\n",
       "      <td>SAST</td>\n",
       "      <td>1</td>\n",
       "      <td>0</td>\n",
       "      <td>2022-03-27 18:30:45</td>\n",
       "      <td>2022-03-01 08:47:28</td>\n",
       "      <td>2022-03-16 13:36:25</td>\n",
       "    </tr>\n",
       "    <tr>\n",
       "      <th>2</th>\n",
       "      <td>441</td>\n",
       "      <td>1</td>\n",
       "      <td>93e567c0-16e1-47b8-be38-bb2669403bb9</td>\n",
       "      <td>Brakeman</td>\n",
       "      <td>1</td>\n",
       "      <td>SQL Injection</td>\n",
       "      <td>3</td>\n",
       "      <td>app/models/analytics.rb</td>\n",
       "      <td>Possible SQL injection</td>\n",
       "      <td></td>\n",
       "      <td>...</td>\n",
       "      <td>5.2.1</td>\n",
       "      <td>BasicAuth,BasicAuthTimingAttack,CSRFTokenForge...</td>\n",
       "      <td>https://brakemanscanner.org/docs/warning_types...</td>\n",
       "      <td></td>\n",
       "      <td>SAST</td>\n",
       "      <td>1</td>\n",
       "      <td>0</td>\n",
       "      <td>2022-03-27 18:30:45</td>\n",
       "      <td>2022-03-01 08:47:28</td>\n",
       "      <td>2022-03-16 13:36:27</td>\n",
       "    </tr>\n",
       "    <tr>\n",
       "      <th>3</th>\n",
       "      <td>442</td>\n",
       "      <td>1</td>\n",
       "      <td>93e567c0-16e1-47b8-be38-bb2669403bb9</td>\n",
       "      <td>Brakeman</td>\n",
       "      <td>1</td>\n",
       "      <td>Remote Code Execution</td>\n",
       "      <td>17</td>\n",
       "      <td>app/controllers/api/v1/mobile_controller.rb</td>\n",
       "      <td>Unsafe reflection method `constantize` called ...</td>\n",
       "      <td></td>\n",
       "      <td>...</td>\n",
       "      <td>5.2.1</td>\n",
       "      <td>BasicAuth,BasicAuthTimingAttack,CSRFTokenForge...</td>\n",
       "      <td>https://brakemanscanner.org/docs/warning_types...</td>\n",
       "      <td></td>\n",
       "      <td>SAST</td>\n",
       "      <td>1</td>\n",
       "      <td>0</td>\n",
       "      <td>2022-03-27 18:30:45</td>\n",
       "      <td>2022-03-01 08:47:28</td>\n",
       "      <td>2022-03-16 13:36:29</td>\n",
       "    </tr>\n",
       "    <tr>\n",
       "      <th>4</th>\n",
       "      <td>443</td>\n",
       "      <td>1</td>\n",
       "      <td>93e567c0-16e1-47b8-be38-bb2669403bb9</td>\n",
       "      <td>Brakeman</td>\n",
       "      <td>1</td>\n",
       "      <td>Mass Assignment</td>\n",
       "      <td>55</td>\n",
       "      <td>app/controllers/users_controller.rb</td>\n",
       "      <td>Potentially dangerous key allowed for mass ass...</td>\n",
       "      <td></td>\n",
       "      <td>...</td>\n",
       "      <td>5.2.1</td>\n",
       "      <td>BasicAuth,BasicAuthTimingAttack,CSRFTokenForge...</td>\n",
       "      <td>https://brakemanscanner.org/docs/warning_types...</td>\n",
       "      <td></td>\n",
       "      <td>SAST</td>\n",
       "      <td>1</td>\n",
       "      <td>0</td>\n",
       "      <td>2022-03-27 18:30:45</td>\n",
       "      <td>2022-03-01 08:47:28</td>\n",
       "      <td>2022-03-16 13:36:31</td>\n",
       "    </tr>\n",
       "  </tbody>\n",
       "</table>\n",
       "<p>5 rows × 27 columns</p>\n",
       "</div>"
      ],
      "text/plain": [
       "   vuln_id  scan_details_id                            scan_token tool_name  \\\n",
       "0      439                1  93e567c0-16e1-47b8-be38-bb2669403bb9  Brakeman   \n",
       "1      440                1  93e567c0-16e1-47b8-be38-bb2669403bb9  Brakeman   \n",
       "2      441                1  93e567c0-16e1-47b8-be38-bb2669403bb9  Brakeman   \n",
       "3      442                1  93e567c0-16e1-47b8-be38-bb2669403bb9  Brakeman   \n",
       "4      443                1  93e567c0-16e1-47b8-be38-bb2669403bb9  Brakeman   \n",
       "\n",
       "   customer_id              vuln_name vuln_loc  \\\n",
       "0            1  Remote Code Execution        6   \n",
       "1            1          SQL Injection       29   \n",
       "2            1          SQL Injection        3   \n",
       "3            1  Remote Code Execution       17   \n",
       "4            1        Mass Assignment       55   \n",
       "\n",
       "                                   affected_file  \\\n",
       "0  app/controllers/password_resets_controller.rb   \n",
       "1            app/controllers/users_controller.rb   \n",
       "2                        app/models/analytics.rb   \n",
       "3    app/controllers/api/v1/mobile_controller.rb   \n",
       "4            app/controllers/users_controller.rb   \n",
       "\n",
       "                                    vuln_description vuln_severity  ...  \\\n",
       "0         `Marshal.load` called with parameter value                ...   \n",
       "1                             Possible SQL injection                ...   \n",
       "2                             Possible SQL injection                ...   \n",
       "3  Unsafe reflection method `constantize` called ...                ...   \n",
       "4  Potentially dangerous key allowed for mass ass...                ...   \n",
       "\n",
       "  tool_version                                          checklist  \\\n",
       "0        5.2.1  BasicAuth,BasicAuthTimingAttack,CSRFTokenForge...   \n",
       "1        5.2.1  BasicAuth,BasicAuthTimingAttack,CSRFTokenForge...   \n",
       "2        5.2.1  BasicAuth,BasicAuthTimingAttack,CSRFTokenForge...   \n",
       "3        5.2.1  BasicAuth,BasicAuthTimingAttack,CSRFTokenForge...   \n",
       "4        5.2.1  BasicAuth,BasicAuthTimingAttack,CSRFTokenForge...   \n",
       "\n",
       "                                           more_info  errors tool_type  \\\n",
       "0  https://brakemanscanner.org/docs/warning_types...              SAST   \n",
       "1  https://brakemanscanner.org/docs/warning_types...              SAST   \n",
       "2  https://brakemanscanner.org/docs/warning_types...              SAST   \n",
       "3  https://brakemanscanner.org/docs/warning_types...              SAST   \n",
       "4  https://brakemanscanner.org/docs/warning_types...              SAST   \n",
       "\n",
       "  ml_status customer_status            fixed_at          created_at  \\\n",
       "0         1               0 2022-03-27 18:30:45 2022-03-01 08:47:28   \n",
       "1         1               0 2022-03-27 18:30:45 2022-03-01 08:47:28   \n",
       "2         1               0 2022-03-27 18:30:45 2022-03-01 08:47:28   \n",
       "3         1               0 2022-03-27 18:30:45 2022-03-01 08:47:28   \n",
       "4         1               0 2022-03-27 18:30:45 2022-03-01 08:47:28   \n",
       "\n",
       "           updated_at  \n",
       "0 2022-03-16 13:36:23  \n",
       "1 2022-03-16 13:36:25  \n",
       "2 2022-03-16 13:36:27  \n",
       "3 2022-03-16 13:36:29  \n",
       "4 2022-03-16 13:36:31  \n",
       "\n",
       "[5 rows x 27 columns]"
      ]
     },
     "execution_count": 6,
     "metadata": {},
     "output_type": "execute_result"
    }
   ],
   "source": [
    "# Brakeman\n",
    "print('*'*30,'SAST Brakeman TOOLS','*'*30)\n",
    "df_brakeman= data_featching_from_db('sast_results','Brakeman')\n",
    "df_brakeman.head()"
   ]
  },
  {
   "cell_type": "code",
   "execution_count": 7,
   "metadata": {},
   "outputs": [
    {
     "data": {
      "text/plain": [
       "936"
      ]
     },
     "execution_count": 7,
     "metadata": {},
     "output_type": "execute_result"
    }
   ],
   "source": [
    "\n",
    "brakeman_no_of_scan = df_brakeman.scan_token.count()\n",
    "brakeman_no_of_scan"
   ]
  },
  {
   "cell_type": "code",
   "execution_count": 8,
   "metadata": {},
   "outputs": [
    {
     "data": {
      "text/plain": [
       "{'Vulnerabilities Name': Index(['Remote Code Execution', 'SQL Injection', 'Mass Assignment',\n",
       "        'Cross-Site Scripting', 'Session Setting', 'Unmaintained Dependency',\n",
       "        'Dangerous Send', 'Format Validation', 'Command Injection',\n",
       "        'File Access', 'Cross-Site Request Forgery'],\n",
       "       dtype='object'),\n",
       " 'Tool Count': array([208, 104, 104, 104, 104,  52,  52,  52,  52,  52,  52], dtype=int64)}"
      ]
     },
     "execution_count": 8,
     "metadata": {},
     "output_type": "execute_result"
    }
   ],
   "source": [
    "\n",
    "#  Vulnerabilities Names Count\n",
    "brakeman_high_count = df_brakeman.vuln_confidence.str.lower().value_counts()\n",
    "brakeman_vuln_names = df_brakeman.vuln_name.value_counts()\n",
    "brakeman_vuln_name_count = {'Vulnerabilities Name':brakeman_vuln_names.keys(),\n",
    "                        'Tool Count':brakeman_vuln_names.values}\n",
    "brakeman_vuln_name_count"
   ]
  },
  {
   "cell_type": "code",
   "execution_count": 15,
   "metadata": {},
   "outputs": [
    {
     "name": "stdout",
     "output_type": "stream",
     "text": [
      "    936\n",
      "Name: vuln_severity, dtype: int64\n"
     ]
    },
    {
     "data": {
      "text/plain": [
       "{'Vulnerabilities Severity': Index([''], dtype='object'),\n",
       " 'Vulnerabilities Count': array([936], dtype=int64)}"
      ]
     },
     "execution_count": 15,
     "metadata": {},
     "output_type": "execute_result"
    }
   ],
   "source": [
    "\n",
    "# Vulnerabilities Severity_count\n",
    "brakeman_vuln_severity = df_brakeman.vuln_severity.value_counts()\n",
    "print(brakeman_vuln_severity)\n",
    "brakeman_vuln_severity_count = {'Vulnerabilities Severity':brakeman_vuln_severity.keys(),\n",
    "                        'Vulnerabilities Count': brakeman_vuln_severity.values\n",
    "                        }\n",
    "brakeman_vuln_severity_count"
   ]
  },
  {
   "cell_type": "code",
   "execution_count": 12,
   "metadata": {},
   "outputs": [
    {
     "data": {
      "text/plain": [
       "dict_keys(['Vulnerabilities Created', 'Vulnerabilities Count'])"
      ]
     },
     "execution_count": 12,
     "metadata": {},
     "output_type": "execute_result"
    }
   ],
   "source": [
    "# Created Date\n",
    "bandit_created_date ={'Vulnerabilities Created':df_brakeman.created_at,\n",
    "                      'Vulnerabilities Count':df_brakeman.vuln_id\n",
    "                        }\n",
    "bandit_created_date.keys()"
   ]
  },
  {
   "cell_type": "code",
   "execution_count": 17,
   "metadata": {},
   "outputs": [
    {
     "data": {
      "text/plain": [
       "{'Vulnerabilities Confidence': Index(['High', 'Medium'], dtype='object'),\n",
       " 'Vulnerabilities Count': array([615, 321], dtype=int64)}"
      ]
     },
     "execution_count": 17,
     "metadata": {},
     "output_type": "execute_result"
    }
   ],
   "source": [
    "\n",
    "# Vulnerabilities Confidence Count\n",
    "brakeman_vuln_confidence = df_brakeman.vuln_confidence.value_counts()\n",
    "brakeman_vuln_confidence_count = {'Vulnerabilities Confidence':brakeman_vuln_confidence.keys(),\n",
    "                'Vulnerabilities Count': brakeman_vuln_confidence.values\n",
    "}\n",
    "brakeman_vuln_confidence_count"
   ]
  },
  {
   "cell_type": "code",
   "execution_count": 18,
   "metadata": {},
   "outputs": [
    {
     "data": {
      "text/plain": [
       "{'False Positive': Float64Index([0.0, 1.0], dtype='float64'),\n",
       " 'False Positive Count': array([510, 408], dtype=int64)}"
      ]
     },
     "execution_count": 18,
     "metadata": {},
     "output_type": "execute_result"
    }
   ],
   "source": [
    "# False Postive Data \n",
    "brakeman_false_postive = df_brakeman['false_positive'].value_counts()\n",
    "brakeman_false_postive_count = {'False Positive':brakeman_false_postive.keys(),\n",
    "                'False Positive Count': brakeman_false_postive.values\n",
    "                }\n",
    "brakeman_false_postive_count"
   ]
  },
  {
   "cell_type": "code",
   "execution_count": 19,
   "metadata": {},
   "outputs": [
    {
     "name": "stderr",
     "output_type": "stream",
     "text": [
      "c:\\Users\\sumeruinfra\\AppData\\Local\\Programs\\Python\\Python310\\lib\\site-packages\\pandas\\io\\sql.py:758: UserWarning: pandas only support SQLAlchemy connectable(engine/connection) ordatabase string URI or sqlite3 DBAPI2 connectionother DBAPI2 objects are not tested, please consider using SQLAlchemy\n",
      "  warnings.warn(\n"
     ]
    },
    {
     "name": "stdout",
     "output_type": "stream",
     "text": [
      "MySQL connection is closed Now\n"
     ]
    },
    {
     "data": {
      "text/plain": [
       "Brakeman            936\n",
       "Bandit              389\n",
       "PHP Code Sniffer     68\n",
       "Njsscan               2\n",
       "Name: tool_name, dtype: int64"
      ]
     },
     "execution_count": 19,
     "metadata": {},
     "output_type": "execute_result"
    }
   ],
   "source": [
    "sast_tn = etl('sast_results')\n",
    "sast_tn.tool_name.value_counts()"
   ]
  },
  {
   "cell_type": "markdown",
   "metadata": {},
   "source": [
    "# PHP"
   ]
  },
  {
   "cell_type": "code",
   "execution_count": 21,
   "metadata": {},
   "outputs": [
    {
     "name": "stderr",
     "output_type": "stream",
     "text": [
      "c:\\Users\\sumeruinfra\\AppData\\Local\\Programs\\Python\\Python310\\lib\\site-packages\\pandas\\io\\sql.py:758: UserWarning: pandas only support SQLAlchemy connectable(engine/connection) ordatabase string URI or sqlite3 DBAPI2 connectionother DBAPI2 objects are not tested, please consider using SQLAlchemy\n",
      "  warnings.warn(\n"
     ]
    },
    {
     "name": "stdout",
     "output_type": "stream",
     "text": [
      "MySQL connection is closed Now\n"
     ]
    }
   ],
   "source": [
    "df_php = data_featching_from_db('sast_results','PHP Code Sniffer')"
   ]
  },
  {
   "cell_type": "code",
   "execution_count": 25,
   "metadata": {},
   "outputs": [
    {
     "name": "stdout",
     "output_type": "stream",
     "text": [
      "Generic.WhiteSpace.DisallowTabIndent.TabsUsed                   6\n",
      "PEAR.Commenting.FileComment.Missing                             5\n",
      "Generic.Files.LineLength.TooLong                                5\n",
      "PEAR.Functions.FunctionCallSignature.ContentAfterOpenBracket    5\n",
      "PEAR.Functions.FunctionCallSignature.CloseBracketLine           5\n",
      "Name: vuln_name, dtype: int64\n"
     ]
    }
   ],
   "source": [
    "php_no_of_scan = df_php.scan_token.count()\n",
    "\n",
    "#  Vulnerabilities Names Count\n",
    "brakeman_high_count = df_php.vuln_confidence.str.lower().value_counts()\n",
    "php_vuln_names = df_php.vuln_name.value_counts()\n",
    "php_vuln_name_count = {'Vulnerabilities Name':php_vuln_names.keys(),\n",
    "                'Tool Count':php_vuln_names.values}\n",
    "print(php_vuln_names[0:5])"
   ]
  },
  {
   "cell_type": "code",
   "execution_count": 26,
   "metadata": {},
   "outputs": [
    {
     "name": "stdout",
     "output_type": "stream",
     "text": [
      "5    68\n",
      "Name: vuln_severity, dtype: int64\n"
     ]
    }
   ],
   "source": [
    "\n",
    "# Vulnerabilities Severity_count\n",
    "php_vuln_severity = df_php.vuln_severity.value_counts()\n",
    "php_vuln_severity_count = {'Vulnerabilities Severity': php_vuln_severity.keys(),\n",
    "                'Vulnerabilities Count': php_vuln_severity.values\n",
    "                }\n",
    "print(php_vuln_severity)"
   ]
  },
  {
   "cell_type": "code",
   "execution_count": 31,
   "metadata": {},
   "outputs": [],
   "source": [
    "\n",
    "# Created Date\n",
    "php_created_date ={'Vulnerabilities Created':df_php.created_at,\n",
    "                'Vulnerabilities Count':df_php.vuln_id\n",
    "                }"
   ]
  },
  {
   "cell_type": "code",
   "execution_count": 32,
   "metadata": {},
   "outputs": [
    {
     "data": {
      "text/plain": [
       "Series([], Name: vuln_confidence, dtype: int64)"
      ]
     },
     "execution_count": 32,
     "metadata": {},
     "output_type": "execute_result"
    }
   ],
   "source": [
    "# Vulnerabilities Confidence Count\n",
    "php_vuln_confidence = df_php.vuln_confidence.value_counts()\n",
    "php_vuln_confidence_count = {'Vulnerabilities Confidence':php_vuln_confidence.keys(),\n",
    "        'Vulnerabilities Count': php_vuln_confidence.values\n",
    "        }\n",
    "php_vuln_confidence"
   ]
  },
  {
   "cell_type": "code",
   "execution_count": 33,
   "metadata": {},
   "outputs": [
    {
     "data": {
      "text/plain": [
       "Series([], Name: false_positive, dtype: int64)"
      ]
     },
     "execution_count": 33,
     "metadata": {},
     "output_type": "execute_result"
    }
   ],
   "source": [
    "# False Postive Data \n",
    "php_false_postive = df_php['false_positive'].value_counts()\n",
    "php_false_postive_count = {'False Positive':php_false_postive.keys(),\n",
    "        'False Positive Count': php_false_postive.values\n",
    "        }\n",
    "php_false_postive"
   ]
  },
  {
   "cell_type": "markdown",
   "metadata": {},
   "source": [
    "## Zap"
   ]
  },
  {
   "cell_type": "code",
   "execution_count": 4,
   "metadata": {},
   "outputs": [
    {
     "name": "stderr",
     "output_type": "stream",
     "text": [
      "c:\\Users\\sumeruinfra\\AppData\\Local\\Programs\\Python\\Python310\\lib\\site-packages\\pandas\\io\\sql.py:758: UserWarning: pandas only support SQLAlchemy connectable(engine/connection) ordatabase string URI or sqlite3 DBAPI2 connectionother DBAPI2 objects are not tested, please consider using SQLAlchemy\n",
      "  warnings.warn(\n"
     ]
    },
    {
     "name": "stdout",
     "output_type": "stream",
     "text": [
      "MySQL connection is closed Now\n"
     ]
    }
   ],
   "source": [
    "df_zap = etl('dast_results')\n"
   ]
  },
  {
   "cell_type": "code",
   "execution_count": 5,
   "metadata": {},
   "outputs": [
    {
     "data": {
      "text/html": [
       "<div>\n",
       "<style scoped>\n",
       "    .dataframe tbody tr th:only-of-type {\n",
       "        vertical-align: middle;\n",
       "    }\n",
       "\n",
       "    .dataframe tbody tr th {\n",
       "        vertical-align: top;\n",
       "    }\n",
       "\n",
       "    .dataframe thead th {\n",
       "        text-align: right;\n",
       "    }\n",
       "</style>\n",
       "<table border=\"1\" class=\"dataframe\">\n",
       "  <thead>\n",
       "    <tr style=\"text-align: right;\">\n",
       "      <th></th>\n",
       "      <th>vuln_id</th>\n",
       "      <th>scan_details_id</th>\n",
       "      <th>scan_token</th>\n",
       "      <th>tool_name</th>\n",
       "      <th>customer_id</th>\n",
       "      <th>vuln_name</th>\n",
       "      <th>host_name</th>\n",
       "      <th>ssl_enabled</th>\n",
       "      <th>plugin_id</th>\n",
       "      <th>risk_code</th>\n",
       "      <th>...</th>\n",
       "      <th>port</th>\n",
       "      <th>method</th>\n",
       "      <th>more_info</th>\n",
       "      <th>tool_type</th>\n",
       "      <th>customer_status</th>\n",
       "      <th>fixed_at</th>\n",
       "      <th>false_positive</th>\n",
       "      <th>ml_status</th>\n",
       "      <th>created_at</th>\n",
       "      <th>updated_at</th>\n",
       "    </tr>\n",
       "  </thead>\n",
       "  <tbody>\n",
       "    <tr>\n",
       "      <th>0</th>\n",
       "      <td>116</td>\n",
       "      <td>1</td>\n",
       "      <td>e9967072-6f4a-4fb3-8066-c261e973266a</td>\n",
       "      <td>OWASP Full Scan</td>\n",
       "      <td>1</td>\n",
       "      <td>Content Security Policy (CSP) Header Not Set</td>\n",
       "      <td>demo.testfire.net</td>\n",
       "      <td>false</td>\n",
       "      <td>10038</td>\n",
       "      <td>2</td>\n",
       "      <td>...</td>\n",
       "      <td>80</td>\n",
       "      <td>GET</td>\n",
       "      <td></td>\n",
       "      <td>DAST</td>\n",
       "      <td>0</td>\n",
       "      <td>2022-03-27 18:30:59</td>\n",
       "      <td>0.0</td>\n",
       "      <td>1</td>\n",
       "      <td>2022-03-01 18:47:08</td>\n",
       "      <td>2022-05-25 04:59:00</td>\n",
       "    </tr>\n",
       "    <tr>\n",
       "      <th>1</th>\n",
       "      <td>117</td>\n",
       "      <td>1</td>\n",
       "      <td>e9967072-6f4a-4fb3-8066-c261e973266a</td>\n",
       "      <td>OWASP Full Scan</td>\n",
       "      <td>1</td>\n",
       "      <td>Content Security Policy (CSP) Header Not Set</td>\n",
       "      <td>demo.testfire.net</td>\n",
       "      <td>false</td>\n",
       "      <td>10038</td>\n",
       "      <td>2</td>\n",
       "      <td>...</td>\n",
       "      <td>80</td>\n",
       "      <td>GET</td>\n",
       "      <td></td>\n",
       "      <td>DAST</td>\n",
       "      <td>0</td>\n",
       "      <td>2022-03-27 18:30:59</td>\n",
       "      <td>0.0</td>\n",
       "      <td>1</td>\n",
       "      <td>2022-03-01 18:47:08</td>\n",
       "      <td>2022-05-25 04:59:00</td>\n",
       "    </tr>\n",
       "    <tr>\n",
       "      <th>2</th>\n",
       "      <td>118</td>\n",
       "      <td>1</td>\n",
       "      <td>e9967072-6f4a-4fb3-8066-c261e973266a</td>\n",
       "      <td>OWASP Full Scan</td>\n",
       "      <td>1</td>\n",
       "      <td>Content Security Policy (CSP) Header Not Set</td>\n",
       "      <td>demo.testfire.net</td>\n",
       "      <td>false</td>\n",
       "      <td>10038</td>\n",
       "      <td>2</td>\n",
       "      <td>...</td>\n",
       "      <td>80</td>\n",
       "      <td>GET</td>\n",
       "      <td></td>\n",
       "      <td>DAST</td>\n",
       "      <td>0</td>\n",
       "      <td>2022-03-27 18:30:59</td>\n",
       "      <td>0.0</td>\n",
       "      <td>1</td>\n",
       "      <td>2022-03-01 18:47:08</td>\n",
       "      <td>2022-05-25 04:59:00</td>\n",
       "    </tr>\n",
       "    <tr>\n",
       "      <th>3</th>\n",
       "      <td>119</td>\n",
       "      <td>1</td>\n",
       "      <td>e9967072-6f4a-4fb3-8066-c261e973266a</td>\n",
       "      <td>OWASP Full Scan</td>\n",
       "      <td>1</td>\n",
       "      <td>Content Security Policy (CSP) Header Not Set</td>\n",
       "      <td>demo.testfire.net</td>\n",
       "      <td>false</td>\n",
       "      <td>10038</td>\n",
       "      <td>2</td>\n",
       "      <td>...</td>\n",
       "      <td>80</td>\n",
       "      <td>GET</td>\n",
       "      <td></td>\n",
       "      <td>DAST</td>\n",
       "      <td>0</td>\n",
       "      <td>2022-03-27 18:30:59</td>\n",
       "      <td>0.0</td>\n",
       "      <td>1</td>\n",
       "      <td>2022-03-01 18:47:08</td>\n",
       "      <td>2022-05-25 04:59:00</td>\n",
       "    </tr>\n",
       "    <tr>\n",
       "      <th>4</th>\n",
       "      <td>120</td>\n",
       "      <td>1</td>\n",
       "      <td>e9967072-6f4a-4fb3-8066-c261e973266a</td>\n",
       "      <td>OWASP Full Scan</td>\n",
       "      <td>1</td>\n",
       "      <td>Content Security Policy (CSP) Header Not Set</td>\n",
       "      <td>demo.testfire.net</td>\n",
       "      <td>false</td>\n",
       "      <td>10038</td>\n",
       "      <td>2</td>\n",
       "      <td>...</td>\n",
       "      <td>80</td>\n",
       "      <td>GET</td>\n",
       "      <td></td>\n",
       "      <td>DAST</td>\n",
       "      <td>0</td>\n",
       "      <td>2022-03-27 18:30:59</td>\n",
       "      <td>0.0</td>\n",
       "      <td>1</td>\n",
       "      <td>2022-03-01 18:47:08</td>\n",
       "      <td>2022-05-25 04:59:00</td>\n",
       "    </tr>\n",
       "  </tbody>\n",
       "</table>\n",
       "<p>5 rows × 33 columns</p>\n",
       "</div>"
      ],
      "text/plain": [
       "   vuln_id  scan_details_id                            scan_token  \\\n",
       "0      116                1  e9967072-6f4a-4fb3-8066-c261e973266a   \n",
       "1      117                1  e9967072-6f4a-4fb3-8066-c261e973266a   \n",
       "2      118                1  e9967072-6f4a-4fb3-8066-c261e973266a   \n",
       "3      119                1  e9967072-6f4a-4fb3-8066-c261e973266a   \n",
       "4      120                1  e9967072-6f4a-4fb3-8066-c261e973266a   \n",
       "\n",
       "         tool_name  customer_id                                     vuln_name  \\\n",
       "0  OWASP Full Scan            1  Content Security Policy (CSP) Header Not Set   \n",
       "1  OWASP Full Scan            1  Content Security Policy (CSP) Header Not Set   \n",
       "2  OWASP Full Scan            1  Content Security Policy (CSP) Header Not Set   \n",
       "3  OWASP Full Scan            1  Content Security Policy (CSP) Header Not Set   \n",
       "4  OWASP Full Scan            1  Content Security Policy (CSP) Header Not Set   \n",
       "\n",
       "           host_name ssl_enabled plugin_id risk_code  ... port method  \\\n",
       "0  demo.testfire.net       false     10038         2  ...   80    GET   \n",
       "1  demo.testfire.net       false     10038         2  ...   80    GET   \n",
       "2  demo.testfire.net       false     10038         2  ...   80    GET   \n",
       "3  demo.testfire.net       false     10038         2  ...   80    GET   \n",
       "4  demo.testfire.net       false     10038         2  ...   80    GET   \n",
       "\n",
       "  more_info tool_type customer_status            fixed_at false_positive  \\\n",
       "0                DAST               0 2022-03-27 18:30:59            0.0   \n",
       "1                DAST               0 2022-03-27 18:30:59            0.0   \n",
       "2                DAST               0 2022-03-27 18:30:59            0.0   \n",
       "3                DAST               0 2022-03-27 18:30:59            0.0   \n",
       "4                DAST               0 2022-03-27 18:30:59            0.0   \n",
       "\n",
       "  ml_status          created_at          updated_at  \n",
       "0         1 2022-03-01 18:47:08 2022-05-25 04:59:00  \n",
       "1         1 2022-03-01 18:47:08 2022-05-25 04:59:00  \n",
       "2         1 2022-03-01 18:47:08 2022-05-25 04:59:00  \n",
       "3         1 2022-03-01 18:47:08 2022-05-25 04:59:00  \n",
       "4         1 2022-03-01 18:47:08 2022-05-25 04:59:00  \n",
       "\n",
       "[5 rows x 33 columns]"
      ]
     },
     "execution_count": 5,
     "metadata": {},
     "output_type": "execute_result"
    }
   ],
   "source": [
    "df_zap.head()"
   ]
  },
  {
   "cell_type": "code",
   "execution_count": 6,
   "metadata": {},
   "outputs": [
    {
     "data": {
      "text/plain": [
       "{'Tool Names': Index(['OWASP Zap Baseline ', 'OWASP API Scan', 'OWASP Full Scan', 'OWASP Zap',\n",
       "        'OWASP Zap Baseline'],\n",
       "       dtype='object'),\n",
       " 'Count': array([4005,  112,   93,   41,    1], dtype=int64)}"
      ]
     },
     "execution_count": 6,
     "metadata": {},
     "output_type": "execute_result"
    }
   ],
   "source": [
    "zap_no_of_scan = df_zap.scan_token.count()\n",
    "zap_tool_names  = df_zap.tool_name.value_counts()\n",
    "zap_tool_names_count = {'Tool Names':zap_tool_names.keys(),\n",
    "                        'Count':zap_tool_names.values\n",
    "                        }\n",
    "zap_tool_names_count"
   ]
  },
  {
   "cell_type": "code",
   "execution_count": 7,
   "metadata": {},
   "outputs": [],
   "source": [
    "zap_vuln_name = df_zap.vuln_name.value_counts()\n",
    "zap_vuln_names_count = {'Vulnerability Name':zap_vuln_name.keys(),\n",
    "                        \"Vulnerability Count\":zap_vuln_name.values}"
   ]
  },
  {
   "cell_type": "code",
   "execution_count": 8,
   "metadata": {},
   "outputs": [
    {
     "data": {
      "text/plain": [
       "{'Vulnerability Name': Index(['Timestamp Disclosure - Unix',\n",
       "        'Information Disclosure - Suspicious Comments',\n",
       "        'Content Security Policy (CSP) Header Not Set',\n",
       "        'Missing Anti-clickjacking Header', 'Absence of Anti-CSRF Tokens',\n",
       "        'Server Leaks Version Information via \"Server\" HTTP Response Header Field',\n",
       "        'X-Content-Type-Options Header Missing', 'Modern Web Application',\n",
       "        'Cross-Domain JavaScript Source File Inclusion',\n",
       "        'Cookie without SameSite Attribute',\n",
       "        'Unexpected Content-Type was returned', 'Retrieved from Cache',\n",
       "        'A Client Error response code was returned by the server',\n",
       "        'Cookie No HttpOnly Flag', 'Cookie with SameSite Attribute None',\n",
       "        'Re-examine Cache-control Directives',\n",
       "        'Information Disclosure - Sensitive Information in URL',\n",
       "        'Strict-Transport-Security Header Not Set'],\n",
       "       dtype='object'),\n",
       " 'Vulnerability Count': array([596, 526, 490, 490, 488, 479, 473, 311, 112,  95,  55,  48,  33,\n",
       "         25,  13,  11,   4,   3], dtype=int64)}"
      ]
     },
     "execution_count": 8,
     "metadata": {},
     "output_type": "execute_result"
    }
   ],
   "source": [
    "zap_vuln_names_count"
   ]
  },
  {
   "cell_type": "code",
   "execution_count": 10,
   "metadata": {},
   "outputs": [
    {
     "data": {
      "text/plain": [
       "{'Confidence': Index(['1', '2', '3'], dtype='object'),\n",
       " 'Count': array([1599, 1593, 1060], dtype=int64)}"
      ]
     },
     "execution_count": 10,
     "metadata": {},
     "output_type": "execute_result"
    }
   ],
   "source": [
    "confidence = df_zap.confidence.value_counts()\n",
    "confidence_code = {'Confidence':confidence.keys(),\n",
    "                'Count':confidence.values}\n",
    "confidence_code"
   ]
  },
  {
   "cell_type": "code",
   "execution_count": 11,
   "metadata": {},
   "outputs": [
    {
     "data": {
      "text/plain": [
       "{'Risk desc': Index(['Low (Medium)', 'Low (Low)', 'Low (High)', 'Informational (Low)',\n",
       "        'Medium (High)', 'Medium (Medium)', 'Medium (Low)',\n",
       "        'Informational (Medium)', 'Informational (High)'],\n",
       "       dtype='object'),\n",
       " 'Count': array([729, 596, 537, 526, 490, 490, 477, 374,  33], dtype=int64)}"
      ]
     },
     "execution_count": 11,
     "metadata": {},
     "output_type": "execute_result"
    }
   ],
   "source": [
    "risk_desc  = df_zap.risk_desc.value_counts()\n",
    "risk_desc_count = {'Risk desc':risk_desc.keys(),'Count':risk_desc.values}"
   ]
  },
  {
   "cell_type": "code",
   "execution_count": 17,
   "metadata": {},
   "outputs": [
    {
     "data": {
      "application/vnd.plotly.v1+json": {
       "config": {
        "plotlyServerURL": "https://plot.ly"
       },
       "data": [
        {
         "domain": {
          "x": [
           0,
           1
          ],
          "y": [
           0,
           1
          ]
         },
         "hole": 0.4,
         "hovertemplate": "Risk desc=%{label}<br>Count=%{value}<extra></extra>",
         "labels": [
          "Low (Medium)",
          "Low (Low)",
          "Low (High)",
          "Informational (Low)",
          "Medium (High)",
          "Medium (Medium)",
          "Medium (Low)",
          "Informational (Medium)",
          "Informational (High)"
         ],
         "legendgroup": "",
         "name": "",
         "showlegend": true,
         "type": "pie",
         "values": [
          729,
          596,
          537,
          526,
          490,
          490,
          477,
          374,
          33
         ]
        }
       ],
       "layout": {
        "legend": {
         "tracegroupgap": 0
        },
        "piecolorway": [
         "#0d0887",
         "#46039f",
         "#7201a8",
         "#9c179e",
         "#bd3786",
         "#d8576b",
         "#ed7953",
         "#fb9f3a",
         "#fdca26",
         "#f0f921"
        ],
        "template": {
         "data": {
          "bar": [
           {
            "error_x": {
             "color": "#2a3f5f"
            },
            "error_y": {
             "color": "#2a3f5f"
            },
            "marker": {
             "line": {
              "color": "#E5ECF6",
              "width": 0.5
             },
             "pattern": {
              "fillmode": "overlay",
              "size": 10,
              "solidity": 0.2
             }
            },
            "type": "bar"
           }
          ],
          "barpolar": [
           {
            "marker": {
             "line": {
              "color": "#E5ECF6",
              "width": 0.5
             },
             "pattern": {
              "fillmode": "overlay",
              "size": 10,
              "solidity": 0.2
             }
            },
            "type": "barpolar"
           }
          ],
          "carpet": [
           {
            "aaxis": {
             "endlinecolor": "#2a3f5f",
             "gridcolor": "white",
             "linecolor": "white",
             "minorgridcolor": "white",
             "startlinecolor": "#2a3f5f"
            },
            "baxis": {
             "endlinecolor": "#2a3f5f",
             "gridcolor": "white",
             "linecolor": "white",
             "minorgridcolor": "white",
             "startlinecolor": "#2a3f5f"
            },
            "type": "carpet"
           }
          ],
          "choropleth": [
           {
            "colorbar": {
             "outlinewidth": 0,
             "ticks": ""
            },
            "type": "choropleth"
           }
          ],
          "contour": [
           {
            "colorbar": {
             "outlinewidth": 0,
             "ticks": ""
            },
            "colorscale": [
             [
              0,
              "#0d0887"
             ],
             [
              0.1111111111111111,
              "#46039f"
             ],
             [
              0.2222222222222222,
              "#7201a8"
             ],
             [
              0.3333333333333333,
              "#9c179e"
             ],
             [
              0.4444444444444444,
              "#bd3786"
             ],
             [
              0.5555555555555556,
              "#d8576b"
             ],
             [
              0.6666666666666666,
              "#ed7953"
             ],
             [
              0.7777777777777778,
              "#fb9f3a"
             ],
             [
              0.8888888888888888,
              "#fdca26"
             ],
             [
              1,
              "#f0f921"
             ]
            ],
            "type": "contour"
           }
          ],
          "contourcarpet": [
           {
            "colorbar": {
             "outlinewidth": 0,
             "ticks": ""
            },
            "type": "contourcarpet"
           }
          ],
          "heatmap": [
           {
            "colorbar": {
             "outlinewidth": 0,
             "ticks": ""
            },
            "colorscale": [
             [
              0,
              "#0d0887"
             ],
             [
              0.1111111111111111,
              "#46039f"
             ],
             [
              0.2222222222222222,
              "#7201a8"
             ],
             [
              0.3333333333333333,
              "#9c179e"
             ],
             [
              0.4444444444444444,
              "#bd3786"
             ],
             [
              0.5555555555555556,
              "#d8576b"
             ],
             [
              0.6666666666666666,
              "#ed7953"
             ],
             [
              0.7777777777777778,
              "#fb9f3a"
             ],
             [
              0.8888888888888888,
              "#fdca26"
             ],
             [
              1,
              "#f0f921"
             ]
            ],
            "type": "heatmap"
           }
          ],
          "heatmapgl": [
           {
            "colorbar": {
             "outlinewidth": 0,
             "ticks": ""
            },
            "colorscale": [
             [
              0,
              "#0d0887"
             ],
             [
              0.1111111111111111,
              "#46039f"
             ],
             [
              0.2222222222222222,
              "#7201a8"
             ],
             [
              0.3333333333333333,
              "#9c179e"
             ],
             [
              0.4444444444444444,
              "#bd3786"
             ],
             [
              0.5555555555555556,
              "#d8576b"
             ],
             [
              0.6666666666666666,
              "#ed7953"
             ],
             [
              0.7777777777777778,
              "#fb9f3a"
             ],
             [
              0.8888888888888888,
              "#fdca26"
             ],
             [
              1,
              "#f0f921"
             ]
            ],
            "type": "heatmapgl"
           }
          ],
          "histogram": [
           {
            "marker": {
             "pattern": {
              "fillmode": "overlay",
              "size": 10,
              "solidity": 0.2
             }
            },
            "type": "histogram"
           }
          ],
          "histogram2d": [
           {
            "colorbar": {
             "outlinewidth": 0,
             "ticks": ""
            },
            "colorscale": [
             [
              0,
              "#0d0887"
             ],
             [
              0.1111111111111111,
              "#46039f"
             ],
             [
              0.2222222222222222,
              "#7201a8"
             ],
             [
              0.3333333333333333,
              "#9c179e"
             ],
             [
              0.4444444444444444,
              "#bd3786"
             ],
             [
              0.5555555555555556,
              "#d8576b"
             ],
             [
              0.6666666666666666,
              "#ed7953"
             ],
             [
              0.7777777777777778,
              "#fb9f3a"
             ],
             [
              0.8888888888888888,
              "#fdca26"
             ],
             [
              1,
              "#f0f921"
             ]
            ],
            "type": "histogram2d"
           }
          ],
          "histogram2dcontour": [
           {
            "colorbar": {
             "outlinewidth": 0,
             "ticks": ""
            },
            "colorscale": [
             [
              0,
              "#0d0887"
             ],
             [
              0.1111111111111111,
              "#46039f"
             ],
             [
              0.2222222222222222,
              "#7201a8"
             ],
             [
              0.3333333333333333,
              "#9c179e"
             ],
             [
              0.4444444444444444,
              "#bd3786"
             ],
             [
              0.5555555555555556,
              "#d8576b"
             ],
             [
              0.6666666666666666,
              "#ed7953"
             ],
             [
              0.7777777777777778,
              "#fb9f3a"
             ],
             [
              0.8888888888888888,
              "#fdca26"
             ],
             [
              1,
              "#f0f921"
             ]
            ],
            "type": "histogram2dcontour"
           }
          ],
          "mesh3d": [
           {
            "colorbar": {
             "outlinewidth": 0,
             "ticks": ""
            },
            "type": "mesh3d"
           }
          ],
          "parcoords": [
           {
            "line": {
             "colorbar": {
              "outlinewidth": 0,
              "ticks": ""
             }
            },
            "type": "parcoords"
           }
          ],
          "pie": [
           {
            "automargin": true,
            "type": "pie"
           }
          ],
          "scatter": [
           {
            "fillpattern": {
             "fillmode": "overlay",
             "size": 10,
             "solidity": 0.2
            },
            "type": "scatter"
           }
          ],
          "scatter3d": [
           {
            "line": {
             "colorbar": {
              "outlinewidth": 0,
              "ticks": ""
             }
            },
            "marker": {
             "colorbar": {
              "outlinewidth": 0,
              "ticks": ""
             }
            },
            "type": "scatter3d"
           }
          ],
          "scattercarpet": [
           {
            "marker": {
             "colorbar": {
              "outlinewidth": 0,
              "ticks": ""
             }
            },
            "type": "scattercarpet"
           }
          ],
          "scattergeo": [
           {
            "marker": {
             "colorbar": {
              "outlinewidth": 0,
              "ticks": ""
             }
            },
            "type": "scattergeo"
           }
          ],
          "scattergl": [
           {
            "marker": {
             "colorbar": {
              "outlinewidth": 0,
              "ticks": ""
             }
            },
            "type": "scattergl"
           }
          ],
          "scattermapbox": [
           {
            "marker": {
             "colorbar": {
              "outlinewidth": 0,
              "ticks": ""
             }
            },
            "type": "scattermapbox"
           }
          ],
          "scatterpolar": [
           {
            "marker": {
             "colorbar": {
              "outlinewidth": 0,
              "ticks": ""
             }
            },
            "type": "scatterpolar"
           }
          ],
          "scatterpolargl": [
           {
            "marker": {
             "colorbar": {
              "outlinewidth": 0,
              "ticks": ""
             }
            },
            "type": "scatterpolargl"
           }
          ],
          "scatterternary": [
           {
            "marker": {
             "colorbar": {
              "outlinewidth": 0,
              "ticks": ""
             }
            },
            "type": "scatterternary"
           }
          ],
          "surface": [
           {
            "colorbar": {
             "outlinewidth": 0,
             "ticks": ""
            },
            "colorscale": [
             [
              0,
              "#0d0887"
             ],
             [
              0.1111111111111111,
              "#46039f"
             ],
             [
              0.2222222222222222,
              "#7201a8"
             ],
             [
              0.3333333333333333,
              "#9c179e"
             ],
             [
              0.4444444444444444,
              "#bd3786"
             ],
             [
              0.5555555555555556,
              "#d8576b"
             ],
             [
              0.6666666666666666,
              "#ed7953"
             ],
             [
              0.7777777777777778,
              "#fb9f3a"
             ],
             [
              0.8888888888888888,
              "#fdca26"
             ],
             [
              1,
              "#f0f921"
             ]
            ],
            "type": "surface"
           }
          ],
          "table": [
           {
            "cells": {
             "fill": {
              "color": "#EBF0F8"
             },
             "line": {
              "color": "white"
             }
            },
            "header": {
             "fill": {
              "color": "#C8D4E3"
             },
             "line": {
              "color": "white"
             }
            },
            "type": "table"
           }
          ]
         },
         "layout": {
          "annotationdefaults": {
           "arrowcolor": "#2a3f5f",
           "arrowhead": 0,
           "arrowwidth": 1
          },
          "autotypenumbers": "strict",
          "coloraxis": {
           "colorbar": {
            "outlinewidth": 0,
            "ticks": ""
           }
          },
          "colorscale": {
           "diverging": [
            [
             0,
             "#8e0152"
            ],
            [
             0.1,
             "#c51b7d"
            ],
            [
             0.2,
             "#de77ae"
            ],
            [
             0.3,
             "#f1b6da"
            ],
            [
             0.4,
             "#fde0ef"
            ],
            [
             0.5,
             "#f7f7f7"
            ],
            [
             0.6,
             "#e6f5d0"
            ],
            [
             0.7,
             "#b8e186"
            ],
            [
             0.8,
             "#7fbc41"
            ],
            [
             0.9,
             "#4d9221"
            ],
            [
             1,
             "#276419"
            ]
           ],
           "sequential": [
            [
             0,
             "#0d0887"
            ],
            [
             0.1111111111111111,
             "#46039f"
            ],
            [
             0.2222222222222222,
             "#7201a8"
            ],
            [
             0.3333333333333333,
             "#9c179e"
            ],
            [
             0.4444444444444444,
             "#bd3786"
            ],
            [
             0.5555555555555556,
             "#d8576b"
            ],
            [
             0.6666666666666666,
             "#ed7953"
            ],
            [
             0.7777777777777778,
             "#fb9f3a"
            ],
            [
             0.8888888888888888,
             "#fdca26"
            ],
            [
             1,
             "#f0f921"
            ]
           ],
           "sequentialminus": [
            [
             0,
             "#0d0887"
            ],
            [
             0.1111111111111111,
             "#46039f"
            ],
            [
             0.2222222222222222,
             "#7201a8"
            ],
            [
             0.3333333333333333,
             "#9c179e"
            ],
            [
             0.4444444444444444,
             "#bd3786"
            ],
            [
             0.5555555555555556,
             "#d8576b"
            ],
            [
             0.6666666666666666,
             "#ed7953"
            ],
            [
             0.7777777777777778,
             "#fb9f3a"
            ],
            [
             0.8888888888888888,
             "#fdca26"
            ],
            [
             1,
             "#f0f921"
            ]
           ]
          },
          "colorway": [
           "#636efa",
           "#EF553B",
           "#00cc96",
           "#ab63fa",
           "#FFA15A",
           "#19d3f3",
           "#FF6692",
           "#B6E880",
           "#FF97FF",
           "#FECB52"
          ],
          "font": {
           "color": "#2a3f5f"
          },
          "geo": {
           "bgcolor": "white",
           "lakecolor": "white",
           "landcolor": "#E5ECF6",
           "showlakes": true,
           "showland": true,
           "subunitcolor": "white"
          },
          "hoverlabel": {
           "align": "left"
          },
          "hovermode": "closest",
          "mapbox": {
           "style": "light"
          },
          "paper_bgcolor": "white",
          "plot_bgcolor": "#E5ECF6",
          "polar": {
           "angularaxis": {
            "gridcolor": "white",
            "linecolor": "white",
            "ticks": ""
           },
           "bgcolor": "#E5ECF6",
           "radialaxis": {
            "gridcolor": "white",
            "linecolor": "white",
            "ticks": ""
           }
          },
          "scene": {
           "xaxis": {
            "backgroundcolor": "#E5ECF6",
            "gridcolor": "white",
            "gridwidth": 2,
            "linecolor": "white",
            "showbackground": true,
            "ticks": "",
            "zerolinecolor": "white"
           },
           "yaxis": {
            "backgroundcolor": "#E5ECF6",
            "gridcolor": "white",
            "gridwidth": 2,
            "linecolor": "white",
            "showbackground": true,
            "ticks": "",
            "zerolinecolor": "white"
           },
           "zaxis": {
            "backgroundcolor": "#E5ECF6",
            "gridcolor": "white",
            "gridwidth": 2,
            "linecolor": "white",
            "showbackground": true,
            "ticks": "",
            "zerolinecolor": "white"
           }
          },
          "shapedefaults": {
           "line": {
            "color": "#2a3f5f"
           }
          },
          "ternary": {
           "aaxis": {
            "gridcolor": "white",
            "linecolor": "white",
            "ticks": ""
           },
           "baxis": {
            "gridcolor": "white",
            "linecolor": "white",
            "ticks": ""
           },
           "bgcolor": "#E5ECF6",
           "caxis": {
            "gridcolor": "white",
            "linecolor": "white",
            "ticks": ""
           }
          },
          "title": {
           "x": 0.05
          },
          "xaxis": {
           "automargin": true,
           "gridcolor": "white",
           "linecolor": "white",
           "ticks": "",
           "title": {
            "standoff": 15
           },
           "zerolinecolor": "white",
           "zerolinewidth": 2
          },
          "yaxis": {
           "automargin": true,
           "gridcolor": "white",
           "linecolor": "white",
           "ticks": "",
           "title": {
            "standoff": 15
           },
           "zerolinecolor": "white",
           "zerolinewidth": 2
          }
         }
        },
        "title": {
         "text": "Top Confidence in ZAP Tool"
        }
       }
      }
     },
     "metadata": {},
     "output_type": "display_data"
    }
   ],
   "source": [
    "px.pie(risk_desc_count,\n",
    "        names= 'Risk desc',\n",
    "        values= 'Count',\n",
    "        title='Top Confidence in ZAP Tool',\n",
    "        hole=.4,\n",
    "        color_discrete_sequence= px.colors.sequential.Plasma)\n",
    "        #text_auto='.2s')"
   ]
  },
  {
   "cell_type": "code",
   "execution_count": null,
   "metadata": {},
   "outputs": [],
   "source": []
  }
 ],
 "metadata": {
  "interpreter": {
   "hash": "1b64d956546a9c916073bbeb4764df1d3f11e14c9b56e1231140a019629bea42"
  },
  "kernelspec": {
   "display_name": "Python 3.10.0 64-bit",
   "language": "python",
   "name": "python3"
  },
  "language_info": {
   "codemirror_mode": {
    "name": "ipython",
    "version": 3
   },
   "file_extension": ".py",
   "mimetype": "text/x-python",
   "name": "python",
   "nbconvert_exporter": "python",
   "pygments_lexer": "ipython3",
   "version": "3.10.0"
  },
  "orig_nbformat": 4
 },
 "nbformat": 4,
 "nbformat_minor": 2
}
